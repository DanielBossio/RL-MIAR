{
 "cells": [
  {
   "cell_type": "markdown",
   "metadata": {
    "id": "jUehXgCyIRdq"
   },
   "source": [
    "# Actividad - Proyecto práctico\n",
    "\n",
    "\n",
    "> La actividad se desarrollará en grupos pre-definidos de 2-3 alumnos. Se debe indicar los nombres en orden alfabético (de apellidos). Recordad que esta actividad se corresponde con un 30% de la nota final de la asignatura. Se debe entregar entregar el trabajo en la presente notebook.\n",
    "*   Alumno 1:\n",
    "*   Alumno 2:\n",
    "*   Alumno 3:\n",
    "\n",
    "\n",
    "\n",
    "\n"
   ]
  },
  {
   "cell_type": "markdown",
   "metadata": {
    "id": "JwpYlnjWJhS9"
   },
   "source": [
    "---\n",
    "## **PARTE 1** - Instalación y requisitos previos\n",
    "\n",
    "> Las prácticas han sido preparadas para poder realizarse en el entorno de trabajo de Google Colab. Sin embargo, esta plataforma presenta ciertas incompatibilidades a la hora de visualizar la renderización en gym. Por ello, para obtener estas visualizaciones, se deberá trasladar el entorno de trabajo a local. Por ello, el presente dosier presenta instrucciones para poder trabajar en ambos entornos. Siga los siguientes pasos para un correcto funcionamiento:\n",
    "1.   **LOCAL:** Preparar el enviroment, siguiendo las intrucciones detalladas en la sección *1.1.Preparar enviroment*.\n",
    "2.  **AMBOS:** Modificar las variables \"mount\" y \"drive_mount\" a la carpeta de trabajo en drive en el caso de estar en Colab, y ejecturar la celda *1.2.Localizar entorno de trabajo*.\n",
    "3. **COLAB:** se deberá ejecutar las celdas correspondientes al montaje de la carpeta de trabajo en Drive. Esta corresponde a la sección *1.3.Montar carpeta de datos local*.\n",
    "4.  **AMBOS:** Instalar las librerías necesarias, siguiendo la sección *1.4.Instalar librerías necesarias*.\n"
   ]
  },
  {
   "cell_type": "markdown",
   "metadata": {
    "id": "RU2BPrK2JkP0"
   },
   "source": [
    "---\n",
    "### 1.1. Preparar enviroment (solo local)\n",
    "\n",
    "\n",
    "\n",
    "> Para preparar el entorno de trabajo en local, se han seguido los siguientes pasos:\n",
    "1. En Windows, puede ser necesario instalar las C++ Build Tools. Para ello, siga los siguientes pasos: https://towardsdatascience.com/how-to-install-openai-gym-in-a-windows-environment-338969e24d30.\n",
    "2. Instalar Anaconda\n",
    "3. Siguiendo el código que se presenta comentado en la próxima celda: Crear un enviroment, cambiar la ruta de trabajo, e instalar librerías básicas.\n",
    "\n",
    "\n",
    "```\n",
    "conda create --name miar_rl python=3.8\n",
    "conda activate miar_rl\n",
    "cd \"PATH_TO_FOLDER\"\n",
    "conda install git\n",
    "pip install jupyter\n",
    "```\n",
    "\n",
    "\n",
    "4. Abrir la notebook con *jupyter-notebook*.\n",
    "\n",
    "\n",
    "\n",
    "```\n",
    "jupyter-notebook\n",
    "```\n"
   ]
  },
  {
   "cell_type": "markdown",
   "metadata": {
    "id": "w-kixNPiJqTc"
   },
   "source": [
    "---\n",
    "### 1.2. Localizar entorno de trabajo: Google colab o local"
   ]
  },
  {
   "cell_type": "code",
   "execution_count": 1,
   "metadata": {
    "id": "S_YDFwZ-JscI"
   },
   "outputs": [],
   "source": [
    "# ATENCIÓN!! Modificar ruta relativa a la práctica si es distinta (drive_root)\n",
    "mount='/content/gdrive'\n",
    "drive_root = mount + \"/My Drive/\"\n",
    "\n",
    "try:\n",
    "  from google.colab import drive\n",
    "  IN_COLAB=True\n",
    "except:\n",
    "  IN_COLAB=False"
   ]
  },
  {
   "cell_type": "markdown",
   "metadata": {
    "id": "8Dp_a1iBJ0tf"
   },
   "source": [
    "---\n",
    "### 1.3. Montar carpeta de datos local (solo Colab)"
   ]
  },
  {
   "cell_type": "code",
   "execution_count": 2,
   "metadata": {
    "id": "I6n7MIefJ21i"
   },
   "outputs": [
    {
     "name": "stdout",
     "output_type": "stream",
     "text": [
      "Archivos en el directorio: \n",
      "['.ipynb_checkpoints', '08MIAR-RL.pdf', '08MIAR_sesion1.pdf', '08MIAR_sesion2.pdf', '08MIAR_sesion3.pdf', '08MIAR_sesion4.pdf', '08MIAR_sesion6.pdf', '08MIAR_sesion7.pdf', '1803.10122v4.pdf', '2006.16712v4.pdf', 'Algoritmos avanzados de RL.docx', 'Aprendizaje por refuerzo.docx', 'checkpoint', 'desktop.ini', 'dqn1_log.json', 'dqn2_log.json', 'dqn2_SpaceInvaders-v0_weights.h5f.data-00000-of-00001', 'dqn2_SpaceInvaders-v0_weights.h5f.index', 'dqn2_weights_10000.h5f.data-00000-of-00001', 'dqn2_weights_10000.h5f.index', 'dqn2_weights_20000.h5f.data-00000-of-00001', 'dqn2_weights_20000.h5f.index', 'dqn2_weights_30000.h5f.data-00000-of-00001', 'dqn2_weights_30000.h5f.index', 'dqn_weights_10000.h5f.data-00000-of-00001', 'dqn_weights_10000.h5f.index', 'dqn_weights_100000.h5f.data-00000-of-00001', 'dqn_weights_100000.h5f.index', 'dqn_weights_20000.h5f.data-00000-of-00001', 'dqn_weights_20000.h5f.index', 'dqn_weights_30000.h5f.data-00000-of-00001', 'dqn_weights_30000.h5f.index', 'dqn_weights_40000.h5f.data-00000-of-00001', 'dqn_weights_40000.h5f.index', 'dqn_weights_50000.h5f.data-00000-of-00001', 'dqn_weights_50000.h5f.index', 'dqn_weights_60000.h5f.data-00000-of-00001', 'dqn_weights_60000.h5f.index', 'dqn_weights_70000.h5f.data-00000-of-00001', 'dqn_weights_70000.h5f.index', 'dqn_weights_80000.h5f.data-00000-of-00001', 'dqn_weights_80000.h5f.index', 'dqn_weights_90000.h5f.data-00000-of-00001', 'dqn_weights_90000.h5f.index', 'ejemplos_preguntas(1)(1).pdf', 'Preguntas test.docx', 'Proyecto_práctico.ipynb', 'pseudocodigos.docx', 'World models.docx', '~$rld models.docx']\n"
     ]
    }
   ],
   "source": [
    "# Switch to the directory on the Google Drive that you want to use\n",
    "import os\n",
    "if IN_COLAB:\n",
    "  print(\"We're running Colab\")\n",
    "\n",
    "  if IN_COLAB:\n",
    "    # Mount the Google Drive at mount\n",
    "    print(\"Colab: mounting Google drive on \", mount)\n",
    "\n",
    "    drive.mount(mount)\n",
    "\n",
    "    # Create drive_root if it doesn't exist\n",
    "    create_drive_root = True\n",
    "    if create_drive_root:\n",
    "      print(\"\\nColab: making sure \", drive_root, \" exists.\")\n",
    "      os.makedirs(drive_root, exist_ok=True)\n",
    "\n",
    "    # Change to the directory\n",
    "    print(\"\\nColab: Changing directory to \", drive_root)\n",
    "    %cd $drive_root\n",
    "# Verify we're in the correct working directory\n",
    "%pwd\n",
    "print(\"Archivos en el directorio: \")\n",
    "print(os.listdir())"
   ]
  },
  {
   "cell_type": "markdown",
   "metadata": {
    "id": "i1ZSL5bpJ560"
   },
   "source": [
    "---\n",
    "### 1.4. Instalar librerías necesarias"
   ]
  },
  {
   "cell_type": "code",
   "execution_count": 2,
   "metadata": {
    "id": "UbVRjvHCJ8UF",
    "scrolled": true
   },
   "outputs": [
    {
     "name": "stdout",
     "output_type": "stream",
     "text": [
      "Requirement already satisfied: gym==0.17.3 in c:\\users\\bossi\\anaconda3\\envs\\miar_rl\\lib\\site-packages (0.17.3)\n",
      "Requirement already satisfied: scipy in c:\\users\\bossi\\anaconda3\\envs\\miar_rl\\lib\\site-packages (from gym==0.17.3) (1.10.1)\n",
      "Requirement already satisfied: numpy>=1.10.4 in c:\\users\\bossi\\anaconda3\\envs\\miar_rl\\lib\\site-packages (from gym==0.17.3) (1.19.5)\n",
      "Requirement already satisfied: pyglet<=1.5.0,>=1.4.0 in c:\\users\\bossi\\anaconda3\\envs\\miar_rl\\lib\\site-packages (from gym==0.17.3) (1.5.0)\n",
      "Requirement already satisfied: cloudpickle<1.7.0,>=1.2.0 in c:\\users\\bossi\\anaconda3\\envs\\miar_rl\\lib\\site-packages (from gym==0.17.3) (1.6.0)\n",
      "Requirement already satisfied: future in c:\\users\\bossi\\anaconda3\\envs\\miar_rl\\lib\\site-packages (from pyglet<=1.5.0,>=1.4.0->gym==0.17.3) (1.0.0)\n",
      "Note: you may need to restart the kernel to use updated packages.\n",
      "Collecting git+https://github.com/Kojoley/atari-py.git\n",
      "  Cloning https://github.com/Kojoley/atari-py.git to c:\\users\\bossi\\appdata\\local\\temp\\pip-req-build-c2rsr2we\n",
      "  Resolved https://github.com/Kojoley/atari-py.git to commit 86a1e05c0a95e9e6233c3a413521fdb34ca8a089\n",
      "  Preparing metadata (setup.py): started\n",
      "  Preparing metadata (setup.py): finished with status 'done'\n",
      "Requirement already satisfied: numpy in c:\\users\\bossi\\anaconda3\\envs\\miar_rl\\lib\\site-packages (from atari-py==1.2.2) (1.19.5)\n",
      "Note: you may need to restart the kernel to use updated packages.\n"
     ]
    },
    {
     "name": "stderr",
     "output_type": "stream",
     "text": [
      "  Running command git clone --filter=blob:none --quiet https://github.com/Kojoley/atari-py.git 'C:\\Users\\bossi\\AppData\\Local\\Temp\\pip-req-build-c2rsr2we'\n"
     ]
    },
    {
     "name": "stdout",
     "output_type": "stream",
     "text": [
      "Requirement already satisfied: pyglet==1.5.0 in c:\\users\\bossi\\anaconda3\\envs\\miar_rl\\lib\\site-packages (1.5.0)\n",
      "Requirement already satisfied: future in c:\\users\\bossi\\anaconda3\\envs\\miar_rl\\lib\\site-packages (from pyglet==1.5.0) (1.0.0)\n",
      "Note: you may need to restart the kernel to use updated packages.\n",
      "Requirement already satisfied: h5py==3.1.0 in c:\\users\\bossi\\anaconda3\\envs\\miar_rl\\lib\\site-packages (3.1.0)\n",
      "Requirement already satisfied: numpy>=1.17.5 in c:\\users\\bossi\\anaconda3\\envs\\miar_rl\\lib\\site-packages (from h5py==3.1.0) (1.19.5)\n",
      "Note: you may need to restart the kernel to use updated packages.\n",
      "Requirement already satisfied: Pillow==9.5.0 in c:\\users\\bossi\\anaconda3\\envs\\miar_rl\\lib\\site-packages (9.5.0)\n",
      "Note: you may need to restart the kernel to use updated packages.\n",
      "Note: you may need to restart the kernel to use updated packages.Requirement already satisfied: keras-rl2==1.0.5 in c:\\users\\bossi\\anaconda3\\envs\\miar_rl\\lib\\site-packages (1.0.5)\n",
      "Requirement already satisfied: tensorflow in c:\\users\\bossi\\anaconda3\\envs\\miar_rl\\lib\\site-packages (from keras-rl2==1.0.5) (2.5.3)\n",
      "Requirement already satisfied: numpy~=1.19.2 in c:\\users\\bossi\\anaconda3\\envs\\miar_rl\\lib\\site-packages (from tensorflow->keras-rl2==1.0.5) (1.19.5)\n",
      "Requirement already satisfied: absl-py~=0.10 in c:\\users\\bossi\\anaconda3\\envs\\miar_rl\\lib\\site-packages (from tensorflow->keras-rl2==1.0.5) (0.15.0)\n",
      "Requirement already satisfied: astunparse~=1.6.3 in c:\\users\\bossi\\anaconda3\\envs\\miar_rl\\lib\\site-packages (from tensorflow->keras-rl2==1.0.5) (1.6.3)\n",
      "Requirement already satisfied: flatbuffers~=1.12.0 in c:\\users\\bossi\\anaconda3\\envs\\miar_rl\\lib\\site-packages (from tensorflow->keras-rl2==1.0.5) (1.12)\n",
      "Requirement already satisfied: google-pasta~=0.2 in c:\\users\\bossi\\anaconda3\\envs\\miar_rl\\lib\\site-packages (from tensorflow->keras-rl2==1.0.5) (0.2.0)\n",
      "Requirement already satisfied: h5py~=3.1.0 in c:\\users\\bossi\\anaconda3\\envs\\miar_rl\\lib\\site-packages (from tensorflow->keras-rl2==1.0.5) (3.1.0)\n",
      "Requirement already satisfied: keras-preprocessing~=1.1.2 in c:\\users\\bossi\\anaconda3\\envs\\miar_rl\\lib\\site-packages (from tensorflow->keras-rl2==1.0.5) (1.1.2)\n",
      "Requirement already satisfied: opt-einsum~=3.3.0 in c:\\users\\bossi\\anaconda3\\envs\\miar_rl\\lib\\site-packages (from tensorflow->keras-rl2==1.0.5) (3.3.0)\n",
      "Requirement already satisfied: protobuf>=3.9.2 in c:\\users\\bossi\\anaconda3\\envs\\miar_rl\\lib\\site-packages (from tensorflow->keras-rl2==1.0.5) (3.20.3)\n",
      "Requirement already satisfied: six~=1.15.0 in c:\\users\\bossi\\anaconda3\\envs\\miar_rl\\lib\\site-packages (from tensorflow->keras-rl2==1.0.5) (1.15.0)\n",
      "Requirement already satisfied: termcolor~=1.1.0 in c:\\users\\bossi\\anaconda3\\envs\\miar_rl\\lib\\site-packages (from tensorflow->keras-rl2==1.0.5) (1.1.0)\n",
      "Collecting typing-extensions~=3.7.4 (from tensorflow->keras-rl2==1.0.5)\n",
      "  Using cached typing_extensions-3.7.4.3-py3-none-any.whl.metadata (2.0 kB)\n",
      "Requirement already satisfied: wheel~=0.35 in c:\\users\\bossi\\anaconda3\\envs\\miar_rl\\lib\\site-packages (from tensorflow->keras-rl2==1.0.5) (0.44.0)\n",
      "Requirement already satisfied: wrapt~=1.12.1 in c:\\users\\bossi\\anaconda3\\envs\\miar_rl\\lib\\site-packages (from tensorflow->keras-rl2==1.0.5) (1.12.1)\n",
      "Requirement already satisfied: gast==0.4.0 in c:\\users\\bossi\\anaconda3\\envs\\miar_rl\\lib\\site-packages (from tensorflow->keras-rl2==1.0.5) (0.4.0)\n",
      "Requirement already satisfied: tensorboard~=2.5 in c:\\users\\bossi\\anaconda3\\envs\\miar_rl\\lib\\site-packages (from tensorflow->keras-rl2==1.0.5) (2.11.2)\n",
      "Requirement already satisfied: tensorflow-estimator<2.6.0,>=2.5.0 in c:\\users\\bossi\\anaconda3\\envs\\miar_rl\\lib\\site-packages (from tensorflow->keras-rl2==1.0.5) (2.5.0)\n",
      "Requirement already satisfied: keras-nightly~=2.5.0.dev in c:\\users\\bossi\\anaconda3\\envs\\miar_rl\\lib\\site-packages (from tensorflow->keras-rl2==1.0.5) (2.5.0.dev2021032900)\n",
      "Requirement already satisfied: grpcio~=1.34.0 in c:\\users\\bossi\\anaconda3\\envs\\miar_rl\\lib\\site-packages (from tensorflow->keras-rl2==1.0.5) (1.34.1)\n",
      "Requirement already satisfied: google-auth<3,>=1.6.3 in c:\\users\\bossi\\anaconda3\\envs\\miar_rl\\lib\\site-packages (from tensorboard~=2.5->tensorflow->keras-rl2==1.0.5) (2.40.3)\n",
      "Requirement already satisfied: google-auth-oauthlib<0.5,>=0.4.1 in c:\\users\\bossi\\anaconda3\\envs\\miar_rl\\lib\\site-packages (from tensorboard~=2.5->tensorflow->keras-rl2==1.0.5) (0.4.6)\n",
      "Requirement already satisfied: markdown>=2.6.8 in c:\\users\\bossi\\anaconda3\\envs\\miar_rl\\lib\\site-packages (from tensorboard~=2.5->tensorflow->keras-rl2==1.0.5) (3.7)\n",
      "Requirement already satisfied: requests<3,>=2.21.0 in c:\\users\\bossi\\anaconda3\\envs\\miar_rl\\lib\\site-packages (from tensorboard~=2.5->tensorflow->keras-rl2==1.0.5) (2.32.3)\n",
      "Requirement already satisfied: setuptools>=41.0.0 in c:\\users\\bossi\\anaconda3\\envs\\miar_rl\\lib\\site-packages (from tensorboard~=2.5->tensorflow->keras-rl2==1.0.5) (75.1.0)\n",
      "Requirement already satisfied: tensorboard-data-server<0.7.0,>=0.6.0 in c:\\users\\bossi\\anaconda3\\envs\\miar_rl\\lib\\site-packages (from tensorboard~=2.5->tensorflow->keras-rl2==1.0.5) (0.6.1)\n",
      "Requirement already satisfied: tensorboard-plugin-wit>=1.6.0 in c:\\users\\bossi\\anaconda3\\envs\\miar_rl\\lib\\site-packages (from tensorboard~=2.5->tensorflow->keras-rl2==1.0.5) (1.8.1)\n",
      "Requirement already satisfied: werkzeug>=1.0.1 in c:\\users\\bossi\\anaconda3\\envs\\miar_rl\\lib\\site-packages (from tensorboard~=2.5->tensorflow->keras-rl2==1.0.5) (3.0.6)\n",
      "Requirement already satisfied: cachetools<6.0,>=2.0.0 in c:\\users\\bossi\\anaconda3\\envs\\miar_rl\\lib\\site-packages (from google-auth<3,>=1.6.3->tensorboard~=2.5->tensorflow->keras-rl2==1.0.5) (5.5.2)\n",
      "Requirement already satisfied: pyasn1-modules>=0.2.1 in c:\\users\\bossi\\anaconda3\\envs\\miar_rl\\lib\\site-packages (from google-auth<3,>=1.6.3->tensorboard~=2.5->tensorflow->keras-rl2==1.0.5) (0.4.2)\n",
      "Requirement already satisfied: rsa<5,>=3.1.4 in c:\\users\\bossi\\anaconda3\\envs\\miar_rl\\lib\\site-packages (from google-auth<3,>=1.6.3->tensorboard~=2.5->tensorflow->keras-rl2==1.0.5) (4.9.1)\n",
      "Requirement already satisfied: requests-oauthlib>=0.7.0 in c:\\users\\bossi\\anaconda3\\envs\\miar_rl\\lib\\site-packages (from google-auth-oauthlib<0.5,>=0.4.1->tensorboard~=2.5->tensorflow->keras-rl2==1.0.5) (2.0.0)\n",
      "Requirement already satisfied: importlib-metadata>=4.4 in c:\\users\\bossi\\anaconda3\\envs\\miar_rl\\lib\\site-packages (from markdown>=2.6.8->tensorboard~=2.5->tensorflow->keras-rl2==1.0.5) (7.0.1)\n",
      "Requirement already satisfied: charset-normalizer<4,>=2 in c:\\users\\bossi\\anaconda3\\envs\\miar_rl\\lib\\site-packages (from requests<3,>=2.21.0->tensorboard~=2.5->tensorflow->keras-rl2==1.0.5) (3.3.2)\n",
      "Requirement already satisfied: idna<4,>=2.5 in c:\\users\\bossi\\anaconda3\\envs\\miar_rl\\lib\\site-packages (from requests<3,>=2.21.0->tensorboard~=2.5->tensorflow->keras-rl2==1.0.5) (3.7)\n",
      "Requirement already satisfied: urllib3<3,>=1.21.1 in c:\\users\\bossi\\anaconda3\\envs\\miar_rl\\lib\\site-packages (from requests<3,>=2.21.0->tensorboard~=2.5->tensorflow->keras-rl2==1.0.5) (2.2.3)\n",
      "Requirement already satisfied: certifi>=2017.4.17 in c:\\users\\bossi\\anaconda3\\envs\\miar_rl\\lib\\site-packages (from requests<3,>=2.21.0->tensorboard~=2.5->tensorflow->keras-rl2==1.0.5) (2024.8.30)\n",
      "Requirement already satisfied: MarkupSafe>=2.1.1 in c:\\users\\bossi\\anaconda3\\envs\\miar_rl\\lib\\site-packages (from werkzeug>=1.0.1->tensorboard~=2.5->tensorflow->keras-rl2==1.0.5) (2.1.3)\n",
      "Requirement already satisfied: zipp>=0.5 in c:\\users\\bossi\\anaconda3\\envs\\miar_rl\\lib\\site-packages (from importlib-metadata>=4.4->markdown>=2.6.8->tensorboard~=2.5->tensorflow->keras-rl2==1.0.5) (3.20.2)\n",
      "Requirement already satisfied: pyasn1<0.7.0,>=0.6.1 in c:\\users\\bossi\\anaconda3\\envs\\miar_rl\\lib\\site-packages (from pyasn1-modules>=0.2.1->google-auth<3,>=1.6.3->tensorboard~=2.5->tensorflow->keras-rl2==1.0.5) (0.6.1)\n",
      "Requirement already satisfied: oauthlib>=3.0.0 in c:\\users\\bossi\\anaconda3\\envs\\miar_rl\\lib\\site-packages (from requests-oauthlib>=0.7.0->google-auth-oauthlib<0.5,>=0.4.1->tensorboard~=2.5->tensorflow->keras-rl2==1.0.5) (3.3.1)\n",
      "Using cached typing_extensions-3.7.4.3-py3-none-any.whl (22 kB)\n",
      "Installing collected packages: typing-extensions\n",
      "  Attempting uninstall: typing-extensions\n",
      "    Found existing installation: typing_extensions 4.13.2\n",
      "    Uninstalling typing_extensions-4.13.2:\n",
      "      Successfully uninstalled typing_extensions-4.13.2\n",
      "Successfully installed typing-extensions-3.7.4.3\n",
      "\n"
     ]
    },
    {
     "name": "stderr",
     "output_type": "stream",
     "text": [
      "ERROR: pip's dependency resolver does not currently take into account all the packages that are installed. This behaviour is the source of the following dependency conflicts.\n",
      "anyio 4.2.0 requires typing-extensions>=4.1; python_version < \"3.11\", but you have typing-extensions 3.7.4.3 which is incompatible.\n",
      "async-lru 2.0.4 requires typing-extensions>=4.0.0; python_version < \"3.11\", but you have typing-extensions 3.7.4.3 which is incompatible.\n",
      "jupyter-server 2.14.1 requires pywinpty>=2.0.1; os_name == \"nt\", but you have pywinpty 1.1.6 which is incompatible.\n",
      "tensorflow-intel 2.13.0 requires absl-py>=1.0.0, but you have absl-py 0.15.0 which is incompatible.\n",
      "tensorflow-intel 2.13.0 requires flatbuffers>=23.1.21, but you have flatbuffers 1.12 which is incompatible.\n",
      "tensorflow-intel 2.13.0 requires keras<2.14,>=2.13.1, but you have keras 2.2.4 which is incompatible.\n",
      "tensorflow-intel 2.13.0 requires numpy<=1.24.3,>=1.22, but you have numpy 1.19.5 which is incompatible.\n",
      "tensorflow-intel 2.13.0 requires tensorboard<2.14,>=2.13, but you have tensorboard 2.11.2 which is incompatible.\n",
      "tensorflow-intel 2.13.0 requires tensorflow-estimator<2.14,>=2.13.0, but you have tensorflow-estimator 2.5.0 which is incompatible.\n"
     ]
    },
    {
     "name": "stdout",
     "output_type": "stream",
     "text": [
      "Requirement already satisfied: Keras==2.2.4 in c:\\users\\bossi\\anaconda3\\envs\\miar_rl\\lib\\site-packages (2.2.4)Note: you may need to restart the kernel to use updated packages.\n",
      "\n",
      "Requirement already satisfied: numpy>=1.9.1 in c:\\users\\bossi\\anaconda3\\envs\\miar_rl\\lib\\site-packages (from Keras==2.2.4) (1.19.5)\n",
      "Requirement already satisfied: scipy>=0.14 in c:\\users\\bossi\\anaconda3\\envs\\miar_rl\\lib\\site-packages (from Keras==2.2.4) (1.10.1)\n",
      "Requirement already satisfied: six>=1.9.0 in c:\\users\\bossi\\anaconda3\\envs\\miar_rl\\lib\\site-packages (from Keras==2.2.4) (1.15.0)\n",
      "Requirement already satisfied: pyyaml in c:\\users\\bossi\\anaconda3\\envs\\miar_rl\\lib\\site-packages (from Keras==2.2.4) (6.0.2)\n",
      "Requirement already satisfied: h5py in c:\\users\\bossi\\anaconda3\\envs\\miar_rl\\lib\\site-packages (from Keras==2.2.4) (3.1.0)\n",
      "Requirement already satisfied: keras-applications>=1.0.6 in c:\\users\\bossi\\anaconda3\\envs\\miar_rl\\lib\\site-packages (from Keras==2.2.4) (1.0.8)\n",
      "Requirement already satisfied: keras-preprocessing>=1.0.5 in c:\\users\\bossi\\anaconda3\\envs\\miar_rl\\lib\\site-packages (from Keras==2.2.4) (1.1.2)\n",
      "Requirement already satisfied: tensorflow==2.5.3 in c:\\users\\bossi\\anaconda3\\envs\\miar_rl\\lib\\site-packages (2.5.3)\n",
      "Requirement already satisfied: numpy~=1.19.2 in c:\\users\\bossi\\anaconda3\\envs\\miar_rl\\lib\\site-packages (from tensorflow==2.5.3) (1.19.5)\n",
      "Requirement already satisfied: absl-py~=0.10 in c:\\users\\bossi\\anaconda3\\envs\\miar_rl\\lib\\site-packages (from tensorflow==2.5.3) (0.15.0)\n",
      "Requirement already satisfied: astunparse~=1.6.3 in c:\\users\\bossi\\anaconda3\\envs\\miar_rl\\lib\\site-packages (from tensorflow==2.5.3) (1.6.3)\n",
      "Requirement already satisfied: flatbuffers~=1.12.0 in c:\\users\\bossi\\anaconda3\\envs\\miar_rl\\lib\\site-packages (from tensorflow==2.5.3) (1.12)\n",
      "Requirement already satisfied: google-pasta~=0.2 in c:\\users\\bossi\\anaconda3\\envs\\miar_rl\\lib\\site-packages (from tensorflow==2.5.3) (0.2.0)\n",
      "Requirement already satisfied: h5py~=3.1.0 in c:\\users\\bossi\\anaconda3\\envs\\miar_rl\\lib\\site-packages (from tensorflow==2.5.3) (3.1.0)\n",
      "Requirement already satisfied: keras-preprocessing~=1.1.2 in c:\\users\\bossi\\anaconda3\\envs\\miar_rl\\lib\\site-packages (from tensorflow==2.5.3) (1.1.2)\n",
      "Requirement already satisfied: opt-einsum~=3.3.0 in c:\\users\\bossi\\anaconda3\\envs\\miar_rl\\lib\\site-packages (from tensorflow==2.5.3) (3.3.0)\n",
      "Requirement already satisfied: protobuf>=3.9.2 in c:\\users\\bossi\\anaconda3\\envs\\miar_rl\\lib\\site-packages (from tensorflow==2.5.3) (3.20.3)\n",
      "Requirement already satisfied: six~=1.15.0 in c:\\users\\bossi\\anaconda3\\envs\\miar_rl\\lib\\site-packages (from tensorflow==2.5.3) (1.15.0)\n",
      "Requirement already satisfied: termcolor~=1.1.0 in c:\\users\\bossi\\anaconda3\\envs\\miar_rl\\lib\\site-packages (from tensorflow==2.5.3) (1.1.0)\n",
      "Requirement already satisfied: typing-extensions~=3.7.4 in c:\\users\\bossi\\anaconda3\\envs\\miar_rl\\lib\\site-packages (from tensorflow==2.5.3) (3.7.4.3)\n",
      "Requirement already satisfied: wheel~=0.35 in c:\\users\\bossi\\anaconda3\\envs\\miar_rl\\lib\\site-packages (from tensorflow==2.5.3) (0.44.0)\n",
      "Requirement already satisfied: wrapt~=1.12.1 in c:\\users\\bossi\\anaconda3\\envs\\miar_rl\\lib\\site-packages (from tensorflow==2.5.3) (1.12.1)\n",
      "Requirement already satisfied: gast==0.4.0 in c:\\users\\bossi\\anaconda3\\envs\\miar_rl\\lib\\site-packages (from tensorflow==2.5.3) (0.4.0)\n",
      "Requirement already satisfied: tensorboard~=2.5 in c:\\users\\bossi\\anaconda3\\envs\\miar_rl\\lib\\site-packages (from tensorflow==2.5.3) (2.11.2)\n",
      "Requirement already satisfied: tensorflow-estimator<2.6.0,>=2.5.0 in c:\\users\\bossi\\anaconda3\\envs\\miar_rl\\lib\\site-packages (from tensorflow==2.5.3) (2.5.0)\n",
      "Requirement already satisfied: keras-nightly~=2.5.0.dev in c:\\users\\bossi\\anaconda3\\envs\\miar_rl\\lib\\site-packages (from tensorflow==2.5.3) (2.5.0.dev2021032900)\n",
      "Requirement already satisfied: grpcio~=1.34.0 in c:\\users\\bossi\\anaconda3\\envs\\miar_rl\\lib\\site-packages (from tensorflow==2.5.3) (1.34.1)\n",
      "Requirement already satisfied: google-auth<3,>=1.6.3 in c:\\users\\bossi\\anaconda3\\envs\\miar_rl\\lib\\site-packages (from tensorboard~=2.5->tensorflow==2.5.3) (2.40.3)\n",
      "Requirement already satisfied: google-auth-oauthlib<0.5,>=0.4.1 in c:\\users\\bossi\\anaconda3\\envs\\miar_rl\\lib\\site-packages (from tensorboard~=2.5->tensorflow==2.5.3) (0.4.6)\n",
      "Requirement already satisfied: markdown>=2.6.8 in c:\\users\\bossi\\anaconda3\\envs\\miar_rl\\lib\\site-packages (from tensorboard~=2.5->tensorflow==2.5.3) (3.7)\n",
      "Requirement already satisfied: requests<3,>=2.21.0 in c:\\users\\bossi\\anaconda3\\envs\\miar_rl\\lib\\site-packages (from tensorboard~=2.5->tensorflow==2.5.3) (2.32.3)\n",
      "Requirement already satisfied: setuptools>=41.0.0 in c:\\users\\bossi\\anaconda3\\envs\\miar_rl\\lib\\site-packages (from tensorboard~=2.5->tensorflow==2.5.3) (75.1.0)\n",
      "Requirement already satisfied: tensorboard-data-server<0.7.0,>=0.6.0 in c:\\users\\bossi\\anaconda3\\envs\\miar_rl\\lib\\site-packages (from tensorboard~=2.5->tensorflow==2.5.3) (0.6.1)\n",
      "Requirement already satisfied: tensorboard-plugin-wit>=1.6.0 in c:\\users\\bossi\\anaconda3\\envs\\miar_rl\\lib\\site-packages (from tensorboard~=2.5->tensorflow==2.5.3) (1.8.1)\n",
      "Requirement already satisfied: werkzeug>=1.0.1 in c:\\users\\bossi\\anaconda3\\envs\\miar_rl\\lib\\site-packages (from tensorboard~=2.5->tensorflow==2.5.3) (3.0.6)\n",
      "Requirement already satisfied: cachetools<6.0,>=2.0.0 in c:\\users\\bossi\\anaconda3\\envs\\miar_rl\\lib\\site-packages (from google-auth<3,>=1.6.3->tensorboard~=2.5->tensorflow==2.5.3) (5.5.2)\n",
      "Requirement already satisfied: pyasn1-modules>=0.2.1 in c:\\users\\bossi\\anaconda3\\envs\\miar_rl\\lib\\site-packages (from google-auth<3,>=1.6.3->tensorboard~=2.5->tensorflow==2.5.3) (0.4.2)\n",
      "Requirement already satisfied: rsa<5,>=3.1.4 in c:\\users\\bossi\\anaconda3\\envs\\miar_rl\\lib\\site-packages (from google-auth<3,>=1.6.3->tensorboard~=2.5->tensorflow==2.5.3) (4.9.1)\n",
      "Requirement already satisfied: requests-oauthlib>=0.7.0 in c:\\users\\bossi\\anaconda3\\envs\\miar_rl\\lib\\site-packages (from google-auth-oauthlib<0.5,>=0.4.1->tensorboard~=2.5->tensorflow==2.5.3) (2.0.0)\n",
      "Requirement already satisfied: importlib-metadata>=4.4 in c:\\users\\bossi\\anaconda3\\envs\\miar_rl\\lib\\site-packages (from markdown>=2.6.8->tensorboard~=2.5->tensorflow==2.5.3) (7.0.1)\n",
      "Requirement already satisfied: charset-normalizer<4,>=2 in c:\\users\\bossi\\anaconda3\\envs\\miar_rl\\lib\\site-packages (from requests<3,>=2.21.0->tensorboard~=2.5->tensorflow==2.5.3) (3.3.2)\n",
      "Requirement already satisfied: idna<4,>=2.5 in c:\\users\\bossi\\anaconda3\\envs\\miar_rl\\lib\\site-packages (from requests<3,>=2.21.0->tensorboard~=2.5->tensorflow==2.5.3) (3.7)\n",
      "Requirement already satisfied: urllib3<3,>=1.21.1 in c:\\users\\bossi\\anaconda3\\envs\\miar_rl\\lib\\site-packages (from requests<3,>=2.21.0->tensorboard~=2.5->tensorflow==2.5.3) (2.2.3)\n",
      "Requirement already satisfied: certifi>=2017.4.17 in c:\\users\\bossi\\anaconda3\\envs\\miar_rl\\lib\\site-packages (from requests<3,>=2.21.0->tensorboard~=2.5->tensorflow==2.5.3) (2024.8.30)\n",
      "Requirement already satisfied: MarkupSafe>=2.1.1 in c:\\users\\bossi\\anaconda3\\envs\\miar_rl\\lib\\site-packages (from werkzeug>=1.0.1->tensorboard~=2.5->tensorflow==2.5.3) (2.1.3)\n",
      "Requirement already satisfied: zipp>=0.5 in c:\\users\\bossi\\anaconda3\\envs\\miar_rl\\lib\\site-packages (from importlib-metadata>=4.4->markdown>=2.6.8->tensorboard~=2.5->tensorflow==2.5.3) (3.20.2)\n",
      "Requirement already satisfied: pyasn1<0.7.0,>=0.6.1 in c:\\users\\bossi\\anaconda3\\envs\\miar_rl\\lib\\site-packages (from pyasn1-modules>=0.2.1->google-auth<3,>=1.6.3->tensorboard~=2.5->tensorflow==2.5.3) (0.6.1)\n",
      "Requirement already satisfied: oauthlib>=3.0.0 in c:\\users\\bossi\\anaconda3\\envs\\miar_rl\\lib\\site-packages (from requests-oauthlib>=0.7.0->google-auth-oauthlib<0.5,>=0.4.1->tensorboard~=2.5->tensorflow==2.5.3) (3.3.1)\n",
      "Note: you may need to restart the kernel to use updated packages.\n",
      "Requirement already satisfied: torch==2.0.1 in c:\\users\\bossi\\anaconda3\\envs\\miar_rl\\lib\\site-packages (2.0.1)Note: you may need to restart the kernel to use updated packages.\n",
      "\n",
      "Requirement already satisfied: filelock in c:\\users\\bossi\\anaconda3\\envs\\miar_rl\\lib\\site-packages (from torch==2.0.1) (3.16.1)\n",
      "Requirement already satisfied: typing-extensions in c:\\users\\bossi\\anaconda3\\envs\\miar_rl\\lib\\site-packages (from torch==2.0.1) (3.7.4.3)\n",
      "Requirement already satisfied: sympy in c:\\users\\bossi\\anaconda3\\envs\\miar_rl\\lib\\site-packages (from torch==2.0.1) (1.13.3)\n",
      "Requirement already satisfied: networkx in c:\\users\\bossi\\anaconda3\\envs\\miar_rl\\lib\\site-packages (from torch==2.0.1) (3.1)\n",
      "Requirement already satisfied: jinja2 in c:\\users\\bossi\\anaconda3\\envs\\miar_rl\\lib\\site-packages (from torch==2.0.1) (3.1.4)\n",
      "Requirement already satisfied: MarkupSafe>=2.0 in c:\\users\\bossi\\anaconda3\\envs\\miar_rl\\lib\\site-packages (from jinja2->torch==2.0.1) (2.1.3)\n",
      "Requirement already satisfied: mpmath<1.4,>=1.1.0 in c:\\users\\bossi\\anaconda3\\envs\\miar_rl\\lib\\site-packages (from sympy->torch==2.0.1) (1.3.0)\n",
      "Requirement already satisfied: agents==1.4.0 in c:\\users\\bossi\\anaconda3\\envs\\miar_rl\\lib\\site-packages (1.4.0)\n",
      "Requirement already satisfied: tensorflow in c:\\users\\bossi\\anaconda3\\envs\\miar_rl\\lib\\site-packages (from agents==1.4.0) (2.5.3)\n",
      "Requirement already satisfied: gym in c:\\users\\bossi\\anaconda3\\envs\\miar_rl\\lib\\site-packages (from agents==1.4.0) (0.17.3)\n",
      "Requirement already satisfied: ruamel.yaml in c:\\users\\bossi\\anaconda3\\envs\\miar_rl\\lib\\site-packages (from agents==1.4.0) (0.18.14)\n",
      "Requirement already satisfied: scipy in c:\\users\\bossi\\anaconda3\\envs\\miar_rl\\lib\\site-packages (from gym->agents==1.4.0) (1.10.1)\n",
      "Requirement already satisfied: numpy>=1.10.4 in c:\\users\\bossi\\anaconda3\\envs\\miar_rl\\lib\\site-packages (from gym->agents==1.4.0) (1.19.5)\n",
      "Requirement already satisfied: pyglet<=1.5.0,>=1.4.0 in c:\\users\\bossi\\anaconda3\\envs\\miar_rl\\lib\\site-packages (from gym->agents==1.4.0) (1.5.0)\n",
      "Requirement already satisfied: cloudpickle<1.7.0,>=1.2.0 in c:\\users\\bossi\\anaconda3\\envs\\miar_rl\\lib\\site-packages (from gym->agents==1.4.0) (1.6.0)\n",
      "Requirement already satisfied: ruamel.yaml.clib>=0.2.7 in c:\\users\\bossi\\anaconda3\\envs\\miar_rl\\lib\\site-packages (from ruamel.yaml->agents==1.4.0) (0.2.8)\n",
      "Requirement already satisfied: absl-py~=0.10 in c:\\users\\bossi\\anaconda3\\envs\\miar_rl\\lib\\site-packages (from tensorflow->agents==1.4.0) (0.15.0)\n",
      "Requirement already satisfied: astunparse~=1.6.3 in c:\\users\\bossi\\anaconda3\\envs\\miar_rl\\lib\\site-packages (from tensorflow->agents==1.4.0) (1.6.3)\n",
      "Requirement already satisfied: flatbuffers~=1.12.0 in c:\\users\\bossi\\anaconda3\\envs\\miar_rl\\lib\\site-packages (from tensorflow->agents==1.4.0) (1.12)\n",
      "Requirement already satisfied: google-pasta~=0.2 in c:\\users\\bossi\\anaconda3\\envs\\miar_rl\\lib\\site-packages (from tensorflow->agents==1.4.0) (0.2.0)\n",
      "Requirement already satisfied: h5py~=3.1.0 in c:\\users\\bossi\\anaconda3\\envs\\miar_rl\\lib\\site-packages (from tensorflow->agents==1.4.0) (3.1.0)\n",
      "Requirement already satisfied: keras-preprocessing~=1.1.2 in c:\\users\\bossi\\anaconda3\\envs\\miar_rl\\lib\\site-packages (from tensorflow->agents==1.4.0) (1.1.2)\n",
      "Requirement already satisfied: opt-einsum~=3.3.0 in c:\\users\\bossi\\anaconda3\\envs\\miar_rl\\lib\\site-packages (from tensorflow->agents==1.4.0) (3.3.0)\n",
      "Requirement already satisfied: protobuf>=3.9.2 in c:\\users\\bossi\\anaconda3\\envs\\miar_rl\\lib\\site-packages (from tensorflow->agents==1.4.0) (3.20.3)\n",
      "Requirement already satisfied: six~=1.15.0 in c:\\users\\bossi\\anaconda3\\envs\\miar_rl\\lib\\site-packages (from tensorflow->agents==1.4.0) (1.15.0)\n",
      "Requirement already satisfied: termcolor~=1.1.0 in c:\\users\\bossi\\anaconda3\\envs\\miar_rl\\lib\\site-packages (from tensorflow->agents==1.4.0) (1.1.0)\n",
      "Requirement already satisfied: typing-extensions~=3.7.4 in c:\\users\\bossi\\anaconda3\\envs\\miar_rl\\lib\\site-packages (from tensorflow->agents==1.4.0) (3.7.4.3)\n",
      "Requirement already satisfied: wheel~=0.35 in c:\\users\\bossi\\anaconda3\\envs\\miar_rl\\lib\\site-packages (from tensorflow->agents==1.4.0) (0.44.0)\n",
      "Requirement already satisfied: wrapt~=1.12.1 in c:\\users\\bossi\\anaconda3\\envs\\miar_rl\\lib\\site-packages (from tensorflow->agents==1.4.0) (1.12.1)\n",
      "Requirement already satisfied: gast==0.4.0 in c:\\users\\bossi\\anaconda3\\envs\\miar_rl\\lib\\site-packages (from tensorflow->agents==1.4.0) (0.4.0)\n",
      "Requirement already satisfied: tensorboard~=2.5 in c:\\users\\bossi\\anaconda3\\envs\\miar_rl\\lib\\site-packages (from tensorflow->agents==1.4.0) (2.11.2)\n",
      "Requirement already satisfied: tensorflow-estimator<2.6.0,>=2.5.0 in c:\\users\\bossi\\anaconda3\\envs\\miar_rl\\lib\\site-packages (from tensorflow->agents==1.4.0) (2.5.0)\n",
      "Requirement already satisfied: keras-nightly~=2.5.0.dev in c:\\users\\bossi\\anaconda3\\envs\\miar_rl\\lib\\site-packages (from tensorflow->agents==1.4.0) (2.5.0.dev2021032900)\n",
      "Requirement already satisfied: grpcio~=1.34.0 in c:\\users\\bossi\\anaconda3\\envs\\miar_rl\\lib\\site-packages (from tensorflow->agents==1.4.0) (1.34.1)\n",
      "Requirement already satisfied: future in c:\\users\\bossi\\anaconda3\\envs\\miar_rl\\lib\\site-packages (from pyglet<=1.5.0,>=1.4.0->gym->agents==1.4.0) (1.0.0)\n",
      "Requirement already satisfied: google-auth<3,>=1.6.3 in c:\\users\\bossi\\anaconda3\\envs\\miar_rl\\lib\\site-packages (from tensorboard~=2.5->tensorflow->agents==1.4.0) (2.40.3)\n",
      "Requirement already satisfied: google-auth-oauthlib<0.5,>=0.4.1 in c:\\users\\bossi\\anaconda3\\envs\\miar_rl\\lib\\site-packages (from tensorboard~=2.5->tensorflow->agents==1.4.0) (0.4.6)\n",
      "Requirement already satisfied: markdown>=2.6.8 in c:\\users\\bossi\\anaconda3\\envs\\miar_rl\\lib\\site-packages (from tensorboard~=2.5->tensorflow->agents==1.4.0) (3.7)\n",
      "Requirement already satisfied: requests<3,>=2.21.0 in c:\\users\\bossi\\anaconda3\\envs\\miar_rl\\lib\\site-packages (from tensorboard~=2.5->tensorflow->agents==1.4.0) (2.32.3)\n",
      "Requirement already satisfied: setuptools>=41.0.0 in c:\\users\\bossi\\anaconda3\\envs\\miar_rl\\lib\\site-packages (from tensorboard~=2.5->tensorflow->agents==1.4.0) (75.1.0)\n",
      "Requirement already satisfied: tensorboard-data-server<0.7.0,>=0.6.0 in c:\\users\\bossi\\anaconda3\\envs\\miar_rl\\lib\\site-packages (from tensorboard~=2.5->tensorflow->agents==1.4.0) (0.6.1)\n",
      "Requirement already satisfied: tensorboard-plugin-wit>=1.6.0 in c:\\users\\bossi\\anaconda3\\envs\\miar_rl\\lib\\site-packages (from tensorboard~=2.5->tensorflow->agents==1.4.0) (1.8.1)\n",
      "Requirement already satisfied: werkzeug>=1.0.1 in c:\\users\\bossi\\anaconda3\\envs\\miar_rl\\lib\\site-packages (from tensorboard~=2.5->tensorflow->agents==1.4.0) (3.0.6)\n",
      "Requirement already satisfied: cachetools<6.0,>=2.0.0 in c:\\users\\bossi\\anaconda3\\envs\\miar_rl\\lib\\site-packages (from google-auth<3,>=1.6.3->tensorboard~=2.5->tensorflow->agents==1.4.0) (5.5.2)\n",
      "Requirement already satisfied: pyasn1-modules>=0.2.1 in c:\\users\\bossi\\anaconda3\\envs\\miar_rl\\lib\\site-packages (from google-auth<3,>=1.6.3->tensorboard~=2.5->tensorflow->agents==1.4.0) (0.4.2)\n",
      "Requirement already satisfied: rsa<5,>=3.1.4 in c:\\users\\bossi\\anaconda3\\envs\\miar_rl\\lib\\site-packages (from google-auth<3,>=1.6.3->tensorboard~=2.5->tensorflow->agents==1.4.0) (4.9.1)\n",
      "Requirement already satisfied: requests-oauthlib>=0.7.0 in c:\\users\\bossi\\anaconda3\\envs\\miar_rl\\lib\\site-packages (from google-auth-oauthlib<0.5,>=0.4.1->tensorboard~=2.5->tensorflow->agents==1.4.0) (2.0.0)\n",
      "Requirement already satisfied: importlib-metadata>=4.4 in c:\\users\\bossi\\anaconda3\\envs\\miar_rl\\lib\\site-packages (from markdown>=2.6.8->tensorboard~=2.5->tensorflow->agents==1.4.0) (7.0.1)\n",
      "Requirement already satisfied: charset-normalizer<4,>=2 in c:\\users\\bossi\\anaconda3\\envs\\miar_rl\\lib\\site-packages (from requests<3,>=2.21.0->tensorboard~=2.5->tensorflow->agents==1.4.0) (3.3.2)\n",
      "Requirement already satisfied: idna<4,>=2.5 in c:\\users\\bossi\\anaconda3\\envs\\miar_rl\\lib\\site-packages (from requests<3,>=2.21.0->tensorboard~=2.5->tensorflow->agents==1.4.0) (3.7)\n",
      "Requirement already satisfied: urllib3<3,>=1.21.1 in c:\\users\\bossi\\anaconda3\\envs\\miar_rl\\lib\\site-packages (from requests<3,>=2.21.0->tensorboard~=2.5->tensorflow->agents==1.4.0) (2.2.3)\n",
      "Requirement already satisfied: certifi>=2017.4.17 in c:\\users\\bossi\\anaconda3\\envs\\miar_rl\\lib\\site-packages (from requests<3,>=2.21.0->tensorboard~=2.5->tensorflow->agents==1.4.0) (2024.8.30)\n",
      "Requirement already satisfied: MarkupSafe>=2.1.1 in c:\\users\\bossi\\anaconda3\\envs\\miar_rl\\lib\\site-packages (from werkzeug>=1.0.1->tensorboard~=2.5->tensorflow->agents==1.4.0) (2.1.3)\n",
      "Requirement already satisfied: zipp>=0.5 in c:\\users\\bossi\\anaconda3\\envs\\miar_rl\\lib\\site-packages (from importlib-metadata>=4.4->markdown>=2.6.8->tensorboard~=2.5->tensorflow->agents==1.4.0) (3.20.2)\n",
      "Requirement already satisfied: pyasn1<0.7.0,>=0.6.1 in c:\\users\\bossi\\anaconda3\\envs\\miar_rl\\lib\\site-packages (from pyasn1-modules>=0.2.1->google-auth<3,>=1.6.3->tensorboard~=2.5->tensorflow->agents==1.4.0) (0.6.1)\n",
      "Requirement already satisfied: oauthlib>=3.0.0 in c:\\users\\bossi\\anaconda3\\envs\\miar_rl\\lib\\site-packages (from requests-oauthlib>=0.7.0->google-auth-oauthlib<0.5,>=0.4.1->tensorboard~=2.5->tensorflow->agents==1.4.0) (3.3.1)\n",
      "Note: you may need to restart the kernel to use updated packages.\n"
     ]
    }
   ],
   "source": [
    "if IN_COLAB:\n",
    "  %pip install gym==0.17.3\n",
    "  %pip install git+https://github.com/Kojoley/atari-py.git\n",
    "  %pip install keras-rl2==1.0.5\n",
    "  %pip install tensorflow==2.8\n",
    "else:\n",
    "  %pip install gym==0.17.3\n",
    "  %pip install git+https://github.com/Kojoley/atari-py.git\n",
    "  %pip install pyglet==1.5.0\n",
    "  %pip install h5py==3.1.0\n",
    "  %pip install Pillow==9.5.0\n",
    "  %pip install keras-rl2==1.0.5\n",
    "  %pip install Keras==2.2.4\n",
    "  %pip install tensorflow==2.5.3\n",
    "  %pip install torch==2.0.1\n",
    "  %pip install agents==1.4.0"
   ]
  },
  {
   "cell_type": "markdown",
   "metadata": {
    "id": "4hzP_5ZuGb2X"
   },
   "source": [
    "---\n",
    "## **PARTE 2**. Enunciado\n",
    "\n",
    "Consideraciones a tener en cuenta:\n",
    "\n",
    "- El entorno sobre el que trabajaremos será _SpaceInvaders-v0_ y el algoritmo que usaremos será _DQN_.\n",
    "\n",
    "- Para nuestro ejercicio, el requisito mínimo será alcanzado cuando el agente consiga una **media de recompensa por encima de 20 puntos en modo test**. Por ello, esta media de la recompensa se calculará a partir del código de test en la última celda del notebook.\n",
    "\n",
    "Este proyecto práctico consta de tres partes:\n",
    "\n",
    "1.   Implementar la red neuronal que se usará en la solución\n",
    "2.   Implementar las distintas piezas de la solución DQN\n",
    "3.   Justificar la respuesta en relación a los resultados obtenidos\n",
    "\n",
    "**Rúbrica**: Se valorará la originalidad en la solución aportada, así como la capacidad de discutir los resultados de forma detallada. El requisito mínimo servirá para aprobar la actividad, bajo premisa de que la discusión del resultado sera apropiada.\n",
    "\n",
    "IMPORTANTE:\n",
    "\n",
    "* Si no se consigue una puntuación óptima, responder sobre la mejor puntuación obtenida.\n",
    "* Para entrenamientos largos, recordad que podéis usar checkpoints de vuestros modelos para retomar los entrenamientos. En este caso, recordad cambiar los parámetros adecuadamente (sobre todo los relacionados con el proceso de exploración).\n",
    "* Se deberá entregar unicamente el notebook y los pesos del mejor modelo en un fichero .zip, de forma organizada.\n",
    "* Cada alumno deberá de subir la solución de forma individual."
   ]
  },
  {
   "cell_type": "markdown",
   "metadata": {
    "id": "6_b3mzw8IzJP"
   },
   "source": [
    "---\n",
    "## **PARTE 3**. Desarrollo y preguntas"
   ]
  },
  {
   "cell_type": "markdown",
   "metadata": {
    "id": "duPmUNOVGb2a"
   },
   "source": [
    "#### Importar librerías"
   ]
  },
  {
   "cell_type": "code",
   "execution_count": 2,
   "metadata": {
    "id": "j3eRhgI-Gb2a"
   },
   "outputs": [],
   "source": [
    "from __future__ import division\n",
    "\n",
    "from PIL import Image\n",
    "import numpy as np\n",
    "import gym\n",
    "\n",
    "import tensorflow as tf\n",
    "from tensorflow.keras.models import Sequential\n",
    "from tensorflow.keras.layers import Dense, Activation, Flatten, Convolution2D, Permute\n",
    "from tensorflow.keras.optimizers import Adam\n",
    "import tensorflow.keras.backend as K\n",
    "\n",
    "from rl.agents.dqn import DQNAgent\n",
    "from rl.policy import LinearAnnealedPolicy, BoltzmannQPolicy, EpsGreedyQPolicy\n",
    "from rl.memory import SequentialMemory\n",
    "from rl.core import Processor\n",
    "from rl.callbacks import FileLogger, ModelIntervalCheckpoint"
   ]
  },
  {
   "cell_type": "markdown",
   "metadata": {
    "id": "f4jgQjzoGb2a"
   },
   "source": [
    "#### Configuración base"
   ]
  },
  {
   "cell_type": "code",
   "execution_count": 3,
   "metadata": {
    "id": "jwOE6I_KGb2a"
   },
   "outputs": [],
   "source": [
    "INPUT_SHAPE = (84, 84)\n",
    "WINDOW_LENGTH = 4\n",
    "\n",
    "env_name = 'SpaceInvaders-v0'\n",
    "env = gym.make(env_name)\n",
    "\n",
    "np.random.seed(123)\n",
    "env.seed(123)\n",
    "nb_actions = env.action_space.n"
   ]
  },
  {
   "cell_type": "code",
   "execution_count": 4,
   "metadata": {
    "id": "9jGEZUcpGb2a"
   },
   "outputs": [],
   "source": [
    "class AtariProcessor(Processor):\n",
    "    def process_observation(self, observation):\n",
    "        assert observation.ndim == 3  # (height, width, channel)\n",
    "        img = Image.fromarray(observation)\n",
    "        img = img.resize(INPUT_SHAPE).convert('L')\n",
    "        processed_observation = np.array(img)\n",
    "        assert processed_observation.shape == INPUT_SHAPE\n",
    "        return processed_observation.astype('uint8')\n",
    "\n",
    "    def process_state_batch(self, batch):\n",
    "        processed_batch = batch.astype('float32') / 255.\n",
    "        return processed_batch\n",
    "\n",
    "    def process_reward(self, reward):\n",
    "        return np.clip(reward, -1., 1.)"
   ]
  },
  {
   "cell_type": "markdown",
   "metadata": {
    "id": "7yitXTADGb2b"
   },
   "source": [
    "1. Implementación de la red neuronal"
   ]
  },
  {
   "cell_type": "code",
   "execution_count": 5,
   "metadata": {
    "id": "O4GKrfWSGb2b"
   },
   "outputs": [
    {
     "name": "stdout",
     "output_type": "stream",
     "text": [
      "Model: \"sequential\"\n",
      "_________________________________________________________________\n",
      "Layer (type)                 Output Shape              Param #   \n",
      "=================================================================\n",
      "permute (Permute)            (None, 84, 84, 4)         0         \n",
      "_________________________________________________________________\n",
      "conv2d (Conv2D)              (None, 41, 41, 64)        4160      \n",
      "_________________________________________________________________\n",
      "activation (Activation)      (None, 41, 41, 64)        0         \n",
      "_________________________________________________________________\n",
      "conv2d_1 (Conv2D)            (None, 39, 39, 64)        36928     \n",
      "_________________________________________________________________\n",
      "activation_1 (Activation)    (None, 39, 39, 64)        0         \n",
      "_________________________________________________________________\n",
      "flatten (Flatten)            (None, 97344)             0         \n",
      "_________________________________________________________________\n",
      "dense (Dense)                (None, 128)               12460160  \n",
      "_________________________________________________________________\n",
      "dense_1 (Dense)              (None, 6)                 774       \n",
      "=================================================================\n",
      "Total params: 12,502,022\n",
      "Trainable params: 12,502,022\n",
      "Non-trainable params: 0\n",
      "_________________________________________________________________\n",
      "None\n"
     ]
    }
   ],
   "source": [
    "def build_dqn_model(nb_actions, input_shape, window_length=4, num_dense_layers=1, activation='relu'):\n",
    "    \"\"\"\n",
    "    Construye un modelo de red neuronal profunda para Q-Learning.\n",
    "\n",
    "    Args:\n",
    "        nb_actions (int): El número de acciones de salida que el modelo debe predecir.\n",
    "        input_shape (tuple): La forma de una sola observación (ej. (84, 84)).\n",
    "        window_length (int): El número de observaciones apiladas que se usan como entrada.\n",
    "        num_dense_layers (int, opcional): El número de capas densas ocultas. Default a 1.\n",
    "        activation (str, opcional): La función de activación para las capas densas ocultas. Default a 'relu'.\n",
    "\n",
    "    Returns:\n",
    "        keras.Model: El modelo de Keras compilado.\n",
    "    \"\"\"\n",
    "    # La forma completa de la entrada al modelo (ej. (4, 84, 84))\n",
    "    full_input_shape = (window_length,) + input_shape\n",
    "\n",
    "    model = Sequential()\n",
    "\n",
    "    # La primera capa debe saber la forma de la entrada.\n",
    "    # Se permuta la entrada para que coincida con el formato de datos de imagen de Keras\n",
    "    # (channels_last vs channels_first). La longitud de la ventana (window_length) se trata\n",
    "    # como la dimensión de los canales.\n",
    "    if K.image_data_format() == 'channels_last':\n",
    "        # Formato de entrada: (window, rows, cols) -> Permuta a: (rows, cols, window)\n",
    "        model.add(Permute((2, 3, 1), input_shape=full_input_shape))\n",
    "    elif K.image_data_format() == 'channels_first':\n",
    "        # Formato de entrada: (window, rows, cols) -> Permuta a: (window, rows, cols) (identidad)\n",
    "        # La permutación es (1, 2, 3), que no cambia el orden pero define el input_shape.\n",
    "        model.add(Permute((1, 2, 3), input_shape=full_input_shape))\n",
    "    else:\n",
    "        raise RuntimeError('Unknown image_data_format.')\n",
    "\n",
    "    # Capas convolucionales (arquitectura similar a la de DeepMind)\n",
    "    model.add(Convolution2D(64, (4, 4), strides=(2, 2)))\n",
    "    model.add(Activation('relu'))\n",
    "    model.add(Convolution2D(64, (3, 3), strides=(1, 1)))\n",
    "    model.add(Activation('relu'))\n",
    "\n",
    "    # Aplanar las características para las capas densas\n",
    "    model.add(Flatten())\n",
    "\n",
    "    # Capas densas (fully-connected)\n",
    "    # Se añade el número de capas densas especificado por el usuario\n",
    "    for _ in range(num_dense_layers):\n",
    "        model.add(Dense(128, activation=activation))\n",
    "\n",
    "    # Capa de salida con una neurona por acción y activación lineal para los valores Q\n",
    "    model.add(Dense(nb_actions, activation='linear'))\n",
    "\n",
    "    return model\n",
    "\n",
    "\n",
    "model = build_dqn_model(nb_actions, INPUT_SHAPE)\n",
    "\n",
    "print(model.summary())"
   ]
  },
  {
   "cell_type": "markdown",
   "metadata": {
    "id": "OB9-_5HPGb2b"
   },
   "source": [
    "2. Implementación de la solución DQN"
   ]
  },
  {
   "cell_type": "code",
   "execution_count": 6,
   "metadata": {
    "id": "foSlxWH1Gb2b"
   },
   "outputs": [],
   "source": [
    "policy = LinearAnnealedPolicy(EpsGreedyQPolicy(), attr='eps', value_max=.99, value_min=.1, value_test=.1, nb_steps=40000)\n",
    "memory = SequentialMemory(limit=1000, window_length=WINDOW_LENGTH)\n",
    "processor = AtariProcessor()\n",
    "dqn = DQNAgent(model=model, nb_actions=nb_actions, policy=policy, memory=memory, processor=processor, nb_steps_warmup=500, gamma=.99, target_model_update=1000)"
   ]
  },
  {
   "cell_type": "code",
   "execution_count": 7,
   "metadata": {},
   "outputs": [],
   "source": [
    "dqn.compile(Adam(learning_rate=1e-6), metrics=['mae'])"
   ]
  },
  {
   "cell_type": "code",
   "execution_count": 8,
   "metadata": {
    "scrolled": true
   },
   "outputs": [
    {
     "name": "stdout",
     "output_type": "stream",
     "text": [
      "Training for 50000 steps ...\n"
     ]
    },
    {
     "name": "stderr",
     "output_type": "stream",
     "text": [
      "C:\\Users\\bossi\\anaconda3\\envs\\miar_rl\\lib\\site-packages\\tensorflow\\python\\keras\\engine\\training.py:2424: UserWarning: `Model.state_updates` will be removed in a future version. This property should not be used in TensorFlow 2.0, as `updates` are applied automatically.\n",
      "  warnings.warn('`Model.state_updates` will be removed in a future version. '\n"
     ]
    },
    {
     "name": "stdout",
     "output_type": "stream",
     "text": [
      "   886/50000: episode: 1, duration: 198.702s, episode steps: 886, steps per second:   4, episode reward: 12.000, mean reward:  0.014 [ 0.000,  1.000], mean action: 2.474 [0.000, 5.000],  loss: 0.005963, mae: 0.044891, mean_q: 0.071877, mean_eps: 0.974581\n",
      "  1677/50000: episode: 2, duration: 375.746s, episode steps: 791, steps per second:   2, episode reward: 11.000, mean reward:  0.014 [ 0.000,  1.000], mean action: 2.396 [0.000, 5.000],  loss: 0.006342, mae: 0.079080, mean_q: 0.122913, mean_eps: 0.961498\n",
      "  2184/50000: episode: 3, duration: 241.436s, episode steps: 507, steps per second:   2, episode reward:  6.000, mean reward:  0.012 [ 0.000,  1.000], mean action: 2.464 [0.000, 5.000],  loss: 0.005764, mae: 0.103184, mean_q: 0.156798, mean_eps: 0.947057\n",
      "  2996/50000: episode: 4, duration: 390.169s, episode steps: 812, steps per second:   2, episode reward: 12.000, mean reward:  0.015 [ 0.000,  1.000], mean action: 2.486 [0.000, 5.000],  loss: 0.005732, mae: 0.139991, mean_q: 0.201273, mean_eps: 0.932384\n",
      "  4103/50000: episode: 5, duration: 527.795s, episode steps: 1107, steps per second:   2, episode reward: 23.000, mean reward:  0.021 [ 0.000,  1.000], mean action: 2.458 [0.000, 5.000],  loss: 0.007651, mae: 0.183915, mean_q: 0.254907, mean_eps: 0.911035\n",
      "  4459/50000: episode: 6, duration: 169.015s, episode steps: 356, steps per second:   2, episode reward:  4.000, mean reward:  0.011 [ 0.000,  1.000], mean action: 2.500 [0.000, 5.000],  loss: 0.010320, mae: 0.224190, mean_q: 0.312336, mean_eps: 0.894759\n",
      "  5025/50000: episode: 7, duration: 268.063s, episode steps: 566, steps per second:   2, episode reward:  3.000, mean reward:  0.005 [ 0.000,  1.000], mean action: 2.496 [0.000, 5.000],  loss: 0.005639, mae: 0.213765, mean_q: 0.288805, mean_eps: 0.884502\n",
      "  5978/50000: episode: 8, duration: 472.873s, episode steps: 953, steps per second:   2, episode reward: 14.000, mean reward:  0.015 [ 0.000,  1.000], mean action: 2.386 [0.000, 5.000],  loss: 0.005401, mae: 0.252713, mean_q: 0.334126, mean_eps: 0.867603\n",
      "  6659/50000: episode: 9, duration: 359.374s, episode steps: 681, steps per second:   2, episode reward:  8.000, mean reward:  0.012 [ 0.000,  1.000], mean action: 2.308 [0.000, 5.000],  loss: 0.006513, mae: 0.297260, mean_q: 0.392800, mean_eps: 0.849425\n",
      "  7213/50000: episode: 10, duration: 292.029s, episode steps: 554, steps per second:   2, episode reward:  6.000, mean reward:  0.011 [ 0.000,  1.000], mean action: 2.484 [0.000, 5.000],  loss: 0.005915, mae: 0.313999, mean_q: 0.414333, mean_eps: 0.835685\n",
      "  8515/50000: episode: 11, duration: 665.789s, episode steps: 1302, steps per second:   2, episode reward: 20.000, mean reward:  0.015 [ 0.000,  1.000], mean action: 2.423 [0.000, 5.000],  loss: 0.006733, mae: 0.373387, mean_q: 0.486811, mean_eps: 0.815037\n",
      "  9263/50000: episode: 12, duration: 308.848s, episode steps: 748, steps per second:   2, episode reward: 10.000, mean reward:  0.013 [ 0.000,  1.000], mean action: 2.623 [0.000, 5.000],  loss: 0.006396, mae: 0.393143, mean_q: 0.511503, mean_eps: 0.792231\n",
      " 10154/50000: episode: 13, duration: 379.811s, episode steps: 891, steps per second:   2, episode reward: 17.000, mean reward:  0.019 [ 0.000,  1.000], mean action: 2.492 [0.000, 5.000],  loss: 0.007683, mae: 0.461377, mean_q: 0.590320, mean_eps: 0.773997\n",
      " 10807/50000: episode: 14, duration: 264.249s, episode steps: 653, steps per second:   2, episode reward:  6.000, mean reward:  0.009 [ 0.000,  1.000], mean action: 2.524 [0.000, 5.000],  loss: 0.007833, mae: 0.491697, mean_q: 0.631010, mean_eps: 0.756820\n",
      " 11495/50000: episode: 15, duration: 274.994s, episode steps: 688, steps per second:   3, episode reward: 10.000, mean reward:  0.015 [ 0.000,  1.000], mean action: 2.369 [0.000, 5.000],  loss: 0.004591, mae: 0.517299, mean_q: 0.652728, mean_eps: 0.741901\n",
      " 12365/50000: episode: 16, duration: 354.740s, episode steps: 870, steps per second:   2, episode reward: 12.000, mean reward:  0.014 [ 0.000,  1.000], mean action: 2.605 [0.000, 5.000],  loss: 0.007766, mae: 0.567303, mean_q: 0.718155, mean_eps: 0.724569\n",
      " 13230/50000: episode: 17, duration: 350.133s, episode steps: 865, steps per second:   2, episode reward: 12.000, mean reward:  0.014 [ 0.000,  1.000], mean action: 2.525 [0.000, 5.000],  loss: 0.007254, mae: 0.580980, mean_q: 0.738263, mean_eps: 0.705267\n",
      " 13966/50000: episode: 18, duration: 293.359s, episode steps: 736, steps per second:   3, episode reward: 11.000, mean reward:  0.015 [ 0.000,  1.000], mean action: 2.344 [0.000, 5.000],  loss: 0.006337, mae: 0.606920, mean_q: 0.764719, mean_eps: 0.687456\n",
      " 14939/50000: episode: 19, duration: 353.739s, episode steps: 973, steps per second:   3, episode reward: 10.000, mean reward:  0.010 [ 0.000,  1.000], mean action: 2.803 [0.000, 5.000],  loss: 0.006096, mae: 0.648479, mean_q: 0.818218, mean_eps: 0.668443\n",
      " 15553/50000: episode: 20, duration: 221.384s, episode steps: 614, steps per second:   3, episode reward:  6.000, mean reward:  0.010 [ 0.000,  1.000], mean action: 2.454 [0.000, 5.000],  loss: 0.005102, mae: 0.702548, mean_q: 0.884944, mean_eps: 0.650788\n",
      " 16393/50000: episode: 21, duration: 303.023s, episode steps: 840, steps per second:   3, episode reward: 12.000, mean reward:  0.014 [ 0.000,  1.000], mean action: 2.590 [0.000, 5.000],  loss: 0.006199, mae: 0.758325, mean_q: 0.944564, mean_eps: 0.634612\n",
      " 17329/50000: episode: 22, duration: 382.953s, episode steps: 936, steps per second:   2, episode reward: 12.000, mean reward:  0.013 [ 0.000,  1.000], mean action: 2.222 [0.000, 5.000],  loss: 0.006747, mae: 0.751671, mean_q: 0.939373, mean_eps: 0.614854\n",
      " 18862/50000: episode: 23, duration: 718.175s, episode steps: 1533, steps per second:   2, episode reward: 23.000, mean reward:  0.015 [ 0.000,  1.000], mean action: 2.526 [0.000, 5.000],  loss: 0.006783, mae: 0.774268, mean_q: 0.972272, mean_eps: 0.587386\n",
      " 19576/50000: episode: 24, duration: 292.274s, episode steps: 714, steps per second:   2, episode reward: 10.000, mean reward:  0.014 [ 0.000,  1.000], mean action: 2.748 [0.000, 5.000],  loss: 0.007051, mae: 0.787357, mean_q: 0.986862, mean_eps: 0.562388\n",
      " 20222/50000: episode: 25, duration: 267.834s, episode steps: 646, steps per second:   2, episode reward:  9.000, mean reward:  0.014 [ 0.000,  1.000], mean action: 2.212 [0.000, 5.000],  loss: 0.007967, mae: 0.895700, mean_q: 1.121455, mean_eps: 0.547258\n",
      " 20831/50000: episode: 26, duration: 250.752s, episode steps: 609, steps per second:   2, episode reward:  7.000, mean reward:  0.011 [ 0.000,  1.000], mean action: 2.530 [0.000, 5.000],  loss: 0.006962, mae: 0.960888, mean_q: 1.193407, mean_eps: 0.533297\n",
      " 21576/50000: episode: 27, duration: 281.692s, episode steps: 745, steps per second:   3, episode reward: 13.000, mean reward:  0.017 [ 0.000,  1.000], mean action: 2.537 [0.000, 5.000],  loss: 0.007484, mae: 0.971595, mean_q: 1.199541, mean_eps: 0.518233\n",
      " 22270/50000: episode: 28, duration: 248.191s, episode steps: 694, steps per second:   3, episode reward: 11.000, mean reward:  0.016 [ 0.000,  1.000], mean action: 2.164 [0.000, 5.000],  loss: 0.009664, mae: 0.977856, mean_q: 1.211458, mean_eps: 0.502224\n",
      " 22824/50000: episode: 29, duration: 211.958s, episode steps: 554, steps per second:   3, episode reward: 11.000, mean reward:  0.020 [ 0.000,  1.000], mean action: 2.659 [0.000, 5.000],  loss: 0.008889, mae: 0.972545, mean_q: 1.207601, mean_eps: 0.488340\n",
      " 23435/50000: episode: 30, duration: 250.699s, episode steps: 611, steps per second:   2, episode reward: 10.000, mean reward:  0.016 [ 0.000,  1.000], mean action: 3.316 [0.000, 5.000],  loss: 0.008926, mae: 0.988032, mean_q: 1.222681, mean_eps: 0.475380\n",
      " 24389/50000: episode: 31, duration: 372.894s, episode steps: 954, steps per second:   3, episode reward: 16.000, mean reward:  0.017 [ 0.000,  1.000], mean action: 2.721 [0.000, 5.000],  loss: 0.008568, mae: 1.071148, mean_q: 1.324787, mean_eps: 0.457969\n",
      " 25958/50000: episode: 32, duration: 734.907s, episode steps: 1569, steps per second:   2, episode reward: 22.000, mean reward:  0.014 [ 0.000,  1.000], mean action: 2.501 [0.000, 5.000],  loss: 0.009090, mae: 1.039864, mean_q: 1.293322, mean_eps: 0.429901\n",
      " 26566/50000: episode: 33, duration: 276.033s, episode steps: 608, steps per second:   2, episode reward:  7.000, mean reward:  0.012 [ 0.000,  1.000], mean action: 2.049 [0.000, 5.000],  loss: 0.004936, mae: 0.914718, mean_q: 1.133483, mean_eps: 0.405682\n",
      " 27401/50000: episode: 34, duration: 351.271s, episode steps: 835, steps per second:   2, episode reward: 13.000, mean reward:  0.016 [ 0.000,  1.000], mean action: 3.188 [0.000, 5.000],  loss: 0.007191, mae: 1.162696, mean_q: 1.435308, mean_eps: 0.389628\n",
      " 28535/50000: episode: 35, duration: 442.209s, episode steps: 1134, steps per second:   3, episode reward: 17.000, mean reward:  0.015 [ 0.000,  1.000], mean action: 2.844 [0.000, 5.000],  loss: 0.007561, mae: 1.202995, mean_q: 1.483101, mean_eps: 0.367723\n",
      " 29175/50000: episode: 36, duration: 249.668s, episode steps: 640, steps per second:   3, episode reward:  8.000, mean reward:  0.013 [ 0.000,  1.000], mean action: 2.583 [0.000, 5.000],  loss: 0.006519, mae: 1.165593, mean_q: 1.437282, mean_eps: 0.347987\n",
      " 29835/50000: episode: 37, duration: 263.305s, episode steps: 660, steps per second:   3, episode reward:  9.000, mean reward:  0.014 [ 0.000,  1.000], mean action: 2.465 [0.000, 5.000],  loss: 0.009122, mae: 1.230760, mean_q: 1.514444, mean_eps: 0.333525\n",
      " 30519/50000: episode: 38, duration: 324.835s, episode steps: 684, steps per second:   2, episode reward:  9.000, mean reward:  0.013 [ 0.000,  1.000], mean action: 2.693 [0.000, 5.000],  loss: 0.007974, mae: 1.261911, mean_q: 1.548424, mean_eps: 0.318573\n",
      " 31149/50000: episode: 39, duration: 297.128s, episode steps: 630, steps per second:   2, episode reward:  9.000, mean reward:  0.014 [ 0.000,  1.000], mean action: 2.467 [0.000, 5.000],  loss: 0.008275, mae: 1.257049, mean_q: 1.547853, mean_eps: 0.303955\n",
      " 32033/50000: episode: 40, duration: 415.902s, episode steps: 884, steps per second:   2, episode reward: 15.000, mean reward:  0.017 [ 0.000,  1.000], mean action: 2.629 [0.000, 5.000],  loss: 0.008184, mae: 1.317191, mean_q: 1.626475, mean_eps: 0.287111\n",
      " 32733/50000: episode: 41, duration: 330.078s, episode steps: 700, steps per second:   2, episode reward: 13.000, mean reward:  0.019 [ 0.000,  1.000], mean action: 2.730 [0.000, 5.000],  loss: 0.010068, mae: 1.350995, mean_q: 1.668558, mean_eps: 0.269489\n",
      " 33902/50000: episode: 42, duration: 550.061s, episode steps: 1169, steps per second:   2, episode reward: 19.000, mean reward:  0.016 [ 0.000,  1.000], mean action: 2.079 [0.000, 5.000],  loss: 0.009431, mae: 1.344045, mean_q: 1.656970, mean_eps: 0.248697\n",
      " 34573/50000: episode: 43, duration: 315.875s, episode steps: 671, steps per second:   2, episode reward: 13.000, mean reward:  0.019 [ 0.000,  1.000], mean action: 2.370 [0.000, 5.000],  loss: 0.009582, mae: 1.314631, mean_q: 1.627206, mean_eps: 0.228227\n",
      " 35713/50000: episode: 44, duration: 536.724s, episode steps: 1140, steps per second:   2, episode reward: 20.000, mean reward:  0.018 [ 0.000,  1.000], mean action: 2.182 [0.000, 5.000],  loss: 0.009096, mae: 1.365715, mean_q: 1.686012, mean_eps: 0.208079\n",
      " 36612/50000: episode: 45, duration: 379.826s, episode steps: 899, steps per second:   2, episode reward: 14.000, mean reward:  0.016 [ 0.000,  1.000], mean action: 2.237 [0.000, 5.000],  loss: 0.010551, mae: 1.313363, mean_q: 1.623423, mean_eps: 0.185396\n",
      " 37715/50000: episode: 46, duration: 441.895s, episode steps: 1103, steps per second:   2, episode reward: 21.000, mean reward:  0.019 [ 0.000,  1.000], mean action: 2.261 [0.000, 5.000],  loss: 0.009143, mae: 1.454417, mean_q: 1.791417, mean_eps: 0.163123\n",
      " 38247/50000: episode: 47, duration: 213.845s, episode steps: 532, steps per second:   2, episode reward:  8.000, mean reward:  0.015 [ 0.000,  1.000], mean action: 2.211 [0.000, 5.000],  loss: 0.009472, mae: 1.335337, mean_q: 1.657368, mean_eps: 0.144934\n",
      " 39197/50000: episode: 48, duration: 381.118s, episode steps: 950, steps per second:   2, episode reward: 16.000, mean reward:  0.017 [ 0.000,  1.000], mean action: 2.167 [0.000, 5.000],  loss: 0.010322, mae: 1.468950, mean_q: 1.811686, mean_eps: 0.128447\n",
      " 39924/50000: episode: 49, duration: 291.733s, episode steps: 727, steps per second:   2, episode reward: 10.000, mean reward:  0.014 [ 0.000,  1.000], mean action: 2.259 [0.000, 5.000],  loss: 0.007470, mae: 1.474385, mean_q: 1.821198, mean_eps: 0.109790\n",
      " 40817/50000: episode: 50, duration: 360.625s, episode steps: 893, steps per second:   2, episode reward: 10.000, mean reward:  0.011 [ 0.000,  1.000], mean action: 2.610 [0.000, 5.000],  loss: 0.008461, mae: 1.562825, mean_q: 1.930397, mean_eps: 0.100073\n",
      " 41515/50000: episode: 51, duration: 281.511s, episode steps: 698, steps per second:   2, episode reward:  7.000, mean reward:  0.010 [ 0.000,  1.000], mean action: 2.437 [0.000, 5.000],  loss: 0.008687, mae: 1.594705, mean_q: 1.971857, mean_eps: 0.100000\n",
      " 41893/50000: episode: 52, duration: 152.574s, episode steps: 378, steps per second:   2, episode reward:  4.000, mean reward:  0.011 [ 0.000,  1.000], mean action: 3.185 [0.000, 5.000],  loss: 0.007315, mae: 1.588350, mean_q: 1.963661, mean_eps: 0.100000\n",
      " 42577/50000: episode: 53, duration: 275.714s, episode steps: 684, steps per second:   2, episode reward:  8.000, mean reward:  0.012 [ 0.000,  1.000], mean action: 1.969 [0.000, 5.000],  loss: 0.007395, mae: 1.652843, mean_q: 2.033871, mean_eps: 0.100000\n",
      " 43546/50000: episode: 54, duration: 389.272s, episode steps: 969, steps per second:   2, episode reward: 13.000, mean reward:  0.013 [ 0.000,  1.000], mean action: 2.239 [0.000, 5.000],  loss: 0.008736, mae: 1.659687, mean_q: 2.043954, mean_eps: 0.100000\n",
      " 44171/50000: episode: 55, duration: 250.448s, episode steps: 625, steps per second:   2, episode reward: 10.000, mean reward:  0.016 [ 0.000,  1.000], mean action: 1.909 [0.000, 5.000],  loss: 0.006906, mae: 1.626200, mean_q: 2.010553, mean_eps: 0.100000\n",
      " 44556/50000: episode: 56, duration: 154.947s, episode steps: 385, steps per second:   2, episode reward:  5.000, mean reward:  0.013 [ 0.000,  1.000], mean action: 1.971 [0.000, 5.000],  loss: 0.010875, mae: 1.702105, mean_q: 2.101979, mean_eps: 0.100000\n",
      " 45486/50000: episode: 57, duration: 373.703s, episode steps: 930, steps per second:   2, episode reward: 14.000, mean reward:  0.015 [ 0.000,  1.000], mean action: 2.283 [0.000, 5.000],  loss: 0.009558, mae: 1.826651, mean_q: 2.238570, mean_eps: 0.100000\n",
      " 46435/50000: episode: 58, duration: 380.124s, episode steps: 949, steps per second:   2, episode reward: 19.000, mean reward:  0.020 [ 0.000,  1.000], mean action: 2.412 [0.000, 5.000],  loss: 0.010054, mae: 1.692781, mean_q: 2.088863, mean_eps: 0.100000\n",
      " 47164/50000: episode: 59, duration: 292.272s, episode steps: 729, steps per second:   2, episode reward: 17.000, mean reward:  0.023 [ 0.000,  1.000], mean action: 3.176 [0.000, 5.000],  loss: 0.012274, mae: 1.577144, mean_q: 1.958479, mean_eps: 0.100000\n",
      " 47975/50000: episode: 60, duration: 326.234s, episode steps: 811, steps per second:   2, episode reward: 12.000, mean reward:  0.015 [ 0.000,  1.000], mean action: 3.312 [0.000, 5.000],  loss: 0.011479, mae: 1.679801, mean_q: 2.071919, mean_eps: 0.100000\n",
      " 49045/50000: episode: 61, duration: 429.885s, episode steps: 1070, steps per second:   2, episode reward: 18.000, mean reward:  0.017 [ 0.000,  1.000], mean action: 2.203 [0.000, 5.000],  loss: 0.010314, mae: 1.742349, mean_q: 2.149153, mean_eps: 0.100000\n",
      " 49873/50000: episode: 62, duration: 333.578s, episode steps: 828, steps per second:   2, episode reward:  9.000, mean reward:  0.011 [ 0.000,  1.000], mean action: 1.787 [0.000, 5.000],  loss: 0.008129, mae: 1.715465, mean_q: 2.136531, mean_eps: 0.100000\n",
      "done, took 21193.449 seconds\n"
     ]
    },
    {
     "data": {
      "text/plain": [
       "<tensorflow.python.keras.callbacks.History at 0x2377f8fe040>"
      ]
     },
     "execution_count": 8,
     "metadata": {},
     "output_type": "execute_result"
    }
   ],
   "source": [
    "checkpoint = ModelIntervalCheckpoint('dqn5_weights_{step}.h5f', interval=10000)\n",
    "logger = FileLogger('dqn5_log.json', interval=100)\n",
    "dqn.fit(env, nb_steps=50000, visualize=False, verbose=2, log_interval=5000, callbacks=[checkpoint, logger])"
   ]
  },
  {
   "cell_type": "code",
   "execution_count": 9,
   "metadata": {},
   "outputs": [
    {
     "name": "stdout",
     "output_type": "stream",
     "text": [
      "Testing for 10 episodes ...\n",
      "Episode 1: reward: 8.000, steps: 641\n",
      "Episode 2: reward: 18.000, steps: 1199\n",
      "Episode 3: reward: 10.000, steps: 711\n",
      "Episode 4: reward: 5.000, steps: 639\n",
      "Episode 5: reward: 14.000, steps: 927\n",
      "Episode 6: reward: 1.000, steps: 509\n",
      "Episode 7: reward: 11.000, steps: 1176\n",
      "Episode 8: reward: 3.000, steps: 441\n",
      "Episode 9: reward: 13.000, steps: 814\n",
      "Episode 10: reward: 3.000, steps: 430\n"
     ]
    },
    {
     "data": {
      "text/plain": [
       "<tensorflow.python.keras.callbacks.History at 0x237839aa2e0>"
      ]
     },
     "execution_count": 9,
     "metadata": {},
     "output_type": "execute_result"
    }
   ],
   "source": [
    "dqn.save_weights('dqn5_{}_weights.h5f'.format(env_name), overwrite=True)\n",
    "dqn.test(env, nb_episodes=10, visualize=False)"
   ]
  },
  {
   "cell_type": "code",
   "execution_count": 10,
   "metadata": {},
   "outputs": [
    {
     "name": "stdout",
     "output_type": "stream",
     "text": [
      "Testing for 10 episodes ...\n",
      "Episode 1: reward: 25.000, steps: 1549\n",
      "Episode 2: reward: 9.000, steps: 520\n",
      "Episode 3: reward: 13.000, steps: 841\n",
      "Episode 4: reward: 5.000, steps: 469\n",
      "Episode 5: reward: 1.000, steps: 478\n",
      "Episode 6: reward: 8.000, steps: 807\n",
      "Episode 7: reward: 11.000, steps: 912\n",
      "Episode 8: reward: 8.000, steps: 692\n",
      "Episode 9: reward: 9.000, steps: 498\n",
      "Episode 10: reward: 16.000, steps: 1111\n"
     ]
    },
    {
     "data": {
      "text/plain": [
       "<tensorflow.python.keras.callbacks.History at 0x2377f69ddf0>"
      ]
     },
     "execution_count": 10,
     "metadata": {},
     "output_type": "execute_result"
    }
   ],
   "source": [
    "dqn.test(env, nb_episodes=10, visualize=False)"
   ]
  },
  {
   "cell_type": "code",
   "execution_count": null,
   "metadata": {
    "id": "OHYryKd1Gb2b"
   },
   "outputs": [],
   "source": [
    "# Testing part to calculate the mean reward\n",
    "weights_filename = 'dqn_{}_weights.h5f'.format(env_name)\n",
    "dqn.load_weights(weights_filename)"
   ]
  },
  {
   "cell_type": "markdown",
   "metadata": {
    "id": "-NAlu8b1Gb2b"
   },
   "source": [
    "3. Justificación de los parámetros seleccionados y de los resultados obtenidos"
   ]
  },
  {
   "cell_type": "markdown",
   "metadata": {
    "id": "ANFQiicXK3sO"
   },
   "source": [
    "---"
   ]
  }
 ],
 "metadata": {
  "colab": {
   "provenance": []
  },
  "kernelspec": {
   "display_name": "Python 3 (ipykernel)",
   "language": "python",
   "name": "python3"
  },
  "language_info": {
   "codemirror_mode": {
    "name": "ipython",
    "version": 3
   },
   "file_extension": ".py",
   "mimetype": "text/x-python",
   "name": "python",
   "nbconvert_exporter": "python",
   "pygments_lexer": "ipython3",
   "version": "3.8.20"
  }
 },
 "nbformat": 4,
 "nbformat_minor": 4
}

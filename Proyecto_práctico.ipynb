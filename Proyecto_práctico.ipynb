{
 "cells": [
  {
   "cell_type": "markdown",
   "metadata": {
    "id": "jUehXgCyIRdq"
   },
   "source": [
    "# Actividad - Proyecto práctico\n",
    "\n",
    "\n",
    "> La actividad se desarrollará en grupos pre-definidos de 2-3 alumnos. Se debe indicar los nombres en orden alfabético (de apellidos). Recordad que esta actividad se corresponde con un 30% de la nota final de la asignatura. Se debe entregar entregar el trabajo en la presente notebook.\n",
    "*   Alumno 1:\n",
    "*   Alumno 2:\n",
    "*   Alumno 3:\n",
    "\n",
    "\n",
    "\n",
    "\n"
   ]
  },
  {
   "cell_type": "markdown",
   "metadata": {
    "id": "JwpYlnjWJhS9"
   },
   "source": [
    "---\n",
    "## **PARTE 1** - Instalación y requisitos previos\n",
    "\n",
    "> Las prácticas han sido preparadas para poder realizarse en el entorno de trabajo de Google Colab. Sin embargo, esta plataforma presenta ciertas incompatibilidades a la hora de visualizar la renderización en gym. Por ello, para obtener estas visualizaciones, se deberá trasladar el entorno de trabajo a local. Por ello, el presente dosier presenta instrucciones para poder trabajar en ambos entornos. Siga los siguientes pasos para un correcto funcionamiento:\n",
    "1.   **LOCAL:** Preparar el enviroment, siguiendo las intrucciones detalladas en la sección *1.1.Preparar enviroment*.\n",
    "2.  **AMBOS:** Modificar las variables \"mount\" y \"drive_mount\" a la carpeta de trabajo en drive en el caso de estar en Colab, y ejecturar la celda *1.2.Localizar entorno de trabajo*.\n",
    "3. **COLAB:** se deberá ejecutar las celdas correspondientes al montaje de la carpeta de trabajo en Drive. Esta corresponde a la sección *1.3.Montar carpeta de datos local*.\n",
    "4.  **AMBOS:** Instalar las librerías necesarias, siguiendo la sección *1.4.Instalar librerías necesarias*.\n"
   ]
  },
  {
   "cell_type": "markdown",
   "metadata": {
    "id": "RU2BPrK2JkP0"
   },
   "source": [
    "---\n",
    "### 1.1. Preparar enviroment (solo local)\n",
    "\n",
    "\n",
    "\n",
    "> Para preparar el entorno de trabajo en local, se han seguido los siguientes pasos:\n",
    "1. En Windows, puede ser necesario instalar las C++ Build Tools. Para ello, siga los siguientes pasos: https://towardsdatascience.com/how-to-install-openai-gym-in-a-windows-environment-338969e24d30.\n",
    "2. Instalar Anaconda\n",
    "3. Siguiendo el código que se presenta comentado en la próxima celda: Crear un enviroment, cambiar la ruta de trabajo, e instalar librerías básicas.\n",
    "\n",
    "\n",
    "```\n",
    "conda create --name miar_rl python=3.8\n",
    "conda activate miar_rl\n",
    "cd \"PATH_TO_FOLDER\"\n",
    "conda install git\n",
    "pip install jupyter\n",
    "```\n",
    "\n",
    "\n",
    "4. Abrir la notebook con *jupyter-notebook*.\n",
    "\n",
    "\n",
    "\n",
    "```\n",
    "jupyter-notebook\n",
    "```\n"
   ]
  },
  {
   "cell_type": "markdown",
   "metadata": {
    "id": "w-kixNPiJqTc"
   },
   "source": [
    "---\n",
    "### 1.2. Localizar entorno de trabajo: Google colab o local"
   ]
  },
  {
   "cell_type": "code",
   "execution_count": 1,
   "metadata": {
    "id": "S_YDFwZ-JscI"
   },
   "outputs": [],
   "source": [
    "# ATENCIÓN!! Modificar ruta relativa a la práctica si es distinta (drive_root)\n",
    "mount='/content/gdrive'\n",
    "drive_root = mount + \"/My Drive/\"\n",
    "\n",
    "try:\n",
    "  from google.colab import drive\n",
    "  IN_COLAB=True\n",
    "except:\n",
    "  IN_COLAB=False"
   ]
  },
  {
   "cell_type": "markdown",
   "metadata": {
    "id": "8Dp_a1iBJ0tf"
   },
   "source": [
    "---\n",
    "### 1.3. Montar carpeta de datos local (solo Colab)"
   ]
  },
  {
   "cell_type": "code",
   "execution_count": 2,
   "metadata": {
    "id": "I6n7MIefJ21i"
   },
   "outputs": [
    {
     "name": "stdout",
     "output_type": "stream",
     "text": [
      "Archivos en el directorio: \n",
      "['.ipynb_checkpoints', '08MIAR-RL.pdf', '08MIAR_sesion1.pdf', '08MIAR_sesion2.pdf', '08MIAR_sesion3.pdf', '08MIAR_sesion4.pdf', '08MIAR_sesion6.pdf', '08MIAR_sesion7.pdf', '1803.10122v4.pdf', '2006.16712v4.pdf', 'Algoritmos avanzados de RL.docx', 'Aprendizaje por refuerzo.docx', 'checkpoint', 'desktop.ini', 'dqn1_log.json', 'dqn2_log.json', 'dqn2_SpaceInvaders-v0_weights.h5f.data-00000-of-00001', 'dqn2_SpaceInvaders-v0_weights.h5f.index', 'dqn2_weights_10000.h5f.data-00000-of-00001', 'dqn2_weights_10000.h5f.index', 'dqn2_weights_20000.h5f.data-00000-of-00001', 'dqn2_weights_20000.h5f.index', 'dqn2_weights_30000.h5f.data-00000-of-00001', 'dqn2_weights_30000.h5f.index', 'dqn_weights_10000.h5f.data-00000-of-00001', 'dqn_weights_10000.h5f.index', 'dqn_weights_100000.h5f.data-00000-of-00001', 'dqn_weights_100000.h5f.index', 'dqn_weights_20000.h5f.data-00000-of-00001', 'dqn_weights_20000.h5f.index', 'dqn_weights_30000.h5f.data-00000-of-00001', 'dqn_weights_30000.h5f.index', 'dqn_weights_40000.h5f.data-00000-of-00001', 'dqn_weights_40000.h5f.index', 'dqn_weights_50000.h5f.data-00000-of-00001', 'dqn_weights_50000.h5f.index', 'dqn_weights_60000.h5f.data-00000-of-00001', 'dqn_weights_60000.h5f.index', 'dqn_weights_70000.h5f.data-00000-of-00001', 'dqn_weights_70000.h5f.index', 'dqn_weights_80000.h5f.data-00000-of-00001', 'dqn_weights_80000.h5f.index', 'dqn_weights_90000.h5f.data-00000-of-00001', 'dqn_weights_90000.h5f.index', 'ejemplos_preguntas(1)(1).pdf', 'Preguntas test.docx', 'Proyecto_práctico.ipynb', 'pseudocodigos.docx', 'World models.docx', '~$rld models.docx']\n"
     ]
    }
   ],
   "source": [
    "# Switch to the directory on the Google Drive that you want to use\n",
    "import os\n",
    "if IN_COLAB:\n",
    "  print(\"We're running Colab\")\n",
    "\n",
    "  if IN_COLAB:\n",
    "    # Mount the Google Drive at mount\n",
    "    print(\"Colab: mounting Google drive on \", mount)\n",
    "\n",
    "    drive.mount(mount)\n",
    "\n",
    "    # Create drive_root if it doesn't exist\n",
    "    create_drive_root = True\n",
    "    if create_drive_root:\n",
    "      print(\"\\nColab: making sure \", drive_root, \" exists.\")\n",
    "      os.makedirs(drive_root, exist_ok=True)\n",
    "\n",
    "    # Change to the directory\n",
    "    print(\"\\nColab: Changing directory to \", drive_root)\n",
    "    %cd $drive_root\n",
    "# Verify we're in the correct working directory\n",
    "%pwd\n",
    "print(\"Archivos en el directorio: \")\n",
    "print(os.listdir())"
   ]
  },
  {
   "cell_type": "markdown",
   "metadata": {
    "id": "i1ZSL5bpJ560"
   },
   "source": [
    "---\n",
    "### 1.4. Instalar librerías necesarias"
   ]
  },
  {
   "cell_type": "code",
   "execution_count": 2,
   "metadata": {
    "id": "UbVRjvHCJ8UF",
    "scrolled": true
   },
   "outputs": [
    {
     "name": "stdout",
     "output_type": "stream",
     "text": [
      "Requirement already satisfied: gym==0.17.3 in c:\\users\\bossi\\anaconda3\\envs\\miar_rl\\lib\\site-packages (0.17.3)\n",
      "Requirement already satisfied: scipy in c:\\users\\bossi\\anaconda3\\envs\\miar_rl\\lib\\site-packages (from gym==0.17.3) (1.10.1)\n",
      "Requirement already satisfied: numpy>=1.10.4 in c:\\users\\bossi\\anaconda3\\envs\\miar_rl\\lib\\site-packages (from gym==0.17.3) (1.19.5)\n",
      "Requirement already satisfied: pyglet<=1.5.0,>=1.4.0 in c:\\users\\bossi\\anaconda3\\envs\\miar_rl\\lib\\site-packages (from gym==0.17.3) (1.5.0)\n",
      "Requirement already satisfied: cloudpickle<1.7.0,>=1.2.0 in c:\\users\\bossi\\anaconda3\\envs\\miar_rl\\lib\\site-packages (from gym==0.17.3) (1.6.0)\n",
      "Requirement already satisfied: future in c:\\users\\bossi\\anaconda3\\envs\\miar_rl\\lib\\site-packages (from pyglet<=1.5.0,>=1.4.0->gym==0.17.3) (1.0.0)\n",
      "Note: you may need to restart the kernel to use updated packages.\n",
      "Collecting git+https://github.com/Kojoley/atari-py.git\n",
      "  Cloning https://github.com/Kojoley/atari-py.git to c:\\users\\bossi\\appdata\\local\\temp\\pip-req-build-c2rsr2we\n",
      "  Resolved https://github.com/Kojoley/atari-py.git to commit 86a1e05c0a95e9e6233c3a413521fdb34ca8a089\n",
      "  Preparing metadata (setup.py): started\n",
      "  Preparing metadata (setup.py): finished with status 'done'\n",
      "Requirement already satisfied: numpy in c:\\users\\bossi\\anaconda3\\envs\\miar_rl\\lib\\site-packages (from atari-py==1.2.2) (1.19.5)\n",
      "Note: you may need to restart the kernel to use updated packages.\n"
     ]
    },
    {
     "name": "stderr",
     "output_type": "stream",
     "text": [
      "  Running command git clone --filter=blob:none --quiet https://github.com/Kojoley/atari-py.git 'C:\\Users\\bossi\\AppData\\Local\\Temp\\pip-req-build-c2rsr2we'\n"
     ]
    },
    {
     "name": "stdout",
     "output_type": "stream",
     "text": [
      "Requirement already satisfied: pyglet==1.5.0 in c:\\users\\bossi\\anaconda3\\envs\\miar_rl\\lib\\site-packages (1.5.0)\n",
      "Requirement already satisfied: future in c:\\users\\bossi\\anaconda3\\envs\\miar_rl\\lib\\site-packages (from pyglet==1.5.0) (1.0.0)\n",
      "Note: you may need to restart the kernel to use updated packages.\n",
      "Requirement already satisfied: h5py==3.1.0 in c:\\users\\bossi\\anaconda3\\envs\\miar_rl\\lib\\site-packages (3.1.0)\n",
      "Requirement already satisfied: numpy>=1.17.5 in c:\\users\\bossi\\anaconda3\\envs\\miar_rl\\lib\\site-packages (from h5py==3.1.0) (1.19.5)\n",
      "Note: you may need to restart the kernel to use updated packages.\n",
      "Requirement already satisfied: Pillow==9.5.0 in c:\\users\\bossi\\anaconda3\\envs\\miar_rl\\lib\\site-packages (9.5.0)\n",
      "Note: you may need to restart the kernel to use updated packages.\n",
      "Note: you may need to restart the kernel to use updated packages.Requirement already satisfied: keras-rl2==1.0.5 in c:\\users\\bossi\\anaconda3\\envs\\miar_rl\\lib\\site-packages (1.0.5)\n",
      "Requirement already satisfied: tensorflow in c:\\users\\bossi\\anaconda3\\envs\\miar_rl\\lib\\site-packages (from keras-rl2==1.0.5) (2.5.3)\n",
      "Requirement already satisfied: numpy~=1.19.2 in c:\\users\\bossi\\anaconda3\\envs\\miar_rl\\lib\\site-packages (from tensorflow->keras-rl2==1.0.5) (1.19.5)\n",
      "Requirement already satisfied: absl-py~=0.10 in c:\\users\\bossi\\anaconda3\\envs\\miar_rl\\lib\\site-packages (from tensorflow->keras-rl2==1.0.5) (0.15.0)\n",
      "Requirement already satisfied: astunparse~=1.6.3 in c:\\users\\bossi\\anaconda3\\envs\\miar_rl\\lib\\site-packages (from tensorflow->keras-rl2==1.0.5) (1.6.3)\n",
      "Requirement already satisfied: flatbuffers~=1.12.0 in c:\\users\\bossi\\anaconda3\\envs\\miar_rl\\lib\\site-packages (from tensorflow->keras-rl2==1.0.5) (1.12)\n",
      "Requirement already satisfied: google-pasta~=0.2 in c:\\users\\bossi\\anaconda3\\envs\\miar_rl\\lib\\site-packages (from tensorflow->keras-rl2==1.0.5) (0.2.0)\n",
      "Requirement already satisfied: h5py~=3.1.0 in c:\\users\\bossi\\anaconda3\\envs\\miar_rl\\lib\\site-packages (from tensorflow->keras-rl2==1.0.5) (3.1.0)\n",
      "Requirement already satisfied: keras-preprocessing~=1.1.2 in c:\\users\\bossi\\anaconda3\\envs\\miar_rl\\lib\\site-packages (from tensorflow->keras-rl2==1.0.5) (1.1.2)\n",
      "Requirement already satisfied: opt-einsum~=3.3.0 in c:\\users\\bossi\\anaconda3\\envs\\miar_rl\\lib\\site-packages (from tensorflow->keras-rl2==1.0.5) (3.3.0)\n",
      "Requirement already satisfied: protobuf>=3.9.2 in c:\\users\\bossi\\anaconda3\\envs\\miar_rl\\lib\\site-packages (from tensorflow->keras-rl2==1.0.5) (3.20.3)\n",
      "Requirement already satisfied: six~=1.15.0 in c:\\users\\bossi\\anaconda3\\envs\\miar_rl\\lib\\site-packages (from tensorflow->keras-rl2==1.0.5) (1.15.0)\n",
      "Requirement already satisfied: termcolor~=1.1.0 in c:\\users\\bossi\\anaconda3\\envs\\miar_rl\\lib\\site-packages (from tensorflow->keras-rl2==1.0.5) (1.1.0)\n",
      "Collecting typing-extensions~=3.7.4 (from tensorflow->keras-rl2==1.0.5)\n",
      "  Using cached typing_extensions-3.7.4.3-py3-none-any.whl.metadata (2.0 kB)\n",
      "Requirement already satisfied: wheel~=0.35 in c:\\users\\bossi\\anaconda3\\envs\\miar_rl\\lib\\site-packages (from tensorflow->keras-rl2==1.0.5) (0.44.0)\n",
      "Requirement already satisfied: wrapt~=1.12.1 in c:\\users\\bossi\\anaconda3\\envs\\miar_rl\\lib\\site-packages (from tensorflow->keras-rl2==1.0.5) (1.12.1)\n",
      "Requirement already satisfied: gast==0.4.0 in c:\\users\\bossi\\anaconda3\\envs\\miar_rl\\lib\\site-packages (from tensorflow->keras-rl2==1.0.5) (0.4.0)\n",
      "Requirement already satisfied: tensorboard~=2.5 in c:\\users\\bossi\\anaconda3\\envs\\miar_rl\\lib\\site-packages (from tensorflow->keras-rl2==1.0.5) (2.11.2)\n",
      "Requirement already satisfied: tensorflow-estimator<2.6.0,>=2.5.0 in c:\\users\\bossi\\anaconda3\\envs\\miar_rl\\lib\\site-packages (from tensorflow->keras-rl2==1.0.5) (2.5.0)\n",
      "Requirement already satisfied: keras-nightly~=2.5.0.dev in c:\\users\\bossi\\anaconda3\\envs\\miar_rl\\lib\\site-packages (from tensorflow->keras-rl2==1.0.5) (2.5.0.dev2021032900)\n",
      "Requirement already satisfied: grpcio~=1.34.0 in c:\\users\\bossi\\anaconda3\\envs\\miar_rl\\lib\\site-packages (from tensorflow->keras-rl2==1.0.5) (1.34.1)\n",
      "Requirement already satisfied: google-auth<3,>=1.6.3 in c:\\users\\bossi\\anaconda3\\envs\\miar_rl\\lib\\site-packages (from tensorboard~=2.5->tensorflow->keras-rl2==1.0.5) (2.40.3)\n",
      "Requirement already satisfied: google-auth-oauthlib<0.5,>=0.4.1 in c:\\users\\bossi\\anaconda3\\envs\\miar_rl\\lib\\site-packages (from tensorboard~=2.5->tensorflow->keras-rl2==1.0.5) (0.4.6)\n",
      "Requirement already satisfied: markdown>=2.6.8 in c:\\users\\bossi\\anaconda3\\envs\\miar_rl\\lib\\site-packages (from tensorboard~=2.5->tensorflow->keras-rl2==1.0.5) (3.7)\n",
      "Requirement already satisfied: requests<3,>=2.21.0 in c:\\users\\bossi\\anaconda3\\envs\\miar_rl\\lib\\site-packages (from tensorboard~=2.5->tensorflow->keras-rl2==1.0.5) (2.32.3)\n",
      "Requirement already satisfied: setuptools>=41.0.0 in c:\\users\\bossi\\anaconda3\\envs\\miar_rl\\lib\\site-packages (from tensorboard~=2.5->tensorflow->keras-rl2==1.0.5) (75.1.0)\n",
      "Requirement already satisfied: tensorboard-data-server<0.7.0,>=0.6.0 in c:\\users\\bossi\\anaconda3\\envs\\miar_rl\\lib\\site-packages (from tensorboard~=2.5->tensorflow->keras-rl2==1.0.5) (0.6.1)\n",
      "Requirement already satisfied: tensorboard-plugin-wit>=1.6.0 in c:\\users\\bossi\\anaconda3\\envs\\miar_rl\\lib\\site-packages (from tensorboard~=2.5->tensorflow->keras-rl2==1.0.5) (1.8.1)\n",
      "Requirement already satisfied: werkzeug>=1.0.1 in c:\\users\\bossi\\anaconda3\\envs\\miar_rl\\lib\\site-packages (from tensorboard~=2.5->tensorflow->keras-rl2==1.0.5) (3.0.6)\n",
      "Requirement already satisfied: cachetools<6.0,>=2.0.0 in c:\\users\\bossi\\anaconda3\\envs\\miar_rl\\lib\\site-packages (from google-auth<3,>=1.6.3->tensorboard~=2.5->tensorflow->keras-rl2==1.0.5) (5.5.2)\n",
      "Requirement already satisfied: pyasn1-modules>=0.2.1 in c:\\users\\bossi\\anaconda3\\envs\\miar_rl\\lib\\site-packages (from google-auth<3,>=1.6.3->tensorboard~=2.5->tensorflow->keras-rl2==1.0.5) (0.4.2)\n",
      "Requirement already satisfied: rsa<5,>=3.1.4 in c:\\users\\bossi\\anaconda3\\envs\\miar_rl\\lib\\site-packages (from google-auth<3,>=1.6.3->tensorboard~=2.5->tensorflow->keras-rl2==1.0.5) (4.9.1)\n",
      "Requirement already satisfied: requests-oauthlib>=0.7.0 in c:\\users\\bossi\\anaconda3\\envs\\miar_rl\\lib\\site-packages (from google-auth-oauthlib<0.5,>=0.4.1->tensorboard~=2.5->tensorflow->keras-rl2==1.0.5) (2.0.0)\n",
      "Requirement already satisfied: importlib-metadata>=4.4 in c:\\users\\bossi\\anaconda3\\envs\\miar_rl\\lib\\site-packages (from markdown>=2.6.8->tensorboard~=2.5->tensorflow->keras-rl2==1.0.5) (7.0.1)\n",
      "Requirement already satisfied: charset-normalizer<4,>=2 in c:\\users\\bossi\\anaconda3\\envs\\miar_rl\\lib\\site-packages (from requests<3,>=2.21.0->tensorboard~=2.5->tensorflow->keras-rl2==1.0.5) (3.3.2)\n",
      "Requirement already satisfied: idna<4,>=2.5 in c:\\users\\bossi\\anaconda3\\envs\\miar_rl\\lib\\site-packages (from requests<3,>=2.21.0->tensorboard~=2.5->tensorflow->keras-rl2==1.0.5) (3.7)\n",
      "Requirement already satisfied: urllib3<3,>=1.21.1 in c:\\users\\bossi\\anaconda3\\envs\\miar_rl\\lib\\site-packages (from requests<3,>=2.21.0->tensorboard~=2.5->tensorflow->keras-rl2==1.0.5) (2.2.3)\n",
      "Requirement already satisfied: certifi>=2017.4.17 in c:\\users\\bossi\\anaconda3\\envs\\miar_rl\\lib\\site-packages (from requests<3,>=2.21.0->tensorboard~=2.5->tensorflow->keras-rl2==1.0.5) (2024.8.30)\n",
      "Requirement already satisfied: MarkupSafe>=2.1.1 in c:\\users\\bossi\\anaconda3\\envs\\miar_rl\\lib\\site-packages (from werkzeug>=1.0.1->tensorboard~=2.5->tensorflow->keras-rl2==1.0.5) (2.1.3)\n",
      "Requirement already satisfied: zipp>=0.5 in c:\\users\\bossi\\anaconda3\\envs\\miar_rl\\lib\\site-packages (from importlib-metadata>=4.4->markdown>=2.6.8->tensorboard~=2.5->tensorflow->keras-rl2==1.0.5) (3.20.2)\n",
      "Requirement already satisfied: pyasn1<0.7.0,>=0.6.1 in c:\\users\\bossi\\anaconda3\\envs\\miar_rl\\lib\\site-packages (from pyasn1-modules>=0.2.1->google-auth<3,>=1.6.3->tensorboard~=2.5->tensorflow->keras-rl2==1.0.5) (0.6.1)\n",
      "Requirement already satisfied: oauthlib>=3.0.0 in c:\\users\\bossi\\anaconda3\\envs\\miar_rl\\lib\\site-packages (from requests-oauthlib>=0.7.0->google-auth-oauthlib<0.5,>=0.4.1->tensorboard~=2.5->tensorflow->keras-rl2==1.0.5) (3.3.1)\n",
      "Using cached typing_extensions-3.7.4.3-py3-none-any.whl (22 kB)\n",
      "Installing collected packages: typing-extensions\n",
      "  Attempting uninstall: typing-extensions\n",
      "    Found existing installation: typing_extensions 4.13.2\n",
      "    Uninstalling typing_extensions-4.13.2:\n",
      "      Successfully uninstalled typing_extensions-4.13.2\n",
      "Successfully installed typing-extensions-3.7.4.3\n",
      "\n"
     ]
    },
    {
     "name": "stderr",
     "output_type": "stream",
     "text": [
      "ERROR: pip's dependency resolver does not currently take into account all the packages that are installed. This behaviour is the source of the following dependency conflicts.\n",
      "anyio 4.2.0 requires typing-extensions>=4.1; python_version < \"3.11\", but you have typing-extensions 3.7.4.3 which is incompatible.\n",
      "async-lru 2.0.4 requires typing-extensions>=4.0.0; python_version < \"3.11\", but you have typing-extensions 3.7.4.3 which is incompatible.\n",
      "jupyter-server 2.14.1 requires pywinpty>=2.0.1; os_name == \"nt\", but you have pywinpty 1.1.6 which is incompatible.\n",
      "tensorflow-intel 2.13.0 requires absl-py>=1.0.0, but you have absl-py 0.15.0 which is incompatible.\n",
      "tensorflow-intel 2.13.0 requires flatbuffers>=23.1.21, but you have flatbuffers 1.12 which is incompatible.\n",
      "tensorflow-intel 2.13.0 requires keras<2.14,>=2.13.1, but you have keras 2.2.4 which is incompatible.\n",
      "tensorflow-intel 2.13.0 requires numpy<=1.24.3,>=1.22, but you have numpy 1.19.5 which is incompatible.\n",
      "tensorflow-intel 2.13.0 requires tensorboard<2.14,>=2.13, but you have tensorboard 2.11.2 which is incompatible.\n",
      "tensorflow-intel 2.13.0 requires tensorflow-estimator<2.14,>=2.13.0, but you have tensorflow-estimator 2.5.0 which is incompatible.\n"
     ]
    },
    {
     "name": "stdout",
     "output_type": "stream",
     "text": [
      "Requirement already satisfied: Keras==2.2.4 in c:\\users\\bossi\\anaconda3\\envs\\miar_rl\\lib\\site-packages (2.2.4)Note: you may need to restart the kernel to use updated packages.\n",
      "\n",
      "Requirement already satisfied: numpy>=1.9.1 in c:\\users\\bossi\\anaconda3\\envs\\miar_rl\\lib\\site-packages (from Keras==2.2.4) (1.19.5)\n",
      "Requirement already satisfied: scipy>=0.14 in c:\\users\\bossi\\anaconda3\\envs\\miar_rl\\lib\\site-packages (from Keras==2.2.4) (1.10.1)\n",
      "Requirement already satisfied: six>=1.9.0 in c:\\users\\bossi\\anaconda3\\envs\\miar_rl\\lib\\site-packages (from Keras==2.2.4) (1.15.0)\n",
      "Requirement already satisfied: pyyaml in c:\\users\\bossi\\anaconda3\\envs\\miar_rl\\lib\\site-packages (from Keras==2.2.4) (6.0.2)\n",
      "Requirement already satisfied: h5py in c:\\users\\bossi\\anaconda3\\envs\\miar_rl\\lib\\site-packages (from Keras==2.2.4) (3.1.0)\n",
      "Requirement already satisfied: keras-applications>=1.0.6 in c:\\users\\bossi\\anaconda3\\envs\\miar_rl\\lib\\site-packages (from Keras==2.2.4) (1.0.8)\n",
      "Requirement already satisfied: keras-preprocessing>=1.0.5 in c:\\users\\bossi\\anaconda3\\envs\\miar_rl\\lib\\site-packages (from Keras==2.2.4) (1.1.2)\n",
      "Requirement already satisfied: tensorflow==2.5.3 in c:\\users\\bossi\\anaconda3\\envs\\miar_rl\\lib\\site-packages (2.5.3)\n",
      "Requirement already satisfied: numpy~=1.19.2 in c:\\users\\bossi\\anaconda3\\envs\\miar_rl\\lib\\site-packages (from tensorflow==2.5.3) (1.19.5)\n",
      "Requirement already satisfied: absl-py~=0.10 in c:\\users\\bossi\\anaconda3\\envs\\miar_rl\\lib\\site-packages (from tensorflow==2.5.3) (0.15.0)\n",
      "Requirement already satisfied: astunparse~=1.6.3 in c:\\users\\bossi\\anaconda3\\envs\\miar_rl\\lib\\site-packages (from tensorflow==2.5.3) (1.6.3)\n",
      "Requirement already satisfied: flatbuffers~=1.12.0 in c:\\users\\bossi\\anaconda3\\envs\\miar_rl\\lib\\site-packages (from tensorflow==2.5.3) (1.12)\n",
      "Requirement already satisfied: google-pasta~=0.2 in c:\\users\\bossi\\anaconda3\\envs\\miar_rl\\lib\\site-packages (from tensorflow==2.5.3) (0.2.0)\n",
      "Requirement already satisfied: h5py~=3.1.0 in c:\\users\\bossi\\anaconda3\\envs\\miar_rl\\lib\\site-packages (from tensorflow==2.5.3) (3.1.0)\n",
      "Requirement already satisfied: keras-preprocessing~=1.1.2 in c:\\users\\bossi\\anaconda3\\envs\\miar_rl\\lib\\site-packages (from tensorflow==2.5.3) (1.1.2)\n",
      "Requirement already satisfied: opt-einsum~=3.3.0 in c:\\users\\bossi\\anaconda3\\envs\\miar_rl\\lib\\site-packages (from tensorflow==2.5.3) (3.3.0)\n",
      "Requirement already satisfied: protobuf>=3.9.2 in c:\\users\\bossi\\anaconda3\\envs\\miar_rl\\lib\\site-packages (from tensorflow==2.5.3) (3.20.3)\n",
      "Requirement already satisfied: six~=1.15.0 in c:\\users\\bossi\\anaconda3\\envs\\miar_rl\\lib\\site-packages (from tensorflow==2.5.3) (1.15.0)\n",
      "Requirement already satisfied: termcolor~=1.1.0 in c:\\users\\bossi\\anaconda3\\envs\\miar_rl\\lib\\site-packages (from tensorflow==2.5.3) (1.1.0)\n",
      "Requirement already satisfied: typing-extensions~=3.7.4 in c:\\users\\bossi\\anaconda3\\envs\\miar_rl\\lib\\site-packages (from tensorflow==2.5.3) (3.7.4.3)\n",
      "Requirement already satisfied: wheel~=0.35 in c:\\users\\bossi\\anaconda3\\envs\\miar_rl\\lib\\site-packages (from tensorflow==2.5.3) (0.44.0)\n",
      "Requirement already satisfied: wrapt~=1.12.1 in c:\\users\\bossi\\anaconda3\\envs\\miar_rl\\lib\\site-packages (from tensorflow==2.5.3) (1.12.1)\n",
      "Requirement already satisfied: gast==0.4.0 in c:\\users\\bossi\\anaconda3\\envs\\miar_rl\\lib\\site-packages (from tensorflow==2.5.3) (0.4.0)\n",
      "Requirement already satisfied: tensorboard~=2.5 in c:\\users\\bossi\\anaconda3\\envs\\miar_rl\\lib\\site-packages (from tensorflow==2.5.3) (2.11.2)\n",
      "Requirement already satisfied: tensorflow-estimator<2.6.0,>=2.5.0 in c:\\users\\bossi\\anaconda3\\envs\\miar_rl\\lib\\site-packages (from tensorflow==2.5.3) (2.5.0)\n",
      "Requirement already satisfied: keras-nightly~=2.5.0.dev in c:\\users\\bossi\\anaconda3\\envs\\miar_rl\\lib\\site-packages (from tensorflow==2.5.3) (2.5.0.dev2021032900)\n",
      "Requirement already satisfied: grpcio~=1.34.0 in c:\\users\\bossi\\anaconda3\\envs\\miar_rl\\lib\\site-packages (from tensorflow==2.5.3) (1.34.1)\n",
      "Requirement already satisfied: google-auth<3,>=1.6.3 in c:\\users\\bossi\\anaconda3\\envs\\miar_rl\\lib\\site-packages (from tensorboard~=2.5->tensorflow==2.5.3) (2.40.3)\n",
      "Requirement already satisfied: google-auth-oauthlib<0.5,>=0.4.1 in c:\\users\\bossi\\anaconda3\\envs\\miar_rl\\lib\\site-packages (from tensorboard~=2.5->tensorflow==2.5.3) (0.4.6)\n",
      "Requirement already satisfied: markdown>=2.6.8 in c:\\users\\bossi\\anaconda3\\envs\\miar_rl\\lib\\site-packages (from tensorboard~=2.5->tensorflow==2.5.3) (3.7)\n",
      "Requirement already satisfied: requests<3,>=2.21.0 in c:\\users\\bossi\\anaconda3\\envs\\miar_rl\\lib\\site-packages (from tensorboard~=2.5->tensorflow==2.5.3) (2.32.3)\n",
      "Requirement already satisfied: setuptools>=41.0.0 in c:\\users\\bossi\\anaconda3\\envs\\miar_rl\\lib\\site-packages (from tensorboard~=2.5->tensorflow==2.5.3) (75.1.0)\n",
      "Requirement already satisfied: tensorboard-data-server<0.7.0,>=0.6.0 in c:\\users\\bossi\\anaconda3\\envs\\miar_rl\\lib\\site-packages (from tensorboard~=2.5->tensorflow==2.5.3) (0.6.1)\n",
      "Requirement already satisfied: tensorboard-plugin-wit>=1.6.0 in c:\\users\\bossi\\anaconda3\\envs\\miar_rl\\lib\\site-packages (from tensorboard~=2.5->tensorflow==2.5.3) (1.8.1)\n",
      "Requirement already satisfied: werkzeug>=1.0.1 in c:\\users\\bossi\\anaconda3\\envs\\miar_rl\\lib\\site-packages (from tensorboard~=2.5->tensorflow==2.5.3) (3.0.6)\n",
      "Requirement already satisfied: cachetools<6.0,>=2.0.0 in c:\\users\\bossi\\anaconda3\\envs\\miar_rl\\lib\\site-packages (from google-auth<3,>=1.6.3->tensorboard~=2.5->tensorflow==2.5.3) (5.5.2)\n",
      "Requirement already satisfied: pyasn1-modules>=0.2.1 in c:\\users\\bossi\\anaconda3\\envs\\miar_rl\\lib\\site-packages (from google-auth<3,>=1.6.3->tensorboard~=2.5->tensorflow==2.5.3) (0.4.2)\n",
      "Requirement already satisfied: rsa<5,>=3.1.4 in c:\\users\\bossi\\anaconda3\\envs\\miar_rl\\lib\\site-packages (from google-auth<3,>=1.6.3->tensorboard~=2.5->tensorflow==2.5.3) (4.9.1)\n",
      "Requirement already satisfied: requests-oauthlib>=0.7.0 in c:\\users\\bossi\\anaconda3\\envs\\miar_rl\\lib\\site-packages (from google-auth-oauthlib<0.5,>=0.4.1->tensorboard~=2.5->tensorflow==2.5.3) (2.0.0)\n",
      "Requirement already satisfied: importlib-metadata>=4.4 in c:\\users\\bossi\\anaconda3\\envs\\miar_rl\\lib\\site-packages (from markdown>=2.6.8->tensorboard~=2.5->tensorflow==2.5.3) (7.0.1)\n",
      "Requirement already satisfied: charset-normalizer<4,>=2 in c:\\users\\bossi\\anaconda3\\envs\\miar_rl\\lib\\site-packages (from requests<3,>=2.21.0->tensorboard~=2.5->tensorflow==2.5.3) (3.3.2)\n",
      "Requirement already satisfied: idna<4,>=2.5 in c:\\users\\bossi\\anaconda3\\envs\\miar_rl\\lib\\site-packages (from requests<3,>=2.21.0->tensorboard~=2.5->tensorflow==2.5.3) (3.7)\n",
      "Requirement already satisfied: urllib3<3,>=1.21.1 in c:\\users\\bossi\\anaconda3\\envs\\miar_rl\\lib\\site-packages (from requests<3,>=2.21.0->tensorboard~=2.5->tensorflow==2.5.3) (2.2.3)\n",
      "Requirement already satisfied: certifi>=2017.4.17 in c:\\users\\bossi\\anaconda3\\envs\\miar_rl\\lib\\site-packages (from requests<3,>=2.21.0->tensorboard~=2.5->tensorflow==2.5.3) (2024.8.30)\n",
      "Requirement already satisfied: MarkupSafe>=2.1.1 in c:\\users\\bossi\\anaconda3\\envs\\miar_rl\\lib\\site-packages (from werkzeug>=1.0.1->tensorboard~=2.5->tensorflow==2.5.3) (2.1.3)\n",
      "Requirement already satisfied: zipp>=0.5 in c:\\users\\bossi\\anaconda3\\envs\\miar_rl\\lib\\site-packages (from importlib-metadata>=4.4->markdown>=2.6.8->tensorboard~=2.5->tensorflow==2.5.3) (3.20.2)\n",
      "Requirement already satisfied: pyasn1<0.7.0,>=0.6.1 in c:\\users\\bossi\\anaconda3\\envs\\miar_rl\\lib\\site-packages (from pyasn1-modules>=0.2.1->google-auth<3,>=1.6.3->tensorboard~=2.5->tensorflow==2.5.3) (0.6.1)\n",
      "Requirement already satisfied: oauthlib>=3.0.0 in c:\\users\\bossi\\anaconda3\\envs\\miar_rl\\lib\\site-packages (from requests-oauthlib>=0.7.0->google-auth-oauthlib<0.5,>=0.4.1->tensorboard~=2.5->tensorflow==2.5.3) (3.3.1)\n",
      "Note: you may need to restart the kernel to use updated packages.\n",
      "Requirement already satisfied: torch==2.0.1 in c:\\users\\bossi\\anaconda3\\envs\\miar_rl\\lib\\site-packages (2.0.1)Note: you may need to restart the kernel to use updated packages.\n",
      "\n",
      "Requirement already satisfied: filelock in c:\\users\\bossi\\anaconda3\\envs\\miar_rl\\lib\\site-packages (from torch==2.0.1) (3.16.1)\n",
      "Requirement already satisfied: typing-extensions in c:\\users\\bossi\\anaconda3\\envs\\miar_rl\\lib\\site-packages (from torch==2.0.1) (3.7.4.3)\n",
      "Requirement already satisfied: sympy in c:\\users\\bossi\\anaconda3\\envs\\miar_rl\\lib\\site-packages (from torch==2.0.1) (1.13.3)\n",
      "Requirement already satisfied: networkx in c:\\users\\bossi\\anaconda3\\envs\\miar_rl\\lib\\site-packages (from torch==2.0.1) (3.1)\n",
      "Requirement already satisfied: jinja2 in c:\\users\\bossi\\anaconda3\\envs\\miar_rl\\lib\\site-packages (from torch==2.0.1) (3.1.4)\n",
      "Requirement already satisfied: MarkupSafe>=2.0 in c:\\users\\bossi\\anaconda3\\envs\\miar_rl\\lib\\site-packages (from jinja2->torch==2.0.1) (2.1.3)\n",
      "Requirement already satisfied: mpmath<1.4,>=1.1.0 in c:\\users\\bossi\\anaconda3\\envs\\miar_rl\\lib\\site-packages (from sympy->torch==2.0.1) (1.3.0)\n",
      "Requirement already satisfied: agents==1.4.0 in c:\\users\\bossi\\anaconda3\\envs\\miar_rl\\lib\\site-packages (1.4.0)\n",
      "Requirement already satisfied: tensorflow in c:\\users\\bossi\\anaconda3\\envs\\miar_rl\\lib\\site-packages (from agents==1.4.0) (2.5.3)\n",
      "Requirement already satisfied: gym in c:\\users\\bossi\\anaconda3\\envs\\miar_rl\\lib\\site-packages (from agents==1.4.0) (0.17.3)\n",
      "Requirement already satisfied: ruamel.yaml in c:\\users\\bossi\\anaconda3\\envs\\miar_rl\\lib\\site-packages (from agents==1.4.0) (0.18.14)\n",
      "Requirement already satisfied: scipy in c:\\users\\bossi\\anaconda3\\envs\\miar_rl\\lib\\site-packages (from gym->agents==1.4.0) (1.10.1)\n",
      "Requirement already satisfied: numpy>=1.10.4 in c:\\users\\bossi\\anaconda3\\envs\\miar_rl\\lib\\site-packages (from gym->agents==1.4.0) (1.19.5)\n",
      "Requirement already satisfied: pyglet<=1.5.0,>=1.4.0 in c:\\users\\bossi\\anaconda3\\envs\\miar_rl\\lib\\site-packages (from gym->agents==1.4.0) (1.5.0)\n",
      "Requirement already satisfied: cloudpickle<1.7.0,>=1.2.0 in c:\\users\\bossi\\anaconda3\\envs\\miar_rl\\lib\\site-packages (from gym->agents==1.4.0) (1.6.0)\n",
      "Requirement already satisfied: ruamel.yaml.clib>=0.2.7 in c:\\users\\bossi\\anaconda3\\envs\\miar_rl\\lib\\site-packages (from ruamel.yaml->agents==1.4.0) (0.2.8)\n",
      "Requirement already satisfied: absl-py~=0.10 in c:\\users\\bossi\\anaconda3\\envs\\miar_rl\\lib\\site-packages (from tensorflow->agents==1.4.0) (0.15.0)\n",
      "Requirement already satisfied: astunparse~=1.6.3 in c:\\users\\bossi\\anaconda3\\envs\\miar_rl\\lib\\site-packages (from tensorflow->agents==1.4.0) (1.6.3)\n",
      "Requirement already satisfied: flatbuffers~=1.12.0 in c:\\users\\bossi\\anaconda3\\envs\\miar_rl\\lib\\site-packages (from tensorflow->agents==1.4.0) (1.12)\n",
      "Requirement already satisfied: google-pasta~=0.2 in c:\\users\\bossi\\anaconda3\\envs\\miar_rl\\lib\\site-packages (from tensorflow->agents==1.4.0) (0.2.0)\n",
      "Requirement already satisfied: h5py~=3.1.0 in c:\\users\\bossi\\anaconda3\\envs\\miar_rl\\lib\\site-packages (from tensorflow->agents==1.4.0) (3.1.0)\n",
      "Requirement already satisfied: keras-preprocessing~=1.1.2 in c:\\users\\bossi\\anaconda3\\envs\\miar_rl\\lib\\site-packages (from tensorflow->agents==1.4.0) (1.1.2)\n",
      "Requirement already satisfied: opt-einsum~=3.3.0 in c:\\users\\bossi\\anaconda3\\envs\\miar_rl\\lib\\site-packages (from tensorflow->agents==1.4.0) (3.3.0)\n",
      "Requirement already satisfied: protobuf>=3.9.2 in c:\\users\\bossi\\anaconda3\\envs\\miar_rl\\lib\\site-packages (from tensorflow->agents==1.4.0) (3.20.3)\n",
      "Requirement already satisfied: six~=1.15.0 in c:\\users\\bossi\\anaconda3\\envs\\miar_rl\\lib\\site-packages (from tensorflow->agents==1.4.0) (1.15.0)\n",
      "Requirement already satisfied: termcolor~=1.1.0 in c:\\users\\bossi\\anaconda3\\envs\\miar_rl\\lib\\site-packages (from tensorflow->agents==1.4.0) (1.1.0)\n",
      "Requirement already satisfied: typing-extensions~=3.7.4 in c:\\users\\bossi\\anaconda3\\envs\\miar_rl\\lib\\site-packages (from tensorflow->agents==1.4.0) (3.7.4.3)\n",
      "Requirement already satisfied: wheel~=0.35 in c:\\users\\bossi\\anaconda3\\envs\\miar_rl\\lib\\site-packages (from tensorflow->agents==1.4.0) (0.44.0)\n",
      "Requirement already satisfied: wrapt~=1.12.1 in c:\\users\\bossi\\anaconda3\\envs\\miar_rl\\lib\\site-packages (from tensorflow->agents==1.4.0) (1.12.1)\n",
      "Requirement already satisfied: gast==0.4.0 in c:\\users\\bossi\\anaconda3\\envs\\miar_rl\\lib\\site-packages (from tensorflow->agents==1.4.0) (0.4.0)\n",
      "Requirement already satisfied: tensorboard~=2.5 in c:\\users\\bossi\\anaconda3\\envs\\miar_rl\\lib\\site-packages (from tensorflow->agents==1.4.0) (2.11.2)\n",
      "Requirement already satisfied: tensorflow-estimator<2.6.0,>=2.5.0 in c:\\users\\bossi\\anaconda3\\envs\\miar_rl\\lib\\site-packages (from tensorflow->agents==1.4.0) (2.5.0)\n",
      "Requirement already satisfied: keras-nightly~=2.5.0.dev in c:\\users\\bossi\\anaconda3\\envs\\miar_rl\\lib\\site-packages (from tensorflow->agents==1.4.0) (2.5.0.dev2021032900)\n",
      "Requirement already satisfied: grpcio~=1.34.0 in c:\\users\\bossi\\anaconda3\\envs\\miar_rl\\lib\\site-packages (from tensorflow->agents==1.4.0) (1.34.1)\n",
      "Requirement already satisfied: future in c:\\users\\bossi\\anaconda3\\envs\\miar_rl\\lib\\site-packages (from pyglet<=1.5.0,>=1.4.0->gym->agents==1.4.0) (1.0.0)\n",
      "Requirement already satisfied: google-auth<3,>=1.6.3 in c:\\users\\bossi\\anaconda3\\envs\\miar_rl\\lib\\site-packages (from tensorboard~=2.5->tensorflow->agents==1.4.0) (2.40.3)\n",
      "Requirement already satisfied: google-auth-oauthlib<0.5,>=0.4.1 in c:\\users\\bossi\\anaconda3\\envs\\miar_rl\\lib\\site-packages (from tensorboard~=2.5->tensorflow->agents==1.4.0) (0.4.6)\n",
      "Requirement already satisfied: markdown>=2.6.8 in c:\\users\\bossi\\anaconda3\\envs\\miar_rl\\lib\\site-packages (from tensorboard~=2.5->tensorflow->agents==1.4.0) (3.7)\n",
      "Requirement already satisfied: requests<3,>=2.21.0 in c:\\users\\bossi\\anaconda3\\envs\\miar_rl\\lib\\site-packages (from tensorboard~=2.5->tensorflow->agents==1.4.0) (2.32.3)\n",
      "Requirement already satisfied: setuptools>=41.0.0 in c:\\users\\bossi\\anaconda3\\envs\\miar_rl\\lib\\site-packages (from tensorboard~=2.5->tensorflow->agents==1.4.0) (75.1.0)\n",
      "Requirement already satisfied: tensorboard-data-server<0.7.0,>=0.6.0 in c:\\users\\bossi\\anaconda3\\envs\\miar_rl\\lib\\site-packages (from tensorboard~=2.5->tensorflow->agents==1.4.0) (0.6.1)\n",
      "Requirement already satisfied: tensorboard-plugin-wit>=1.6.0 in c:\\users\\bossi\\anaconda3\\envs\\miar_rl\\lib\\site-packages (from tensorboard~=2.5->tensorflow->agents==1.4.0) (1.8.1)\n",
      "Requirement already satisfied: werkzeug>=1.0.1 in c:\\users\\bossi\\anaconda3\\envs\\miar_rl\\lib\\site-packages (from tensorboard~=2.5->tensorflow->agents==1.4.0) (3.0.6)\n",
      "Requirement already satisfied: cachetools<6.0,>=2.0.0 in c:\\users\\bossi\\anaconda3\\envs\\miar_rl\\lib\\site-packages (from google-auth<3,>=1.6.3->tensorboard~=2.5->tensorflow->agents==1.4.0) (5.5.2)\n",
      "Requirement already satisfied: pyasn1-modules>=0.2.1 in c:\\users\\bossi\\anaconda3\\envs\\miar_rl\\lib\\site-packages (from google-auth<3,>=1.6.3->tensorboard~=2.5->tensorflow->agents==1.4.0) (0.4.2)\n",
      "Requirement already satisfied: rsa<5,>=3.1.4 in c:\\users\\bossi\\anaconda3\\envs\\miar_rl\\lib\\site-packages (from google-auth<3,>=1.6.3->tensorboard~=2.5->tensorflow->agents==1.4.0) (4.9.1)\n",
      "Requirement already satisfied: requests-oauthlib>=0.7.0 in c:\\users\\bossi\\anaconda3\\envs\\miar_rl\\lib\\site-packages (from google-auth-oauthlib<0.5,>=0.4.1->tensorboard~=2.5->tensorflow->agents==1.4.0) (2.0.0)\n",
      "Requirement already satisfied: importlib-metadata>=4.4 in c:\\users\\bossi\\anaconda3\\envs\\miar_rl\\lib\\site-packages (from markdown>=2.6.8->tensorboard~=2.5->tensorflow->agents==1.4.0) (7.0.1)\n",
      "Requirement already satisfied: charset-normalizer<4,>=2 in c:\\users\\bossi\\anaconda3\\envs\\miar_rl\\lib\\site-packages (from requests<3,>=2.21.0->tensorboard~=2.5->tensorflow->agents==1.4.0) (3.3.2)\n",
      "Requirement already satisfied: idna<4,>=2.5 in c:\\users\\bossi\\anaconda3\\envs\\miar_rl\\lib\\site-packages (from requests<3,>=2.21.0->tensorboard~=2.5->tensorflow->agents==1.4.0) (3.7)\n",
      "Requirement already satisfied: urllib3<3,>=1.21.1 in c:\\users\\bossi\\anaconda3\\envs\\miar_rl\\lib\\site-packages (from requests<3,>=2.21.0->tensorboard~=2.5->tensorflow->agents==1.4.0) (2.2.3)\n",
      "Requirement already satisfied: certifi>=2017.4.17 in c:\\users\\bossi\\anaconda3\\envs\\miar_rl\\lib\\site-packages (from requests<3,>=2.21.0->tensorboard~=2.5->tensorflow->agents==1.4.0) (2024.8.30)\n",
      "Requirement already satisfied: MarkupSafe>=2.1.1 in c:\\users\\bossi\\anaconda3\\envs\\miar_rl\\lib\\site-packages (from werkzeug>=1.0.1->tensorboard~=2.5->tensorflow->agents==1.4.0) (2.1.3)\n",
      "Requirement already satisfied: zipp>=0.5 in c:\\users\\bossi\\anaconda3\\envs\\miar_rl\\lib\\site-packages (from importlib-metadata>=4.4->markdown>=2.6.8->tensorboard~=2.5->tensorflow->agents==1.4.0) (3.20.2)\n",
      "Requirement already satisfied: pyasn1<0.7.0,>=0.6.1 in c:\\users\\bossi\\anaconda3\\envs\\miar_rl\\lib\\site-packages (from pyasn1-modules>=0.2.1->google-auth<3,>=1.6.3->tensorboard~=2.5->tensorflow->agents==1.4.0) (0.6.1)\n",
      "Requirement already satisfied: oauthlib>=3.0.0 in c:\\users\\bossi\\anaconda3\\envs\\miar_rl\\lib\\site-packages (from requests-oauthlib>=0.7.0->google-auth-oauthlib<0.5,>=0.4.1->tensorboard~=2.5->tensorflow->agents==1.4.0) (3.3.1)\n",
      "Note: you may need to restart the kernel to use updated packages.\n"
     ]
    }
   ],
   "source": [
    "if IN_COLAB:\n",
    "  %pip install gym==0.17.3\n",
    "  %pip install git+https://github.com/Kojoley/atari-py.git\n",
    "  %pip install keras-rl2==1.0.5\n",
    "  %pip install tensorflow==2.8\n",
    "else:\n",
    "  %pip install gym==0.17.3\n",
    "  %pip install git+https://github.com/Kojoley/atari-py.git\n",
    "  %pip install pyglet==1.5.0\n",
    "  %pip install h5py==3.1.0\n",
    "  %pip install Pillow==9.5.0\n",
    "  %pip install keras-rl2==1.0.5\n",
    "  %pip install Keras==2.2.4\n",
    "  %pip install tensorflow==2.5.3\n",
    "  %pip install torch==2.0.1\n",
    "  %pip install agents==1.4.0"
   ]
  },
  {
   "cell_type": "markdown",
   "metadata": {
    "id": "4hzP_5ZuGb2X"
   },
   "source": [
    "---\n",
    "## **PARTE 2**. Enunciado\n",
    "\n",
    "Consideraciones a tener en cuenta:\n",
    "\n",
    "- El entorno sobre el que trabajaremos será _SpaceInvaders-v0_ y el algoritmo que usaremos será _DQN_.\n",
    "\n",
    "- Para nuestro ejercicio, el requisito mínimo será alcanzado cuando el agente consiga una **media de recompensa por encima de 20 puntos en modo test**. Por ello, esta media de la recompensa se calculará a partir del código de test en la última celda del notebook.\n",
    "\n",
    "Este proyecto práctico consta de tres partes:\n",
    "\n",
    "1.   Implementar la red neuronal que se usará en la solución\n",
    "2.   Implementar las distintas piezas de la solución DQN\n",
    "3.   Justificar la respuesta en relación a los resultados obtenidos\n",
    "\n",
    "**Rúbrica**: Se valorará la originalidad en la solución aportada, así como la capacidad de discutir los resultados de forma detallada. El requisito mínimo servirá para aprobar la actividad, bajo premisa de que la discusión del resultado sera apropiada.\n",
    "\n",
    "IMPORTANTE:\n",
    "\n",
    "* Si no se consigue una puntuación óptima, responder sobre la mejor puntuación obtenida.\n",
    "* Para entrenamientos largos, recordad que podéis usar checkpoints de vuestros modelos para retomar los entrenamientos. En este caso, recordad cambiar los parámetros adecuadamente (sobre todo los relacionados con el proceso de exploración).\n",
    "* Se deberá entregar unicamente el notebook y los pesos del mejor modelo en un fichero .zip, de forma organizada.\n",
    "* Cada alumno deberá de subir la solución de forma individual."
   ]
  },
  {
   "cell_type": "markdown",
   "metadata": {
    "id": "6_b3mzw8IzJP"
   },
   "source": [
    "---\n",
    "## **PARTE 3**. Desarrollo y preguntas"
   ]
  },
  {
   "cell_type": "markdown",
   "metadata": {
    "id": "duPmUNOVGb2a"
   },
   "source": [
    "#### Importar librerías"
   ]
  },
  {
   "cell_type": "code",
   "execution_count": 8,
   "metadata": {
    "id": "j3eRhgI-Gb2a"
   },
   "outputs": [],
   "source": [
    "from __future__ import division\n",
    "\n",
    "from PIL import Image\n",
    "import numpy as np\n",
    "import gym\n",
    "\n",
    "import tensorflow as tf\n",
    "from tensorflow.keras.models import Sequential\n",
    "from tensorflow.keras.layers import Dense, Activation, Flatten, Convolution2D, Permute\n",
    "from tensorflow.keras.optimizers import Adam\n",
    "import tensorflow.keras.backend as K\n",
    "from tensorflow.keras.callbacks import ModelCheckpoint\n",
    "\n",
    "from rl.agents.dqn import DQNAgent\n",
    "from rl.policy import LinearAnnealedPolicy, BoltzmannQPolicy, EpsGreedyQPolicy\n",
    "from rl.memory import SequentialMemory\n",
    "from rl.core import Processor\n",
    "from rl.callbacks import FileLogger, ModelIntervalCheckpoint"
   ]
  },
  {
   "cell_type": "markdown",
   "metadata": {
    "id": "f4jgQjzoGb2a"
   },
   "source": [
    "#### Configuración base"
   ]
  },
  {
   "cell_type": "code",
   "execution_count": 3,
   "metadata": {
    "id": "jwOE6I_KGb2a"
   },
   "outputs": [],
   "source": [
    "INPUT_SHAPE = (84, 84)\n",
    "WINDOW_LENGTH = 4\n",
    "\n",
    "env_name = 'SpaceInvaders-v0'\n",
    "env = gym.make(env_name)\n",
    "\n",
    "np.random.seed(123)\n",
    "env.seed(123)\n",
    "nb_actions = env.action_space.n"
   ]
  },
  {
   "cell_type": "code",
   "execution_count": 4,
   "metadata": {
    "id": "9jGEZUcpGb2a"
   },
   "outputs": [],
   "source": [
    "class AtariProcessor(Processor):\n",
    "    def process_observation(self, observation):\n",
    "        assert observation.ndim == 3  # (height, width, channel)\n",
    "        img = Image.fromarray(observation)\n",
    "        img = img.resize(INPUT_SHAPE).convert('L')\n",
    "        processed_observation = np.array(img)\n",
    "        assert processed_observation.shape == INPUT_SHAPE\n",
    "        return processed_observation.astype('uint8')\n",
    "\n",
    "    def process_state_batch(self, batch):\n",
    "        processed_batch = batch.astype('float32') / 255.\n",
    "        return processed_batch\n",
    "\n",
    "    def process_reward(self, reward):\n",
    "        return np.clip(reward, -1., 1.)"
   ]
  },
  {
   "cell_type": "markdown",
   "metadata": {
    "id": "7yitXTADGb2b"
   },
   "source": [
    "1. Implementación de la red neuronal"
   ]
  },
  {
   "cell_type": "code",
   "execution_count": 5,
   "metadata": {
    "id": "O4GKrfWSGb2b"
   },
   "outputs": [
    {
     "name": "stdout",
     "output_type": "stream",
     "text": [
      "Model: \"sequential\"\n",
      "_________________________________________________________________\n",
      "Layer (type)                 Output Shape              Param #   \n",
      "=================================================================\n",
      "permute (Permute)            (None, 84, 84, 4)         0         \n",
      "_________________________________________________________________\n",
      "conv2d (Conv2D)              (None, 41, 41, 64)        4160      \n",
      "_________________________________________________________________\n",
      "activation (Activation)      (None, 41, 41, 64)        0         \n",
      "_________________________________________________________________\n",
      "conv2d_1 (Conv2D)            (None, 39, 39, 64)        36928     \n",
      "_________________________________________________________________\n",
      "activation_1 (Activation)    (None, 39, 39, 64)        0         \n",
      "_________________________________________________________________\n",
      "flatten (Flatten)            (None, 97344)             0         \n",
      "_________________________________________________________________\n",
      "dense (Dense)                (None, 128)               12460160  \n",
      "_________________________________________________________________\n",
      "dense_1 (Dense)              (None, 6)                 774       \n",
      "=================================================================\n",
      "Total params: 12,502,022\n",
      "Trainable params: 12,502,022\n",
      "Non-trainable params: 0\n",
      "_________________________________________________________________\n",
      "None\n"
     ]
    }
   ],
   "source": [
    "def build_dqn_model(nb_actions, input_shape, window_length=4, num_dense_layers=1, activation='relu'):\n",
    "    \"\"\"\n",
    "    Construye un modelo de red neuronal profunda para Q-Learning.\n",
    "\n",
    "    Args:\n",
    "        nb_actions (int): El número de acciones de salida que el modelo debe predecir.\n",
    "        input_shape (tuple): La forma de una sola observación (ej. (84, 84)).\n",
    "        window_length (int): El número de observaciones apiladas que se usan como entrada.\n",
    "        num_dense_layers (int, opcional): El número de capas densas ocultas. Default a 1.\n",
    "        activation (str, opcional): La función de activación para las capas densas ocultas. Default a 'relu'.\n",
    "\n",
    "    Returns:\n",
    "        keras.Model: El modelo de Keras compilado.\n",
    "    \"\"\"\n",
    "    # La forma completa de la entrada al modelo (ej. (4, 84, 84))\n",
    "    full_input_shape = (window_length,) + input_shape\n",
    "\n",
    "    model = Sequential()\n",
    "\n",
    "    # La primera capa debe saber la forma de la entrada.\n",
    "    # Se permuta la entrada para que coincida con el formato de datos de imagen de Keras\n",
    "    # (channels_last vs channels_first). La longitud de la ventana (window_length) se trata\n",
    "    # como la dimensión de los canales.\n",
    "    if K.image_data_format() == 'channels_last':\n",
    "        # Formato de entrada: (window, rows, cols) -> Permuta a: (rows, cols, window)\n",
    "        model.add(Permute((2, 3, 1), input_shape=full_input_shape))\n",
    "    elif K.image_data_format() == 'channels_first':\n",
    "        # Formato de entrada: (window, rows, cols) -> Permuta a: (window, rows, cols) (identidad)\n",
    "        # La permutación es (1, 2, 3), que no cambia el orden pero define el input_shape.\n",
    "        model.add(Permute((1, 2, 3), input_shape=full_input_shape))\n",
    "    else:\n",
    "        raise RuntimeError('Unknown image_data_format.')\n",
    "\n",
    "    # Capas convolucionales (arquitectura similar a la de DeepMind)\n",
    "    model.add(Convolution2D(64, (4, 4), strides=(2, 2)))\n",
    "    model.add(Activation('relu'))\n",
    "    model.add(Convolution2D(64, (3, 3), strides=(1, 1)))\n",
    "    model.add(Activation('relu'))\n",
    "\n",
    "    # Aplanar las características para las capas densas\n",
    "    model.add(Flatten())\n",
    "\n",
    "    # Capas densas (fully-connected)\n",
    "    # Se añade el número de capas densas especificado por el usuario\n",
    "    for _ in range(num_dense_layers):\n",
    "        model.add(Dense(128, activation=activation))\n",
    "\n",
    "    # Capa de salida con una neurona por acción y activación lineal para los valores Q\n",
    "    model.add(Dense(nb_actions, activation='linear'))\n",
    "\n",
    "    return model\n",
    "\n",
    "\n",
    "model = build_dqn_model(nb_actions, INPUT_SHAPE)\n",
    "\n",
    "print(model.summary())"
   ]
  },
  {
   "cell_type": "markdown",
   "metadata": {
    "id": "OB9-_5HPGb2b"
   },
   "source": [
    "2. Implementación de la solución DQN"
   ]
  },
  {
   "cell_type": "code",
   "execution_count": 6,
   "metadata": {
    "id": "foSlxWH1Gb2b"
   },
   "outputs": [],
   "source": [
    "policy = LinearAnnealedPolicy(EpsGreedyQPolicy(), attr='eps', value_max=.99, value_min=.1, value_test=.1, nb_steps=40000)\n",
    "memory = SequentialMemory(limit=1000, window_length=WINDOW_LENGTH)\n",
    "processor = AtariProcessor()\n",
    "dqn = DQNAgent(model=model, nb_actions=nb_actions, policy=policy, memory=memory, processor=processor, nb_steps_warmup=500, gamma=.99, target_model_update=1000, enable_dueling_network=True)"
   ]
  },
  {
   "cell_type": "code",
   "execution_count": 7,
   "metadata": {},
   "outputs": [],
   "source": [
    "dqn.compile(Adam(learning_rate=1e-6), metrics=['mae'])"
   ]
  },
  {
   "cell_type": "code",
   "execution_count": 13,
   "metadata": {
    "scrolled": true
   },
   "outputs": [
    {
     "name": "stdout",
     "output_type": "stream",
     "text": [
      "Training for 50000 steps ...\n",
      "   519/50000: episode: 1, duration: 10.805s, episode steps: 519, steps per second:  48, episode reward:  7.000, mean reward:  0.013 [ 0.000,  1.000], mean action: 2.480 [0.000, 5.000],  loss: 0.006319, mae: 0.143939, mean_q: 0.193812, mean_eps: 0.978664\n",
      "  1083/50000: episode: 2, duration: 203.794s, episode steps: 564, steps per second:   3, episode reward:  5.000, mean reward:  0.009 [ 0.000,  1.000], mean action: 2.516 [0.000, 5.000],  loss: 0.005306, mae: 0.150218, mean_q: 0.202079, mean_eps: 0.972189\n",
      "  2150/50000: episode: 3, duration: 393.759s, episode steps: 1067, steps per second:   3, episode reward: 15.000, mean reward:  0.014 [ 0.000,  1.000], mean action: 2.440 [0.000, 5.000],  loss: 0.005751, mae: 0.193203, mean_q: 0.260038, mean_eps: 0.954044\n",
      "  3644/50000: episode: 4, duration: 541.643s, episode steps: 1494, steps per second:   3, episode reward: 23.000, mean reward:  0.015 [ 0.000,  1.000], mean action: 2.468 [0.000, 5.000],  loss: 0.005837, mae: 0.226775, mean_q: 0.305409, mean_eps: 0.925553\n",
      "  4302/50000: episode: 5, duration: 235.428s, episode steps: 658, steps per second:   3, episode reward:  6.000, mean reward:  0.009 [ 0.000,  1.000], mean action: 2.533 [0.000, 5.000],  loss: 0.006157, mae: 0.240003, mean_q: 0.314519, mean_eps: 0.901612\n",
      "  5070/50000: episode: 6, duration: 282.740s, episode steps: 768, steps per second:   3, episode reward: 10.000, mean reward:  0.013 [ 0.000,  1.000], mean action: 2.452 [0.000, 5.000],  loss: 0.005933, mae: 0.322428, mean_q: 0.415703, mean_eps: 0.885748\n",
      "  5764/50000: episode: 7, duration: 251.941s, episode steps: 694, steps per second:   3, episode reward:  9.000, mean reward:  0.013 [ 0.000,  1.000], mean action: 2.510 [0.000, 5.000],  loss: 0.005048, mae: 0.367164, mean_q: 0.467841, mean_eps: 0.869483\n",
      "  6373/50000: episode: 8, duration: 225.515s, episode steps: 609, steps per second:   3, episode reward: 10.000, mean reward:  0.016 [ 0.000,  1.000], mean action: 2.494 [0.000, 5.000],  loss: 0.005820, mae: 0.402369, mean_q: 0.510806, mean_eps: 0.854987\n",
      "  7055/50000: episode: 9, duration: 243.591s, episode steps: 682, steps per second:   3, episode reward: 20.000, mean reward:  0.029 [ 0.000,  1.000], mean action: 2.516 [0.000, 5.000],  loss: 0.008337, mae: 0.414231, mean_q: 0.534045, mean_eps: 0.840625\n",
      "  7726/50000: episode: 10, duration: 237.500s, episode steps: 671, steps per second:   3, episode reward: 10.000, mean reward:  0.015 [ 0.000,  1.000], mean action: 2.480 [0.000, 5.000],  loss: 0.011037, mae: 0.448620, mean_q: 0.581215, mean_eps: 0.825572\n",
      "  8545/50000: episode: 11, duration: 306.230s, episode steps: 819, steps per second:   3, episode reward: 18.000, mean reward:  0.022 [ 0.000,  1.000], mean action: 2.530 [0.000, 5.000],  loss: 0.008065, mae: 0.483144, mean_q: 0.618805, mean_eps: 0.808996\n",
      "  9069/50000: episode: 12, duration: 177.049s, episode steps: 524, steps per second:   3, episode reward:  6.000, mean reward:  0.011 [ 0.000,  1.000], mean action: 2.576 [0.000, 5.000],  loss: 0.009385, mae: 0.525053, mean_q: 0.671203, mean_eps: 0.794055\n",
      "  9663/50000: episode: 13, duration: 206.602s, episode steps: 594, steps per second:   3, episode reward:  9.000, mean reward:  0.015 [ 0.000,  1.000], mean action: 2.577 [0.000, 5.000],  loss: 0.007773, mae: 0.569789, mean_q: 0.715334, mean_eps: 0.781618\n",
      " 10349/50000: episode: 14, duration: 244.074s, episode steps: 686, steps per second:   3, episode reward:  9.000, mean reward:  0.013 [ 0.000,  1.000], mean action: 2.606 [0.000, 5.000],  loss: 0.006707, mae: 0.596008, mean_q: 0.745190, mean_eps: 0.767378\n",
      " 10945/50000: episode: 15, duration: 206.187s, episode steps: 596, steps per second:   3, episode reward:  2.000, mean reward:  0.003 [ 0.000,  1.000], mean action: 2.446 [0.000, 5.000],  loss: 0.005400, mae: 0.622597, mean_q: 0.780685, mean_eps: 0.753115\n",
      " 11559/50000: episode: 16, duration: 227.092s, episode steps: 614, steps per second:   3, episode reward:  4.000, mean reward:  0.007 [ 0.000,  1.000], mean action: 2.412 [0.000, 5.000],  loss: 0.004120, mae: 0.646873, mean_q: 0.803665, mean_eps: 0.739654\n",
      " 12208/50000: episode: 17, duration: 229.698s, episode steps: 649, steps per second:   3, episode reward:  9.000, mean reward:  0.014 [ 0.000,  1.000], mean action: 2.550 [0.000, 5.000],  loss: 0.004245, mae: 0.654875, mean_q: 0.809634, mean_eps: 0.725603\n",
      " 13568/50000: episode: 18, duration: 465.459s, episode steps: 1360, steps per second:   3, episode reward: 15.000, mean reward:  0.011 [ 0.000,  1.000], mean action: 2.693 [0.000, 5.000],  loss: 0.007037, mae: 0.638023, mean_q: 0.798916, mean_eps: 0.703253\n",
      " 14844/50000: episode: 19, duration: 466.777s, episode steps: 1276, steps per second:   3, episode reward: 21.000, mean reward:  0.016 [ 0.000,  1.000], mean action: 2.701 [0.000, 5.000],  loss: 0.006601, mae: 0.618272, mean_q: 0.774791, mean_eps: 0.673928\n",
      " 15899/50000: episode: 20, duration: 359.046s, episode steps: 1055, steps per second:   3, episode reward: 19.000, mean reward:  0.018 [ 0.000,  1.000], mean action: 2.487 [0.000, 5.000],  loss: 0.006322, mae: 0.707794, mean_q: 0.882302, mean_eps: 0.647995\n",
      " 16682/50000: episode: 21, duration: 262.954s, episode steps: 783, steps per second:   3, episode reward: 15.000, mean reward:  0.019 [ 0.000,  1.000], mean action: 2.432 [0.000, 5.000],  loss: 0.008322, mae: 0.759384, mean_q: 0.948935, mean_eps: 0.627548\n",
      " 17108/50000: episode: 22, duration: 143.600s, episode steps: 426, steps per second:   3, episode reward:  5.000, mean reward:  0.012 [ 0.000,  1.000], mean action: 2.192 [0.000, 5.000],  loss: 0.008594, mae: 0.856332, mean_q: 1.075919, mean_eps: 0.614097\n",
      " 17981/50000: episode: 23, duration: 293.441s, episode steps: 873, steps per second:   3, episode reward: 13.000, mean reward:  0.015 [ 0.000,  1.000], mean action: 2.482 [0.000, 5.000],  loss: 0.007546, mae: 0.925189, mean_q: 1.146982, mean_eps: 0.599646\n",
      " 18380/50000: episode: 24, duration: 134.194s, episode steps: 399, steps per second:   3, episode reward:  6.000, mean reward:  0.015 [ 0.000,  1.000], mean action: 2.734 [0.000, 5.000],  loss: 0.007932, mae: 1.026877, mean_q: 1.271003, mean_eps: 0.585495\n",
      " 18983/50000: episode: 25, duration: 202.470s, episode steps: 603, steps per second:   3, episode reward:  7.000, mean reward:  0.012 [ 0.000,  1.000], mean action: 2.224 [0.000, 5.000],  loss: 0.007605, mae: 1.048444, mean_q: 1.293115, mean_eps: 0.574348\n",
      " 19534/50000: episode: 26, duration: 185.245s, episode steps: 551, steps per second:   3, episode reward: 10.000, mean reward:  0.018 [ 0.000,  1.000], mean action: 2.857 [0.000, 5.000],  loss: 0.009148, mae: 1.008378, mean_q: 1.247523, mean_eps: 0.561509\n",
      " 20310/50000: episode: 27, duration: 261.992s, episode steps: 776, steps per second:   3, episode reward:  8.000, mean reward:  0.010 [ 0.000,  1.000], mean action: 2.577 [0.000, 5.000],  loss: 0.008252, mae: 0.935245, mean_q: 1.156964, mean_eps: 0.546747\n",
      " 21245/50000: episode: 28, duration: 314.300s, episode steps: 935, steps per second:   3, episode reward: 15.000, mean reward:  0.016 [ 0.000,  1.000], mean action: 2.604 [0.000, 5.000],  loss: 0.007439, mae: 1.041339, mean_q: 1.283750, mean_eps: 0.527712\n",
      " 21949/50000: episode: 29, duration: 236.456s, episode steps: 704, steps per second:   3, episode reward: 10.000, mean reward:  0.014 [ 0.000,  1.000], mean action: 2.314 [0.000, 5.000],  loss: 0.009351, mae: 1.100218, mean_q: 1.352641, mean_eps: 0.509478\n",
      " 23043/50000: episode: 30, duration: 366.896s, episode steps: 1094, steps per second:   3, episode reward: 16.000, mean reward:  0.015 [ 0.000,  1.000], mean action: 2.703 [0.000, 5.000],  loss: 0.008209, mae: 1.086363, mean_q: 1.333781, mean_eps: 0.489475\n",
      " 23840/50000: episode: 31, duration: 267.149s, episode steps: 797, steps per second:   3, episode reward: 15.000, mean reward:  0.019 [ 0.000,  1.000], mean action: 2.610 [0.000, 5.000],  loss: 0.007315, mae: 1.037551, mean_q: 1.278998, mean_eps: 0.468438\n",
      " 25028/50000: episode: 32, duration: 399.148s, episode steps: 1188, steps per second:   3, episode reward: 22.000, mean reward:  0.019 [ 0.000,  1.000], mean action: 2.715 [0.000, 5.000],  loss: 0.010112, mae: 1.078790, mean_q: 1.332794, mean_eps: 0.446355\n",
      " 26410/50000: episode: 33, duration: 517.491s, episode steps: 1382, steps per second:   3, episode reward: 34.000, mean reward:  0.025 [ 0.000,  1.000], mean action: 2.696 [0.000, 5.000],  loss: 0.010806, mae: 0.933361, mean_q: 1.161362, mean_eps: 0.417763\n",
      " 27323/50000: episode: 34, duration: 305.336s, episode steps: 913, steps per second:   3, episode reward: 16.000, mean reward:  0.018 [ 0.000,  1.000], mean action: 2.490 [0.000, 5.000],  loss: 0.007811, mae: 0.960463, mean_q: 1.189387, mean_eps: 0.392232\n",
      " 28377/50000: episode: 35, duration: 353.960s, episode steps: 1054, steps per second:   3, episode reward: 17.000, mean reward:  0.016 [ 0.000,  1.000], mean action: 2.309 [0.000, 5.000],  loss: 0.010054, mae: 1.326204, mean_q: 1.635431, mean_eps: 0.370349\n",
      " 28800/50000: episode: 36, duration: 141.899s, episode steps: 423, steps per second:   3, episode reward:  7.000, mean reward:  0.017 [ 0.000,  1.000], mean action: 2.804 [0.000, 5.000],  loss: 0.008077, mae: 1.277959, mean_q: 1.569583, mean_eps: 0.353917\n",
      " 29204/50000: episode: 37, duration: 135.883s, episode steps: 404, steps per second:   3, episode reward:  4.000, mean reward:  0.010 [ 0.000,  1.000], mean action: 2.646 [0.000, 5.000],  loss: 0.007839, mae: 1.347052, mean_q: 1.652550, mean_eps: 0.344717\n",
      " 29731/50000: episode: 38, duration: 177.201s, episode steps: 527, steps per second:   3, episode reward:  3.000, mean reward:  0.006 [ 0.000,  1.000], mean action: 2.865 [0.000, 5.000],  loss: 0.007365, mae: 1.497397, mean_q: 1.831784, mean_eps: 0.334359\n",
      " 31291/50000: episode: 39, duration: 532.884s, episode steps: 1560, steps per second:   3, episode reward: 26.000, mean reward:  0.017 [ 0.000,  1.000], mean action: 2.397 [0.000, 5.000],  loss: 0.007364, mae: 1.411947, mean_q: 1.730504, mean_eps: 0.311141\n",
      " 32113/50000: episode: 40, duration: 276.777s, episode steps: 822, steps per second:   3, episode reward:  9.000, mean reward:  0.011 [ 0.000,  1.000], mean action: 2.330 [0.000, 5.000],  loss: 0.007097, mae: 1.229953, mean_q: 1.515477, mean_eps: 0.284642\n",
      " 32811/50000: episode: 41, duration: 236.053s, episode steps: 698, steps per second:   3, episode reward: 11.000, mean reward:  0.016 [ 0.000,  1.000], mean action: 2.307 [0.000, 5.000],  loss: 0.006857, mae: 1.470771, mean_q: 1.807553, mean_eps: 0.267732\n",
      " 33646/50000: episode: 42, duration: 281.941s, episode steps: 835, steps per second:   3, episode reward: 14.000, mean reward:  0.017 [ 0.000,  1.000], mean action: 2.715 [0.000, 5.000],  loss: 0.008664, mae: 1.497377, mean_q: 1.841915, mean_eps: 0.250677\n",
      " 34848/50000: episode: 43, duration: 407.627s, episode steps: 1202, steps per second:   3, episode reward: 20.000, mean reward:  0.017 [ 0.000,  1.000], mean action: 1.958 [0.000, 5.000],  loss: 0.009642, mae: 1.464793, mean_q: 1.804883, mean_eps: 0.228015\n",
      " 35214/50000: episode: 44, duration: 123.442s, episode steps: 366, steps per second:   3, episode reward:  5.000, mean reward:  0.014 [ 0.000,  1.000], mean action: 3.388 [0.000, 5.000],  loss: 0.006710, mae: 1.325682, mean_q: 1.628362, mean_eps: 0.210571\n",
      " 35839/50000: episode: 45, duration: 210.230s, episode steps: 625, steps per second:   3, episode reward:  7.000, mean reward:  0.011 [ 0.000,  1.000], mean action: 2.245 [0.000, 5.000],  loss: 0.007713, mae: 1.402627, mean_q: 1.723879, mean_eps: 0.199547\n",
      " 36903/50000: episode: 46, duration: 357.446s, episode steps: 1064, steps per second:   3, episode reward: 24.000, mean reward:  0.023 [ 0.000,  1.000], mean action: 2.366 [0.000, 5.000],  loss: 0.011681, mae: 1.531486, mean_q: 1.887469, mean_eps: 0.180756\n",
      " 37642/50000: episode: 47, duration: 248.802s, episode steps: 739, steps per second:   3, episode reward: 15.000, mean reward:  0.020 [ 0.000,  1.000], mean action: 2.257 [0.000, 5.000],  loss: 0.011667, mae: 1.417599, mean_q: 1.753281, mean_eps: 0.160698\n",
      " 38306/50000: episode: 48, duration: 222.937s, episode steps: 664, steps per second:   3, episode reward: 12.000, mean reward:  0.018 [ 0.000,  1.000], mean action: 2.419 [0.000, 5.000],  loss: 0.010614, mae: 1.590272, mean_q: 1.961301, mean_eps: 0.145090\n",
      " 39181/50000: episode: 49, duration: 293.789s, episode steps: 875, steps per second:   3, episode reward: 18.000, mean reward:  0.021 [ 0.000,  1.000], mean action: 2.042 [0.000, 5.000],  loss: 0.011150, mae: 1.684968, mean_q: 2.068636, mean_eps: 0.127968\n",
      " 39570/50000: episode: 50, duration: 131.801s, episode steps: 389, steps per second:   3, episode reward:  3.000, mean reward:  0.008 [ 0.000,  1.000], mean action: 1.229 [0.000, 5.000],  loss: 0.012072, mae: 1.591134, mean_q: 1.962602, mean_eps: 0.113906\n",
      " 40278/50000: episode: 51, duration: 243.812s, episode steps: 708, steps per second:   3, episode reward:  9.000, mean reward:  0.013 [ 0.000,  1.000], mean action: 2.172 [0.000, 5.000],  loss: 0.010122, mae: 1.725707, mean_q: 2.124326, mean_eps: 0.102912\n",
      " 41102/50000: episode: 52, duration: 316.083s, episode steps: 824, steps per second:   3, episode reward: 17.000, mean reward:  0.021 [ 0.000,  1.000], mean action: 2.427 [0.000, 5.000],  loss: 0.008903, mae: 1.675549, mean_q: 2.058874, mean_eps: 0.100000\n",
      " 41796/50000: episode: 53, duration: 253.524s, episode steps: 694, steps per second:   3, episode reward: 14.000, mean reward:  0.020 [ 0.000,  1.000], mean action: 2.239 [0.000, 5.000],  loss: 0.011244, mae: 1.645004, mean_q: 2.030626, mean_eps: 0.100000\n",
      " 42322/50000: episode: 54, duration: 177.730s, episode steps: 526, steps per second:   3, episode reward:  6.000, mean reward:  0.011 [ 0.000,  1.000], mean action: 3.350 [0.000, 5.000],  loss: 0.010598, mae: 1.722646, mean_q: 2.120760, mean_eps: 0.100000\n",
      " 42977/50000: episode: 55, duration: 224.361s, episode steps: 655, steps per second:   3, episode reward: 10.000, mean reward:  0.015 [ 0.000,  1.000], mean action: 2.608 [0.000, 5.000],  loss: 0.009281, mae: 1.765823, mean_q: 2.173159, mean_eps: 0.100000\n",
      " 43586/50000: episode: 56, duration: 217.614s, episode steps: 609, steps per second:   3, episode reward:  4.000, mean reward:  0.007 [ 0.000,  1.000], mean action: 2.686 [0.000, 5.000],  loss: 0.009425, mae: 1.775963, mean_q: 2.185580, mean_eps: 0.100000\n",
      " 44484/50000: episode: 57, duration: 323.890s, episode steps: 898, steps per second:   3, episode reward: 17.000, mean reward:  0.019 [ 0.000,  1.000], mean action: 2.536 [0.000, 5.000],  loss: 0.011409, mae: 1.843395, mean_q: 2.267817, mean_eps: 0.100000\n",
      " 45265/50000: episode: 58, duration: 271.017s, episode steps: 781, steps per second:   3, episode reward: 11.000, mean reward:  0.014 [ 0.000,  1.000], mean action: 1.488 [0.000, 5.000],  loss: 0.010036, mae: 1.567792, mean_q: 1.935627, mean_eps: 0.100000\n",
      " 45951/50000: episode: 59, duration: 232.117s, episode steps: 686, steps per second:   3, episode reward:  5.000, mean reward:  0.007 [ 0.000,  1.000], mean action: 1.655 [0.000, 5.000],  loss: 0.007640, mae: 1.736416, mean_q: 2.153128, mean_eps: 0.100000\n",
      " 47033/50000: episode: 60, duration: 365.251s, episode steps: 1082, steps per second:   3, episode reward: 10.000, mean reward:  0.009 [ 0.000,  1.000], mean action: 2.004 [0.000, 5.000],  loss: 0.007616, mae: 1.899842, mean_q: 2.349193, mean_eps: 0.100000\n",
      " 48221/50000: episode: 61, duration: 401.300s, episode steps: 1188, steps per second:   3, episode reward: 19.000, mean reward:  0.016 [ 0.000,  1.000], mean action: 2.093 [0.000, 5.000],  loss: 0.006897, mae: 1.718080, mean_q: 2.119914, mean_eps: 0.100000\n",
      " 49486/50000: episode: 62, duration: 494.187s, episode steps: 1265, steps per second:   3, episode reward: 13.000, mean reward:  0.010 [ 0.000,  1.000], mean action: 2.345 [0.000, 5.000],  loss: 0.007811, mae: 1.638002, mean_q: 2.024306, mean_eps: 0.100000\n",
      "done, took 17247.561 seconds\n"
     ]
    },
    {
     "data": {
      "text/plain": [
       "<tensorflow.python.keras.callbacks.History at 0x21290376bb0>"
      ]
     },
     "execution_count": 13,
     "metadata": {},
     "output_type": "execute_result"
    }
   ],
   "source": [
    "checkpoint = ModelIntervalCheckpoint('dqn6_weights_{step}.h5f', interval=10000)\n",
    "logger = FileLogger('dqn6_log.json', interval=100)\n",
    "dqn.fit(env, nb_steps=50000, visualize=False, verbose=2, log_interval=5000, callbacks=[checkpoint, logger])"
   ]
  },
  {
   "cell_type": "code",
   "execution_count": 14,
   "metadata": {},
   "outputs": [
    {
     "name": "stdout",
     "output_type": "stream",
     "text": [
      "Testing for 10 episodes ...\n",
      "Episode 1: reward: 4.000, steps: 596\n",
      "Episode 2: reward: 4.000, steps: 665\n",
      "Episode 3: reward: 6.000, steps: 659\n",
      "Episode 4: reward: 3.000, steps: 510\n",
      "Episode 5: reward: 4.000, steps: 527\n",
      "Episode 6: reward: 8.000, steps: 850\n",
      "Episode 7: reward: 5.000, steps: 651\n",
      "Episode 8: reward: 5.000, steps: 646\n",
      "Episode 9: reward: 4.000, steps: 670\n",
      "Episode 10: reward: 4.000, steps: 523\n"
     ]
    },
    {
     "data": {
      "text/plain": [
       "<tensorflow.python.keras.callbacks.History at 0x21290370ca0>"
      ]
     },
     "execution_count": 14,
     "metadata": {},
     "output_type": "execute_result"
    }
   ],
   "source": [
    "dqn.save_weights('dqn6_{}_weights.h5f'.format(env_name), overwrite=True)\n",
    "dqn.test(env, nb_episodes=10, visualize=False)"
   ]
  },
  {
   "cell_type": "code",
   "execution_count": 15,
   "metadata": {},
   "outputs": [
    {
     "name": "stdout",
     "output_type": "stream",
     "text": [
      "Testing for 10 episodes ...\n",
      "Episode 1: reward: 5.000, steps: 682\n",
      "Episode 2: reward: 11.000, steps: 1191\n",
      "Episode 3: reward: 4.000, steps: 667\n",
      "Episode 4: reward: 6.000, steps: 677\n",
      "Episode 5: reward: 5.000, steps: 685\n",
      "Episode 6: reward: 6.000, steps: 668\n",
      "Episode 7: reward: 4.000, steps: 600\n",
      "Episode 8: reward: 3.000, steps: 501\n",
      "Episode 9: reward: 11.000, steps: 818\n",
      "Episode 10: reward: 6.000, steps: 657\n"
     ]
    },
    {
     "data": {
      "text/plain": [
       "<tensorflow.python.keras.callbacks.History at 0x212897bb6d0>"
      ]
     },
     "execution_count": 15,
     "metadata": {},
     "output_type": "execute_result"
    }
   ],
   "source": [
    "dqn.test(env, nb_episodes=10, visualize=False)"
   ]
  },
  {
   "cell_type": "markdown",
   "metadata": {
    "id": "-NAlu8b1Gb2b"
   },
   "source": [
    "3. Justificación de los parámetros seleccionados y de los resultados obtenidos"
   ]
  },
  {
   "cell_type": "markdown",
   "metadata": {
    "id": "ANFQiicXK3sO"
   },
   "source": [
    "---"
   ]
  }
 ],
 "metadata": {
  "colab": {
   "provenance": []
  },
  "kernelspec": {
   "display_name": "Python 3 (ipykernel)",
   "language": "python",
   "name": "python3"
  },
  "language_info": {
   "codemirror_mode": {
    "name": "ipython",
    "version": 3
   },
   "file_extension": ".py",
   "mimetype": "text/x-python",
   "name": "python",
   "nbconvert_exporter": "python",
   "pygments_lexer": "ipython3",
   "version": "3.8.20"
  }
 },
 "nbformat": 4,
 "nbformat_minor": 4
}

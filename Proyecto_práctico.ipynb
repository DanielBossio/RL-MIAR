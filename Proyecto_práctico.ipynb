{
 "cells": [
  {
   "cell_type": "markdown",
   "metadata": {
    "id": "jUehXgCyIRdq"
   },
   "source": [
    "# Actividad - Proyecto práctico\n",
    "\n",
    "\n",
    "> La actividad se desarrollará en grupos pre-definidos de 2-3 alumnos. Se debe indicar los nombres en orden alfabético (de apellidos). Recordad que esta actividad se corresponde con un 30% de la nota final de la asignatura. Se debe entregar entregar el trabajo en la presente notebook.\n",
    "*   Alumno 1:\n",
    "*   Alumno 2:\n",
    "*   Alumno 3:\n",
    "\n",
    "\n",
    "\n",
    "\n"
   ]
  },
  {
   "cell_type": "markdown",
   "metadata": {
    "id": "JwpYlnjWJhS9"
   },
   "source": [
    "---\n",
    "## **PARTE 1** - Instalación y requisitos previos\n",
    "\n",
    "> Las prácticas han sido preparadas para poder realizarse en el entorno de trabajo de Google Colab. Sin embargo, esta plataforma presenta ciertas incompatibilidades a la hora de visualizar la renderización en gym. Por ello, para obtener estas visualizaciones, se deberá trasladar el entorno de trabajo a local. Por ello, el presente dosier presenta instrucciones para poder trabajar en ambos entornos. Siga los siguientes pasos para un correcto funcionamiento:\n",
    "1.   **LOCAL:** Preparar el enviroment, siguiendo las intrucciones detalladas en la sección *1.1.Preparar enviroment*.\n",
    "2.  **AMBOS:** Modificar las variables \"mount\" y \"drive_mount\" a la carpeta de trabajo en drive en el caso de estar en Colab, y ejecturar la celda *1.2.Localizar entorno de trabajo*.\n",
    "3. **COLAB:** se deberá ejecutar las celdas correspondientes al montaje de la carpeta de trabajo en Drive. Esta corresponde a la sección *1.3.Montar carpeta de datos local*.\n",
    "4.  **AMBOS:** Instalar las librerías necesarias, siguiendo la sección *1.4.Instalar librerías necesarias*.\n"
   ]
  },
  {
   "cell_type": "markdown",
   "metadata": {
    "id": "RU2BPrK2JkP0"
   },
   "source": [
    "---\n",
    "### 1.1. Preparar enviroment (solo local)\n",
    "\n",
    "\n",
    "\n",
    "> Para preparar el entorno de trabajo en local, se han seguido los siguientes pasos:\n",
    "1. En Windows, puede ser necesario instalar las C++ Build Tools. Para ello, siga los siguientes pasos: https://towardsdatascience.com/how-to-install-openai-gym-in-a-windows-environment-338969e24d30.\n",
    "2. Instalar Anaconda\n",
    "3. Siguiendo el código que se presenta comentado en la próxima celda: Crear un enviroment, cambiar la ruta de trabajo, e instalar librerías básicas.\n",
    "\n",
    "\n",
    "```\n",
    "conda create --name miar_rl python=3.8\n",
    "conda activate miar_rl\n",
    "cd \"PATH_TO_FOLDER\"\n",
    "conda install git\n",
    "pip install jupyter\n",
    "```\n",
    "\n",
    "\n",
    "4. Abrir la notebook con *jupyter-notebook*.\n",
    "\n",
    "\n",
    "\n",
    "```\n",
    "jupyter-notebook\n",
    "```\n"
   ]
  },
  {
   "cell_type": "markdown",
   "metadata": {
    "id": "w-kixNPiJqTc"
   },
   "source": [
    "---\n",
    "### 1.2. Localizar entorno de trabajo: Google colab o local"
   ]
  },
  {
   "cell_type": "code",
   "execution_count": 1,
   "metadata": {
    "id": "S_YDFwZ-JscI"
   },
   "outputs": [],
   "source": [
    "# ATENCIÓN!! Modificar ruta relativa a la práctica si es distinta (drive_root)\n",
    "mount='/content/gdrive'\n",
    "drive_root = mount + \"/My Drive/\"\n",
    "\n",
    "try:\n",
    "  from google.colab import drive\n",
    "  IN_COLAB=True\n",
    "except:\n",
    "  IN_COLAB=False"
   ]
  },
  {
   "cell_type": "markdown",
   "metadata": {
    "id": "8Dp_a1iBJ0tf"
   },
   "source": [
    "---\n",
    "### 1.3. Montar carpeta de datos local (solo Colab)"
   ]
  },
  {
   "cell_type": "code",
   "execution_count": 2,
   "metadata": {
    "id": "I6n7MIefJ21i"
   },
   "outputs": [
    {
     "name": "stdout",
     "output_type": "stream",
     "text": [
      "Archivos en el directorio: \n",
      "['.ipynb_checkpoints', '08MIAR-RL.pdf', '08MIAR_sesion1.pdf', '08MIAR_sesion2.pdf', '08MIAR_sesion3.pdf', '08MIAR_sesion4.pdf', '08MIAR_sesion6.pdf', '08MIAR_sesion7.pdf', '1803.10122v4.pdf', '2006.16712v4.pdf', 'Algoritmos avanzados de RL.docx', 'Aprendizaje por refuerzo.docx', 'checkpoint', 'desktop.ini', 'dqn1_log.json', 'dqn2_log.json', 'dqn2_SpaceInvaders-v0_weights.h5f.data-00000-of-00001', 'dqn2_SpaceInvaders-v0_weights.h5f.index', 'dqn2_weights_10000.h5f.data-00000-of-00001', 'dqn2_weights_10000.h5f.index', 'dqn2_weights_20000.h5f.data-00000-of-00001', 'dqn2_weights_20000.h5f.index', 'dqn2_weights_30000.h5f.data-00000-of-00001', 'dqn2_weights_30000.h5f.index', 'dqn_weights_10000.h5f.data-00000-of-00001', 'dqn_weights_10000.h5f.index', 'dqn_weights_100000.h5f.data-00000-of-00001', 'dqn_weights_100000.h5f.index', 'dqn_weights_20000.h5f.data-00000-of-00001', 'dqn_weights_20000.h5f.index', 'dqn_weights_30000.h5f.data-00000-of-00001', 'dqn_weights_30000.h5f.index', 'dqn_weights_40000.h5f.data-00000-of-00001', 'dqn_weights_40000.h5f.index', 'dqn_weights_50000.h5f.data-00000-of-00001', 'dqn_weights_50000.h5f.index', 'dqn_weights_60000.h5f.data-00000-of-00001', 'dqn_weights_60000.h5f.index', 'dqn_weights_70000.h5f.data-00000-of-00001', 'dqn_weights_70000.h5f.index', 'dqn_weights_80000.h5f.data-00000-of-00001', 'dqn_weights_80000.h5f.index', 'dqn_weights_90000.h5f.data-00000-of-00001', 'dqn_weights_90000.h5f.index', 'ejemplos_preguntas(1)(1).pdf', 'Preguntas test.docx', 'Proyecto_práctico.ipynb', 'pseudocodigos.docx', 'World models.docx', '~$rld models.docx']\n"
     ]
    }
   ],
   "source": [
    "# Switch to the directory on the Google Drive that you want to use\n",
    "import os\n",
    "if IN_COLAB:\n",
    "  print(\"We're running Colab\")\n",
    "\n",
    "  if IN_COLAB:\n",
    "    # Mount the Google Drive at mount\n",
    "    print(\"Colab: mounting Google drive on \", mount)\n",
    "\n",
    "    drive.mount(mount)\n",
    "\n",
    "    # Create drive_root if it doesn't exist\n",
    "    create_drive_root = True\n",
    "    if create_drive_root:\n",
    "      print(\"\\nColab: making sure \", drive_root, \" exists.\")\n",
    "      os.makedirs(drive_root, exist_ok=True)\n",
    "\n",
    "    # Change to the directory\n",
    "    print(\"\\nColab: Changing directory to \", drive_root)\n",
    "    %cd $drive_root\n",
    "# Verify we're in the correct working directory\n",
    "%pwd\n",
    "print(\"Archivos en el directorio: \")\n",
    "print(os.listdir())"
   ]
  },
  {
   "cell_type": "markdown",
   "metadata": {
    "id": "i1ZSL5bpJ560"
   },
   "source": [
    "---\n",
    "### 1.4. Instalar librerías necesarias"
   ]
  },
  {
   "cell_type": "code",
   "execution_count": 2,
   "metadata": {
    "id": "UbVRjvHCJ8UF",
    "scrolled": true
   },
   "outputs": [
    {
     "name": "stdout",
     "output_type": "stream",
     "text": [
      "Requirement already satisfied: gym==0.17.3 in c:\\users\\bossi\\anaconda3\\envs\\miar_rl\\lib\\site-packages (0.17.3)\n",
      "Requirement already satisfied: scipy in c:\\users\\bossi\\anaconda3\\envs\\miar_rl\\lib\\site-packages (from gym==0.17.3) (1.10.1)\n",
      "Requirement already satisfied: numpy>=1.10.4 in c:\\users\\bossi\\anaconda3\\envs\\miar_rl\\lib\\site-packages (from gym==0.17.3) (1.19.5)\n",
      "Requirement already satisfied: pyglet<=1.5.0,>=1.4.0 in c:\\users\\bossi\\anaconda3\\envs\\miar_rl\\lib\\site-packages (from gym==0.17.3) (1.5.0)\n",
      "Requirement already satisfied: cloudpickle<1.7.0,>=1.2.0 in c:\\users\\bossi\\anaconda3\\envs\\miar_rl\\lib\\site-packages (from gym==0.17.3) (1.6.0)\n",
      "Requirement already satisfied: future in c:\\users\\bossi\\anaconda3\\envs\\miar_rl\\lib\\site-packages (from pyglet<=1.5.0,>=1.4.0->gym==0.17.3) (1.0.0)\n",
      "Note: you may need to restart the kernel to use updated packages.\n",
      "Collecting git+https://github.com/Kojoley/atari-py.git\n",
      "  Cloning https://github.com/Kojoley/atari-py.git to c:\\users\\bossi\\appdata\\local\\temp\\pip-req-build-c2rsr2we\n",
      "  Resolved https://github.com/Kojoley/atari-py.git to commit 86a1e05c0a95e9e6233c3a413521fdb34ca8a089\n",
      "  Preparing metadata (setup.py): started\n",
      "  Preparing metadata (setup.py): finished with status 'done'\n",
      "Requirement already satisfied: numpy in c:\\users\\bossi\\anaconda3\\envs\\miar_rl\\lib\\site-packages (from atari-py==1.2.2) (1.19.5)\n",
      "Note: you may need to restart the kernel to use updated packages.\n"
     ]
    },
    {
     "name": "stderr",
     "output_type": "stream",
     "text": [
      "  Running command git clone --filter=blob:none --quiet https://github.com/Kojoley/atari-py.git 'C:\\Users\\bossi\\AppData\\Local\\Temp\\pip-req-build-c2rsr2we'\n"
     ]
    },
    {
     "name": "stdout",
     "output_type": "stream",
     "text": [
      "Requirement already satisfied: pyglet==1.5.0 in c:\\users\\bossi\\anaconda3\\envs\\miar_rl\\lib\\site-packages (1.5.0)\n",
      "Requirement already satisfied: future in c:\\users\\bossi\\anaconda3\\envs\\miar_rl\\lib\\site-packages (from pyglet==1.5.0) (1.0.0)\n",
      "Note: you may need to restart the kernel to use updated packages.\n",
      "Requirement already satisfied: h5py==3.1.0 in c:\\users\\bossi\\anaconda3\\envs\\miar_rl\\lib\\site-packages (3.1.0)\n",
      "Requirement already satisfied: numpy>=1.17.5 in c:\\users\\bossi\\anaconda3\\envs\\miar_rl\\lib\\site-packages (from h5py==3.1.0) (1.19.5)\n",
      "Note: you may need to restart the kernel to use updated packages.\n",
      "Requirement already satisfied: Pillow==9.5.0 in c:\\users\\bossi\\anaconda3\\envs\\miar_rl\\lib\\site-packages (9.5.0)\n",
      "Note: you may need to restart the kernel to use updated packages.\n",
      "Note: you may need to restart the kernel to use updated packages.Requirement already satisfied: keras-rl2==1.0.5 in c:\\users\\bossi\\anaconda3\\envs\\miar_rl\\lib\\site-packages (1.0.5)\n",
      "Requirement already satisfied: tensorflow in c:\\users\\bossi\\anaconda3\\envs\\miar_rl\\lib\\site-packages (from keras-rl2==1.0.5) (2.5.3)\n",
      "Requirement already satisfied: numpy~=1.19.2 in c:\\users\\bossi\\anaconda3\\envs\\miar_rl\\lib\\site-packages (from tensorflow->keras-rl2==1.0.5) (1.19.5)\n",
      "Requirement already satisfied: absl-py~=0.10 in c:\\users\\bossi\\anaconda3\\envs\\miar_rl\\lib\\site-packages (from tensorflow->keras-rl2==1.0.5) (0.15.0)\n",
      "Requirement already satisfied: astunparse~=1.6.3 in c:\\users\\bossi\\anaconda3\\envs\\miar_rl\\lib\\site-packages (from tensorflow->keras-rl2==1.0.5) (1.6.3)\n",
      "Requirement already satisfied: flatbuffers~=1.12.0 in c:\\users\\bossi\\anaconda3\\envs\\miar_rl\\lib\\site-packages (from tensorflow->keras-rl2==1.0.5) (1.12)\n",
      "Requirement already satisfied: google-pasta~=0.2 in c:\\users\\bossi\\anaconda3\\envs\\miar_rl\\lib\\site-packages (from tensorflow->keras-rl2==1.0.5) (0.2.0)\n",
      "Requirement already satisfied: h5py~=3.1.0 in c:\\users\\bossi\\anaconda3\\envs\\miar_rl\\lib\\site-packages (from tensorflow->keras-rl2==1.0.5) (3.1.0)\n",
      "Requirement already satisfied: keras-preprocessing~=1.1.2 in c:\\users\\bossi\\anaconda3\\envs\\miar_rl\\lib\\site-packages (from tensorflow->keras-rl2==1.0.5) (1.1.2)\n",
      "Requirement already satisfied: opt-einsum~=3.3.0 in c:\\users\\bossi\\anaconda3\\envs\\miar_rl\\lib\\site-packages (from tensorflow->keras-rl2==1.0.5) (3.3.0)\n",
      "Requirement already satisfied: protobuf>=3.9.2 in c:\\users\\bossi\\anaconda3\\envs\\miar_rl\\lib\\site-packages (from tensorflow->keras-rl2==1.0.5) (3.20.3)\n",
      "Requirement already satisfied: six~=1.15.0 in c:\\users\\bossi\\anaconda3\\envs\\miar_rl\\lib\\site-packages (from tensorflow->keras-rl2==1.0.5) (1.15.0)\n",
      "Requirement already satisfied: termcolor~=1.1.0 in c:\\users\\bossi\\anaconda3\\envs\\miar_rl\\lib\\site-packages (from tensorflow->keras-rl2==1.0.5) (1.1.0)\n",
      "Collecting typing-extensions~=3.7.4 (from tensorflow->keras-rl2==1.0.5)\n",
      "  Using cached typing_extensions-3.7.4.3-py3-none-any.whl.metadata (2.0 kB)\n",
      "Requirement already satisfied: wheel~=0.35 in c:\\users\\bossi\\anaconda3\\envs\\miar_rl\\lib\\site-packages (from tensorflow->keras-rl2==1.0.5) (0.44.0)\n",
      "Requirement already satisfied: wrapt~=1.12.1 in c:\\users\\bossi\\anaconda3\\envs\\miar_rl\\lib\\site-packages (from tensorflow->keras-rl2==1.0.5) (1.12.1)\n",
      "Requirement already satisfied: gast==0.4.0 in c:\\users\\bossi\\anaconda3\\envs\\miar_rl\\lib\\site-packages (from tensorflow->keras-rl2==1.0.5) (0.4.0)\n",
      "Requirement already satisfied: tensorboard~=2.5 in c:\\users\\bossi\\anaconda3\\envs\\miar_rl\\lib\\site-packages (from tensorflow->keras-rl2==1.0.5) (2.11.2)\n",
      "Requirement already satisfied: tensorflow-estimator<2.6.0,>=2.5.0 in c:\\users\\bossi\\anaconda3\\envs\\miar_rl\\lib\\site-packages (from tensorflow->keras-rl2==1.0.5) (2.5.0)\n",
      "Requirement already satisfied: keras-nightly~=2.5.0.dev in c:\\users\\bossi\\anaconda3\\envs\\miar_rl\\lib\\site-packages (from tensorflow->keras-rl2==1.0.5) (2.5.0.dev2021032900)\n",
      "Requirement already satisfied: grpcio~=1.34.0 in c:\\users\\bossi\\anaconda3\\envs\\miar_rl\\lib\\site-packages (from tensorflow->keras-rl2==1.0.5) (1.34.1)\n",
      "Requirement already satisfied: google-auth<3,>=1.6.3 in c:\\users\\bossi\\anaconda3\\envs\\miar_rl\\lib\\site-packages (from tensorboard~=2.5->tensorflow->keras-rl2==1.0.5) (2.40.3)\n",
      "Requirement already satisfied: google-auth-oauthlib<0.5,>=0.4.1 in c:\\users\\bossi\\anaconda3\\envs\\miar_rl\\lib\\site-packages (from tensorboard~=2.5->tensorflow->keras-rl2==1.0.5) (0.4.6)\n",
      "Requirement already satisfied: markdown>=2.6.8 in c:\\users\\bossi\\anaconda3\\envs\\miar_rl\\lib\\site-packages (from tensorboard~=2.5->tensorflow->keras-rl2==1.0.5) (3.7)\n",
      "Requirement already satisfied: requests<3,>=2.21.0 in c:\\users\\bossi\\anaconda3\\envs\\miar_rl\\lib\\site-packages (from tensorboard~=2.5->tensorflow->keras-rl2==1.0.5) (2.32.3)\n",
      "Requirement already satisfied: setuptools>=41.0.0 in c:\\users\\bossi\\anaconda3\\envs\\miar_rl\\lib\\site-packages (from tensorboard~=2.5->tensorflow->keras-rl2==1.0.5) (75.1.0)\n",
      "Requirement already satisfied: tensorboard-data-server<0.7.0,>=0.6.0 in c:\\users\\bossi\\anaconda3\\envs\\miar_rl\\lib\\site-packages (from tensorboard~=2.5->tensorflow->keras-rl2==1.0.5) (0.6.1)\n",
      "Requirement already satisfied: tensorboard-plugin-wit>=1.6.0 in c:\\users\\bossi\\anaconda3\\envs\\miar_rl\\lib\\site-packages (from tensorboard~=2.5->tensorflow->keras-rl2==1.0.5) (1.8.1)\n",
      "Requirement already satisfied: werkzeug>=1.0.1 in c:\\users\\bossi\\anaconda3\\envs\\miar_rl\\lib\\site-packages (from tensorboard~=2.5->tensorflow->keras-rl2==1.0.5) (3.0.6)\n",
      "Requirement already satisfied: cachetools<6.0,>=2.0.0 in c:\\users\\bossi\\anaconda3\\envs\\miar_rl\\lib\\site-packages (from google-auth<3,>=1.6.3->tensorboard~=2.5->tensorflow->keras-rl2==1.0.5) (5.5.2)\n",
      "Requirement already satisfied: pyasn1-modules>=0.2.1 in c:\\users\\bossi\\anaconda3\\envs\\miar_rl\\lib\\site-packages (from google-auth<3,>=1.6.3->tensorboard~=2.5->tensorflow->keras-rl2==1.0.5) (0.4.2)\n",
      "Requirement already satisfied: rsa<5,>=3.1.4 in c:\\users\\bossi\\anaconda3\\envs\\miar_rl\\lib\\site-packages (from google-auth<3,>=1.6.3->tensorboard~=2.5->tensorflow->keras-rl2==1.0.5) (4.9.1)\n",
      "Requirement already satisfied: requests-oauthlib>=0.7.0 in c:\\users\\bossi\\anaconda3\\envs\\miar_rl\\lib\\site-packages (from google-auth-oauthlib<0.5,>=0.4.1->tensorboard~=2.5->tensorflow->keras-rl2==1.0.5) (2.0.0)\n",
      "Requirement already satisfied: importlib-metadata>=4.4 in c:\\users\\bossi\\anaconda3\\envs\\miar_rl\\lib\\site-packages (from markdown>=2.6.8->tensorboard~=2.5->tensorflow->keras-rl2==1.0.5) (7.0.1)\n",
      "Requirement already satisfied: charset-normalizer<4,>=2 in c:\\users\\bossi\\anaconda3\\envs\\miar_rl\\lib\\site-packages (from requests<3,>=2.21.0->tensorboard~=2.5->tensorflow->keras-rl2==1.0.5) (3.3.2)\n",
      "Requirement already satisfied: idna<4,>=2.5 in c:\\users\\bossi\\anaconda3\\envs\\miar_rl\\lib\\site-packages (from requests<3,>=2.21.0->tensorboard~=2.5->tensorflow->keras-rl2==1.0.5) (3.7)\n",
      "Requirement already satisfied: urllib3<3,>=1.21.1 in c:\\users\\bossi\\anaconda3\\envs\\miar_rl\\lib\\site-packages (from requests<3,>=2.21.0->tensorboard~=2.5->tensorflow->keras-rl2==1.0.5) (2.2.3)\n",
      "Requirement already satisfied: certifi>=2017.4.17 in c:\\users\\bossi\\anaconda3\\envs\\miar_rl\\lib\\site-packages (from requests<3,>=2.21.0->tensorboard~=2.5->tensorflow->keras-rl2==1.0.5) (2024.8.30)\n",
      "Requirement already satisfied: MarkupSafe>=2.1.1 in c:\\users\\bossi\\anaconda3\\envs\\miar_rl\\lib\\site-packages (from werkzeug>=1.0.1->tensorboard~=2.5->tensorflow->keras-rl2==1.0.5) (2.1.3)\n",
      "Requirement already satisfied: zipp>=0.5 in c:\\users\\bossi\\anaconda3\\envs\\miar_rl\\lib\\site-packages (from importlib-metadata>=4.4->markdown>=2.6.8->tensorboard~=2.5->tensorflow->keras-rl2==1.0.5) (3.20.2)\n",
      "Requirement already satisfied: pyasn1<0.7.0,>=0.6.1 in c:\\users\\bossi\\anaconda3\\envs\\miar_rl\\lib\\site-packages (from pyasn1-modules>=0.2.1->google-auth<3,>=1.6.3->tensorboard~=2.5->tensorflow->keras-rl2==1.0.5) (0.6.1)\n",
      "Requirement already satisfied: oauthlib>=3.0.0 in c:\\users\\bossi\\anaconda3\\envs\\miar_rl\\lib\\site-packages (from requests-oauthlib>=0.7.0->google-auth-oauthlib<0.5,>=0.4.1->tensorboard~=2.5->tensorflow->keras-rl2==1.0.5) (3.3.1)\n",
      "Using cached typing_extensions-3.7.4.3-py3-none-any.whl (22 kB)\n",
      "Installing collected packages: typing-extensions\n",
      "  Attempting uninstall: typing-extensions\n",
      "    Found existing installation: typing_extensions 4.13.2\n",
      "    Uninstalling typing_extensions-4.13.2:\n",
      "      Successfully uninstalled typing_extensions-4.13.2\n",
      "Successfully installed typing-extensions-3.7.4.3\n",
      "\n"
     ]
    },
    {
     "name": "stderr",
     "output_type": "stream",
     "text": [
      "ERROR: pip's dependency resolver does not currently take into account all the packages that are installed. This behaviour is the source of the following dependency conflicts.\n",
      "anyio 4.2.0 requires typing-extensions>=4.1; python_version < \"3.11\", but you have typing-extensions 3.7.4.3 which is incompatible.\n",
      "async-lru 2.0.4 requires typing-extensions>=4.0.0; python_version < \"3.11\", but you have typing-extensions 3.7.4.3 which is incompatible.\n",
      "jupyter-server 2.14.1 requires pywinpty>=2.0.1; os_name == \"nt\", but you have pywinpty 1.1.6 which is incompatible.\n",
      "tensorflow-intel 2.13.0 requires absl-py>=1.0.0, but you have absl-py 0.15.0 which is incompatible.\n",
      "tensorflow-intel 2.13.0 requires flatbuffers>=23.1.21, but you have flatbuffers 1.12 which is incompatible.\n",
      "tensorflow-intel 2.13.0 requires keras<2.14,>=2.13.1, but you have keras 2.2.4 which is incompatible.\n",
      "tensorflow-intel 2.13.0 requires numpy<=1.24.3,>=1.22, but you have numpy 1.19.5 which is incompatible.\n",
      "tensorflow-intel 2.13.0 requires tensorboard<2.14,>=2.13, but you have tensorboard 2.11.2 which is incompatible.\n",
      "tensorflow-intel 2.13.0 requires tensorflow-estimator<2.14,>=2.13.0, but you have tensorflow-estimator 2.5.0 which is incompatible.\n"
     ]
    },
    {
     "name": "stdout",
     "output_type": "stream",
     "text": [
      "Requirement already satisfied: Keras==2.2.4 in c:\\users\\bossi\\anaconda3\\envs\\miar_rl\\lib\\site-packages (2.2.4)Note: you may need to restart the kernel to use updated packages.\n",
      "\n",
      "Requirement already satisfied: numpy>=1.9.1 in c:\\users\\bossi\\anaconda3\\envs\\miar_rl\\lib\\site-packages (from Keras==2.2.4) (1.19.5)\n",
      "Requirement already satisfied: scipy>=0.14 in c:\\users\\bossi\\anaconda3\\envs\\miar_rl\\lib\\site-packages (from Keras==2.2.4) (1.10.1)\n",
      "Requirement already satisfied: six>=1.9.0 in c:\\users\\bossi\\anaconda3\\envs\\miar_rl\\lib\\site-packages (from Keras==2.2.4) (1.15.0)\n",
      "Requirement already satisfied: pyyaml in c:\\users\\bossi\\anaconda3\\envs\\miar_rl\\lib\\site-packages (from Keras==2.2.4) (6.0.2)\n",
      "Requirement already satisfied: h5py in c:\\users\\bossi\\anaconda3\\envs\\miar_rl\\lib\\site-packages (from Keras==2.2.4) (3.1.0)\n",
      "Requirement already satisfied: keras-applications>=1.0.6 in c:\\users\\bossi\\anaconda3\\envs\\miar_rl\\lib\\site-packages (from Keras==2.2.4) (1.0.8)\n",
      "Requirement already satisfied: keras-preprocessing>=1.0.5 in c:\\users\\bossi\\anaconda3\\envs\\miar_rl\\lib\\site-packages (from Keras==2.2.4) (1.1.2)\n",
      "Requirement already satisfied: tensorflow==2.5.3 in c:\\users\\bossi\\anaconda3\\envs\\miar_rl\\lib\\site-packages (2.5.3)\n",
      "Requirement already satisfied: numpy~=1.19.2 in c:\\users\\bossi\\anaconda3\\envs\\miar_rl\\lib\\site-packages (from tensorflow==2.5.3) (1.19.5)\n",
      "Requirement already satisfied: absl-py~=0.10 in c:\\users\\bossi\\anaconda3\\envs\\miar_rl\\lib\\site-packages (from tensorflow==2.5.3) (0.15.0)\n",
      "Requirement already satisfied: astunparse~=1.6.3 in c:\\users\\bossi\\anaconda3\\envs\\miar_rl\\lib\\site-packages (from tensorflow==2.5.3) (1.6.3)\n",
      "Requirement already satisfied: flatbuffers~=1.12.0 in c:\\users\\bossi\\anaconda3\\envs\\miar_rl\\lib\\site-packages (from tensorflow==2.5.3) (1.12)\n",
      "Requirement already satisfied: google-pasta~=0.2 in c:\\users\\bossi\\anaconda3\\envs\\miar_rl\\lib\\site-packages (from tensorflow==2.5.3) (0.2.0)\n",
      "Requirement already satisfied: h5py~=3.1.0 in c:\\users\\bossi\\anaconda3\\envs\\miar_rl\\lib\\site-packages (from tensorflow==2.5.3) (3.1.0)\n",
      "Requirement already satisfied: keras-preprocessing~=1.1.2 in c:\\users\\bossi\\anaconda3\\envs\\miar_rl\\lib\\site-packages (from tensorflow==2.5.3) (1.1.2)\n",
      "Requirement already satisfied: opt-einsum~=3.3.0 in c:\\users\\bossi\\anaconda3\\envs\\miar_rl\\lib\\site-packages (from tensorflow==2.5.3) (3.3.0)\n",
      "Requirement already satisfied: protobuf>=3.9.2 in c:\\users\\bossi\\anaconda3\\envs\\miar_rl\\lib\\site-packages (from tensorflow==2.5.3) (3.20.3)\n",
      "Requirement already satisfied: six~=1.15.0 in c:\\users\\bossi\\anaconda3\\envs\\miar_rl\\lib\\site-packages (from tensorflow==2.5.3) (1.15.0)\n",
      "Requirement already satisfied: termcolor~=1.1.0 in c:\\users\\bossi\\anaconda3\\envs\\miar_rl\\lib\\site-packages (from tensorflow==2.5.3) (1.1.0)\n",
      "Requirement already satisfied: typing-extensions~=3.7.4 in c:\\users\\bossi\\anaconda3\\envs\\miar_rl\\lib\\site-packages (from tensorflow==2.5.3) (3.7.4.3)\n",
      "Requirement already satisfied: wheel~=0.35 in c:\\users\\bossi\\anaconda3\\envs\\miar_rl\\lib\\site-packages (from tensorflow==2.5.3) (0.44.0)\n",
      "Requirement already satisfied: wrapt~=1.12.1 in c:\\users\\bossi\\anaconda3\\envs\\miar_rl\\lib\\site-packages (from tensorflow==2.5.3) (1.12.1)\n",
      "Requirement already satisfied: gast==0.4.0 in c:\\users\\bossi\\anaconda3\\envs\\miar_rl\\lib\\site-packages (from tensorflow==2.5.3) (0.4.0)\n",
      "Requirement already satisfied: tensorboard~=2.5 in c:\\users\\bossi\\anaconda3\\envs\\miar_rl\\lib\\site-packages (from tensorflow==2.5.3) (2.11.2)\n",
      "Requirement already satisfied: tensorflow-estimator<2.6.0,>=2.5.0 in c:\\users\\bossi\\anaconda3\\envs\\miar_rl\\lib\\site-packages (from tensorflow==2.5.3) (2.5.0)\n",
      "Requirement already satisfied: keras-nightly~=2.5.0.dev in c:\\users\\bossi\\anaconda3\\envs\\miar_rl\\lib\\site-packages (from tensorflow==2.5.3) (2.5.0.dev2021032900)\n",
      "Requirement already satisfied: grpcio~=1.34.0 in c:\\users\\bossi\\anaconda3\\envs\\miar_rl\\lib\\site-packages (from tensorflow==2.5.3) (1.34.1)\n",
      "Requirement already satisfied: google-auth<3,>=1.6.3 in c:\\users\\bossi\\anaconda3\\envs\\miar_rl\\lib\\site-packages (from tensorboard~=2.5->tensorflow==2.5.3) (2.40.3)\n",
      "Requirement already satisfied: google-auth-oauthlib<0.5,>=0.4.1 in c:\\users\\bossi\\anaconda3\\envs\\miar_rl\\lib\\site-packages (from tensorboard~=2.5->tensorflow==2.5.3) (0.4.6)\n",
      "Requirement already satisfied: markdown>=2.6.8 in c:\\users\\bossi\\anaconda3\\envs\\miar_rl\\lib\\site-packages (from tensorboard~=2.5->tensorflow==2.5.3) (3.7)\n",
      "Requirement already satisfied: requests<3,>=2.21.0 in c:\\users\\bossi\\anaconda3\\envs\\miar_rl\\lib\\site-packages (from tensorboard~=2.5->tensorflow==2.5.3) (2.32.3)\n",
      "Requirement already satisfied: setuptools>=41.0.0 in c:\\users\\bossi\\anaconda3\\envs\\miar_rl\\lib\\site-packages (from tensorboard~=2.5->tensorflow==2.5.3) (75.1.0)\n",
      "Requirement already satisfied: tensorboard-data-server<0.7.0,>=0.6.0 in c:\\users\\bossi\\anaconda3\\envs\\miar_rl\\lib\\site-packages (from tensorboard~=2.5->tensorflow==2.5.3) (0.6.1)\n",
      "Requirement already satisfied: tensorboard-plugin-wit>=1.6.0 in c:\\users\\bossi\\anaconda3\\envs\\miar_rl\\lib\\site-packages (from tensorboard~=2.5->tensorflow==2.5.3) (1.8.1)\n",
      "Requirement already satisfied: werkzeug>=1.0.1 in c:\\users\\bossi\\anaconda3\\envs\\miar_rl\\lib\\site-packages (from tensorboard~=2.5->tensorflow==2.5.3) (3.0.6)\n",
      "Requirement already satisfied: cachetools<6.0,>=2.0.0 in c:\\users\\bossi\\anaconda3\\envs\\miar_rl\\lib\\site-packages (from google-auth<3,>=1.6.3->tensorboard~=2.5->tensorflow==2.5.3) (5.5.2)\n",
      "Requirement already satisfied: pyasn1-modules>=0.2.1 in c:\\users\\bossi\\anaconda3\\envs\\miar_rl\\lib\\site-packages (from google-auth<3,>=1.6.3->tensorboard~=2.5->tensorflow==2.5.3) (0.4.2)\n",
      "Requirement already satisfied: rsa<5,>=3.1.4 in c:\\users\\bossi\\anaconda3\\envs\\miar_rl\\lib\\site-packages (from google-auth<3,>=1.6.3->tensorboard~=2.5->tensorflow==2.5.3) (4.9.1)\n",
      "Requirement already satisfied: requests-oauthlib>=0.7.0 in c:\\users\\bossi\\anaconda3\\envs\\miar_rl\\lib\\site-packages (from google-auth-oauthlib<0.5,>=0.4.1->tensorboard~=2.5->tensorflow==2.5.3) (2.0.0)\n",
      "Requirement already satisfied: importlib-metadata>=4.4 in c:\\users\\bossi\\anaconda3\\envs\\miar_rl\\lib\\site-packages (from markdown>=2.6.8->tensorboard~=2.5->tensorflow==2.5.3) (7.0.1)\n",
      "Requirement already satisfied: charset-normalizer<4,>=2 in c:\\users\\bossi\\anaconda3\\envs\\miar_rl\\lib\\site-packages (from requests<3,>=2.21.0->tensorboard~=2.5->tensorflow==2.5.3) (3.3.2)\n",
      "Requirement already satisfied: idna<4,>=2.5 in c:\\users\\bossi\\anaconda3\\envs\\miar_rl\\lib\\site-packages (from requests<3,>=2.21.0->tensorboard~=2.5->tensorflow==2.5.3) (3.7)\n",
      "Requirement already satisfied: urllib3<3,>=1.21.1 in c:\\users\\bossi\\anaconda3\\envs\\miar_rl\\lib\\site-packages (from requests<3,>=2.21.0->tensorboard~=2.5->tensorflow==2.5.3) (2.2.3)\n",
      "Requirement already satisfied: certifi>=2017.4.17 in c:\\users\\bossi\\anaconda3\\envs\\miar_rl\\lib\\site-packages (from requests<3,>=2.21.0->tensorboard~=2.5->tensorflow==2.5.3) (2024.8.30)\n",
      "Requirement already satisfied: MarkupSafe>=2.1.1 in c:\\users\\bossi\\anaconda3\\envs\\miar_rl\\lib\\site-packages (from werkzeug>=1.0.1->tensorboard~=2.5->tensorflow==2.5.3) (2.1.3)\n",
      "Requirement already satisfied: zipp>=0.5 in c:\\users\\bossi\\anaconda3\\envs\\miar_rl\\lib\\site-packages (from importlib-metadata>=4.4->markdown>=2.6.8->tensorboard~=2.5->tensorflow==2.5.3) (3.20.2)\n",
      "Requirement already satisfied: pyasn1<0.7.0,>=0.6.1 in c:\\users\\bossi\\anaconda3\\envs\\miar_rl\\lib\\site-packages (from pyasn1-modules>=0.2.1->google-auth<3,>=1.6.3->tensorboard~=2.5->tensorflow==2.5.3) (0.6.1)\n",
      "Requirement already satisfied: oauthlib>=3.0.0 in c:\\users\\bossi\\anaconda3\\envs\\miar_rl\\lib\\site-packages (from requests-oauthlib>=0.7.0->google-auth-oauthlib<0.5,>=0.4.1->tensorboard~=2.5->tensorflow==2.5.3) (3.3.1)\n",
      "Note: you may need to restart the kernel to use updated packages.\n",
      "Requirement already satisfied: torch==2.0.1 in c:\\users\\bossi\\anaconda3\\envs\\miar_rl\\lib\\site-packages (2.0.1)Note: you may need to restart the kernel to use updated packages.\n",
      "\n",
      "Requirement already satisfied: filelock in c:\\users\\bossi\\anaconda3\\envs\\miar_rl\\lib\\site-packages (from torch==2.0.1) (3.16.1)\n",
      "Requirement already satisfied: typing-extensions in c:\\users\\bossi\\anaconda3\\envs\\miar_rl\\lib\\site-packages (from torch==2.0.1) (3.7.4.3)\n",
      "Requirement already satisfied: sympy in c:\\users\\bossi\\anaconda3\\envs\\miar_rl\\lib\\site-packages (from torch==2.0.1) (1.13.3)\n",
      "Requirement already satisfied: networkx in c:\\users\\bossi\\anaconda3\\envs\\miar_rl\\lib\\site-packages (from torch==2.0.1) (3.1)\n",
      "Requirement already satisfied: jinja2 in c:\\users\\bossi\\anaconda3\\envs\\miar_rl\\lib\\site-packages (from torch==2.0.1) (3.1.4)\n",
      "Requirement already satisfied: MarkupSafe>=2.0 in c:\\users\\bossi\\anaconda3\\envs\\miar_rl\\lib\\site-packages (from jinja2->torch==2.0.1) (2.1.3)\n",
      "Requirement already satisfied: mpmath<1.4,>=1.1.0 in c:\\users\\bossi\\anaconda3\\envs\\miar_rl\\lib\\site-packages (from sympy->torch==2.0.1) (1.3.0)\n",
      "Requirement already satisfied: agents==1.4.0 in c:\\users\\bossi\\anaconda3\\envs\\miar_rl\\lib\\site-packages (1.4.0)\n",
      "Requirement already satisfied: tensorflow in c:\\users\\bossi\\anaconda3\\envs\\miar_rl\\lib\\site-packages (from agents==1.4.0) (2.5.3)\n",
      "Requirement already satisfied: gym in c:\\users\\bossi\\anaconda3\\envs\\miar_rl\\lib\\site-packages (from agents==1.4.0) (0.17.3)\n",
      "Requirement already satisfied: ruamel.yaml in c:\\users\\bossi\\anaconda3\\envs\\miar_rl\\lib\\site-packages (from agents==1.4.0) (0.18.14)\n",
      "Requirement already satisfied: scipy in c:\\users\\bossi\\anaconda3\\envs\\miar_rl\\lib\\site-packages (from gym->agents==1.4.0) (1.10.1)\n",
      "Requirement already satisfied: numpy>=1.10.4 in c:\\users\\bossi\\anaconda3\\envs\\miar_rl\\lib\\site-packages (from gym->agents==1.4.0) (1.19.5)\n",
      "Requirement already satisfied: pyglet<=1.5.0,>=1.4.0 in c:\\users\\bossi\\anaconda3\\envs\\miar_rl\\lib\\site-packages (from gym->agents==1.4.0) (1.5.0)\n",
      "Requirement already satisfied: cloudpickle<1.7.0,>=1.2.0 in c:\\users\\bossi\\anaconda3\\envs\\miar_rl\\lib\\site-packages (from gym->agents==1.4.0) (1.6.0)\n",
      "Requirement already satisfied: ruamel.yaml.clib>=0.2.7 in c:\\users\\bossi\\anaconda3\\envs\\miar_rl\\lib\\site-packages (from ruamel.yaml->agents==1.4.0) (0.2.8)\n",
      "Requirement already satisfied: absl-py~=0.10 in c:\\users\\bossi\\anaconda3\\envs\\miar_rl\\lib\\site-packages (from tensorflow->agents==1.4.0) (0.15.0)\n",
      "Requirement already satisfied: astunparse~=1.6.3 in c:\\users\\bossi\\anaconda3\\envs\\miar_rl\\lib\\site-packages (from tensorflow->agents==1.4.0) (1.6.3)\n",
      "Requirement already satisfied: flatbuffers~=1.12.0 in c:\\users\\bossi\\anaconda3\\envs\\miar_rl\\lib\\site-packages (from tensorflow->agents==1.4.0) (1.12)\n",
      "Requirement already satisfied: google-pasta~=0.2 in c:\\users\\bossi\\anaconda3\\envs\\miar_rl\\lib\\site-packages (from tensorflow->agents==1.4.0) (0.2.0)\n",
      "Requirement already satisfied: h5py~=3.1.0 in c:\\users\\bossi\\anaconda3\\envs\\miar_rl\\lib\\site-packages (from tensorflow->agents==1.4.0) (3.1.0)\n",
      "Requirement already satisfied: keras-preprocessing~=1.1.2 in c:\\users\\bossi\\anaconda3\\envs\\miar_rl\\lib\\site-packages (from tensorflow->agents==1.4.0) (1.1.2)\n",
      "Requirement already satisfied: opt-einsum~=3.3.0 in c:\\users\\bossi\\anaconda3\\envs\\miar_rl\\lib\\site-packages (from tensorflow->agents==1.4.0) (3.3.0)\n",
      "Requirement already satisfied: protobuf>=3.9.2 in c:\\users\\bossi\\anaconda3\\envs\\miar_rl\\lib\\site-packages (from tensorflow->agents==1.4.0) (3.20.3)\n",
      "Requirement already satisfied: six~=1.15.0 in c:\\users\\bossi\\anaconda3\\envs\\miar_rl\\lib\\site-packages (from tensorflow->agents==1.4.0) (1.15.0)\n",
      "Requirement already satisfied: termcolor~=1.1.0 in c:\\users\\bossi\\anaconda3\\envs\\miar_rl\\lib\\site-packages (from tensorflow->agents==1.4.0) (1.1.0)\n",
      "Requirement already satisfied: typing-extensions~=3.7.4 in c:\\users\\bossi\\anaconda3\\envs\\miar_rl\\lib\\site-packages (from tensorflow->agents==1.4.0) (3.7.4.3)\n",
      "Requirement already satisfied: wheel~=0.35 in c:\\users\\bossi\\anaconda3\\envs\\miar_rl\\lib\\site-packages (from tensorflow->agents==1.4.0) (0.44.0)\n",
      "Requirement already satisfied: wrapt~=1.12.1 in c:\\users\\bossi\\anaconda3\\envs\\miar_rl\\lib\\site-packages (from tensorflow->agents==1.4.0) (1.12.1)\n",
      "Requirement already satisfied: gast==0.4.0 in c:\\users\\bossi\\anaconda3\\envs\\miar_rl\\lib\\site-packages (from tensorflow->agents==1.4.0) (0.4.0)\n",
      "Requirement already satisfied: tensorboard~=2.5 in c:\\users\\bossi\\anaconda3\\envs\\miar_rl\\lib\\site-packages (from tensorflow->agents==1.4.0) (2.11.2)\n",
      "Requirement already satisfied: tensorflow-estimator<2.6.0,>=2.5.0 in c:\\users\\bossi\\anaconda3\\envs\\miar_rl\\lib\\site-packages (from tensorflow->agents==1.4.0) (2.5.0)\n",
      "Requirement already satisfied: keras-nightly~=2.5.0.dev in c:\\users\\bossi\\anaconda3\\envs\\miar_rl\\lib\\site-packages (from tensorflow->agents==1.4.0) (2.5.0.dev2021032900)\n",
      "Requirement already satisfied: grpcio~=1.34.0 in c:\\users\\bossi\\anaconda3\\envs\\miar_rl\\lib\\site-packages (from tensorflow->agents==1.4.0) (1.34.1)\n",
      "Requirement already satisfied: future in c:\\users\\bossi\\anaconda3\\envs\\miar_rl\\lib\\site-packages (from pyglet<=1.5.0,>=1.4.0->gym->agents==1.4.0) (1.0.0)\n",
      "Requirement already satisfied: google-auth<3,>=1.6.3 in c:\\users\\bossi\\anaconda3\\envs\\miar_rl\\lib\\site-packages (from tensorboard~=2.5->tensorflow->agents==1.4.0) (2.40.3)\n",
      "Requirement already satisfied: google-auth-oauthlib<0.5,>=0.4.1 in c:\\users\\bossi\\anaconda3\\envs\\miar_rl\\lib\\site-packages (from tensorboard~=2.5->tensorflow->agents==1.4.0) (0.4.6)\n",
      "Requirement already satisfied: markdown>=2.6.8 in c:\\users\\bossi\\anaconda3\\envs\\miar_rl\\lib\\site-packages (from tensorboard~=2.5->tensorflow->agents==1.4.0) (3.7)\n",
      "Requirement already satisfied: requests<3,>=2.21.0 in c:\\users\\bossi\\anaconda3\\envs\\miar_rl\\lib\\site-packages (from tensorboard~=2.5->tensorflow->agents==1.4.0) (2.32.3)\n",
      "Requirement already satisfied: setuptools>=41.0.0 in c:\\users\\bossi\\anaconda3\\envs\\miar_rl\\lib\\site-packages (from tensorboard~=2.5->tensorflow->agents==1.4.0) (75.1.0)\n",
      "Requirement already satisfied: tensorboard-data-server<0.7.0,>=0.6.0 in c:\\users\\bossi\\anaconda3\\envs\\miar_rl\\lib\\site-packages (from tensorboard~=2.5->tensorflow->agents==1.4.0) (0.6.1)\n",
      "Requirement already satisfied: tensorboard-plugin-wit>=1.6.0 in c:\\users\\bossi\\anaconda3\\envs\\miar_rl\\lib\\site-packages (from tensorboard~=2.5->tensorflow->agents==1.4.0) (1.8.1)\n",
      "Requirement already satisfied: werkzeug>=1.0.1 in c:\\users\\bossi\\anaconda3\\envs\\miar_rl\\lib\\site-packages (from tensorboard~=2.5->tensorflow->agents==1.4.0) (3.0.6)\n",
      "Requirement already satisfied: cachetools<6.0,>=2.0.0 in c:\\users\\bossi\\anaconda3\\envs\\miar_rl\\lib\\site-packages (from google-auth<3,>=1.6.3->tensorboard~=2.5->tensorflow->agents==1.4.0) (5.5.2)\n",
      "Requirement already satisfied: pyasn1-modules>=0.2.1 in c:\\users\\bossi\\anaconda3\\envs\\miar_rl\\lib\\site-packages (from google-auth<3,>=1.6.3->tensorboard~=2.5->tensorflow->agents==1.4.0) (0.4.2)\n",
      "Requirement already satisfied: rsa<5,>=3.1.4 in c:\\users\\bossi\\anaconda3\\envs\\miar_rl\\lib\\site-packages (from google-auth<3,>=1.6.3->tensorboard~=2.5->tensorflow->agents==1.4.0) (4.9.1)\n",
      "Requirement already satisfied: requests-oauthlib>=0.7.0 in c:\\users\\bossi\\anaconda3\\envs\\miar_rl\\lib\\site-packages (from google-auth-oauthlib<0.5,>=0.4.1->tensorboard~=2.5->tensorflow->agents==1.4.0) (2.0.0)\n",
      "Requirement already satisfied: importlib-metadata>=4.4 in c:\\users\\bossi\\anaconda3\\envs\\miar_rl\\lib\\site-packages (from markdown>=2.6.8->tensorboard~=2.5->tensorflow->agents==1.4.0) (7.0.1)\n",
      "Requirement already satisfied: charset-normalizer<4,>=2 in c:\\users\\bossi\\anaconda3\\envs\\miar_rl\\lib\\site-packages (from requests<3,>=2.21.0->tensorboard~=2.5->tensorflow->agents==1.4.0) (3.3.2)\n",
      "Requirement already satisfied: idna<4,>=2.5 in c:\\users\\bossi\\anaconda3\\envs\\miar_rl\\lib\\site-packages (from requests<3,>=2.21.0->tensorboard~=2.5->tensorflow->agents==1.4.0) (3.7)\n",
      "Requirement already satisfied: urllib3<3,>=1.21.1 in c:\\users\\bossi\\anaconda3\\envs\\miar_rl\\lib\\site-packages (from requests<3,>=2.21.0->tensorboard~=2.5->tensorflow->agents==1.4.0) (2.2.3)\n",
      "Requirement already satisfied: certifi>=2017.4.17 in c:\\users\\bossi\\anaconda3\\envs\\miar_rl\\lib\\site-packages (from requests<3,>=2.21.0->tensorboard~=2.5->tensorflow->agents==1.4.0) (2024.8.30)\n",
      "Requirement already satisfied: MarkupSafe>=2.1.1 in c:\\users\\bossi\\anaconda3\\envs\\miar_rl\\lib\\site-packages (from werkzeug>=1.0.1->tensorboard~=2.5->tensorflow->agents==1.4.0) (2.1.3)\n",
      "Requirement already satisfied: zipp>=0.5 in c:\\users\\bossi\\anaconda3\\envs\\miar_rl\\lib\\site-packages (from importlib-metadata>=4.4->markdown>=2.6.8->tensorboard~=2.5->tensorflow->agents==1.4.0) (3.20.2)\n",
      "Requirement already satisfied: pyasn1<0.7.0,>=0.6.1 in c:\\users\\bossi\\anaconda3\\envs\\miar_rl\\lib\\site-packages (from pyasn1-modules>=0.2.1->google-auth<3,>=1.6.3->tensorboard~=2.5->tensorflow->agents==1.4.0) (0.6.1)\n",
      "Requirement already satisfied: oauthlib>=3.0.0 in c:\\users\\bossi\\anaconda3\\envs\\miar_rl\\lib\\site-packages (from requests-oauthlib>=0.7.0->google-auth-oauthlib<0.5,>=0.4.1->tensorboard~=2.5->tensorflow->agents==1.4.0) (3.3.1)\n",
      "Note: you may need to restart the kernel to use updated packages.\n"
     ]
    }
   ],
   "source": [
    "if IN_COLAB:\n",
    "  %pip install gym==0.17.3\n",
    "  %pip install git+https://github.com/Kojoley/atari-py.git\n",
    "  %pip install keras-rl2==1.0.5\n",
    "  %pip install tensorflow==2.8\n",
    "else:\n",
    "  %pip install gym==0.17.3\n",
    "  %pip install git+https://github.com/Kojoley/atari-py.git\n",
    "  %pip install pyglet==1.5.0\n",
    "  %pip install h5py==3.1.0\n",
    "  %pip install Pillow==9.5.0\n",
    "  %pip install keras-rl2==1.0.5\n",
    "  %pip install Keras==2.2.4\n",
    "  %pip install tensorflow==2.5.3\n",
    "  %pip install torch==2.0.1\n",
    "  %pip install agents==1.4.0"
   ]
  },
  {
   "cell_type": "markdown",
   "metadata": {
    "id": "4hzP_5ZuGb2X"
   },
   "source": [
    "---\n",
    "## **PARTE 2**. Enunciado\n",
    "\n",
    "Consideraciones a tener en cuenta:\n",
    "\n",
    "- El entorno sobre el que trabajaremos será _SpaceInvaders-v0_ y el algoritmo que usaremos será _DQN_.\n",
    "\n",
    "- Para nuestro ejercicio, el requisito mínimo será alcanzado cuando el agente consiga una **media de recompensa por encima de 20 puntos en modo test**. Por ello, esta media de la recompensa se calculará a partir del código de test en la última celda del notebook.\n",
    "\n",
    "Este proyecto práctico consta de tres partes:\n",
    "\n",
    "1.   Implementar la red neuronal que se usará en la solución\n",
    "2.   Implementar las distintas piezas de la solución DQN\n",
    "3.   Justificar la respuesta en relación a los resultados obtenidos\n",
    "\n",
    "**Rúbrica**: Se valorará la originalidad en la solución aportada, así como la capacidad de discutir los resultados de forma detallada. El requisito mínimo servirá para aprobar la actividad, bajo premisa de que la discusión del resultado sera apropiada.\n",
    "\n",
    "IMPORTANTE:\n",
    "\n",
    "* Si no se consigue una puntuación óptima, responder sobre la mejor puntuación obtenida.\n",
    "* Para entrenamientos largos, recordad que podéis usar checkpoints de vuestros modelos para retomar los entrenamientos. En este caso, recordad cambiar los parámetros adecuadamente (sobre todo los relacionados con el proceso de exploración).\n",
    "* Se deberá entregar unicamente el notebook y los pesos del mejor modelo en un fichero .zip, de forma organizada.\n",
    "* Cada alumno deberá de subir la solución de forma individual."
   ]
  },
  {
   "cell_type": "markdown",
   "metadata": {
    "id": "6_b3mzw8IzJP"
   },
   "source": [
    "---\n",
    "## **PARTE 3**. Desarrollo y preguntas"
   ]
  },
  {
   "cell_type": "markdown",
   "metadata": {
    "id": "duPmUNOVGb2a"
   },
   "source": [
    "#### Importar librerías"
   ]
  },
  {
   "cell_type": "code",
   "execution_count": 2,
   "metadata": {
    "id": "j3eRhgI-Gb2a"
   },
   "outputs": [],
   "source": [
    "from __future__ import division\n",
    "\n",
    "from PIL import Image\n",
    "import numpy as np\n",
    "import gym\n",
    "\n",
    "import tensorflow as tf\n",
    "from tensorflow.keras.models import Sequential\n",
    "from tensorflow.keras.layers import Dense, Activation, Flatten, Convolution2D, Permute\n",
    "from tensorflow.keras.optimizers import Adam\n",
    "import tensorflow.keras.backend as K\n",
    "from tensorflow.keras.callbacks import ModelCheckpoint\n",
    "\n",
    "from rl.agents.dqn import DQNAgent\n",
    "from rl.policy import LinearAnnealedPolicy, BoltzmannQPolicy, EpsGreedyQPolicy\n",
    "from rl.memory import SequentialMemory\n",
    "from rl.core import Processor\n",
    "from rl.callbacks import FileLogger, ModelIntervalCheckpoint"
   ]
  },
  {
   "cell_type": "markdown",
   "metadata": {
    "id": "f4jgQjzoGb2a"
   },
   "source": [
    "#### Configuración base"
   ]
  },
  {
   "cell_type": "code",
   "execution_count": 3,
   "metadata": {
    "id": "jwOE6I_KGb2a"
   },
   "outputs": [],
   "source": [
    "INPUT_SHAPE = (84, 84)\n",
    "WINDOW_LENGTH = 4\n",
    "\n",
    "env_name = 'SpaceInvaders-v0'\n",
    "env = gym.make(env_name)\n",
    "\n",
    "np.random.seed(123)\n",
    "env.seed(123)\n",
    "nb_actions = env.action_space.n"
   ]
  },
  {
   "cell_type": "code",
   "execution_count": 4,
   "metadata": {
    "id": "9jGEZUcpGb2a"
   },
   "outputs": [],
   "source": [
    "class AtariProcessor(Processor):\n",
    "    def process_observation(self, observation):\n",
    "        assert observation.ndim == 3  # (height, width, channel)\n",
    "        img = Image.fromarray(observation)\n",
    "        img = img.resize(INPUT_SHAPE).convert('L')\n",
    "        processed_observation = np.array(img)\n",
    "        assert processed_observation.shape == INPUT_SHAPE\n",
    "        return processed_observation.astype('uint8')\n",
    "\n",
    "    def process_state_batch(self, batch):\n",
    "        processed_batch = batch.astype('float32') / 255.\n",
    "        return processed_batch\n",
    "\n",
    "    def process_reward(self, reward):\n",
    "        return np.clip(reward, -1., 1.)"
   ]
  },
  {
   "cell_type": "markdown",
   "metadata": {
    "id": "7yitXTADGb2b"
   },
   "source": [
    "1. Implementación de la red neuronal"
   ]
  },
  {
   "cell_type": "code",
   "execution_count": 5,
   "metadata": {
    "id": "O4GKrfWSGb2b"
   },
   "outputs": [
    {
     "name": "stdout",
     "output_type": "stream",
     "text": [
      "Model: \"sequential\"\n",
      "_________________________________________________________________\n",
      "Layer (type)                 Output Shape              Param #   \n",
      "=================================================================\n",
      "permute (Permute)            (None, 84, 84, 4)         0         \n",
      "_________________________________________________________________\n",
      "conv2d (Conv2D)              (None, 20, 20, 32)        8224      \n",
      "_________________________________________________________________\n",
      "activation (Activation)      (None, 20, 20, 32)        0         \n",
      "_________________________________________________________________\n",
      "conv2d_1 (Conv2D)            (None, 9, 9, 64)          32832     \n",
      "_________________________________________________________________\n",
      "activation_1 (Activation)    (None, 9, 9, 64)          0         \n",
      "_________________________________________________________________\n",
      "conv2d_2 (Conv2D)            (None, 7, 7, 64)          36928     \n",
      "_________________________________________________________________\n",
      "activation_2 (Activation)    (None, 7, 7, 64)          0         \n",
      "_________________________________________________________________\n",
      "flatten (Flatten)            (None, 3136)              0         \n",
      "_________________________________________________________________\n",
      "dense (Dense)                (None, 128)               401536    \n",
      "_________________________________________________________________\n",
      "dense_1 (Dense)              (None, 64)                8256      \n",
      "_________________________________________________________________\n",
      "dense_2 (Dense)              (None, 6)                 390       \n",
      "=================================================================\n",
      "Total params: 488,166\n",
      "Trainable params: 488,166\n",
      "Non-trainable params: 0\n",
      "_________________________________________________________________\n",
      "None\n"
     ]
    }
   ],
   "source": [
    "def build_dqn_model(nb_actions, input_shape, window_length=4, activation='relu'):\n",
    "    \"\"\"\n",
    "    Construye un modelo de red neuronal profunda para Q-Learning.\n",
    "\n",
    "    Args:\n",
    "        nb_actions (int): El número de acciones de salida que el modelo debe predecir.\n",
    "        input_shape (tuple): La forma de una sola observación (ej. (84, 84)).\n",
    "        window_length (int): El número de observaciones apiladas que se usan como entrada.\n",
    "        num_dense_layers (int, opcional): El número de capas densas ocultas. Default a 1.\n",
    "        activation (str, opcional): La función de activación para las capas densas ocultas. Default a 'relu'.\n",
    "\n",
    "    Returns:\n",
    "        keras.Model: El modelo de Keras compilado.\n",
    "    \"\"\"\n",
    "    # La forma completa de la entrada al modelo (ej. (4, 84, 84))\n",
    "    full_input_shape = (window_length,) + input_shape\n",
    "\n",
    "    model = Sequential()\n",
    "\n",
    "    # La primera capa debe saber la forma de la entrada.\n",
    "    # Se permuta la entrada para que coincida con el formato de datos de imagen de Keras\n",
    "    # (channels_last vs channels_first). La longitud de la ventana (window_length) se trata\n",
    "    # como la dimensión de los canales.\n",
    "    if K.image_data_format() == 'channels_last':\n",
    "        # Formato de entrada: (window, rows, cols) -> Permuta a: (rows, cols, window)\n",
    "        model.add(Permute((2, 3, 1), input_shape=full_input_shape))\n",
    "    elif K.image_data_format() == 'channels_first':\n",
    "        # Formato de entrada: (window, rows, cols) -> Permuta a: (window, rows, cols) (identidad)\n",
    "        # La permutación es (1, 2, 3), que no cambia el orden pero define el input_shape.\n",
    "        model.add(Permute((1, 2, 3), input_shape=full_input_shape))\n",
    "    else:\n",
    "        raise RuntimeError('Unknown image_data_format.')\n",
    "\n",
    "    # Capas convolucionales (arquitectura similar a la de DeepMind)\n",
    "    model.add(Convolution2D(32, (8, 8), strides=(4, 4)))\n",
    "    model.add(Activation('relu'))\n",
    "    model.add(Convolution2D(64, (4, 4), strides=(2, 2)))\n",
    "    model.add(Activation('relu'))\n",
    "    model.add(Convolution2D(64, (3, 3), strides=(1, 1)))\n",
    "    model.add(Activation('relu'))\n",
    "\n",
    "    # Aplanar las características para las capas densas\n",
    "    model.add(Flatten())\n",
    "\n",
    "    # Capas densas (fully-connected)\n",
    "    model.add(Dense(128, activation=activation))\n",
    "    model.add(Dense(64, activation=activation))\n",
    "\n",
    "    # Capa de salida con una neurona por acción y activación lineal para los valores Q\n",
    "    model.add(Dense(nb_actions, activation='linear'))\n",
    "\n",
    "    return model\n",
    "\n",
    "\n",
    "model = build_dqn_model(nb_actions, INPUT_SHAPE)\n",
    "\n",
    "print(model.summary())"
   ]
  },
  {
   "cell_type": "markdown",
   "metadata": {
    "id": "OB9-_5HPGb2b"
   },
   "source": [
    "2. Implementación de la solución DQN"
   ]
  },
  {
   "cell_type": "code",
   "execution_count": 6,
   "metadata": {
    "id": "foSlxWH1Gb2b"
   },
   "outputs": [],
   "source": [
    "policy = LinearAnnealedPolicy(EpsGreedyQPolicy(), attr='eps', value_max=.99, value_min=.1, value_test=.1, nb_steps=190000)\n",
    "memory = SequentialMemory(limit=10000, window_length=WINDOW_LENGTH)\n",
    "processor = AtariProcessor()\n",
    "dqn = DQNAgent(model=model, nb_actions=nb_actions, policy=policy, memory=memory, processor=processor, nb_steps_warmup=500, gamma=.99, target_model_update=1000, enable_double_dqn=True, enable_dueling_network=True)"
   ]
  },
  {
   "cell_type": "code",
   "execution_count": 7,
   "metadata": {},
   "outputs": [],
   "source": [
    "dqn.compile(Adam(learning_rate=0.00025), metrics=['mae'])"
   ]
  },
  {
   "cell_type": "code",
   "execution_count": 8,
   "metadata": {},
   "outputs": [
    {
     "name": "stdout",
     "output_type": "stream",
     "text": [
      "Training for 200000 steps ...\n"
     ]
    },
    {
     "name": "stderr",
     "output_type": "stream",
     "text": [
      "C:\\Users\\bossi\\anaconda3\\envs\\miar_rl\\lib\\site-packages\\tensorflow\\python\\keras\\engine\\training.py:2424: UserWarning: `Model.state_updates` will be removed in a future version. This property should not be used in TensorFlow 2.0, as `updates` are applied automatically.\n",
      "  warnings.warn('`Model.state_updates` will be removed in a future version. '\n"
     ]
    },
    {
     "name": "stdout",
     "output_type": "stream",
     "text": [
      "    408/200000: episode: 1, duration: 2.075s, episode steps: 408, steps per second: 197, episode reward:  4.000, mean reward:  0.010 [ 0.000,  1.000], mean action: 2.456 [0.000, 5.000],  loss: --, mae: --, mean_q: --, mean_eps: --\n"
     ]
    },
    {
     "name": "stderr",
     "output_type": "stream",
     "text": [
      "C:\\Users\\bossi\\anaconda3\\envs\\miar_rl\\lib\\site-packages\\tensorflow\\python\\keras\\engine\\training.py:2424: UserWarning: `Model.state_updates` will be removed in a future version. This property should not be used in TensorFlow 2.0, as `updates` are applied automatically.\n",
      "  warnings.warn('`Model.state_updates` will be removed in a future version. '\n"
     ]
    },
    {
     "name": "stdout",
     "output_type": "stream",
     "text": [
      "    791/200000: episode: 2, duration: 36.505s, episode steps: 383, steps per second:  10, episode reward:  6.000, mean reward:  0.016 [ 0.000,  1.000], mean action: 2.415 [0.000, 5.000],  loss: 0.006285, mae: 0.030317, mean_q: 0.053421, mean_eps: 0.986976\n",
      "   1724/200000: episode: 3, duration: 116.041s, episode steps: 933, steps per second:   8, episode reward: 12.000, mean reward:  0.013 [ 0.000,  1.000], mean action: 2.392 [0.000, 5.000],  loss: 0.005067, mae: 0.043757, mean_q: 0.088322, mean_eps: 0.984112\n",
      "   2216/200000: episode: 4, duration: 61.140s, episode steps: 492, steps per second:   8, episode reward:  5.000, mean reward:  0.010 [ 0.000,  1.000], mean action: 2.396 [0.000, 5.000],  loss: 0.005145, mae: 0.055388, mean_q: 0.109585, mean_eps: 0.980774\n",
      "   3185/200000: episode: 5, duration: 120.686s, episode steps: 969, steps per second:   8, episode reward: 15.000, mean reward:  0.015 [ 0.000,  1.000], mean action: 2.480 [0.000, 5.000],  loss: 0.004527, mae: 0.065403, mean_q: 0.111044, mean_eps: 0.977353\n",
      "   3823/200000: episode: 6, duration: 79.540s, episode steps: 638, steps per second:   8, episode reward:  8.000, mean reward:  0.013 [ 0.000,  1.000], mean action: 2.472 [0.000, 5.000],  loss: 0.004153, mae: 0.081653, mean_q: 0.128059, mean_eps: 0.973589\n",
      "   5179/200000: episode: 7, duration: 168.391s, episode steps: 1356, steps per second:   8, episode reward: 13.000, mean reward:  0.010 [ 0.000,  1.000], mean action: 2.505 [0.000, 5.000],  loss: 0.004191, mae: 0.099426, mean_q: 0.149734, mean_eps: 0.968919\n",
      "   5566/200000: episode: 8, duration: 48.385s, episode steps: 387, steps per second:   8, episode reward:  6.000, mean reward:  0.016 [ 0.000,  1.000], mean action: 2.432 [0.000, 5.000],  loss: 0.004270, mae: 0.125893, mean_q: 0.183113, mean_eps: 0.964836\n",
      "   6795/200000: episode: 9, duration: 152.645s, episode steps: 1229, steps per second:   8, episode reward: 19.000, mean reward:  0.015 [ 0.000,  1.000], mean action: 2.513 [0.000, 5.000],  loss: 0.004810, mae: 0.139200, mean_q: 0.197888, mean_eps: 0.961052\n",
      "   7188/200000: episode: 10, duration: 48.822s, episode steps: 393, steps per second:   8, episode reward:  4.000, mean reward:  0.010 [ 0.000,  1.000], mean action: 2.504 [0.000, 5.000],  loss: 0.005720, mae: 0.163438, mean_q: 0.227563, mean_eps: 0.957253\n",
      "   7723/200000: episode: 11, duration: 66.750s, episode steps: 535, steps per second:   8, episode reward:  7.000, mean reward:  0.013 [ 0.000,  1.000], mean action: 2.445 [0.000, 5.000],  loss: 0.005435, mae: 0.179759, mean_q: 0.246832, mean_eps: 0.955079\n",
      "   8383/200000: episode: 12, duration: 82.111s, episode steps: 660, steps per second:   8, episode reward:  8.000, mean reward:  0.012 [ 0.000,  1.000], mean action: 2.471 [0.000, 5.000],  loss: 0.005293, mae: 0.202142, mean_q: 0.275916, mean_eps: 0.952280\n",
      "   8897/200000: episode: 13, duration: 63.911s, episode steps: 514, steps per second:   8, episode reward:  6.000, mean reward:  0.012 [ 0.000,  1.000], mean action: 2.502 [0.000, 5.000],  loss: 0.005231, mae: 0.224689, mean_q: 0.303190, mean_eps: 0.949531\n",
      "   9322/200000: episode: 14, duration: 52.882s, episode steps: 425, steps per second:   8, episode reward:  3.000, mean reward:  0.007 [ 0.000,  1.000], mean action: 2.487 [0.000, 5.000],  loss: 0.007423, mae: 0.256113, mean_q: 0.342101, mean_eps: 0.947332\n",
      "  10251/200000: episode: 15, duration: 115.710s, episode steps: 929, steps per second:   8, episode reward: 14.000, mean reward:  0.015 [ 0.000,  1.000], mean action: 2.459 [0.000, 5.000],  loss: 0.007034, mae: 0.276095, mean_q: 0.365486, mean_eps: 0.944160\n",
      "  11377/200000: episode: 16, duration: 139.984s, episode steps: 1126, steps per second:   8, episode reward: 21.000, mean reward:  0.019 [ 0.000,  1.000], mean action: 2.550 [0.000, 5.000],  loss: 0.007387, mae: 0.305532, mean_q: 0.402155, mean_eps: 0.939347\n",
      "  11794/200000: episode: 17, duration: 51.923s, episode steps: 417, steps per second:   8, episode reward:  5.000, mean reward:  0.012 [ 0.000,  1.000], mean action: 2.400 [0.000, 5.000],  loss: 0.007332, mae: 0.313173, mean_q: 0.409947, mean_eps: 0.935733\n",
      "  12376/200000: episode: 18, duration: 72.413s, episode steps: 582, steps per second:   8, episode reward:  5.000, mean reward:  0.009 [ 0.000,  1.000], mean action: 2.493 [0.000, 5.000],  loss: 0.008104, mae: 0.340135, mean_q: 0.444286, mean_eps: 0.933394\n",
      "  13451/200000: episode: 19, duration: 133.788s, episode steps: 1075, steps per second:   8, episode reward: 11.000, mean reward:  0.010 [ 0.000,  1.000], mean action: 2.554 [0.000, 5.000],  loss: 0.007317, mae: 0.349915, mean_q: 0.453686, mean_eps: 0.929513\n",
      "  14078/200000: episode: 20, duration: 78.063s, episode steps: 627, steps per second:   8, episode reward:  8.000, mean reward:  0.013 [ 0.000,  1.000], mean action: 2.718 [0.000, 5.000],  loss: 0.007137, mae: 0.352385, mean_q: 0.456545, mean_eps: 0.925527\n",
      "  14842/200000: episode: 21, duration: 94.815s, episode steps: 764, steps per second:   8, episode reward: 12.000, mean reward:  0.016 [ 0.000,  1.000], mean action: 2.452 [0.000, 5.000],  loss: 0.006556, mae: 0.363900, mean_q: 0.468715, mean_eps: 0.922269\n",
      "  15620/200000: episode: 22, duration: 96.852s, episode steps: 778, steps per second:   8, episode reward:  9.000, mean reward:  0.012 [ 0.000,  1.000], mean action: 2.485 [0.000, 5.000],  loss: 0.007310, mae: 0.423350, mean_q: 0.542208, mean_eps: 0.918657\n",
      "  16778/200000: episode: 23, duration: 143.755s, episode steps: 1158, steps per second:   8, episode reward: 20.000, mean reward:  0.017 [ 0.000,  1.000], mean action: 2.484 [0.000, 5.000],  loss: 0.007323, mae: 0.442295, mean_q: 0.564295, mean_eps: 0.914123\n",
      "  17812/200000: episode: 24, duration: 128.342s, episode steps: 1034, steps per second:   8, episode reward: 20.000, mean reward:  0.019 [ 0.000,  1.000], mean action: 2.522 [0.000, 5.000],  loss: 0.007077, mae: 0.454413, mean_q: 0.580377, mean_eps: 0.908989\n",
      "  18738/200000: episode: 25, duration: 115.245s, episode steps: 926, steps per second:   8, episode reward: 16.000, mean reward:  0.017 [ 0.000,  1.000], mean action: 2.470 [0.000, 5.000],  loss: 0.007972, mae: 0.511262, mean_q: 0.651705, mean_eps: 0.904398\n",
      "  19374/200000: episode: 26, duration: 79.452s, episode steps: 636, steps per second:   8, episode reward:  7.000, mean reward:  0.011 [ 0.000,  1.000], mean action: 2.489 [0.000, 5.000],  loss: 0.008604, mae: 0.543260, mean_q: 0.691504, mean_eps: 0.900740\n",
      "  20119/200000: episode: 27, duration: 92.633s, episode steps: 745, steps per second:   8, episode reward: 10.000, mean reward:  0.013 [ 0.000,  1.000], mean action: 2.463 [0.000, 5.000],  loss: 0.008860, mae: 0.564021, mean_q: 0.716981, mean_eps: 0.897506\n",
      "  21366/200000: episode: 28, duration: 155.157s, episode steps: 1247, steps per second:   8, episode reward: 25.000, mean reward:  0.020 [ 0.000,  1.000], mean action: 2.481 [0.000, 5.000],  loss: 0.009007, mae: 0.630839, mean_q: 0.800135, mean_eps: 0.892840\n",
      "  22184/200000: episode: 29, duration: 101.491s, episode steps: 818, steps per second:   8, episode reward: 15.000, mean reward:  0.018 [ 0.000,  1.000], mean action: 2.458 [0.000, 5.000],  loss: 0.008916, mae: 0.677267, mean_q: 0.858052, mean_eps: 0.888004\n",
      "  22944/200000: episode: 30, duration: 94.424s, episode steps: 760, steps per second:   8, episode reward: 11.000, mean reward:  0.014 [ 0.000,  1.000], mean action: 2.472 [0.000, 5.000],  loss: 0.008842, mae: 0.706655, mean_q: 0.893789, mean_eps: 0.884308\n",
      "  23340/200000: episode: 31, duration: 49.349s, episode steps: 396, steps per second:   8, episode reward:  5.000, mean reward:  0.013 [ 0.000,  1.000], mean action: 2.485 [0.000, 5.000],  loss: 0.009482, mae: 0.747154, mean_q: 0.942412, mean_eps: 0.881600\n",
      "  23775/200000: episode: 32, duration: 54.209s, episode steps: 435, steps per second:   8, episode reward:  9.000, mean reward:  0.021 [ 0.000,  1.000], mean action: 2.485 [0.000, 5.000],  loss: 0.009245, mae: 0.771114, mean_q: 0.972269, mean_eps: 0.879654\n",
      "  24951/200000: episode: 33, duration: 145.918s, episode steps: 1176, steps per second:   8, episode reward: 15.000, mean reward:  0.013 [ 0.000,  1.000], mean action: 2.523 [0.000, 5.000],  loss: 0.009136, mae: 0.811598, mean_q: 1.022177, mean_eps: 0.875881\n",
      "  25365/200000: episode: 34, duration: 51.702s, episode steps: 414, steps per second:   8, episode reward:  4.000, mean reward:  0.010 [ 0.000,  1.000], mean action: 2.469 [0.000, 5.000],  loss: 0.010106, mae: 0.854743, mean_q: 1.073923, mean_eps: 0.872157\n",
      "  25795/200000: episode: 35, duration: 53.682s, episode steps: 430, steps per second:   8, episode reward:  6.000, mean reward:  0.014 [ 0.000,  1.000], mean action: 2.453 [0.000, 5.000],  loss: 0.008990, mae: 0.865355, mean_q: 1.086163, mean_eps: 0.870180\n",
      "  26563/200000: episode: 36, duration: 95.325s, episode steps: 768, steps per second:   8, episode reward: 11.000, mean reward:  0.014 [ 0.000,  1.000], mean action: 2.488 [0.000, 5.000],  loss: 0.010264, mae: 0.913920, mean_q: 1.143214, mean_eps: 0.867374\n",
      "  27024/200000: episode: 37, duration: 57.527s, episode steps: 461, steps per second:   8, episode reward:  6.000, mean reward:  0.013 [ 0.000,  1.000], mean action: 2.458 [0.000, 5.000],  loss: 0.009077, mae: 0.937839, mean_q: 1.171571, mean_eps: 0.864496\n",
      "  28004/200000: episode: 38, duration: 122.524s, episode steps: 980, steps per second:   8, episode reward: 13.000, mean reward:  0.013 [ 0.000,  1.000], mean action: 2.470 [0.000, 5.000],  loss: 0.011215, mae: 0.989581, mean_q: 1.233290, mean_eps: 0.861121\n",
      "  28519/200000: episode: 39, duration: 63.946s, episode steps: 515, steps per second:   8, episode reward:  5.000, mean reward:  0.010 [ 0.000,  1.000], mean action: 2.487 [0.000, 5.000],  loss: 0.010023, mae: 1.018103, mean_q: 1.267375, mean_eps: 0.857620\n",
      "  29495/200000: episode: 40, duration: 123.499s, episode steps: 976, steps per second:   8, episode reward: 16.000, mean reward:  0.016 [ 0.000,  1.000], mean action: 2.508 [0.000, 5.000],  loss: 0.009186, mae: 1.010500, mean_q: 1.252393, mean_eps: 0.854127\n",
      "  30122/200000: episode: 41, duration: 78.017s, episode steps: 627, steps per second:   8, episode reward:  9.000, mean reward:  0.014 [ 0.000,  1.000], mean action: 2.480 [0.000, 5.000],  loss: 0.009508, mae: 1.046046, mean_q: 1.295048, mean_eps: 0.850373\n",
      "  30923/200000: episode: 42, duration: 102.647s, episode steps: 801, steps per second:   8, episode reward: 15.000, mean reward:  0.019 [ 0.000,  1.000], mean action: 2.483 [0.000, 5.000],  loss: 0.008589, mae: 1.037184, mean_q: 1.281483, mean_eps: 0.847029\n",
      "  31589/200000: episode: 43, duration: 85.093s, episode steps: 666, steps per second:   8, episode reward: 12.000, mean reward:  0.018 [ 0.000,  1.000], mean action: 2.483 [0.000, 5.000],  loss: 0.008016, mae: 1.053300, mean_q: 1.298488, mean_eps: 0.843593\n",
      "  32301/200000: episode: 44, duration: 85.460s, episode steps: 712, steps per second:   8, episode reward: 10.000, mean reward:  0.014 [ 0.000,  1.000], mean action: 2.486 [0.000, 5.000],  loss: 0.009040, mae: 1.068811, mean_q: 1.316683, mean_eps: 0.840365\n",
      "  32944/200000: episode: 45, duration: 78.394s, episode steps: 643, steps per second:   8, episode reward: 11.000, mean reward:  0.017 [ 0.000,  1.000], mean action: 2.610 [0.000, 5.000],  loss: 0.008078, mae: 1.088600, mean_q: 1.342593, mean_eps: 0.837192\n",
      "  33738/200000: episode: 46, duration: 95.551s, episode steps: 794, steps per second:   8, episode reward: 12.000, mean reward:  0.015 [ 0.000,  1.000], mean action: 2.476 [0.000, 5.000],  loss: 0.008695, mae: 1.135957, mean_q: 1.398417, mean_eps: 0.833826\n",
      "  34687/200000: episode: 47, duration: 113.868s, episode steps: 949, steps per second:   8, episode reward: 11.000, mean reward:  0.012 [ 0.000,  1.000], mean action: 2.452 [0.000, 5.000],  loss: 0.008388, mae: 1.167326, mean_q: 1.436418, mean_eps: 0.829744\n",
      "  35426/200000: episode: 48, duration: 89.313s, episode steps: 739, steps per second:   8, episode reward:  7.000, mean reward:  0.009 [ 0.000,  1.000], mean action: 2.398 [0.000, 5.000],  loss: 0.008647, mae: 1.207159, mean_q: 1.485065, mean_eps: 0.825790\n",
      "  35976/200000: episode: 49, duration: 67.081s, episode steps: 550, steps per second:   8, episode reward:  5.000, mean reward:  0.009 [ 0.000,  1.000], mean action: 2.460 [0.000, 5.000],  loss: 0.008034, mae: 1.229189, mean_q: 1.510900, mean_eps: 0.822771\n",
      "  36725/200000: episode: 50, duration: 92.237s, episode steps: 749, steps per second:   8, episode reward: 10.000, mean reward:  0.013 [ 0.000,  1.000], mean action: 2.450 [0.000, 5.000],  loss: 0.008598, mae: 1.269849, mean_q: 1.559708, mean_eps: 0.819729\n",
      "  37165/200000: episode: 51, duration: 52.969s, episode steps: 440, steps per second:   8, episode reward:  4.000, mean reward:  0.009 [ 0.000,  1.000], mean action: 2.586 [0.000, 5.000],  loss: 0.007726, mae: 1.289711, mean_q: 1.585980, mean_eps: 0.816944\n",
      "  37866/200000: episode: 52, duration: 84.276s, episode steps: 701, steps per second:   8, episode reward:  9.000, mean reward:  0.013 [ 0.000,  1.000], mean action: 2.525 [0.000, 5.000],  loss: 0.007441, mae: 1.299694, mean_q: 1.595247, mean_eps: 0.814272\n",
      "  38488/200000: episode: 53, duration: 75.007s, episode steps: 622, steps per second:   8, episode reward:  9.000, mean reward:  0.014 [ 0.000,  1.000], mean action: 2.442 [0.000, 5.000],  loss: 0.008046, mae: 1.302785, mean_q: 1.597759, mean_eps: 0.811173\n",
      "  39246/200000: episode: 54, duration: 90.986s, episode steps: 758, steps per second:   8, episode reward:  9.000, mean reward:  0.012 [ 0.000,  1.000], mean action: 2.550 [0.000, 5.000],  loss: 0.007460, mae: 1.325610, mean_q: 1.626278, mean_eps: 0.807941\n",
      "  39866/200000: episode: 55, duration: 74.608s, episode steps: 620, steps per second:   8, episode reward: 10.000, mean reward:  0.016 [ 0.000,  1.000], mean action: 2.492 [0.000, 5.000],  loss: 0.007809, mae: 1.339547, mean_q: 1.643235, mean_eps: 0.804714\n",
      "  40254/200000: episode: 56, duration: 46.870s, episode steps: 388, steps per second:   8, episode reward:  3.000, mean reward:  0.008 [ 0.000,  1.000], mean action: 2.534 [0.000, 5.000],  loss: 0.008649, mae: 1.363521, mean_q: 1.672675, mean_eps: 0.802353\n",
      "  40659/200000: episode: 57, duration: 48.801s, episode steps: 405, steps per second:   8, episode reward:  4.000, mean reward:  0.010 [ 0.000,  1.000], mean action: 2.528 [0.000, 5.000],  loss: 0.008657, mae: 1.412257, mean_q: 1.732156, mean_eps: 0.800496\n",
      "  41256/200000: episode: 58, duration: 71.747s, episode steps: 597, steps per second:   8, episode reward:  7.000, mean reward:  0.012 [ 0.000,  1.000], mean action: 2.479 [0.000, 5.000],  loss: 0.007706, mae: 1.439665, mean_q: 1.763839, mean_eps: 0.798149\n",
      "  42050/200000: episode: 59, duration: 95.503s, episode steps: 794, steps per second:   8, episode reward:  8.000, mean reward:  0.010 [ 0.000,  1.000], mean action: 2.521 [0.000, 5.000],  loss: 0.006905, mae: 1.440789, mean_q: 1.764894, mean_eps: 0.794891\n",
      "  42783/200000: episode: 60, duration: 88.301s, episode steps: 733, steps per second:   8, episode reward: 15.000, mean reward:  0.020 [ 0.000,  1.000], mean action: 2.521 [0.000, 5.000],  loss: 0.007029, mae: 1.462127, mean_q: 1.788930, mean_eps: 0.791315\n",
      "  43570/200000: episode: 61, duration: 94.694s, episode steps: 787, steps per second:   8, episode reward: 12.000, mean reward:  0.015 [ 0.000,  1.000], mean action: 2.578 [0.000, 5.000],  loss: 0.008349, mae: 1.497259, mean_q: 1.830322, mean_eps: 0.787755\n",
      "  44157/200000: episode: 62, duration: 70.532s, episode steps: 587, steps per second:   8, episode reward:  6.000, mean reward:  0.010 [ 0.000,  1.000], mean action: 2.501 [0.000, 5.000],  loss: 0.007613, mae: 1.499213, mean_q: 1.831182, mean_eps: 0.784536\n",
      "  44925/200000: episode: 63, duration: 92.472s, episode steps: 768, steps per second:   8, episode reward: 12.000, mean reward:  0.016 [ 0.000,  1.000], mean action: 2.484 [0.000, 5.000],  loss: 0.008824, mae: 1.534666, mean_q: 1.874278, mean_eps: 0.781363\n",
      "  45551/200000: episode: 64, duration: 75.333s, episode steps: 626, steps per second:   8, episode reward:  9.000, mean reward:  0.014 [ 0.000,  1.000], mean action: 2.375 [0.000, 5.000],  loss: 0.008147, mae: 1.533136, mean_q: 1.871786, mean_eps: 0.778098\n",
      "  46275/200000: episode: 65, duration: 86.999s, episode steps: 724, steps per second:   8, episode reward: 11.000, mean reward:  0.015 [ 0.000,  1.000], mean action: 2.424 [0.000, 5.000],  loss: 0.007805, mae: 1.538264, mean_q: 1.877578, mean_eps: 0.774936\n",
      "  46664/200000: episode: 66, duration: 46.991s, episode steps: 389, steps per second:   8, episode reward:  8.000, mean reward:  0.021 [ 0.000,  1.000], mean action: 2.643 [0.000, 5.000],  loss: 0.007387, mae: 1.561539, mean_q: 1.905121, mean_eps: 0.772329\n",
      "  47158/200000: episode: 67, duration: 59.413s, episode steps: 494, steps per second:   8, episode reward:  6.000, mean reward:  0.012 [ 0.000,  1.000], mean action: 2.646 [0.000, 5.000],  loss: 0.009324, mae: 1.574203, mean_q: 1.922811, mean_eps: 0.770261\n",
      "  48025/200000: episode: 68, duration: 104.047s, episode steps: 867, steps per second:   8, episode reward: 18.000, mean reward:  0.021 [ 0.000,  1.000], mean action: 2.559 [0.000, 5.000],  loss: 0.008046, mae: 1.593675, mean_q: 1.947633, mean_eps: 0.767074\n",
      "  49021/200000: episode: 69, duration: 119.482s, episode steps: 996, steps per second:   8, episode reward: 17.000, mean reward:  0.017 [ 0.000,  1.000], mean action: 2.448 [0.000, 5.000],  loss: 0.008736, mae: 1.644721, mean_q: 2.009424, mean_eps: 0.762710\n",
      "  49622/200000: episode: 70, duration: 72.323s, episode steps: 601, steps per second:   8, episode reward:  8.000, mean reward:  0.013 [ 0.000,  1.000], mean action: 2.359 [0.000, 5.000],  loss: 0.008037, mae: 1.688028, mean_q: 2.062829, mean_eps: 0.758970\n",
      "  50424/200000: episode: 71, duration: 96.541s, episode steps: 802, steps per second:   8, episode reward: 12.000, mean reward:  0.015 [ 0.000,  1.000], mean action: 2.510 [0.000, 5.000],  loss: 0.009748, mae: 1.687334, mean_q: 2.062691, mean_eps: 0.755684\n",
      "  51020/200000: episode: 72, duration: 71.783s, episode steps: 596, steps per second:   8, episode reward:  5.000, mean reward:  0.008 [ 0.000,  1.000], mean action: 2.487 [0.000, 5.000],  loss: 0.009554, mae: 1.677419, mean_q: 2.051279, mean_eps: 0.752410\n",
      "  51490/200000: episode: 73, duration: 56.601s, episode steps: 470, steps per second:   8, episode reward:  5.000, mean reward:  0.011 [ 0.000,  1.000], mean action: 2.432 [0.000, 5.000],  loss: 0.009220, mae: 1.749824, mean_q: 2.138859, mean_eps: 0.749913\n",
      "  52108/200000: episode: 74, duration: 74.307s, episode steps: 618, steps per second:   8, episode reward: 11.000, mean reward:  0.018 [ 0.000,  1.000], mean action: 2.416 [0.000, 5.000],  loss: 0.007499, mae: 1.725775, mean_q: 2.108304, mean_eps: 0.747365\n",
      "  52706/200000: episode: 75, duration: 71.920s, episode steps: 598, steps per second:   8, episode reward:  9.000, mean reward:  0.015 [ 0.000,  1.000], mean action: 2.482 [0.000, 5.000],  loss: 0.009780, mae: 1.749560, mean_q: 2.136555, mean_eps: 0.744517\n",
      "  53209/200000: episode: 76, duration: 60.427s, episode steps: 503, steps per second:   8, episode reward:  6.000, mean reward:  0.012 [ 0.000,  1.000], mean action: 2.565 [0.000, 5.000],  loss: 0.008213, mae: 1.768413, mean_q: 2.160182, mean_eps: 0.741938\n",
      "  53953/200000: episode: 77, duration: 89.471s, episode steps: 744, steps per second:   8, episode reward: 11.000, mean reward:  0.015 [ 0.000,  1.000], mean action: 2.464 [0.000, 5.000],  loss: 0.008198, mae: 1.783390, mean_q: 2.179009, mean_eps: 0.739018\n",
      "  54955/200000: episode: 78, duration: 120.613s, episode steps: 1002, steps per second:   8, episode reward: 18.000, mean reward:  0.018 [ 0.000,  1.000], mean action: 2.478 [0.000, 5.000],  loss: 0.008807, mae: 1.806371, mean_q: 2.204064, mean_eps: 0.734928\n",
      "  55761/200000: episode: 79, duration: 97.174s, episode steps: 806, steps per second:   8, episode reward: 13.000, mean reward:  0.016 [ 0.000,  1.000], mean action: 2.460 [0.000, 5.000],  loss: 0.008903, mae: 1.843457, mean_q: 2.249820, mean_eps: 0.730694\n",
      "  56763/200000: episode: 80, duration: 120.548s, episode steps: 1002, steps per second:   8, episode reward: 13.000, mean reward:  0.013 [ 0.000,  1.000], mean action: 2.586 [0.000, 5.000],  loss: 0.009824, mae: 1.861428, mean_q: 2.271382, mean_eps: 0.726459\n",
      "  57314/200000: episode: 81, duration: 66.266s, episode steps: 551, steps per second:   8, episode reward:  6.000, mean reward:  0.011 [ 0.000,  1.000], mean action: 2.436 [0.000, 5.000],  loss: 0.009640, mae: 1.886646, mean_q: 2.302559, mean_eps: 0.722822\n",
      "  57804/200000: episode: 82, duration: 58.766s, episode steps: 490, steps per second:   8, episode reward:  9.000, mean reward:  0.018 [ 0.000,  1.000], mean action: 2.667 [0.000, 5.000],  loss: 0.011036, mae: 1.903906, mean_q: 2.323637, mean_eps: 0.720384\n",
      "  58613/200000: episode: 83, duration: 97.390s, episode steps: 809, steps per second:   8, episode reward: 17.000, mean reward:  0.021 [ 0.000,  1.000], mean action: 2.478 [0.000, 5.000],  loss: 0.008547, mae: 1.887395, mean_q: 2.303830, mean_eps: 0.717341\n",
      "  58987/200000: episode: 84, duration: 45.123s, episode steps: 374, steps per second:   8, episode reward: 10.000, mean reward:  0.027 [ 0.000,  1.000], mean action: 2.235 [0.000, 5.000],  loss: 0.008871, mae: 1.885057, mean_q: 2.300393, mean_eps: 0.714571\n",
      "  59688/200000: episode: 85, duration: 86.654s, episode steps: 701, steps per second:   8, episode reward: 11.000, mean reward:  0.016 [ 0.000,  1.000], mean action: 2.509 [0.000, 5.000],  loss: 0.009074, mae: 1.914516, mean_q: 2.337429, mean_eps: 0.712053\n",
      "  60590/200000: episode: 86, duration: 108.672s, episode steps: 902, steps per second:   8, episode reward: 13.000, mean reward:  0.014 [ 0.000,  1.000], mean action: 2.619 [0.000, 5.000],  loss: 0.008973, mae: 1.932399, mean_q: 2.357055, mean_eps: 0.708299\n",
      "  61626/200000: episode: 87, duration: 124.563s, episode steps: 1036, steps per second:   8, episode reward: 22.000, mean reward:  0.021 [ 0.000,  1.000], mean action: 2.405 [0.000, 5.000],  loss: 0.009170, mae: 1.941476, mean_q: 2.365254, mean_eps: 0.703760\n",
      "  62136/200000: episode: 88, duration: 61.261s, episode steps: 510, steps per second:   8, episode reward:  5.000, mean reward:  0.010 [ 0.000,  1.000], mean action: 2.518 [0.000, 5.000],  loss: 0.007865, mae: 1.950967, mean_q: 2.377499, mean_eps: 0.700139\n",
      "  63274/200000: episode: 89, duration: 136.700s, episode steps: 1138, steps per second:   8, episode reward: 16.000, mean reward:  0.014 [ 0.000,  1.000], mean action: 2.467 [0.000, 5.000],  loss: 0.009072, mae: 1.952999, mean_q: 2.379946, mean_eps: 0.696279\n",
      "  63922/200000: episode: 90, duration: 77.861s, episode steps: 648, steps per second:   8, episode reward:  7.000, mean reward:  0.011 [ 0.000,  1.000], mean action: 2.400 [0.000, 5.000],  loss: 0.007590, mae: 1.948179, mean_q: 2.375465, mean_eps: 0.692096\n",
      "  64348/200000: episode: 91, duration: 51.230s, episode steps: 426, steps per second:   8, episode reward:  3.000, mean reward:  0.007 [ 0.000,  1.000], mean action: 2.697 [0.000, 5.000],  loss: 0.009650, mae: 1.973463, mean_q: 2.403857, mean_eps: 0.689580\n",
      "  65027/200000: episode: 92, duration: 81.773s, episode steps: 679, steps per second:   8, episode reward:  9.000, mean reward:  0.013 [ 0.000,  1.000], mean action: 2.636 [0.000, 5.000],  loss: 0.008627, mae: 2.008382, mean_q: 2.446120, mean_eps: 0.686992\n",
      "  65479/200000: episode: 93, duration: 54.613s, episode steps: 452, steps per second:   8, episode reward:  9.000, mean reward:  0.020 [ 0.000,  1.000], mean action: 2.509 [0.000, 5.000],  loss: 0.008567, mae: 2.032783, mean_q: 2.474547, mean_eps: 0.684344\n",
      "  66187/200000: episode: 94, duration: 85.017s, episode steps: 708, steps per second:   8, episode reward: 10.000, mean reward:  0.014 [ 0.000,  1.000], mean action: 2.617 [0.000, 5.000],  loss: 0.008096, mae: 2.033622, mean_q: 2.475963, mean_eps: 0.681627\n",
      "  66582/200000: episode: 95, duration: 47.599s, episode steps: 395, steps per second:   8, episode reward:  8.000, mean reward:  0.020 [ 0.000,  1.000], mean action: 2.228 [0.000, 5.000],  loss: 0.007529, mae: 2.038352, mean_q: 2.481548, mean_eps: 0.679043\n",
      "  67115/200000: episode: 96, duration: 64.090s, episode steps: 533, steps per second:   8, episode reward:  6.000, mean reward:  0.011 [ 0.000,  1.000], mean action: 2.433 [0.000, 5.000],  loss: 0.007513, mae: 2.033650, mean_q: 2.475587, mean_eps: 0.676870\n",
      "  67658/200000: episode: 97, duration: 65.345s, episode steps: 543, steps per second:   8, episode reward:  7.000, mean reward:  0.013 [ 0.000,  1.000], mean action: 2.569 [0.000, 5.000],  loss: 0.007936, mae: 2.028587, mean_q: 2.469926, mean_eps: 0.674350\n",
      "  68267/200000: episode: 98, duration: 73.240s, episode steps: 609, steps per second:   8, episode reward:  8.000, mean reward:  0.013 [ 0.000,  1.000], mean action: 2.539 [0.000, 5.000],  loss: 0.007892, mae: 2.030331, mean_q: 2.470232, mean_eps: 0.671652\n",
      "  68850/200000: episode: 99, duration: 70.433s, episode steps: 583, steps per second:   8, episode reward:  4.000, mean reward:  0.007 [ 0.000,  1.000], mean action: 2.403 [0.000, 5.000],  loss: 0.006923, mae: 2.044701, mean_q: 2.488943, mean_eps: 0.668860\n",
      "  69199/200000: episode: 100, duration: 42.008s, episode steps: 349, steps per second:   8, episode reward:  3.000, mean reward:  0.009 [ 0.000,  1.000], mean action: 2.708 [0.000, 5.000],  loss: 0.007878, mae: 2.059301, mean_q: 2.506039, mean_eps: 0.666677\n",
      "  70297/200000: episode: 101, duration: 132.212s, episode steps: 1098, steps per second:   8, episode reward: 18.000, mean reward:  0.016 [ 0.000,  1.000], mean action: 2.319 [0.000, 5.000],  loss: 0.010262, mae: 2.098846, mean_q: 2.552164, mean_eps: 0.663288\n",
      "  71030/200000: episode: 102, duration: 88.129s, episode steps: 733, steps per second:   8, episode reward: 11.000, mean reward:  0.015 [ 0.000,  1.000], mean action: 2.561 [0.000, 5.000],  loss: 0.009779, mae: 2.105407, mean_q: 2.559463, mean_eps: 0.659000\n",
      "  71629/200000: episode: 103, duration: 71.958s, episode steps: 599, steps per second:   8, episode reward:  4.000, mean reward:  0.007 [ 0.000,  1.000], mean action: 2.301 [0.000, 5.000],  loss: 0.009976, mae: 2.090157, mean_q: 2.540423, mean_eps: 0.655880\n",
      "  71965/200000: episode: 104, duration: 40.317s, episode steps: 336, steps per second:   8, episode reward:  5.000, mean reward:  0.015 [ 0.000,  1.000], mean action: 2.485 [0.000, 5.000],  loss: 0.007970, mae: 2.110831, mean_q: 2.566813, mean_eps: 0.653690\n",
      "  72340/200000: episode: 105, duration: 45.168s, episode steps: 375, steps per second:   8, episode reward:  7.000, mean reward:  0.019 [ 0.000,  1.000], mean action: 2.541 [0.000, 5.000],  loss: 0.008184, mae: 2.113263, mean_q: 2.569060, mean_eps: 0.652025\n",
      "  72740/200000: episode: 106, duration: 48.497s, episode steps: 400, steps per second:   8, episode reward: 10.000, mean reward:  0.025 [ 0.000,  1.000], mean action: 2.530 [0.000, 5.000],  loss: 0.010422, mae: 2.136772, mean_q: 2.596407, mean_eps: 0.650210\n",
      "  73270/200000: episode: 107, duration: 63.796s, episode steps: 530, steps per second:   8, episode reward:  9.000, mean reward:  0.017 [ 0.000,  1.000], mean action: 2.638 [0.000, 5.000],  loss: 0.010090, mae: 2.154077, mean_q: 2.617125, mean_eps: 0.648032\n",
      "  73778/200000: episode: 108, duration: 61.101s, episode steps: 508, steps per second:   8, episode reward:  9.000, mean reward:  0.018 [ 0.000,  1.000], mean action: 2.528 [0.000, 5.000],  loss: 0.011623, mae: 2.148899, mean_q: 2.612926, mean_eps: 0.645600\n",
      "  74480/200000: episode: 109, duration: 84.651s, episode steps: 702, steps per second:   8, episode reward: 14.000, mean reward:  0.020 [ 0.000,  1.000], mean action: 2.553 [0.000, 5.000],  loss: 0.010330, mae: 2.160068, mean_q: 2.626531, mean_eps: 0.642767\n",
      "  75265/200000: episode: 110, duration: 94.488s, episode steps: 785, steps per second:   8, episode reward: 16.000, mean reward:  0.020 [ 0.000,  1.000], mean action: 2.395 [0.000, 5.000],  loss: 0.010123, mae: 2.158144, mean_q: 2.625237, mean_eps: 0.639284\n",
      "  75957/200000: episode: 111, duration: 83.021s, episode steps: 692, steps per second:   8, episode reward: 10.000, mean reward:  0.014 [ 0.000,  1.000], mean action: 2.355 [0.000, 5.000],  loss: 0.010774, mae: 2.178017, mean_q: 2.652362, mean_eps: 0.635825\n",
      "  76340/200000: episode: 112, duration: 46.318s, episode steps: 383, steps per second:   8, episode reward:  7.000, mean reward:  0.018 [ 0.000,  1.000], mean action: 2.321 [0.000, 5.000],  loss: 0.011038, mae: 2.216152, mean_q: 2.695730, mean_eps: 0.633307\n",
      "  76988/200000: episode: 113, duration: 77.886s, episode steps: 648, steps per second:   8, episode reward: 10.000, mean reward:  0.015 [ 0.000,  1.000], mean action: 2.424 [0.000, 5.000],  loss: 0.010930, mae: 2.228534, mean_q: 2.712913, mean_eps: 0.630892\n",
      "  77649/200000: episode: 114, duration: 80.426s, episode steps: 661, steps per second:   8, episode reward: 11.000, mean reward:  0.017 [ 0.000,  1.000], mean action: 2.534 [0.000, 5.000],  loss: 0.009169, mae: 2.256956, mean_q: 2.745961, mean_eps: 0.627826\n",
      "  78140/200000: episode: 115, duration: 58.896s, episode steps: 491, steps per second:   8, episode reward:  5.000, mean reward:  0.010 [ 0.000,  1.000], mean action: 2.558 [0.000, 5.000],  loss: 0.010312, mae: 2.276556, mean_q: 2.768870, mean_eps: 0.625128\n",
      "  78776/200000: episode: 116, duration: 76.811s, episode steps: 636, steps per second:   8, episode reward:  9.000, mean reward:  0.014 [ 0.000,  1.000], mean action: 2.346 [0.000, 5.000],  loss: 0.011174, mae: 2.305060, mean_q: 2.804674, mean_eps: 0.622489\n",
      "  79344/200000: episode: 117, duration: 68.519s, episode steps: 568, steps per second:   8, episode reward:  8.000, mean reward:  0.014 [ 0.000,  1.000], mean action: 2.567 [0.000, 5.000],  loss: 0.009515, mae: 2.296180, mean_q: 2.795248, mean_eps: 0.619669\n",
      "  80244/200000: episode: 118, duration: 108.079s, episode steps: 900, steps per second:   8, episode reward: 14.000, mean reward:  0.016 [ 0.000,  1.000], mean action: 2.656 [0.000, 5.000],  loss: 0.008300, mae: 2.251757, mean_q: 2.741206, mean_eps: 0.616230\n",
      "  80871/200000: episode: 119, duration: 75.501s, episode steps: 627, steps per second:   8, episode reward: 10.000, mean reward:  0.016 [ 0.000,  1.000], mean action: 2.483 [0.000, 5.000],  loss: 0.009394, mae: 2.279979, mean_q: 2.775242, mean_eps: 0.612654\n",
      "  81357/200000: episode: 120, duration: 58.374s, episode steps: 486, steps per second:   8, episode reward:  8.000, mean reward:  0.016 [ 0.000,  1.000], mean action: 2.531 [0.000, 5.000],  loss: 0.009809, mae: 2.304378, mean_q: 2.803356, mean_eps: 0.610047\n",
      "  81852/200000: episode: 121, duration: 59.412s, episode steps: 495, steps per second:   8, episode reward:  6.000, mean reward:  0.012 [ 0.000,  1.000], mean action: 2.208 [0.000, 5.000],  loss: 0.008941, mae: 2.313762, mean_q: 2.814705, mean_eps: 0.607750\n",
      "  82448/200000: episode: 122, duration: 71.561s, episode steps: 596, steps per second:   8, episode reward:  6.000, mean reward:  0.010 [ 0.000,  1.000], mean action: 2.671 [0.000, 5.000],  loss: 0.009378, mae: 2.317906, mean_q: 2.817197, mean_eps: 0.605194\n",
      "  82857/200000: episode: 123, duration: 49.154s, episode steps: 409, steps per second:   8, episode reward:  8.000, mean reward:  0.020 [ 0.000,  1.000], mean action: 2.367 [0.000, 5.000],  loss: 0.008591, mae: 2.311920, mean_q: 2.809793, mean_eps: 0.602841\n",
      "  83321/200000: episode: 124, duration: 55.681s, episode steps: 464, steps per second:   8, episode reward:  7.000, mean reward:  0.015 [ 0.000,  1.000], mean action: 2.427 [0.000, 5.000],  loss: 0.008266, mae: 2.321897, mean_q: 2.821759, mean_eps: 0.600796\n",
      "  83977/200000: episode: 125, duration: 78.667s, episode steps: 656, steps per second:   8, episode reward: 10.000, mean reward:  0.015 [ 0.000,  1.000], mean action: 2.473 [0.000, 5.000],  loss: 0.008784, mae: 2.305415, mean_q: 2.802197, mean_eps: 0.598173\n",
      "  84557/200000: episode: 126, duration: 69.695s, episode steps: 580, steps per second:   8, episode reward:  9.000, mean reward:  0.016 [ 0.000,  1.000], mean action: 2.450 [0.000, 5.000],  loss: 0.008685, mae: 2.302210, mean_q: 2.798362, mean_eps: 0.595278\n",
      "  85435/200000: episode: 127, duration: 105.504s, episode steps: 878, steps per second:   8, episode reward: 17.000, mean reward:  0.019 [ 0.000,  1.000], mean action: 2.453 [0.000, 5.000],  loss: 0.009581, mae: 2.293023, mean_q: 2.786030, mean_eps: 0.591863\n",
      "  85829/200000: episode: 128, duration: 47.323s, episode steps: 394, steps per second:   8, episode reward:  6.000, mean reward:  0.015 [ 0.000,  1.000], mean action: 2.386 [0.000, 5.000],  loss: 0.012085, mae: 2.288790, mean_q: 2.781081, mean_eps: 0.588884\n",
      "  86433/200000: episode: 129, duration: 72.550s, episode steps: 604, steps per second:   8, episode reward:  6.000, mean reward:  0.010 [ 0.000,  1.000], mean action: 2.513 [0.000, 5.000],  loss: 0.010371, mae: 2.294353, mean_q: 2.788146, mean_eps: 0.586547\n",
      "  86982/200000: episode: 130, duration: 65.988s, episode steps: 549, steps per second:   8, episode reward:  6.000, mean reward:  0.011 [ 0.000,  1.000], mean action: 2.563 [0.000, 5.000],  loss: 0.009257, mae: 2.278498, mean_q: 2.769133, mean_eps: 0.583846\n",
      "  87367/200000: episode: 131, duration: 46.344s, episode steps: 385, steps per second:   8, episode reward:  6.000, mean reward:  0.016 [ 0.000,  1.000], mean action: 2.699 [0.000, 5.000],  loss: 0.010257, mae: 2.263380, mean_q: 2.749722, mean_eps: 0.581659\n",
      "  87779/200000: episode: 132, duration: 50.433s, episode steps: 412, steps per second:   8, episode reward:  5.000, mean reward:  0.012 [ 0.000,  1.000], mean action: 2.456 [0.000, 5.000],  loss: 0.009147, mae: 2.276652, mean_q: 2.764449, mean_eps: 0.579792\n",
      "  89155/200000: episode: 133, duration: 165.111s, episode steps: 1376, steps per second:   8, episode reward: 18.000, mean reward:  0.013 [ 0.000,  1.000], mean action: 2.488 [0.000, 5.000],  loss: 0.009540, mae: 2.290084, mean_q: 2.781179, mean_eps: 0.575604\n",
      "  90170/200000: episode: 134, duration: 121.532s, episode steps: 1015, steps per second:   8, episode reward: 23.000, mean reward:  0.023 [ 0.000,  1.000], mean action: 2.354 [0.000, 5.000],  loss: 0.009666, mae: 2.301754, mean_q: 2.795892, mean_eps: 0.570004\n",
      "  90665/200000: episode: 135, duration: 59.413s, episode steps: 495, steps per second:   8, episode reward: 10.000, mean reward:  0.020 [ 0.000,  1.000], mean action: 2.164 [0.000, 5.000],  loss: 0.011212, mae: 2.309736, mean_q: 2.805198, mean_eps: 0.566468\n",
      "  91362/200000: episode: 136, duration: 83.780s, episode steps: 697, steps per second:   8, episode reward: 10.000, mean reward:  0.014 [ 0.000,  1.000], mean action: 2.461 [0.000, 5.000],  loss: 0.008887, mae: 2.327057, mean_q: 2.826480, mean_eps: 0.563676\n",
      "  91870/200000: episode: 137, duration: 60.958s, episode steps: 508, steps per second:   8, episode reward:  5.000, mean reward:  0.010 [ 0.000,  1.000], mean action: 2.224 [0.000, 5.000],  loss: 0.011444, mae: 2.350393, mean_q: 2.855456, mean_eps: 0.560854\n",
      "  92672/200000: episode: 138, duration: 96.057s, episode steps: 802, steps per second:   8, episode reward: 15.000, mean reward:  0.019 [ 0.000,  1.000], mean action: 2.589 [0.000, 5.000],  loss: 0.010501, mae: 2.360370, mean_q: 2.867993, mean_eps: 0.557786\n",
      "  93378/200000: episode: 139, duration: 84.534s, episode steps: 706, steps per second:   8, episode reward:  8.000, mean reward:  0.011 [ 0.000,  1.000], mean action: 2.159 [0.000, 5.000],  loss: 0.010370, mae: 2.374319, mean_q: 2.885849, mean_eps: 0.554254\n",
      "  93985/200000: episode: 140, duration: 72.646s, episode steps: 607, steps per second:   8, episode reward: 10.000, mean reward:  0.016 [ 0.000,  1.000], mean action: 2.361 [0.000, 5.000],  loss: 0.009234, mae: 2.401733, mean_q: 2.919202, mean_eps: 0.551178\n",
      "  94752/200000: episode: 141, duration: 91.998s, episode steps: 767, steps per second:   8, episode reward:  6.000, mean reward:  0.008 [ 0.000,  1.000], mean action: 2.034 [0.000, 5.000],  loss: 0.009917, mae: 2.428832, mean_q: 2.951786, mean_eps: 0.547960\n",
      "  95241/200000: episode: 142, duration: 58.727s, episode steps: 489, steps per second:   8, episode reward:  8.000, mean reward:  0.016 [ 0.000,  1.000], mean action: 2.663 [0.000, 5.000],  loss: 0.009905, mae: 2.441530, mean_q: 2.968047, mean_eps: 0.545019\n",
      "  95904/200000: episode: 143, duration: 79.292s, episode steps: 663, steps per second:   8, episode reward:  8.000, mean reward:  0.012 [ 0.000,  1.000], mean action: 2.285 [0.000, 5.000],  loss: 0.009386, mae: 2.448980, mean_q: 2.975511, mean_eps: 0.542321\n",
      "  96684/200000: episode: 144, duration: 93.639s, episode steps: 780, steps per second:   8, episode reward: 11.000, mean reward:  0.014 [ 0.000,  1.000], mean action: 2.224 [0.000, 5.000],  loss: 0.009665, mae: 2.473050, mean_q: 3.004454, mean_eps: 0.538941\n",
      "  97277/200000: episode: 145, duration: 71.087s, episode steps: 593, steps per second:   8, episode reward:  4.000, mean reward:  0.007 [ 0.000,  1.000], mean action: 2.083 [0.000, 5.000],  loss: 0.009258, mae: 2.487841, mean_q: 3.023023, mean_eps: 0.535725\n",
      "  97760/200000: episode: 146, duration: 57.843s, episode steps: 483, steps per second:   8, episode reward:  4.000, mean reward:  0.008 [ 0.000,  1.000], mean action: 2.416 [0.000, 5.000],  loss: 0.010948, mae: 2.508505, mean_q: 3.046629, mean_eps: 0.533205\n",
      "  98145/200000: episode: 147, duration: 46.221s, episode steps: 385, steps per second:   8, episode reward:  5.000, mean reward:  0.013 [ 0.000,  1.000], mean action: 2.358 [0.000, 5.000],  loss: 0.009973, mae: 2.529824, mean_q: 3.072965, mean_eps: 0.531172\n",
      "  98804/200000: episode: 148, duration: 79.211s, episode steps: 659, steps per second:   8, episode reward: 12.000, mean reward:  0.018 [ 0.000,  1.000], mean action: 2.589 [0.000, 5.000],  loss: 0.009574, mae: 2.526258, mean_q: 3.066278, mean_eps: 0.528727\n",
      "  99329/200000: episode: 149, duration: 63.207s, episode steps: 525, steps per second:   8, episode reward:  4.000, mean reward:  0.008 [ 0.000,  1.000], mean action: 2.537 [0.000, 5.000],  loss: 0.008879, mae: 2.536171, mean_q: 3.076359, mean_eps: 0.525954\n",
      " 100025/200000: episode: 150, duration: 83.469s, episode steps: 696, steps per second:   8, episode reward: 10.000, mean reward:  0.014 [ 0.000,  1.000], mean action: 2.233 [0.000, 5.000],  loss: 0.010861, mae: 2.526750, mean_q: 3.065919, mean_eps: 0.523094\n",
      " 101158/200000: episode: 151, duration: 136.224s, episode steps: 1133, steps per second:   8, episode reward: 24.000, mean reward:  0.021 [ 0.000,  1.000], mean action: 2.247 [0.000, 5.000],  loss: 0.010237, mae: 2.535419, mean_q: 3.075214, mean_eps: 0.518811\n",
      " 101918/200000: episode: 152, duration: 91.151s, episode steps: 760, steps per second:   8, episode reward: 11.000, mean reward:  0.014 [ 0.000,  1.000], mean action: 2.150 [0.000, 5.000],  loss: 0.007864, mae: 2.519686, mean_q: 3.055767, mean_eps: 0.514377\n",
      " 102448/200000: episode: 153, duration: 63.700s, episode steps: 530, steps per second:   8, episode reward:  9.000, mean reward:  0.017 [ 0.000,  1.000], mean action: 2.396 [0.000, 5.000],  loss: 0.008328, mae: 2.522453, mean_q: 3.058852, mean_eps: 0.511356\n",
      " 103396/200000: episode: 154, duration: 113.828s, episode steps: 948, steps per second:   8, episode reward: 16.000, mean reward:  0.017 [ 0.000,  1.000], mean action: 2.333 [0.000, 5.000],  loss: 0.011454, mae: 2.540702, mean_q: 3.082699, mean_eps: 0.507894\n",
      " 103906/200000: episode: 155, duration: 61.061s, episode steps: 510, steps per second:   8, episode reward: 11.000, mean reward:  0.022 [ 0.000,  1.000], mean action: 2.435 [0.000, 5.000],  loss: 0.011444, mae: 2.529374, mean_q: 3.071228, mean_eps: 0.504479\n",
      " 104938/200000: episode: 156, duration: 123.774s, episode steps: 1032, steps per second:   8, episode reward: 20.000, mean reward:  0.019 [ 0.000,  1.000], mean action: 2.188 [0.000, 5.000],  loss: 0.011140, mae: 2.545607, mean_q: 3.091163, mean_eps: 0.500868\n",
      " 105623/200000: episode: 157, duration: 82.351s, episode steps: 685, steps per second:   8, episode reward: 13.000, mean reward:  0.019 [ 0.000,  1.000], mean action: 2.228 [0.000, 5.000],  loss: 0.010882, mae: 2.551563, mean_q: 3.100015, mean_eps: 0.496846\n",
      " 106736/200000: episode: 158, duration: 134.137s, episode steps: 1113, steps per second:   8, episode reward: 19.000, mean reward:  0.017 [ 0.000,  1.000], mean action: 2.292 [0.000, 5.000],  loss: 0.008370, mae: 2.558549, mean_q: 3.106403, mean_eps: 0.492635\n",
      " 107213/200000: episode: 159, duration: 57.194s, episode steps: 477, steps per second:   8, episode reward:  8.000, mean reward:  0.017 [ 0.000,  1.000], mean action: 2.459 [0.000, 5.000],  loss: 0.011026, mae: 2.551928, mean_q: 3.100344, mean_eps: 0.488911\n",
      " 107832/200000: episode: 160, duration: 74.044s, episode steps: 619, steps per second:   8, episode reward:  8.000, mean reward:  0.013 [ 0.000,  1.000], mean action: 2.334 [0.000, 5.000],  loss: 0.008333, mae: 2.539599, mean_q: 3.088259, mean_eps: 0.486344\n",
      " 108715/200000: episode: 161, duration: 105.970s, episode steps: 883, steps per second:   8, episode reward: 22.000, mean reward:  0.025 [ 0.000,  1.000], mean action: 2.686 [0.000, 5.000],  loss: 0.008479, mae: 2.542157, mean_q: 3.088893, mean_eps: 0.482826\n",
      " 109120/200000: episode: 162, duration: 48.525s, episode steps: 405, steps per second:   8, episode reward:  4.000, mean reward:  0.010 [ 0.000,  1.000], mean action: 2.447 [0.000, 5.000],  loss: 0.010063, mae: 2.566837, mean_q: 3.120017, mean_eps: 0.479810\n",
      " 109825/200000: episode: 163, duration: 92.398s, episode steps: 705, steps per second:   8, episode reward: 11.000, mean reward:  0.016 [ 0.000,  1.000], mean action: 2.407 [0.000, 5.000],  loss: 0.009534, mae: 2.570837, mean_q: 3.123971, mean_eps: 0.477210\n",
      " 110320/200000: episode: 164, duration: 62.773s, episode steps: 495, steps per second:   8, episode reward:  8.000, mean reward:  0.016 [ 0.000,  1.000], mean action: 2.598 [0.000, 5.000],  loss: 0.008915, mae: 2.592973, mean_q: 3.149449, mean_eps: 0.474400\n",
      " 111743/200000: episode: 165, duration: 179.797s, episode steps: 1423, steps per second:   8, episode reward: 32.000, mean reward:  0.022 [ 0.000,  1.000], mean action: 2.696 [0.000, 5.000],  loss: 0.009389, mae: 2.602871, mean_q: 3.161781, mean_eps: 0.469907\n",
      " 112137/200000: episode: 166, duration: 48.623s, episode steps: 394, steps per second:   8, episode reward:  7.000, mean reward:  0.018 [ 0.000,  1.000], mean action: 2.327 [0.000, 5.000],  loss: 0.008921, mae: 2.590123, mean_q: 3.146317, mean_eps: 0.465652\n",
      " 113367/200000: episode: 167, duration: 151.522s, episode steps: 1230, steps per second:   8, episode reward: 22.000, mean reward:  0.018 [ 0.000,  1.000], mean action: 2.545 [0.000, 5.000],  loss: 0.008410, mae: 2.600753, mean_q: 3.158348, mean_eps: 0.461848\n",
      " 114093/200000: episode: 168, duration: 89.448s, episode steps: 726, steps per second:   8, episode reward: 13.000, mean reward:  0.018 [ 0.000,  1.000], mean action: 2.559 [0.000, 5.000],  loss: 0.008771, mae: 2.604962, mean_q: 3.164519, mean_eps: 0.457267\n",
      " 114980/200000: episode: 169, duration: 108.945s, episode steps: 887, steps per second:   8, episode reward: 15.000, mean reward:  0.017 [ 0.000,  1.000], mean action: 2.324 [0.000, 5.000],  loss: 0.008648, mae: 2.620451, mean_q: 3.183635, mean_eps: 0.453489\n",
      " 115636/200000: episode: 170, duration: 81.088s, episode steps: 656, steps per second:   8, episode reward: 13.000, mean reward:  0.020 [ 0.000,  1.000], mean action: 2.352 [0.000, 5.000],  loss: 0.009240, mae: 2.643729, mean_q: 3.210406, mean_eps: 0.449875\n",
      " 116147/200000: episode: 171, duration: 63.353s, episode steps: 511, steps per second:   8, episode reward:  9.000, mean reward:  0.018 [ 0.000,  1.000], mean action: 2.434 [0.000, 5.000],  loss: 0.008186, mae: 2.637334, mean_q: 3.203603, mean_eps: 0.447142\n",
      " 116609/200000: episode: 172, duration: 58.654s, episode steps: 462, steps per second:   8, episode reward:  9.000, mean reward:  0.019 [ 0.000,  1.000], mean action: 2.494 [0.000, 5.000],  loss: 0.010183, mae: 2.654200, mean_q: 3.226413, mean_eps: 0.444863\n",
      " 117274/200000: episode: 173, duration: 81.643s, episode steps: 665, steps per second:   8, episode reward: 11.000, mean reward:  0.017 [ 0.000,  1.000], mean action: 2.427 [0.000, 5.000],  loss: 0.009941, mae: 2.671026, mean_q: 3.247145, mean_eps: 0.442224\n",
      " 117731/200000: episode: 174, duration: 56.209s, episode steps: 457, steps per second:   8, episode reward:  9.000, mean reward:  0.020 [ 0.000,  1.000], mean action: 2.284 [0.000, 5.000],  loss: 0.009449, mae: 2.672626, mean_q: 3.247524, mean_eps: 0.439596\n",
      " 118323/200000: episode: 175, duration: 72.898s, episode steps: 592, steps per second:   8, episode reward:  7.000, mean reward:  0.012 [ 0.000,  1.000], mean action: 2.606 [0.000, 5.000],  loss: 0.009754, mae: 2.675577, mean_q: 3.251835, mean_eps: 0.437139\n",
      " 118955/200000: episode: 176, duration: 77.764s, episode steps: 632, steps per second:   8, episode reward:  8.000, mean reward:  0.013 [ 0.000,  1.000], mean action: 2.565 [0.000, 5.000],  loss: 0.009434, mae: 2.677254, mean_q: 3.254223, mean_eps: 0.434272\n",
      " 119735/200000: episode: 177, duration: 95.843s, episode steps: 780, steps per second:   8, episode reward: 12.000, mean reward:  0.015 [ 0.000,  1.000], mean action: 2.378 [0.000, 5.000],  loss: 0.010597, mae: 2.698913, mean_q: 3.282501, mean_eps: 0.430965\n",
      " 120465/200000: episode: 178, duration: 90.946s, episode steps: 730, steps per second:   8, episode reward: 13.000, mean reward:  0.018 [ 0.000,  1.000], mean action: 2.716 [0.000, 5.000],  loss: 0.009911, mae: 2.724315, mean_q: 3.313858, mean_eps: 0.427429\n",
      " 121013/200000: episode: 179, duration: 67.476s, episode steps: 548, steps per second:   8, episode reward: 11.000, mean reward:  0.020 [ 0.000,  1.000], mean action: 2.432 [0.000, 5.000],  loss: 0.010349, mae: 2.734248, mean_q: 3.325877, mean_eps: 0.424435\n",
      " 121657/200000: episode: 180, duration: 79.071s, episode steps: 644, steps per second:   8, episode reward:  8.000, mean reward:  0.012 [ 0.000,  1.000], mean action: 2.502 [0.000, 5.000],  loss: 0.011605, mae: 2.740900, mean_q: 3.331540, mean_eps: 0.421644\n",
      " 122226/200000: episode: 181, duration: 70.079s, episode steps: 569, steps per second:   8, episode reward:  9.000, mean reward:  0.016 [ 0.000,  1.000], mean action: 2.548 [0.000, 5.000],  loss: 0.009648, mae: 2.745639, mean_q: 3.343216, mean_eps: 0.418803\n",
      " 122604/200000: episode: 182, duration: 50.780s, episode steps: 378, steps per second:   7, episode reward: 11.000, mean reward:  0.029 [ 0.000,  1.000], mean action: 1.960 [0.000, 5.000],  loss: 0.011161, mae: 2.757278, mean_q: 3.355560, mean_eps: 0.416585\n",
      " 123295/200000: episode: 183, duration: 97.405s, episode steps: 691, steps per second:   7, episode reward:  9.000, mean reward:  0.013 [ 0.000,  1.000], mean action: 2.266 [0.000, 5.000],  loss: 0.014134, mae: 2.766979, mean_q: 3.367823, mean_eps: 0.414081\n",
      " 124222/200000: episode: 184, duration: 126.436s, episode steps: 927, steps per second:   7, episode reward: 16.000, mean reward:  0.017 [ 0.000,  1.000], mean action: 2.274 [0.000, 5.000],  loss: 0.013518, mae: 2.815923, mean_q: 3.424128, mean_eps: 0.410291\n",
      " 124847/200000: episode: 185, duration: 102.765s, episode steps: 625, steps per second:   6, episode reward:  5.000, mean reward:  0.008 [ 0.000,  1.000], mean action: 2.573 [0.000, 5.000],  loss: 0.011194, mae: 2.822025, mean_q: 3.429266, mean_eps: 0.406657\n",
      " 125495/200000: episode: 186, duration: 100.940s, episode steps: 648, steps per second:   6, episode reward:  8.000, mean reward:  0.012 [ 0.000,  1.000], mean action: 2.528 [0.000, 5.000],  loss: 0.012065, mae: 2.839067, mean_q: 3.447691, mean_eps: 0.403675\n",
      " 126137/200000: episode: 187, duration: 97.710s, episode steps: 642, steps per second:   7, episode reward:  8.000, mean reward:  0.012 [ 0.000,  1.000], mean action: 2.509 [0.000, 5.000],  loss: 0.013843, mae: 2.850654, mean_q: 3.460801, mean_eps: 0.400654\n",
      " 126557/200000: episode: 188, duration: 68.766s, episode steps: 420, steps per second:   6, episode reward:  6.000, mean reward:  0.014 [ 0.000,  1.000], mean action: 2.300 [0.000, 5.000],  loss: 0.010011, mae: 2.871280, mean_q: 3.486865, mean_eps: 0.398166\n",
      " 126953/200000: episode: 189, duration: 60.005s, episode steps: 396, steps per second:   7, episode reward:  6.000, mean reward:  0.015 [ 0.000,  1.000], mean action: 2.460 [0.000, 5.000],  loss: 0.011329, mae: 2.857828, mean_q: 3.471108, mean_eps: 0.396255\n",
      " 127646/200000: episode: 190, duration: 103.581s, episode steps: 693, steps per second:   7, episode reward:  4.000, mean reward:  0.006 [ 0.000,  1.000], mean action: 2.613 [0.000, 5.000],  loss: 0.012212, mae: 2.865743, mean_q: 3.480774, mean_eps: 0.393705\n",
      " 128316/200000: episode: 191, duration: 104.274s, episode steps: 670, steps per second:   6, episode reward:  7.000, mean reward:  0.010 [ 0.000,  1.000], mean action: 2.531 [0.000, 5.000],  loss: 0.012174, mae: 2.875502, mean_q: 3.489922, mean_eps: 0.390512\n",
      " 128912/200000: episode: 192, duration: 86.177s, episode steps: 596, steps per second:   7, episode reward:  6.000, mean reward:  0.010 [ 0.000,  1.000], mean action: 2.550 [0.000, 5.000],  loss: 0.010531, mae: 2.875979, mean_q: 3.491354, mean_eps: 0.387547\n",
      " 130838/200000: episode: 193, duration: 241.395s, episode steps: 1926, steps per second:   8, episode reward: 24.000, mean reward:  0.012 [ 0.000,  1.000], mean action: 2.417 [0.000, 5.000],  loss: 0.010209, mae: 2.843117, mean_q: 3.451629, mean_eps: 0.381641\n",
      " 131505/200000: episode: 194, duration: 82.833s, episode steps: 667, steps per second:   8, episode reward: 13.000, mean reward:  0.019 [ 0.000,  1.000], mean action: 2.432 [0.000, 5.000],  loss: 0.009584, mae: 2.821877, mean_q: 3.425941, mean_eps: 0.375567\n",
      " 131868/200000: episode: 195, duration: 45.074s, episode steps: 363, steps per second:   8, episode reward:  5.000, mean reward:  0.014 [ 0.000,  1.000], mean action: 2.981 [0.000, 5.000],  loss: 0.010287, mae: 2.818936, mean_q: 3.421922, mean_eps: 0.373155\n",
      " 132777/200000: episode: 196, duration: 112.545s, episode steps: 909, steps per second:   8, episode reward: 10.000, mean reward:  0.011 [ 0.000,  1.000], mean action: 2.897 [0.000, 5.000],  loss: 0.010058, mae: 2.814440, mean_q: 3.415508, mean_eps: 0.370176\n",
      " 133421/200000: episode: 197, duration: 79.742s, episode steps: 644, steps per second:   8, episode reward: 15.000, mean reward:  0.023 [ 0.000,  1.000], mean action: 2.402 [0.000, 5.000],  loss: 0.009234, mae: 2.818772, mean_q: 3.418780, mean_eps: 0.366539\n",
      " 134534/200000: episode: 198, duration: 137.820s, episode steps: 1113, steps per second:   8, episode reward: 22.000, mean reward:  0.020 [ 0.000,  1.000], mean action: 2.452 [0.000, 5.000],  loss: 0.010123, mae: 2.824367, mean_q: 3.425593, mean_eps: 0.362424\n",
      " 135199/200000: episode: 199, duration: 82.325s, episode steps: 665, steps per second:   8, episode reward: 16.000, mean reward:  0.024 [ 0.000,  1.000], mean action: 2.400 [0.000, 5.000],  loss: 0.009252, mae: 2.817503, mean_q: 3.417223, mean_eps: 0.358259\n",
      " 136246/200000: episode: 200, duration: 129.334s, episode steps: 1047, steps per second:   8, episode reward: 17.000, mean reward:  0.016 [ 0.000,  1.000], mean action: 2.423 [0.000, 5.000],  loss: 0.009849, mae: 2.824025, mean_q: 3.425670, mean_eps: 0.354250\n",
      " 136957/200000: episode: 201, duration: 87.810s, episode steps: 711, steps per second:   8, episode reward: 16.000, mean reward:  0.023 [ 0.000,  1.000], mean action: 2.546 [0.000, 5.000],  loss: 0.009152, mae: 2.830636, mean_q: 3.436454, mean_eps: 0.350132\n",
      " 137979/200000: episode: 202, duration: 126.285s, episode steps: 1022, steps per second:   8, episode reward: 22.000, mean reward:  0.022 [ 0.000,  1.000], mean action: 2.369 [0.000, 5.000],  loss: 0.008731, mae: 2.823483, mean_q: 3.430195, mean_eps: 0.346073\n",
      " 138524/200000: episode: 203, duration: 67.437s, episode steps: 545, steps per second:   8, episode reward:  9.000, mean reward:  0.017 [ 0.000,  1.000], mean action: 2.883 [0.000, 5.000],  loss: 0.009428, mae: 2.805980, mean_q: 3.408364, mean_eps: 0.342403\n",
      " 139599/200000: episode: 204, duration: 135.060s, episode steps: 1075, steps per second:   8, episode reward: 26.000, mean reward:  0.024 [ 0.000,  1.000], mean action: 2.499 [0.000, 5.000],  loss: 0.008202, mae: 2.810801, mean_q: 3.415261, mean_eps: 0.338609\n",
      " 140283/200000: episode: 205, duration: 84.721s, episode steps: 684, steps per second:   8, episode reward:  9.000, mean reward:  0.013 [ 0.000,  1.000], mean action: 2.893 [0.000, 5.000],  loss: 0.007858, mae: 2.822296, mean_q: 3.430138, mean_eps: 0.334489\n",
      " 140773/200000: episode: 206, duration: 60.421s, episode steps: 490, steps per second:   8, episode reward:  7.000, mean reward:  0.014 [ 0.000,  1.000], mean action: 2.716 [0.000, 5.000],  loss: 0.009585, mae: 2.860680, mean_q: 3.480478, mean_eps: 0.331740\n",
      " 141711/200000: episode: 207, duration: 115.896s, episode steps: 938, steps per second:   8, episode reward: 19.000, mean reward:  0.020 [ 0.000,  1.000], mean action: 2.588 [0.000, 5.000],  loss: 0.009980, mae: 2.871350, mean_q: 3.490072, mean_eps: 0.328395\n",
      " 142345/200000: episode: 208, duration: 78.428s, episode steps: 634, steps per second:   8, episode reward:  8.000, mean reward:  0.013 [ 0.000,  1.000], mean action: 2.330 [0.000, 5.000],  loss: 0.009731, mae: 2.864856, mean_q: 3.483485, mean_eps: 0.324713\n",
      " 143027/200000: episode: 209, duration: 84.333s, episode steps: 682, steps per second:   8, episode reward: 15.000, mean reward:  0.022 [ 0.000,  1.000], mean action: 2.657 [0.000, 5.000],  loss: 0.009313, mae: 2.884436, mean_q: 3.506701, mean_eps: 0.321631\n",
      " 143718/200000: episode: 210, duration: 86.183s, episode steps: 691, steps per second:   8, episode reward: 11.000, mean reward:  0.016 [ 0.000,  1.000], mean action: 2.162 [0.000, 5.000],  loss: 0.009553, mae: 2.888235, mean_q: 3.510219, mean_eps: 0.318415\n",
      " 144948/200000: episode: 211, duration: 166.065s, episode steps: 1230, steps per second:   7, episode reward: 22.000, mean reward:  0.018 [ 0.000,  1.000], mean action: 2.249 [0.000, 5.000],  loss: 0.009597, mae: 2.880477, mean_q: 3.503252, mean_eps: 0.313916\n",
      " 145466/200000: episode: 212, duration: 74.718s, episode steps: 518, steps per second:   7, episode reward: 11.000, mean reward:  0.021 [ 0.000,  1.000], mean action: 2.510 [0.000, 5.000],  loss: 0.010328, mae: 2.871703, mean_q: 3.492066, mean_eps: 0.309822\n",
      " 146698/200000: episode: 213, duration: 171.326s, episode steps: 1232, steps per second:   7, episode reward: 32.000, mean reward:  0.026 [ 0.000,  1.000], mean action: 2.393 [0.000, 5.000],  loss: 0.010648, mae: 2.846963, mean_q: 3.459291, mean_eps: 0.305724\n",
      " 147463/200000: episode: 214, duration: 101.918s, episode steps: 765, steps per second:   8, episode reward: 10.000, mean reward:  0.013 [ 0.000,  1.000], mean action: 2.508 [0.000, 5.000],  loss: 0.010244, mae: 2.852859, mean_q: 3.466408, mean_eps: 0.301046\n",
      " 148096/200000: episode: 215, duration: 84.438s, episode steps: 633, steps per second:   7, episode reward: 15.000, mean reward:  0.024 [ 0.000,  1.000], mean action: 2.651 [0.000, 5.000],  loss: 0.012482, mae: 2.878963, mean_q: 3.497495, mean_eps: 0.297772\n",
      " 148968/200000: episode: 216, duration: 122.760s, episode steps: 872, steps per second:   7, episode reward: 10.000, mean reward:  0.011 [ 0.000,  1.000], mean action: 2.541 [0.000, 5.000],  loss: 0.009914, mae: 2.889303, mean_q: 3.508563, mean_eps: 0.294247\n",
      " 149631/200000: episode: 217, duration: 103.219s, episode steps: 663, steps per second:   6, episode reward: 14.000, mean reward:  0.021 [ 0.000,  1.000], mean action: 2.606 [0.000, 5.000],  loss: 0.010802, mae: 2.869590, mean_q: 3.484175, mean_eps: 0.290652\n",
      " 150294/200000: episode: 218, duration: 96.443s, episode steps: 663, steps per second:   7, episode reward: 12.000, mean reward:  0.018 [ 0.000,  1.000], mean action: 2.582 [0.000, 5.000],  loss: 0.009961, mae: 2.879479, mean_q: 3.495102, mean_eps: 0.287546\n",
      " 151234/200000: episode: 219, duration: 145.571s, episode steps: 940, steps per second:   6, episode reward: 20.000, mean reward:  0.021 [ 0.000,  1.000], mean action: 2.520 [0.000, 5.000],  loss: 0.011144, mae: 2.902702, mean_q: 3.521613, mean_eps: 0.283792\n",
      " 151738/200000: episode: 220, duration: 72.339s, episode steps: 504, steps per second:   7, episode reward:  6.000, mean reward:  0.012 [ 0.000,  1.000], mean action: 2.395 [0.000, 5.000],  loss: 0.010798, mae: 2.917519, mean_q: 3.539216, mean_eps: 0.280410\n",
      " 152599/200000: episode: 221, duration: 116.824s, episode steps: 861, steps per second:   7, episode reward: 11.000, mean reward:  0.013 [ 0.000,  1.000], mean action: 2.413 [0.000, 5.000],  loss: 0.010950, mae: 2.939144, mean_q: 3.566856, mean_eps: 0.277213\n",
      " 153559/200000: episode: 222, duration: 142.856s, episode steps: 960, steps per second:   7, episode reward: 23.000, mean reward:  0.024 [ 0.000,  1.000], mean action: 2.433 [0.000, 5.000],  loss: 0.009452, mae: 2.939693, mean_q: 3.570084, mean_eps: 0.272948\n",
      " 154232/200000: episode: 223, duration: 92.405s, episode steps: 673, steps per second:   7, episode reward: 13.000, mean reward:  0.019 [ 0.000,  1.000], mean action: 2.796 [0.000, 5.000],  loss: 0.010133, mae: 2.938674, mean_q: 3.569903, mean_eps: 0.269123\n",
      " 154917/200000: episode: 224, duration: 102.281s, episode steps: 685, steps per second:   7, episode reward: 12.000, mean reward:  0.018 [ 0.000,  1.000], mean action: 2.302 [0.000, 5.000],  loss: 0.011351, mae: 2.943951, mean_q: 3.578267, mean_eps: 0.265943\n",
      " 155573/200000: episode: 225, duration: 96.305s, episode steps: 656, steps per second:   7, episode reward: 12.000, mean reward:  0.018 [ 0.000,  1.000], mean action: 2.713 [0.000, 5.000],  loss: 0.011713, mae: 2.979406, mean_q: 3.619792, mean_eps: 0.262802\n",
      " 155954/200000: episode: 226, duration: 56.668s, episode steps: 381, steps per second:   7, episode reward:  6.000, mean reward:  0.016 [ 0.000,  1.000], mean action: 2.682 [0.000, 5.000],  loss: 0.012170, mae: 2.988647, mean_q: 3.630544, mean_eps: 0.260373\n",
      " 156424/200000: episode: 227, duration: 64.324s, episode steps: 470, steps per second:   7, episode reward:  6.000, mean reward:  0.013 [ 0.000,  1.000], mean action: 2.530 [0.000, 5.000],  loss: 0.012896, mae: 2.992967, mean_q: 3.632332, mean_eps: 0.258380\n",
      " 157251/200000: episode: 228, duration: 113.785s, episode steps: 827, steps per second:   7, episode reward: 13.000, mean reward:  0.016 [ 0.000,  1.000], mean action: 2.341 [0.000, 5.000],  loss: 0.012805, mae: 2.994488, mean_q: 3.634712, mean_eps: 0.255342\n",
      " 158234/200000: episode: 229, duration: 135.393s, episode steps: 983, steps per second:   7, episode reward: 22.000, mean reward:  0.022 [ 0.000,  1.000], mean action: 2.562 [0.000, 5.000],  loss: 0.012058, mae: 2.982884, mean_q: 3.621949, mean_eps: 0.251103\n",
      " 158753/200000: episode: 230, duration: 77.529s, episode steps: 519, steps per second:   7, episode reward:  5.000, mean reward:  0.010 [ 0.000,  1.000], mean action: 2.462 [0.000, 5.000],  loss: 0.011625, mae: 2.966402, mean_q: 3.601582, mean_eps: 0.247585\n",
      " 160009/200000: episode: 231, duration: 180.895s, episode steps: 1256, steps per second:   7, episode reward: 28.000, mean reward:  0.022 [ 0.000,  1.000], mean action: 2.481 [0.000, 5.000],  loss: 0.011022, mae: 2.980158, mean_q: 3.620274, mean_eps: 0.243428\n",
      " 160843/200000: episode: 232, duration: 115.227s, episode steps: 834, steps per second:   7, episode reward: 13.000, mean reward:  0.016 [ 0.000,  1.000], mean action: 2.470 [0.000, 5.000],  loss: 0.012187, mae: 2.977054, mean_q: 3.616971, mean_eps: 0.238533\n",
      " 161226/200000: episode: 233, duration: 51.461s, episode steps: 383, steps per second:   7, episode reward:  7.000, mean reward:  0.018 [ 0.000,  1.000], mean action: 2.945 [0.000, 5.000],  loss: 0.010285, mae: 2.987945, mean_q: 3.630671, mean_eps: 0.235683\n",
      " 161859/200000: episode: 234, duration: 90.186s, episode steps: 633, steps per second:   7, episode reward: 14.000, mean reward:  0.022 [ 0.000,  1.000], mean action: 2.869 [0.000, 5.000],  loss: 0.010765, mae: 2.995926, mean_q: 3.640806, mean_eps: 0.233303\n",
      " 162331/200000: episode: 235, duration: 70.355s, episode steps: 472, steps per second:   7, episode reward:  6.000, mean reward:  0.013 [ 0.000,  1.000], mean action: 2.799 [0.000, 5.000],  loss: 0.010405, mae: 3.003987, mean_q: 3.646854, mean_eps: 0.230715\n",
      " 162847/200000: episode: 236, duration: 71.072s, episode steps: 516, steps per second:   7, episode reward: 10.000, mean reward:  0.019 [ 0.000,  1.000], mean action: 2.816 [0.000, 5.000],  loss: 0.012238, mae: 3.013653, mean_q: 3.657514, mean_eps: 0.228401\n",
      " 163685/200000: episode: 237, duration: 123.698s, episode steps: 838, steps per second:   7, episode reward: 11.000, mean reward:  0.013 [ 0.000,  1.000], mean action: 2.582 [0.000, 5.000],  loss: 0.010754, mae: 3.024923, mean_q: 3.669301, mean_eps: 0.225230\n",
      " 164222/200000: episode: 238, duration: 70.856s, episode steps: 537, steps per second:   8, episode reward:  9.000, mean reward:  0.017 [ 0.000,  1.000], mean action: 2.199 [0.000, 5.000],  loss: 0.013894, mae: 3.024919, mean_q: 3.667842, mean_eps: 0.222010\n",
      " 165192/200000: episode: 239, duration: 117.414s, episode steps: 970, steps per second:   8, episode reward: 17.000, mean reward:  0.018 [ 0.000,  1.000], mean action: 2.364 [0.000, 5.000],  loss: 0.010355, mae: 3.028521, mean_q: 3.671958, mean_eps: 0.218480\n",
      " 165564/200000: episode: 240, duration: 45.358s, episode steps: 372, steps per second:   8, episode reward:  7.000, mean reward:  0.019 [ 0.000,  1.000], mean action: 2.855 [0.000, 5.000],  loss: 0.012333, mae: 3.030456, mean_q: 3.673768, mean_eps: 0.215337\n",
      " 166232/200000: episode: 241, duration: 83.744s, episode steps: 668, steps per second:   8, episode reward: 14.000, mean reward:  0.021 [ 0.000,  1.000], mean action: 2.454 [0.000, 5.000],  loss: 0.008397, mae: 3.023057, mean_q: 3.665949, mean_eps: 0.212901\n",
      " 167438/200000: episode: 242, duration: 165.302s, episode steps: 1206, steps per second:   7, episode reward: 18.000, mean reward:  0.015 [ 0.000,  1.000], mean action: 2.449 [0.000, 5.000],  loss: 0.011014, mae: 3.009282, mean_q: 3.648034, mean_eps: 0.208512\n",
      " 168083/200000: episode: 243, duration: 96.287s, episode steps: 645, steps per second:   7, episode reward: 13.000, mean reward:  0.020 [ 0.000,  1.000], mean action: 2.155 [0.000, 5.000],  loss: 0.012227, mae: 2.999924, mean_q: 3.638872, mean_eps: 0.204177\n",
      " 168892/200000: episode: 244, duration: 117.859s, episode steps: 809, steps per second:   7, episode reward: 15.000, mean reward:  0.019 [ 0.000,  1.000], mean action: 1.963 [0.000, 5.000],  loss: 0.010684, mae: 2.992578, mean_q: 3.629587, mean_eps: 0.200771\n",
      " 169892/200000: episode: 245, duration: 142.342s, episode steps: 1000, steps per second:   7, episode reward: 15.000, mean reward:  0.015 [ 0.000,  1.000], mean action: 2.509 [0.000, 5.000],  loss: 0.009622, mae: 2.981161, mean_q: 3.615601, mean_eps: 0.196535\n",
      " 170545/200000: episode: 246, duration: 96.195s, episode steps: 653, steps per second:   7, episode reward: 13.000, mean reward:  0.020 [ 0.000,  1.000], mean action: 2.357 [0.000, 5.000],  loss: 0.012997, mae: 2.964523, mean_q: 3.594773, mean_eps: 0.192663\n",
      " 171176/200000: episode: 247, duration: 88.550s, episode steps: 631, steps per second:   7, episode reward: 11.000, mean reward:  0.017 [ 0.000,  1.000], mean action: 2.043 [0.000, 5.000],  loss: 0.014350, mae: 2.961834, mean_q: 3.590861, mean_eps: 0.189656\n",
      " 171834/200000: episode: 248, duration: 93.643s, episode steps: 658, steps per second:   7, episode reward: 13.000, mean reward:  0.020 [ 0.000,  1.000], mean action: 2.292 [0.000, 5.000],  loss: 0.009794, mae: 2.953913, mean_q: 3.581713, mean_eps: 0.186637\n",
      " 172217/200000: episode: 249, duration: 53.088s, episode steps: 383, steps per second:   7, episode reward:  7.000, mean reward:  0.018 [ 0.000,  1.000], mean action: 2.493 [0.000, 5.000],  loss: 0.011919, mae: 2.975477, mean_q: 3.606466, mean_eps: 0.184199\n",
      " 173129/200000: episode: 250, duration: 133.732s, episode steps: 912, steps per second:   7, episode reward: 15.000, mean reward:  0.016 [ 0.000,  1.000], mean action: 2.395 [0.000, 5.000],  loss: 0.010158, mae: 2.986625, mean_q: 3.619915, mean_eps: 0.181166\n",
      " 173751/200000: episode: 251, duration: 89.453s, episode steps: 622, steps per second:   7, episode reward:  5.000, mean reward:  0.008 [ 0.000,  1.000], mean action: 2.373 [0.000, 5.000],  loss: 0.011187, mae: 2.994881, mean_q: 3.630550, mean_eps: 0.177573\n",
      " 174807/200000: episode: 252, duration: 155.523s, episode steps: 1056, steps per second:   7, episode reward: 14.000, mean reward:  0.013 [ 0.000,  1.000], mean action: 2.341 [0.000, 5.000],  loss: 0.011714, mae: 2.999322, mean_q: 3.638289, mean_eps: 0.173643\n",
      " 175466/200000: episode: 253, duration: 94.344s, episode steps: 659, steps per second:   7, episode reward: 10.000, mean reward:  0.015 [ 0.000,  1.000], mean action: 2.082 [0.000, 5.000],  loss: 0.010823, mae: 3.012182, mean_q: 3.653847, mean_eps: 0.169626\n",
      " 176395/200000: episode: 254, duration: 134.112s, episode steps: 929, steps per second:   7, episode reward: 19.000, mean reward:  0.020 [ 0.000,  1.000], mean action: 2.213 [0.000, 5.000],  loss: 0.009118, mae: 3.010186, mean_q: 3.652234, mean_eps: 0.165907\n",
      " 177042/200000: episode: 255, duration: 92.503s, episode steps: 647, steps per second:   7, episode reward:  7.000, mean reward:  0.011 [ 0.000,  1.000], mean action: 2.453 [0.000, 5.000],  loss: 0.010750, mae: 3.017855, mean_q: 3.661493, mean_eps: 0.162216\n",
      " 177765/200000: episode: 256, duration: 102.846s, episode steps: 723, steps per second:   7, episode reward: 13.000, mean reward:  0.018 [ 0.000,  1.000], mean action: 2.515 [0.000, 5.000],  loss: 0.010069, mae: 3.041860, mean_q: 3.690331, mean_eps: 0.159007\n",
      " 178377/200000: episode: 257, duration: 83.649s, episode steps: 612, steps per second:   7, episode reward:  8.000, mean reward:  0.013 [ 0.000,  1.000], mean action: 1.766 [0.000, 5.000],  loss: 0.009361, mae: 3.047410, mean_q: 3.696313, mean_eps: 0.155880\n",
      " 178909/200000: episode: 258, duration: 73.039s, episode steps: 532, steps per second:   7, episode reward:  5.000, mean reward:  0.009 [ 0.000,  1.000], mean action: 2.254 [0.000, 5.000],  loss: 0.011148, mae: 3.053856, mean_q: 3.704154, mean_eps: 0.153201\n",
      " 179384/200000: episode: 259, duration: 65.531s, episode steps: 475, steps per second:   7, episode reward:  5.000, mean reward:  0.011 [ 0.000,  1.000], mean action: 2.328 [0.000, 5.000],  loss: 0.011680, mae: 3.073256, mean_q: 3.727545, mean_eps: 0.150842\n",
      " 180188/200000: episode: 260, duration: 115.735s, episode steps: 804, steps per second:   7, episode reward: 16.000, mean reward:  0.020 [ 0.000,  1.000], mean action: 2.152 [0.000, 5.000],  loss: 0.009858, mae: 3.082726, mean_q: 3.738632, mean_eps: 0.147847\n",
      " 180790/200000: episode: 261, duration: 85.155s, episode steps: 602, steps per second:   7, episode reward: 10.000, mean reward:  0.017 [ 0.000,  1.000], mean action: 2.051 [0.000, 5.000],  loss: 0.012750, mae: 3.086094, mean_q: 3.741440, mean_eps: 0.144554\n",
      " 181479/200000: episode: 262, duration: 103.170s, episode steps: 689, steps per second:   7, episode reward: 11.000, mean reward:  0.016 [ 0.000,  1.000], mean action: 2.189 [0.000, 5.000],  loss: 0.011231, mae: 3.095927, mean_q: 3.753011, mean_eps: 0.141530\n",
      " 181978/200000: episode: 263, duration: 70.427s, episode steps: 499, steps per second:   7, episode reward:  7.000, mean reward:  0.014 [ 0.000,  1.000], mean action: 2.561 [0.000, 5.000],  loss: 0.009059, mae: 3.110528, mean_q: 3.771170, mean_eps: 0.138748\n",
      " 182650/200000: episode: 264, duration: 88.460s, episode steps: 672, steps per second:   8, episode reward: 13.000, mean reward:  0.019 [ 0.000,  1.000], mean action: 2.289 [0.000, 5.000],  loss: 0.013193, mae: 3.078419, mean_q: 3.732734, mean_eps: 0.136005\n",
      " 183684/200000: episode: 265, duration: 136.669s, episode steps: 1034, steps per second:   8, episode reward: 18.000, mean reward:  0.017 [ 0.000,  1.000], mean action: 2.544 [0.000, 5.000],  loss: 0.010491, mae: 3.064148, mean_q: 3.714273, mean_eps: 0.132010\n",
      " 184348/200000: episode: 266, duration: 87.996s, episode steps: 664, steps per second:   8, episode reward: 13.000, mean reward:  0.020 [ 0.000,  1.000], mean action: 2.556 [0.000, 5.000],  loss: 0.010401, mae: 3.052885, mean_q: 3.699665, mean_eps: 0.128033\n",
      " 185296/200000: episode: 267, duration: 120.575s, episode steps: 948, steps per second:   8, episode reward: 15.000, mean reward:  0.016 [ 0.000,  1.000], mean action: 2.438 [0.000, 5.000],  loss: 0.011211, mae: 3.034357, mean_q: 3.677649, mean_eps: 0.124257\n",
      " 186201/200000: episode: 268, duration: 108.896s, episode steps: 905, steps per second:   8, episode reward: 24.000, mean reward:  0.027 [ 0.000,  1.000], mean action: 2.636 [0.000, 5.000],  loss: 0.010623, mae: 3.016495, mean_q: 3.655693, mean_eps: 0.119917\n",
      " 186613/200000: episode: 269, duration: 49.759s, episode steps: 412, steps per second:   8, episode reward:  9.000, mean reward:  0.022 [ 0.000,  1.000], mean action: 2.473 [0.000, 5.000],  loss: 0.013759, mae: 2.998776, mean_q: 3.634707, mean_eps: 0.116833\n",
      " 187261/200000: episode: 270, duration: 86.631s, episode steps: 648, steps per second:   7, episode reward:  8.000, mean reward:  0.012 [ 0.000,  1.000], mean action: 2.358 [0.000, 5.000],  loss: 0.013129, mae: 3.006036, mean_q: 3.643860, mean_eps: 0.114350\n",
      " 188072/200000: episode: 271, duration: 106.147s, episode steps: 811, steps per second:   8, episode reward: 12.000, mean reward:  0.015 [ 0.000,  1.000], mean action: 2.999 [0.000, 5.000],  loss: 0.010859, mae: 2.995678, mean_q: 3.632673, mean_eps: 0.110933\n",
      " 188707/200000: episode: 272, duration: 83.753s, episode steps: 635, steps per second:   8, episode reward:  9.000, mean reward:  0.014 [ 0.000,  1.000], mean action: 2.869 [0.000, 5.000],  loss: 0.010968, mae: 2.978728, mean_q: 3.614027, mean_eps: 0.107546\n",
      " 189484/200000: episode: 273, duration: 96.460s, episode steps: 777, steps per second:   8, episode reward:  8.000, mean reward:  0.010 [ 0.000,  1.000], mean action: 3.067 [0.000, 5.000],  loss: 0.009302, mae: 2.972872, mean_q: 3.607125, mean_eps: 0.104239\n",
      " 190823/200000: episode: 274, duration: 179.838s, episode steps: 1339, steps per second:   7, episode reward: 27.000, mean reward:  0.020 [ 0.000,  1.000], mean action: 2.355 [0.000, 5.000],  loss: 0.010041, mae: 2.960417, mean_q: 3.594302, mean_eps: 0.100467\n",
      " 191516/200000: episode: 275, duration: 94.859s, episode steps: 693, steps per second:   7, episode reward: 11.000, mean reward:  0.016 [ 0.000,  1.000], mean action: 2.580 [0.000, 5.000],  loss: 0.010131, mae: 2.925020, mean_q: 3.552772, mean_eps: 0.100000\n",
      " 192150/200000: episode: 276, duration: 88.814s, episode steps: 634, steps per second:   7, episode reward:  9.000, mean reward:  0.014 [ 0.000,  1.000], mean action: 2.634 [0.000, 5.000],  loss: 0.009836, mae: 2.910624, mean_q: 3.538171, mean_eps: 0.100000\n",
      " 192845/200000: episode: 277, duration: 97.331s, episode steps: 695, steps per second:   7, episode reward: 15.000, mean reward:  0.022 [ 0.000,  1.000], mean action: 2.475 [0.000, 5.000],  loss: 0.009639, mae: 2.904633, mean_q: 3.529412, mean_eps: 0.100000\n",
      " 193828/200000: episode: 278, duration: 125.736s, episode steps: 983, steps per second:   8, episode reward: 16.000, mean reward:  0.016 [ 0.000,  1.000], mean action: 2.629 [0.000, 5.000],  loss: 0.011079, mae: 2.903521, mean_q: 3.528270, mean_eps: 0.100000\n",
      " 194508/200000: episode: 279, duration: 87.422s, episode steps: 680, steps per second:   8, episode reward:  5.000, mean reward:  0.007 [ 0.000,  1.000], mean action: 2.416 [0.000, 5.000],  loss: 0.011511, mae: 2.899490, mean_q: 3.522958, mean_eps: 0.100000\n",
      " 195055/200000: episode: 280, duration: 72.207s, episode steps: 547, steps per second:   8, episode reward: 13.000, mean reward:  0.024 [ 0.000,  1.000], mean action: 2.561 [0.000, 5.000],  loss: 0.009304, mae: 2.897387, mean_q: 3.520001, mean_eps: 0.100000\n",
      " 195816/200000: episode: 281, duration: 95.332s, episode steps: 761, steps per second:   8, episode reward: 19.000, mean reward:  0.025 [ 0.000,  1.000], mean action: 2.443 [0.000, 5.000],  loss: 0.013152, mae: 2.872641, mean_q: 3.488915, mean_eps: 0.100000\n",
      " 196477/200000: episode: 282, duration: 82.580s, episode steps: 661, steps per second:   8, episode reward: 11.000, mean reward:  0.017 [ 0.000,  1.000], mean action: 2.590 [0.000, 5.000],  loss: 0.011733, mae: 2.857360, mean_q: 3.469082, mean_eps: 0.100000\n",
      " 197451/200000: episode: 283, duration: 130.355s, episode steps: 974, steps per second:   7, episode reward: 22.000, mean reward:  0.023 [ 0.000,  1.000], mean action: 2.188 [0.000, 5.000],  loss: 0.010878, mae: 2.860157, mean_q: 3.472502, mean_eps: 0.100000\n",
      " 197875/200000: episode: 284, duration: 53.785s, episode steps: 424, steps per second:   8, episode reward:  6.000, mean reward:  0.014 [ 0.000,  1.000], mean action: 2.613 [0.000, 5.000],  loss: 0.009479, mae: 2.865753, mean_q: 3.481637, mean_eps: 0.100000\n",
      " 198865/200000: episode: 285, duration: 128.329s, episode steps: 990, steps per second:   8, episode reward: 15.000, mean reward:  0.015 [ 0.000,  1.000], mean action: 2.709 [0.000, 5.000],  loss: 0.010343, mae: 2.869099, mean_q: 3.485518, mean_eps: 0.100000\n",
      " 199530/200000: episode: 286, duration: 82.354s, episode steps: 665, steps per second:   8, episode reward: 15.000, mean reward:  0.023 [ 0.000,  1.000], mean action: 2.146 [0.000, 5.000],  loss: 0.010421, mae: 2.871008, mean_q: 3.489110, mean_eps: 0.100000\n",
      "done, took 25425.845 seconds\n"
     ]
    },
    {
     "data": {
      "text/plain": [
       "<tensorflow.python.keras.callbacks.History at 0x1c1036b3f10>"
      ]
     },
     "execution_count": 8,
     "metadata": {},
     "output_type": "execute_result"
    }
   ],
   "source": [
    "checkpoint = ModelIntervalCheckpoint('dqn13_weights_{step}.h5f', interval=10000)\n",
    "logger = FileLogger('dqn13_log.json', interval=100)\n",
    "dqn.fit(env, nb_steps=200000, visualize=False, verbose=2, log_interval=5000, callbacks=[checkpoint, logger])"
   ]
  },
  {
   "cell_type": "code",
   "execution_count": 9,
   "metadata": {},
   "outputs": [
    {
     "name": "stdout",
     "output_type": "stream",
     "text": [
      "Testing for 10 episodes ...\n",
      "Episode 1: reward: 12.000, steps: 873\n",
      "Episode 2: reward: 21.000, steps: 920\n",
      "Episode 3: reward: 25.000, steps: 1006\n",
      "Episode 4: reward: 9.000, steps: 667\n",
      "Episode 5: reward: 17.000, steps: 1437\n",
      "Episode 6: reward: 18.000, steps: 1006\n",
      "Episode 7: reward: 15.000, steps: 679\n",
      "Episode 8: reward: 13.000, steps: 882\n",
      "Episode 9: reward: 14.000, steps: 663\n",
      "Episode 10: reward: 11.000, steps: 573\n"
     ]
    },
    {
     "data": {
      "text/plain": [
       "<tensorflow.python.keras.callbacks.History at 0x1c104fee9a0>"
      ]
     },
     "execution_count": 9,
     "metadata": {},
     "output_type": "execute_result"
    }
   ],
   "source": [
    "dqn.save_weights('dqn13_{}_weights.h5f'.format(env_name), overwrite=True)\n",
    "dqn.test(env, nb_episodes=10, visualize=False)"
   ]
  },
  {
   "cell_type": "code",
   "execution_count": 11,
   "metadata": {},
   "outputs": [
    {
     "name": "stdout",
     "output_type": "stream",
     "text": [
      "Testing for 10 episodes ...\n",
      "Episode 1: reward: 25.000, steps: 959\n",
      "Episode 2: reward: 9.000, steps: 608\n",
      "Episode 3: reward: 15.000, steps: 708\n",
      "Episode 4: reward: 24.000, steps: 998\n",
      "Episode 5: reward: 15.000, steps: 768\n",
      "Episode 6: reward: 10.000, steps: 467\n",
      "Episode 7: reward: 7.000, steps: 615\n",
      "Episode 8: reward: 12.000, steps: 518\n",
      "Episode 9: reward: 11.000, steps: 537\n",
      "Episode 10: reward: 9.000, steps: 461\n"
     ]
    },
    {
     "data": {
      "text/plain": [
       "<tensorflow.python.keras.callbacks.History at 0x1c10612e9a0>"
      ]
     },
     "execution_count": 11,
     "metadata": {},
     "output_type": "execute_result"
    }
   ],
   "source": [
    "dqn.test(env, nb_episodes=10, visualize=False)"
   ]
  },
  {
   "cell_type": "markdown",
   "metadata": {
    "id": "-NAlu8b1Gb2b"
   },
   "source": [
    "3. Justificación de los parámetros seleccionados y de los resultados obtenidos"
   ]
  },
  {
   "cell_type": "markdown",
   "metadata": {
    "id": "ANFQiicXK3sO"
   },
   "source": [
    "---"
   ]
  }
 ],
 "metadata": {
  "colab": {
   "provenance": []
  },
  "kernelspec": {
   "display_name": "Python 3 (ipykernel)",
   "language": "python",
   "name": "python3"
  },
  "language_info": {
   "codemirror_mode": {
    "name": "ipython",
    "version": 3
   },
   "file_extension": ".py",
   "mimetype": "text/x-python",
   "name": "python",
   "nbconvert_exporter": "python",
   "pygments_lexer": "ipython3",
   "version": "3.8.20"
  }
 },
 "nbformat": 4,
 "nbformat_minor": 4
}

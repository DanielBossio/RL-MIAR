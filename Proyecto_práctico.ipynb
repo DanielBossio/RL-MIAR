{
 "cells": [
  {
   "cell_type": "markdown",
   "metadata": {
    "id": "jUehXgCyIRdq"
   },
   "source": [
    "# Actividad - Proyecto práctico\n",
    "\n",
    "\n",
    "> La actividad se desarrollará en grupos pre-definidos de 2-3 alumnos. Se debe indicar los nombres en orden alfabético (de apellidos). Recordad que esta actividad se corresponde con un 30% de la nota final de la asignatura. Se debe entregar entregar el trabajo en la presente notebook.\n",
    "*   Alumno 1:\n",
    "*   Alumno 2:\n",
    "*   Alumno 3:\n",
    "\n",
    "\n",
    "\n",
    "\n"
   ]
  },
  {
   "cell_type": "markdown",
   "metadata": {
    "id": "JwpYlnjWJhS9"
   },
   "source": [
    "---\n",
    "## **PARTE 1** - Instalación y requisitos previos\n",
    "\n",
    "> Las prácticas han sido preparadas para poder realizarse en el entorno de trabajo de Google Colab. Sin embargo, esta plataforma presenta ciertas incompatibilidades a la hora de visualizar la renderización en gym. Por ello, para obtener estas visualizaciones, se deberá trasladar el entorno de trabajo a local. Por ello, el presente dosier presenta instrucciones para poder trabajar en ambos entornos. Siga los siguientes pasos para un correcto funcionamiento:\n",
    "1.   **LOCAL:** Preparar el enviroment, siguiendo las intrucciones detalladas en la sección *1.1.Preparar enviroment*.\n",
    "2.  **AMBOS:** Modificar las variables \"mount\" y \"drive_mount\" a la carpeta de trabajo en drive en el caso de estar en Colab, y ejecturar la celda *1.2.Localizar entorno de trabajo*.\n",
    "3. **COLAB:** se deberá ejecutar las celdas correspondientes al montaje de la carpeta de trabajo en Drive. Esta corresponde a la sección *1.3.Montar carpeta de datos local*.\n",
    "4.  **AMBOS:** Instalar las librerías necesarias, siguiendo la sección *1.4.Instalar librerías necesarias*.\n"
   ]
  },
  {
   "cell_type": "markdown",
   "metadata": {
    "id": "RU2BPrK2JkP0"
   },
   "source": [
    "---\n",
    "### 1.1. Preparar enviroment (solo local)\n",
    "\n",
    "\n",
    "\n",
    "> Para preparar el entorno de trabajo en local, se han seguido los siguientes pasos:\n",
    "1. En Windows, puede ser necesario instalar las C++ Build Tools. Para ello, siga los siguientes pasos: https://towardsdatascience.com/how-to-install-openai-gym-in-a-windows-environment-338969e24d30.\n",
    "2. Instalar Anaconda\n",
    "3. Siguiendo el código que se presenta comentado en la próxima celda: Crear un enviroment, cambiar la ruta de trabajo, e instalar librerías básicas.\n",
    "\n",
    "\n",
    "```\n",
    "conda create --name miar_rl python=3.8\n",
    "conda activate miar_rl\n",
    "cd \"PATH_TO_FOLDER\"\n",
    "conda install git\n",
    "pip install jupyter\n",
    "```\n",
    "\n",
    "\n",
    "4. Abrir la notebook con *jupyter-notebook*.\n",
    "\n",
    "\n",
    "\n",
    "```\n",
    "jupyter-notebook\n",
    "```\n"
   ]
  },
  {
   "cell_type": "markdown",
   "metadata": {
    "id": "w-kixNPiJqTc"
   },
   "source": [
    "---\n",
    "### 1.2. Localizar entorno de trabajo: Google colab o local"
   ]
  },
  {
   "cell_type": "code",
   "execution_count": 1,
   "metadata": {
    "id": "S_YDFwZ-JscI"
   },
   "outputs": [],
   "source": [
    "# ATENCIÓN!! Modificar ruta relativa a la práctica si es distinta (drive_root)\n",
    "mount='/content/gdrive'\n",
    "drive_root = mount + \"/My Drive/\"\n",
    "\n",
    "try:\n",
    "  from google.colab import drive\n",
    "  IN_COLAB=True\n",
    "except:\n",
    "  IN_COLAB=False"
   ]
  },
  {
   "cell_type": "markdown",
   "metadata": {
    "id": "8Dp_a1iBJ0tf"
   },
   "source": [
    "---\n",
    "### 1.3. Montar carpeta de datos local (solo Colab)"
   ]
  },
  {
   "cell_type": "code",
   "execution_count": 2,
   "metadata": {
    "id": "I6n7MIefJ21i"
   },
   "outputs": [
    {
     "name": "stdout",
     "output_type": "stream",
     "text": [
      "Archivos en el directorio: \n",
      "['.ipynb_checkpoints', '08MIAR-RL.pdf', '08MIAR_sesion1.pdf', '08MIAR_sesion2.pdf', '08MIAR_sesion3.pdf', '08MIAR_sesion4.pdf', '08MIAR_sesion6.pdf', '08MIAR_sesion7.pdf', '1803.10122v4.pdf', '2006.16712v4.pdf', 'Algoritmos avanzados de RL.docx', 'Aprendizaje por refuerzo.docx', 'checkpoint', 'desktop.ini', 'dqn1_log.json', 'dqn2_log.json', 'dqn2_SpaceInvaders-v0_weights.h5f.data-00000-of-00001', 'dqn2_SpaceInvaders-v0_weights.h5f.index', 'dqn2_weights_10000.h5f.data-00000-of-00001', 'dqn2_weights_10000.h5f.index', 'dqn2_weights_20000.h5f.data-00000-of-00001', 'dqn2_weights_20000.h5f.index', 'dqn2_weights_30000.h5f.data-00000-of-00001', 'dqn2_weights_30000.h5f.index', 'dqn_weights_10000.h5f.data-00000-of-00001', 'dqn_weights_10000.h5f.index', 'dqn_weights_100000.h5f.data-00000-of-00001', 'dqn_weights_100000.h5f.index', 'dqn_weights_20000.h5f.data-00000-of-00001', 'dqn_weights_20000.h5f.index', 'dqn_weights_30000.h5f.data-00000-of-00001', 'dqn_weights_30000.h5f.index', 'dqn_weights_40000.h5f.data-00000-of-00001', 'dqn_weights_40000.h5f.index', 'dqn_weights_50000.h5f.data-00000-of-00001', 'dqn_weights_50000.h5f.index', 'dqn_weights_60000.h5f.data-00000-of-00001', 'dqn_weights_60000.h5f.index', 'dqn_weights_70000.h5f.data-00000-of-00001', 'dqn_weights_70000.h5f.index', 'dqn_weights_80000.h5f.data-00000-of-00001', 'dqn_weights_80000.h5f.index', 'dqn_weights_90000.h5f.data-00000-of-00001', 'dqn_weights_90000.h5f.index', 'ejemplos_preguntas(1)(1).pdf', 'Preguntas test.docx', 'Proyecto_práctico.ipynb', 'pseudocodigos.docx', 'World models.docx', '~$rld models.docx']\n"
     ]
    }
   ],
   "source": [
    "# Switch to the directory on the Google Drive that you want to use\n",
    "import os\n",
    "if IN_COLAB:\n",
    "  print(\"We're running Colab\")\n",
    "\n",
    "  if IN_COLAB:\n",
    "    # Mount the Google Drive at mount\n",
    "    print(\"Colab: mounting Google drive on \", mount)\n",
    "\n",
    "    drive.mount(mount)\n",
    "\n",
    "    # Create drive_root if it doesn't exist\n",
    "    create_drive_root = True\n",
    "    if create_drive_root:\n",
    "      print(\"\\nColab: making sure \", drive_root, \" exists.\")\n",
    "      os.makedirs(drive_root, exist_ok=True)\n",
    "\n",
    "    # Change to the directory\n",
    "    print(\"\\nColab: Changing directory to \", drive_root)\n",
    "    %cd $drive_root\n",
    "# Verify we're in the correct working directory\n",
    "%pwd\n",
    "print(\"Archivos en el directorio: \")\n",
    "print(os.listdir())"
   ]
  },
  {
   "cell_type": "markdown",
   "metadata": {
    "id": "i1ZSL5bpJ560"
   },
   "source": [
    "---\n",
    "### 1.4. Instalar librerías necesarias"
   ]
  },
  {
   "cell_type": "code",
   "execution_count": 2,
   "metadata": {
    "id": "UbVRjvHCJ8UF",
    "scrolled": true
   },
   "outputs": [
    {
     "name": "stdout",
     "output_type": "stream",
     "text": [
      "Requirement already satisfied: gym==0.17.3 in c:\\users\\bossi\\anaconda3\\envs\\miar_rl\\lib\\site-packages (0.17.3)\n",
      "Requirement already satisfied: scipy in c:\\users\\bossi\\anaconda3\\envs\\miar_rl\\lib\\site-packages (from gym==0.17.3) (1.10.1)\n",
      "Requirement already satisfied: numpy>=1.10.4 in c:\\users\\bossi\\anaconda3\\envs\\miar_rl\\lib\\site-packages (from gym==0.17.3) (1.19.5)\n",
      "Requirement already satisfied: pyglet<=1.5.0,>=1.4.0 in c:\\users\\bossi\\anaconda3\\envs\\miar_rl\\lib\\site-packages (from gym==0.17.3) (1.5.0)\n",
      "Requirement already satisfied: cloudpickle<1.7.0,>=1.2.0 in c:\\users\\bossi\\anaconda3\\envs\\miar_rl\\lib\\site-packages (from gym==0.17.3) (1.6.0)\n",
      "Requirement already satisfied: future in c:\\users\\bossi\\anaconda3\\envs\\miar_rl\\lib\\site-packages (from pyglet<=1.5.0,>=1.4.0->gym==0.17.3) (1.0.0)\n",
      "Note: you may need to restart the kernel to use updated packages.\n",
      "Collecting git+https://github.com/Kojoley/atari-py.git\n",
      "  Cloning https://github.com/Kojoley/atari-py.git to c:\\users\\bossi\\appdata\\local\\temp\\pip-req-build-c2rsr2we\n",
      "  Resolved https://github.com/Kojoley/atari-py.git to commit 86a1e05c0a95e9e6233c3a413521fdb34ca8a089\n",
      "  Preparing metadata (setup.py): started\n",
      "  Preparing metadata (setup.py): finished with status 'done'\n",
      "Requirement already satisfied: numpy in c:\\users\\bossi\\anaconda3\\envs\\miar_rl\\lib\\site-packages (from atari-py==1.2.2) (1.19.5)\n",
      "Note: you may need to restart the kernel to use updated packages.\n"
     ]
    },
    {
     "name": "stderr",
     "output_type": "stream",
     "text": [
      "  Running command git clone --filter=blob:none --quiet https://github.com/Kojoley/atari-py.git 'C:\\Users\\bossi\\AppData\\Local\\Temp\\pip-req-build-c2rsr2we'\n"
     ]
    },
    {
     "name": "stdout",
     "output_type": "stream",
     "text": [
      "Requirement already satisfied: pyglet==1.5.0 in c:\\users\\bossi\\anaconda3\\envs\\miar_rl\\lib\\site-packages (1.5.0)\n",
      "Requirement already satisfied: future in c:\\users\\bossi\\anaconda3\\envs\\miar_rl\\lib\\site-packages (from pyglet==1.5.0) (1.0.0)\n",
      "Note: you may need to restart the kernel to use updated packages.\n",
      "Requirement already satisfied: h5py==3.1.0 in c:\\users\\bossi\\anaconda3\\envs\\miar_rl\\lib\\site-packages (3.1.0)\n",
      "Requirement already satisfied: numpy>=1.17.5 in c:\\users\\bossi\\anaconda3\\envs\\miar_rl\\lib\\site-packages (from h5py==3.1.0) (1.19.5)\n",
      "Note: you may need to restart the kernel to use updated packages.\n",
      "Requirement already satisfied: Pillow==9.5.0 in c:\\users\\bossi\\anaconda3\\envs\\miar_rl\\lib\\site-packages (9.5.0)\n",
      "Note: you may need to restart the kernel to use updated packages.\n",
      "Note: you may need to restart the kernel to use updated packages.Requirement already satisfied: keras-rl2==1.0.5 in c:\\users\\bossi\\anaconda3\\envs\\miar_rl\\lib\\site-packages (1.0.5)\n",
      "Requirement already satisfied: tensorflow in c:\\users\\bossi\\anaconda3\\envs\\miar_rl\\lib\\site-packages (from keras-rl2==1.0.5) (2.5.3)\n",
      "Requirement already satisfied: numpy~=1.19.2 in c:\\users\\bossi\\anaconda3\\envs\\miar_rl\\lib\\site-packages (from tensorflow->keras-rl2==1.0.5) (1.19.5)\n",
      "Requirement already satisfied: absl-py~=0.10 in c:\\users\\bossi\\anaconda3\\envs\\miar_rl\\lib\\site-packages (from tensorflow->keras-rl2==1.0.5) (0.15.0)\n",
      "Requirement already satisfied: astunparse~=1.6.3 in c:\\users\\bossi\\anaconda3\\envs\\miar_rl\\lib\\site-packages (from tensorflow->keras-rl2==1.0.5) (1.6.3)\n",
      "Requirement already satisfied: flatbuffers~=1.12.0 in c:\\users\\bossi\\anaconda3\\envs\\miar_rl\\lib\\site-packages (from tensorflow->keras-rl2==1.0.5) (1.12)\n",
      "Requirement already satisfied: google-pasta~=0.2 in c:\\users\\bossi\\anaconda3\\envs\\miar_rl\\lib\\site-packages (from tensorflow->keras-rl2==1.0.5) (0.2.0)\n",
      "Requirement already satisfied: h5py~=3.1.0 in c:\\users\\bossi\\anaconda3\\envs\\miar_rl\\lib\\site-packages (from tensorflow->keras-rl2==1.0.5) (3.1.0)\n",
      "Requirement already satisfied: keras-preprocessing~=1.1.2 in c:\\users\\bossi\\anaconda3\\envs\\miar_rl\\lib\\site-packages (from tensorflow->keras-rl2==1.0.5) (1.1.2)\n",
      "Requirement already satisfied: opt-einsum~=3.3.0 in c:\\users\\bossi\\anaconda3\\envs\\miar_rl\\lib\\site-packages (from tensorflow->keras-rl2==1.0.5) (3.3.0)\n",
      "Requirement already satisfied: protobuf>=3.9.2 in c:\\users\\bossi\\anaconda3\\envs\\miar_rl\\lib\\site-packages (from tensorflow->keras-rl2==1.0.5) (3.20.3)\n",
      "Requirement already satisfied: six~=1.15.0 in c:\\users\\bossi\\anaconda3\\envs\\miar_rl\\lib\\site-packages (from tensorflow->keras-rl2==1.0.5) (1.15.0)\n",
      "Requirement already satisfied: termcolor~=1.1.0 in c:\\users\\bossi\\anaconda3\\envs\\miar_rl\\lib\\site-packages (from tensorflow->keras-rl2==1.0.5) (1.1.0)\n",
      "Collecting typing-extensions~=3.7.4 (from tensorflow->keras-rl2==1.0.5)\n",
      "  Using cached typing_extensions-3.7.4.3-py3-none-any.whl.metadata (2.0 kB)\n",
      "Requirement already satisfied: wheel~=0.35 in c:\\users\\bossi\\anaconda3\\envs\\miar_rl\\lib\\site-packages (from tensorflow->keras-rl2==1.0.5) (0.44.0)\n",
      "Requirement already satisfied: wrapt~=1.12.1 in c:\\users\\bossi\\anaconda3\\envs\\miar_rl\\lib\\site-packages (from tensorflow->keras-rl2==1.0.5) (1.12.1)\n",
      "Requirement already satisfied: gast==0.4.0 in c:\\users\\bossi\\anaconda3\\envs\\miar_rl\\lib\\site-packages (from tensorflow->keras-rl2==1.0.5) (0.4.0)\n",
      "Requirement already satisfied: tensorboard~=2.5 in c:\\users\\bossi\\anaconda3\\envs\\miar_rl\\lib\\site-packages (from tensorflow->keras-rl2==1.0.5) (2.11.2)\n",
      "Requirement already satisfied: tensorflow-estimator<2.6.0,>=2.5.0 in c:\\users\\bossi\\anaconda3\\envs\\miar_rl\\lib\\site-packages (from tensorflow->keras-rl2==1.0.5) (2.5.0)\n",
      "Requirement already satisfied: keras-nightly~=2.5.0.dev in c:\\users\\bossi\\anaconda3\\envs\\miar_rl\\lib\\site-packages (from tensorflow->keras-rl2==1.0.5) (2.5.0.dev2021032900)\n",
      "Requirement already satisfied: grpcio~=1.34.0 in c:\\users\\bossi\\anaconda3\\envs\\miar_rl\\lib\\site-packages (from tensorflow->keras-rl2==1.0.5) (1.34.1)\n",
      "Requirement already satisfied: google-auth<3,>=1.6.3 in c:\\users\\bossi\\anaconda3\\envs\\miar_rl\\lib\\site-packages (from tensorboard~=2.5->tensorflow->keras-rl2==1.0.5) (2.40.3)\n",
      "Requirement already satisfied: google-auth-oauthlib<0.5,>=0.4.1 in c:\\users\\bossi\\anaconda3\\envs\\miar_rl\\lib\\site-packages (from tensorboard~=2.5->tensorflow->keras-rl2==1.0.5) (0.4.6)\n",
      "Requirement already satisfied: markdown>=2.6.8 in c:\\users\\bossi\\anaconda3\\envs\\miar_rl\\lib\\site-packages (from tensorboard~=2.5->tensorflow->keras-rl2==1.0.5) (3.7)\n",
      "Requirement already satisfied: requests<3,>=2.21.0 in c:\\users\\bossi\\anaconda3\\envs\\miar_rl\\lib\\site-packages (from tensorboard~=2.5->tensorflow->keras-rl2==1.0.5) (2.32.3)\n",
      "Requirement already satisfied: setuptools>=41.0.0 in c:\\users\\bossi\\anaconda3\\envs\\miar_rl\\lib\\site-packages (from tensorboard~=2.5->tensorflow->keras-rl2==1.0.5) (75.1.0)\n",
      "Requirement already satisfied: tensorboard-data-server<0.7.0,>=0.6.0 in c:\\users\\bossi\\anaconda3\\envs\\miar_rl\\lib\\site-packages (from tensorboard~=2.5->tensorflow->keras-rl2==1.0.5) (0.6.1)\n",
      "Requirement already satisfied: tensorboard-plugin-wit>=1.6.0 in c:\\users\\bossi\\anaconda3\\envs\\miar_rl\\lib\\site-packages (from tensorboard~=2.5->tensorflow->keras-rl2==1.0.5) (1.8.1)\n",
      "Requirement already satisfied: werkzeug>=1.0.1 in c:\\users\\bossi\\anaconda3\\envs\\miar_rl\\lib\\site-packages (from tensorboard~=2.5->tensorflow->keras-rl2==1.0.5) (3.0.6)\n",
      "Requirement already satisfied: cachetools<6.0,>=2.0.0 in c:\\users\\bossi\\anaconda3\\envs\\miar_rl\\lib\\site-packages (from google-auth<3,>=1.6.3->tensorboard~=2.5->tensorflow->keras-rl2==1.0.5) (5.5.2)\n",
      "Requirement already satisfied: pyasn1-modules>=0.2.1 in c:\\users\\bossi\\anaconda3\\envs\\miar_rl\\lib\\site-packages (from google-auth<3,>=1.6.3->tensorboard~=2.5->tensorflow->keras-rl2==1.0.5) (0.4.2)\n",
      "Requirement already satisfied: rsa<5,>=3.1.4 in c:\\users\\bossi\\anaconda3\\envs\\miar_rl\\lib\\site-packages (from google-auth<3,>=1.6.3->tensorboard~=2.5->tensorflow->keras-rl2==1.0.5) (4.9.1)\n",
      "Requirement already satisfied: requests-oauthlib>=0.7.0 in c:\\users\\bossi\\anaconda3\\envs\\miar_rl\\lib\\site-packages (from google-auth-oauthlib<0.5,>=0.4.1->tensorboard~=2.5->tensorflow->keras-rl2==1.0.5) (2.0.0)\n",
      "Requirement already satisfied: importlib-metadata>=4.4 in c:\\users\\bossi\\anaconda3\\envs\\miar_rl\\lib\\site-packages (from markdown>=2.6.8->tensorboard~=2.5->tensorflow->keras-rl2==1.0.5) (7.0.1)\n",
      "Requirement already satisfied: charset-normalizer<4,>=2 in c:\\users\\bossi\\anaconda3\\envs\\miar_rl\\lib\\site-packages (from requests<3,>=2.21.0->tensorboard~=2.5->tensorflow->keras-rl2==1.0.5) (3.3.2)\n",
      "Requirement already satisfied: idna<4,>=2.5 in c:\\users\\bossi\\anaconda3\\envs\\miar_rl\\lib\\site-packages (from requests<3,>=2.21.0->tensorboard~=2.5->tensorflow->keras-rl2==1.0.5) (3.7)\n",
      "Requirement already satisfied: urllib3<3,>=1.21.1 in c:\\users\\bossi\\anaconda3\\envs\\miar_rl\\lib\\site-packages (from requests<3,>=2.21.0->tensorboard~=2.5->tensorflow->keras-rl2==1.0.5) (2.2.3)\n",
      "Requirement already satisfied: certifi>=2017.4.17 in c:\\users\\bossi\\anaconda3\\envs\\miar_rl\\lib\\site-packages (from requests<3,>=2.21.0->tensorboard~=2.5->tensorflow->keras-rl2==1.0.5) (2024.8.30)\n",
      "Requirement already satisfied: MarkupSafe>=2.1.1 in c:\\users\\bossi\\anaconda3\\envs\\miar_rl\\lib\\site-packages (from werkzeug>=1.0.1->tensorboard~=2.5->tensorflow->keras-rl2==1.0.5) (2.1.3)\n",
      "Requirement already satisfied: zipp>=0.5 in c:\\users\\bossi\\anaconda3\\envs\\miar_rl\\lib\\site-packages (from importlib-metadata>=4.4->markdown>=2.6.8->tensorboard~=2.5->tensorflow->keras-rl2==1.0.5) (3.20.2)\n",
      "Requirement already satisfied: pyasn1<0.7.0,>=0.6.1 in c:\\users\\bossi\\anaconda3\\envs\\miar_rl\\lib\\site-packages (from pyasn1-modules>=0.2.1->google-auth<3,>=1.6.3->tensorboard~=2.5->tensorflow->keras-rl2==1.0.5) (0.6.1)\n",
      "Requirement already satisfied: oauthlib>=3.0.0 in c:\\users\\bossi\\anaconda3\\envs\\miar_rl\\lib\\site-packages (from requests-oauthlib>=0.7.0->google-auth-oauthlib<0.5,>=0.4.1->tensorboard~=2.5->tensorflow->keras-rl2==1.0.5) (3.3.1)\n",
      "Using cached typing_extensions-3.7.4.3-py3-none-any.whl (22 kB)\n",
      "Installing collected packages: typing-extensions\n",
      "  Attempting uninstall: typing-extensions\n",
      "    Found existing installation: typing_extensions 4.13.2\n",
      "    Uninstalling typing_extensions-4.13.2:\n",
      "      Successfully uninstalled typing_extensions-4.13.2\n",
      "Successfully installed typing-extensions-3.7.4.3\n",
      "\n"
     ]
    },
    {
     "name": "stderr",
     "output_type": "stream",
     "text": [
      "ERROR: pip's dependency resolver does not currently take into account all the packages that are installed. This behaviour is the source of the following dependency conflicts.\n",
      "anyio 4.2.0 requires typing-extensions>=4.1; python_version < \"3.11\", but you have typing-extensions 3.7.4.3 which is incompatible.\n",
      "async-lru 2.0.4 requires typing-extensions>=4.0.0; python_version < \"3.11\", but you have typing-extensions 3.7.4.3 which is incompatible.\n",
      "jupyter-server 2.14.1 requires pywinpty>=2.0.1; os_name == \"nt\", but you have pywinpty 1.1.6 which is incompatible.\n",
      "tensorflow-intel 2.13.0 requires absl-py>=1.0.0, but you have absl-py 0.15.0 which is incompatible.\n",
      "tensorflow-intel 2.13.0 requires flatbuffers>=23.1.21, but you have flatbuffers 1.12 which is incompatible.\n",
      "tensorflow-intel 2.13.0 requires keras<2.14,>=2.13.1, but you have keras 2.2.4 which is incompatible.\n",
      "tensorflow-intel 2.13.0 requires numpy<=1.24.3,>=1.22, but you have numpy 1.19.5 which is incompatible.\n",
      "tensorflow-intel 2.13.0 requires tensorboard<2.14,>=2.13, but you have tensorboard 2.11.2 which is incompatible.\n",
      "tensorflow-intel 2.13.0 requires tensorflow-estimator<2.14,>=2.13.0, but you have tensorflow-estimator 2.5.0 which is incompatible.\n"
     ]
    },
    {
     "name": "stdout",
     "output_type": "stream",
     "text": [
      "Requirement already satisfied: Keras==2.2.4 in c:\\users\\bossi\\anaconda3\\envs\\miar_rl\\lib\\site-packages (2.2.4)Note: you may need to restart the kernel to use updated packages.\n",
      "\n",
      "Requirement already satisfied: numpy>=1.9.1 in c:\\users\\bossi\\anaconda3\\envs\\miar_rl\\lib\\site-packages (from Keras==2.2.4) (1.19.5)\n",
      "Requirement already satisfied: scipy>=0.14 in c:\\users\\bossi\\anaconda3\\envs\\miar_rl\\lib\\site-packages (from Keras==2.2.4) (1.10.1)\n",
      "Requirement already satisfied: six>=1.9.0 in c:\\users\\bossi\\anaconda3\\envs\\miar_rl\\lib\\site-packages (from Keras==2.2.4) (1.15.0)\n",
      "Requirement already satisfied: pyyaml in c:\\users\\bossi\\anaconda3\\envs\\miar_rl\\lib\\site-packages (from Keras==2.2.4) (6.0.2)\n",
      "Requirement already satisfied: h5py in c:\\users\\bossi\\anaconda3\\envs\\miar_rl\\lib\\site-packages (from Keras==2.2.4) (3.1.0)\n",
      "Requirement already satisfied: keras-applications>=1.0.6 in c:\\users\\bossi\\anaconda3\\envs\\miar_rl\\lib\\site-packages (from Keras==2.2.4) (1.0.8)\n",
      "Requirement already satisfied: keras-preprocessing>=1.0.5 in c:\\users\\bossi\\anaconda3\\envs\\miar_rl\\lib\\site-packages (from Keras==2.2.4) (1.1.2)\n",
      "Requirement already satisfied: tensorflow==2.5.3 in c:\\users\\bossi\\anaconda3\\envs\\miar_rl\\lib\\site-packages (2.5.3)\n",
      "Requirement already satisfied: numpy~=1.19.2 in c:\\users\\bossi\\anaconda3\\envs\\miar_rl\\lib\\site-packages (from tensorflow==2.5.3) (1.19.5)\n",
      "Requirement already satisfied: absl-py~=0.10 in c:\\users\\bossi\\anaconda3\\envs\\miar_rl\\lib\\site-packages (from tensorflow==2.5.3) (0.15.0)\n",
      "Requirement already satisfied: astunparse~=1.6.3 in c:\\users\\bossi\\anaconda3\\envs\\miar_rl\\lib\\site-packages (from tensorflow==2.5.3) (1.6.3)\n",
      "Requirement already satisfied: flatbuffers~=1.12.0 in c:\\users\\bossi\\anaconda3\\envs\\miar_rl\\lib\\site-packages (from tensorflow==2.5.3) (1.12)\n",
      "Requirement already satisfied: google-pasta~=0.2 in c:\\users\\bossi\\anaconda3\\envs\\miar_rl\\lib\\site-packages (from tensorflow==2.5.3) (0.2.0)\n",
      "Requirement already satisfied: h5py~=3.1.0 in c:\\users\\bossi\\anaconda3\\envs\\miar_rl\\lib\\site-packages (from tensorflow==2.5.3) (3.1.0)\n",
      "Requirement already satisfied: keras-preprocessing~=1.1.2 in c:\\users\\bossi\\anaconda3\\envs\\miar_rl\\lib\\site-packages (from tensorflow==2.5.3) (1.1.2)\n",
      "Requirement already satisfied: opt-einsum~=3.3.0 in c:\\users\\bossi\\anaconda3\\envs\\miar_rl\\lib\\site-packages (from tensorflow==2.5.3) (3.3.0)\n",
      "Requirement already satisfied: protobuf>=3.9.2 in c:\\users\\bossi\\anaconda3\\envs\\miar_rl\\lib\\site-packages (from tensorflow==2.5.3) (3.20.3)\n",
      "Requirement already satisfied: six~=1.15.0 in c:\\users\\bossi\\anaconda3\\envs\\miar_rl\\lib\\site-packages (from tensorflow==2.5.3) (1.15.0)\n",
      "Requirement already satisfied: termcolor~=1.1.0 in c:\\users\\bossi\\anaconda3\\envs\\miar_rl\\lib\\site-packages (from tensorflow==2.5.3) (1.1.0)\n",
      "Requirement already satisfied: typing-extensions~=3.7.4 in c:\\users\\bossi\\anaconda3\\envs\\miar_rl\\lib\\site-packages (from tensorflow==2.5.3) (3.7.4.3)\n",
      "Requirement already satisfied: wheel~=0.35 in c:\\users\\bossi\\anaconda3\\envs\\miar_rl\\lib\\site-packages (from tensorflow==2.5.3) (0.44.0)\n",
      "Requirement already satisfied: wrapt~=1.12.1 in c:\\users\\bossi\\anaconda3\\envs\\miar_rl\\lib\\site-packages (from tensorflow==2.5.3) (1.12.1)\n",
      "Requirement already satisfied: gast==0.4.0 in c:\\users\\bossi\\anaconda3\\envs\\miar_rl\\lib\\site-packages (from tensorflow==2.5.3) (0.4.0)\n",
      "Requirement already satisfied: tensorboard~=2.5 in c:\\users\\bossi\\anaconda3\\envs\\miar_rl\\lib\\site-packages (from tensorflow==2.5.3) (2.11.2)\n",
      "Requirement already satisfied: tensorflow-estimator<2.6.0,>=2.5.0 in c:\\users\\bossi\\anaconda3\\envs\\miar_rl\\lib\\site-packages (from tensorflow==2.5.3) (2.5.0)\n",
      "Requirement already satisfied: keras-nightly~=2.5.0.dev in c:\\users\\bossi\\anaconda3\\envs\\miar_rl\\lib\\site-packages (from tensorflow==2.5.3) (2.5.0.dev2021032900)\n",
      "Requirement already satisfied: grpcio~=1.34.0 in c:\\users\\bossi\\anaconda3\\envs\\miar_rl\\lib\\site-packages (from tensorflow==2.5.3) (1.34.1)\n",
      "Requirement already satisfied: google-auth<3,>=1.6.3 in c:\\users\\bossi\\anaconda3\\envs\\miar_rl\\lib\\site-packages (from tensorboard~=2.5->tensorflow==2.5.3) (2.40.3)\n",
      "Requirement already satisfied: google-auth-oauthlib<0.5,>=0.4.1 in c:\\users\\bossi\\anaconda3\\envs\\miar_rl\\lib\\site-packages (from tensorboard~=2.5->tensorflow==2.5.3) (0.4.6)\n",
      "Requirement already satisfied: markdown>=2.6.8 in c:\\users\\bossi\\anaconda3\\envs\\miar_rl\\lib\\site-packages (from tensorboard~=2.5->tensorflow==2.5.3) (3.7)\n",
      "Requirement already satisfied: requests<3,>=2.21.0 in c:\\users\\bossi\\anaconda3\\envs\\miar_rl\\lib\\site-packages (from tensorboard~=2.5->tensorflow==2.5.3) (2.32.3)\n",
      "Requirement already satisfied: setuptools>=41.0.0 in c:\\users\\bossi\\anaconda3\\envs\\miar_rl\\lib\\site-packages (from tensorboard~=2.5->tensorflow==2.5.3) (75.1.0)\n",
      "Requirement already satisfied: tensorboard-data-server<0.7.0,>=0.6.0 in c:\\users\\bossi\\anaconda3\\envs\\miar_rl\\lib\\site-packages (from tensorboard~=2.5->tensorflow==2.5.3) (0.6.1)\n",
      "Requirement already satisfied: tensorboard-plugin-wit>=1.6.0 in c:\\users\\bossi\\anaconda3\\envs\\miar_rl\\lib\\site-packages (from tensorboard~=2.5->tensorflow==2.5.3) (1.8.1)\n",
      "Requirement already satisfied: werkzeug>=1.0.1 in c:\\users\\bossi\\anaconda3\\envs\\miar_rl\\lib\\site-packages (from tensorboard~=2.5->tensorflow==2.5.3) (3.0.6)\n",
      "Requirement already satisfied: cachetools<6.0,>=2.0.0 in c:\\users\\bossi\\anaconda3\\envs\\miar_rl\\lib\\site-packages (from google-auth<3,>=1.6.3->tensorboard~=2.5->tensorflow==2.5.3) (5.5.2)\n",
      "Requirement already satisfied: pyasn1-modules>=0.2.1 in c:\\users\\bossi\\anaconda3\\envs\\miar_rl\\lib\\site-packages (from google-auth<3,>=1.6.3->tensorboard~=2.5->tensorflow==2.5.3) (0.4.2)\n",
      "Requirement already satisfied: rsa<5,>=3.1.4 in c:\\users\\bossi\\anaconda3\\envs\\miar_rl\\lib\\site-packages (from google-auth<3,>=1.6.3->tensorboard~=2.5->tensorflow==2.5.3) (4.9.1)\n",
      "Requirement already satisfied: requests-oauthlib>=0.7.0 in c:\\users\\bossi\\anaconda3\\envs\\miar_rl\\lib\\site-packages (from google-auth-oauthlib<0.5,>=0.4.1->tensorboard~=2.5->tensorflow==2.5.3) (2.0.0)\n",
      "Requirement already satisfied: importlib-metadata>=4.4 in c:\\users\\bossi\\anaconda3\\envs\\miar_rl\\lib\\site-packages (from markdown>=2.6.8->tensorboard~=2.5->tensorflow==2.5.3) (7.0.1)\n",
      "Requirement already satisfied: charset-normalizer<4,>=2 in c:\\users\\bossi\\anaconda3\\envs\\miar_rl\\lib\\site-packages (from requests<3,>=2.21.0->tensorboard~=2.5->tensorflow==2.5.3) (3.3.2)\n",
      "Requirement already satisfied: idna<4,>=2.5 in c:\\users\\bossi\\anaconda3\\envs\\miar_rl\\lib\\site-packages (from requests<3,>=2.21.0->tensorboard~=2.5->tensorflow==2.5.3) (3.7)\n",
      "Requirement already satisfied: urllib3<3,>=1.21.1 in c:\\users\\bossi\\anaconda3\\envs\\miar_rl\\lib\\site-packages (from requests<3,>=2.21.0->tensorboard~=2.5->tensorflow==2.5.3) (2.2.3)\n",
      "Requirement already satisfied: certifi>=2017.4.17 in c:\\users\\bossi\\anaconda3\\envs\\miar_rl\\lib\\site-packages (from requests<3,>=2.21.0->tensorboard~=2.5->tensorflow==2.5.3) (2024.8.30)\n",
      "Requirement already satisfied: MarkupSafe>=2.1.1 in c:\\users\\bossi\\anaconda3\\envs\\miar_rl\\lib\\site-packages (from werkzeug>=1.0.1->tensorboard~=2.5->tensorflow==2.5.3) (2.1.3)\n",
      "Requirement already satisfied: zipp>=0.5 in c:\\users\\bossi\\anaconda3\\envs\\miar_rl\\lib\\site-packages (from importlib-metadata>=4.4->markdown>=2.6.8->tensorboard~=2.5->tensorflow==2.5.3) (3.20.2)\n",
      "Requirement already satisfied: pyasn1<0.7.0,>=0.6.1 in c:\\users\\bossi\\anaconda3\\envs\\miar_rl\\lib\\site-packages (from pyasn1-modules>=0.2.1->google-auth<3,>=1.6.3->tensorboard~=2.5->tensorflow==2.5.3) (0.6.1)\n",
      "Requirement already satisfied: oauthlib>=3.0.0 in c:\\users\\bossi\\anaconda3\\envs\\miar_rl\\lib\\site-packages (from requests-oauthlib>=0.7.0->google-auth-oauthlib<0.5,>=0.4.1->tensorboard~=2.5->tensorflow==2.5.3) (3.3.1)\n",
      "Note: you may need to restart the kernel to use updated packages.\n",
      "Requirement already satisfied: torch==2.0.1 in c:\\users\\bossi\\anaconda3\\envs\\miar_rl\\lib\\site-packages (2.0.1)Note: you may need to restart the kernel to use updated packages.\n",
      "\n",
      "Requirement already satisfied: filelock in c:\\users\\bossi\\anaconda3\\envs\\miar_rl\\lib\\site-packages (from torch==2.0.1) (3.16.1)\n",
      "Requirement already satisfied: typing-extensions in c:\\users\\bossi\\anaconda3\\envs\\miar_rl\\lib\\site-packages (from torch==2.0.1) (3.7.4.3)\n",
      "Requirement already satisfied: sympy in c:\\users\\bossi\\anaconda3\\envs\\miar_rl\\lib\\site-packages (from torch==2.0.1) (1.13.3)\n",
      "Requirement already satisfied: networkx in c:\\users\\bossi\\anaconda3\\envs\\miar_rl\\lib\\site-packages (from torch==2.0.1) (3.1)\n",
      "Requirement already satisfied: jinja2 in c:\\users\\bossi\\anaconda3\\envs\\miar_rl\\lib\\site-packages (from torch==2.0.1) (3.1.4)\n",
      "Requirement already satisfied: MarkupSafe>=2.0 in c:\\users\\bossi\\anaconda3\\envs\\miar_rl\\lib\\site-packages (from jinja2->torch==2.0.1) (2.1.3)\n",
      "Requirement already satisfied: mpmath<1.4,>=1.1.0 in c:\\users\\bossi\\anaconda3\\envs\\miar_rl\\lib\\site-packages (from sympy->torch==2.0.1) (1.3.0)\n",
      "Requirement already satisfied: agents==1.4.0 in c:\\users\\bossi\\anaconda3\\envs\\miar_rl\\lib\\site-packages (1.4.0)\n",
      "Requirement already satisfied: tensorflow in c:\\users\\bossi\\anaconda3\\envs\\miar_rl\\lib\\site-packages (from agents==1.4.0) (2.5.3)\n",
      "Requirement already satisfied: gym in c:\\users\\bossi\\anaconda3\\envs\\miar_rl\\lib\\site-packages (from agents==1.4.0) (0.17.3)\n",
      "Requirement already satisfied: ruamel.yaml in c:\\users\\bossi\\anaconda3\\envs\\miar_rl\\lib\\site-packages (from agents==1.4.0) (0.18.14)\n",
      "Requirement already satisfied: scipy in c:\\users\\bossi\\anaconda3\\envs\\miar_rl\\lib\\site-packages (from gym->agents==1.4.0) (1.10.1)\n",
      "Requirement already satisfied: numpy>=1.10.4 in c:\\users\\bossi\\anaconda3\\envs\\miar_rl\\lib\\site-packages (from gym->agents==1.4.0) (1.19.5)\n",
      "Requirement already satisfied: pyglet<=1.5.0,>=1.4.0 in c:\\users\\bossi\\anaconda3\\envs\\miar_rl\\lib\\site-packages (from gym->agents==1.4.0) (1.5.0)\n",
      "Requirement already satisfied: cloudpickle<1.7.0,>=1.2.0 in c:\\users\\bossi\\anaconda3\\envs\\miar_rl\\lib\\site-packages (from gym->agents==1.4.0) (1.6.0)\n",
      "Requirement already satisfied: ruamel.yaml.clib>=0.2.7 in c:\\users\\bossi\\anaconda3\\envs\\miar_rl\\lib\\site-packages (from ruamel.yaml->agents==1.4.0) (0.2.8)\n",
      "Requirement already satisfied: absl-py~=0.10 in c:\\users\\bossi\\anaconda3\\envs\\miar_rl\\lib\\site-packages (from tensorflow->agents==1.4.0) (0.15.0)\n",
      "Requirement already satisfied: astunparse~=1.6.3 in c:\\users\\bossi\\anaconda3\\envs\\miar_rl\\lib\\site-packages (from tensorflow->agents==1.4.0) (1.6.3)\n",
      "Requirement already satisfied: flatbuffers~=1.12.0 in c:\\users\\bossi\\anaconda3\\envs\\miar_rl\\lib\\site-packages (from tensorflow->agents==1.4.0) (1.12)\n",
      "Requirement already satisfied: google-pasta~=0.2 in c:\\users\\bossi\\anaconda3\\envs\\miar_rl\\lib\\site-packages (from tensorflow->agents==1.4.0) (0.2.0)\n",
      "Requirement already satisfied: h5py~=3.1.0 in c:\\users\\bossi\\anaconda3\\envs\\miar_rl\\lib\\site-packages (from tensorflow->agents==1.4.0) (3.1.0)\n",
      "Requirement already satisfied: keras-preprocessing~=1.1.2 in c:\\users\\bossi\\anaconda3\\envs\\miar_rl\\lib\\site-packages (from tensorflow->agents==1.4.0) (1.1.2)\n",
      "Requirement already satisfied: opt-einsum~=3.3.0 in c:\\users\\bossi\\anaconda3\\envs\\miar_rl\\lib\\site-packages (from tensorflow->agents==1.4.0) (3.3.0)\n",
      "Requirement already satisfied: protobuf>=3.9.2 in c:\\users\\bossi\\anaconda3\\envs\\miar_rl\\lib\\site-packages (from tensorflow->agents==1.4.0) (3.20.3)\n",
      "Requirement already satisfied: six~=1.15.0 in c:\\users\\bossi\\anaconda3\\envs\\miar_rl\\lib\\site-packages (from tensorflow->agents==1.4.0) (1.15.0)\n",
      "Requirement already satisfied: termcolor~=1.1.0 in c:\\users\\bossi\\anaconda3\\envs\\miar_rl\\lib\\site-packages (from tensorflow->agents==1.4.0) (1.1.0)\n",
      "Requirement already satisfied: typing-extensions~=3.7.4 in c:\\users\\bossi\\anaconda3\\envs\\miar_rl\\lib\\site-packages (from tensorflow->agents==1.4.0) (3.7.4.3)\n",
      "Requirement already satisfied: wheel~=0.35 in c:\\users\\bossi\\anaconda3\\envs\\miar_rl\\lib\\site-packages (from tensorflow->agents==1.4.0) (0.44.0)\n",
      "Requirement already satisfied: wrapt~=1.12.1 in c:\\users\\bossi\\anaconda3\\envs\\miar_rl\\lib\\site-packages (from tensorflow->agents==1.4.0) (1.12.1)\n",
      "Requirement already satisfied: gast==0.4.0 in c:\\users\\bossi\\anaconda3\\envs\\miar_rl\\lib\\site-packages (from tensorflow->agents==1.4.0) (0.4.0)\n",
      "Requirement already satisfied: tensorboard~=2.5 in c:\\users\\bossi\\anaconda3\\envs\\miar_rl\\lib\\site-packages (from tensorflow->agents==1.4.0) (2.11.2)\n",
      "Requirement already satisfied: tensorflow-estimator<2.6.0,>=2.5.0 in c:\\users\\bossi\\anaconda3\\envs\\miar_rl\\lib\\site-packages (from tensorflow->agents==1.4.0) (2.5.0)\n",
      "Requirement already satisfied: keras-nightly~=2.5.0.dev in c:\\users\\bossi\\anaconda3\\envs\\miar_rl\\lib\\site-packages (from tensorflow->agents==1.4.0) (2.5.0.dev2021032900)\n",
      "Requirement already satisfied: grpcio~=1.34.0 in c:\\users\\bossi\\anaconda3\\envs\\miar_rl\\lib\\site-packages (from tensorflow->agents==1.4.0) (1.34.1)\n",
      "Requirement already satisfied: future in c:\\users\\bossi\\anaconda3\\envs\\miar_rl\\lib\\site-packages (from pyglet<=1.5.0,>=1.4.0->gym->agents==1.4.0) (1.0.0)\n",
      "Requirement already satisfied: google-auth<3,>=1.6.3 in c:\\users\\bossi\\anaconda3\\envs\\miar_rl\\lib\\site-packages (from tensorboard~=2.5->tensorflow->agents==1.4.0) (2.40.3)\n",
      "Requirement already satisfied: google-auth-oauthlib<0.5,>=0.4.1 in c:\\users\\bossi\\anaconda3\\envs\\miar_rl\\lib\\site-packages (from tensorboard~=2.5->tensorflow->agents==1.4.0) (0.4.6)\n",
      "Requirement already satisfied: markdown>=2.6.8 in c:\\users\\bossi\\anaconda3\\envs\\miar_rl\\lib\\site-packages (from tensorboard~=2.5->tensorflow->agents==1.4.0) (3.7)\n",
      "Requirement already satisfied: requests<3,>=2.21.0 in c:\\users\\bossi\\anaconda3\\envs\\miar_rl\\lib\\site-packages (from tensorboard~=2.5->tensorflow->agents==1.4.0) (2.32.3)\n",
      "Requirement already satisfied: setuptools>=41.0.0 in c:\\users\\bossi\\anaconda3\\envs\\miar_rl\\lib\\site-packages (from tensorboard~=2.5->tensorflow->agents==1.4.0) (75.1.0)\n",
      "Requirement already satisfied: tensorboard-data-server<0.7.0,>=0.6.0 in c:\\users\\bossi\\anaconda3\\envs\\miar_rl\\lib\\site-packages (from tensorboard~=2.5->tensorflow->agents==1.4.0) (0.6.1)\n",
      "Requirement already satisfied: tensorboard-plugin-wit>=1.6.0 in c:\\users\\bossi\\anaconda3\\envs\\miar_rl\\lib\\site-packages (from tensorboard~=2.5->tensorflow->agents==1.4.0) (1.8.1)\n",
      "Requirement already satisfied: werkzeug>=1.0.1 in c:\\users\\bossi\\anaconda3\\envs\\miar_rl\\lib\\site-packages (from tensorboard~=2.5->tensorflow->agents==1.4.0) (3.0.6)\n",
      "Requirement already satisfied: cachetools<6.0,>=2.0.0 in c:\\users\\bossi\\anaconda3\\envs\\miar_rl\\lib\\site-packages (from google-auth<3,>=1.6.3->tensorboard~=2.5->tensorflow->agents==1.4.0) (5.5.2)\n",
      "Requirement already satisfied: pyasn1-modules>=0.2.1 in c:\\users\\bossi\\anaconda3\\envs\\miar_rl\\lib\\site-packages (from google-auth<3,>=1.6.3->tensorboard~=2.5->tensorflow->agents==1.4.0) (0.4.2)\n",
      "Requirement already satisfied: rsa<5,>=3.1.4 in c:\\users\\bossi\\anaconda3\\envs\\miar_rl\\lib\\site-packages (from google-auth<3,>=1.6.3->tensorboard~=2.5->tensorflow->agents==1.4.0) (4.9.1)\n",
      "Requirement already satisfied: requests-oauthlib>=0.7.0 in c:\\users\\bossi\\anaconda3\\envs\\miar_rl\\lib\\site-packages (from google-auth-oauthlib<0.5,>=0.4.1->tensorboard~=2.5->tensorflow->agents==1.4.0) (2.0.0)\n",
      "Requirement already satisfied: importlib-metadata>=4.4 in c:\\users\\bossi\\anaconda3\\envs\\miar_rl\\lib\\site-packages (from markdown>=2.6.8->tensorboard~=2.5->tensorflow->agents==1.4.0) (7.0.1)\n",
      "Requirement already satisfied: charset-normalizer<4,>=2 in c:\\users\\bossi\\anaconda3\\envs\\miar_rl\\lib\\site-packages (from requests<3,>=2.21.0->tensorboard~=2.5->tensorflow->agents==1.4.0) (3.3.2)\n",
      "Requirement already satisfied: idna<4,>=2.5 in c:\\users\\bossi\\anaconda3\\envs\\miar_rl\\lib\\site-packages (from requests<3,>=2.21.0->tensorboard~=2.5->tensorflow->agents==1.4.0) (3.7)\n",
      "Requirement already satisfied: urllib3<3,>=1.21.1 in c:\\users\\bossi\\anaconda3\\envs\\miar_rl\\lib\\site-packages (from requests<3,>=2.21.0->tensorboard~=2.5->tensorflow->agents==1.4.0) (2.2.3)\n",
      "Requirement already satisfied: certifi>=2017.4.17 in c:\\users\\bossi\\anaconda3\\envs\\miar_rl\\lib\\site-packages (from requests<3,>=2.21.0->tensorboard~=2.5->tensorflow->agents==1.4.0) (2024.8.30)\n",
      "Requirement already satisfied: MarkupSafe>=2.1.1 in c:\\users\\bossi\\anaconda3\\envs\\miar_rl\\lib\\site-packages (from werkzeug>=1.0.1->tensorboard~=2.5->tensorflow->agents==1.4.0) (2.1.3)\n",
      "Requirement already satisfied: zipp>=0.5 in c:\\users\\bossi\\anaconda3\\envs\\miar_rl\\lib\\site-packages (from importlib-metadata>=4.4->markdown>=2.6.8->tensorboard~=2.5->tensorflow->agents==1.4.0) (3.20.2)\n",
      "Requirement already satisfied: pyasn1<0.7.0,>=0.6.1 in c:\\users\\bossi\\anaconda3\\envs\\miar_rl\\lib\\site-packages (from pyasn1-modules>=0.2.1->google-auth<3,>=1.6.3->tensorboard~=2.5->tensorflow->agents==1.4.0) (0.6.1)\n",
      "Requirement already satisfied: oauthlib>=3.0.0 in c:\\users\\bossi\\anaconda3\\envs\\miar_rl\\lib\\site-packages (from requests-oauthlib>=0.7.0->google-auth-oauthlib<0.5,>=0.4.1->tensorboard~=2.5->tensorflow->agents==1.4.0) (3.3.1)\n",
      "Note: you may need to restart the kernel to use updated packages.\n"
     ]
    }
   ],
   "source": [
    "if IN_COLAB:\n",
    "  %pip install gym==0.17.3\n",
    "  %pip install git+https://github.com/Kojoley/atari-py.git\n",
    "  %pip install keras-rl2==1.0.5\n",
    "  %pip install tensorflow==2.8\n",
    "else:\n",
    "  %pip install gym==0.17.3\n",
    "  %pip install git+https://github.com/Kojoley/atari-py.git\n",
    "  %pip install pyglet==1.5.0\n",
    "  %pip install h5py==3.1.0\n",
    "  %pip install Pillow==9.5.0\n",
    "  %pip install keras-rl2==1.0.5\n",
    "  %pip install Keras==2.2.4\n",
    "  %pip install tensorflow==2.5.3\n",
    "  %pip install torch==2.0.1\n",
    "  %pip install agents==1.4.0"
   ]
  },
  {
   "cell_type": "markdown",
   "metadata": {
    "id": "4hzP_5ZuGb2X"
   },
   "source": [
    "---\n",
    "## **PARTE 2**. Enunciado\n",
    "\n",
    "Consideraciones a tener en cuenta:\n",
    "\n",
    "- El entorno sobre el que trabajaremos será _SpaceInvaders-v0_ y el algoritmo que usaremos será _DQN_.\n",
    "\n",
    "- Para nuestro ejercicio, el requisito mínimo será alcanzado cuando el agente consiga una **media de recompensa por encima de 20 puntos en modo test**. Por ello, esta media de la recompensa se calculará a partir del código de test en la última celda del notebook.\n",
    "\n",
    "Este proyecto práctico consta de tres partes:\n",
    "\n",
    "1.   Implementar la red neuronal que se usará en la solución\n",
    "2.   Implementar las distintas piezas de la solución DQN\n",
    "3.   Justificar la respuesta en relación a los resultados obtenidos\n",
    "\n",
    "**Rúbrica**: Se valorará la originalidad en la solución aportada, así como la capacidad de discutir los resultados de forma detallada. El requisito mínimo servirá para aprobar la actividad, bajo premisa de que la discusión del resultado sera apropiada.\n",
    "\n",
    "IMPORTANTE:\n",
    "\n",
    "* Si no se consigue una puntuación óptima, responder sobre la mejor puntuación obtenida.\n",
    "* Para entrenamientos largos, recordad que podéis usar checkpoints de vuestros modelos para retomar los entrenamientos. En este caso, recordad cambiar los parámetros adecuadamente (sobre todo los relacionados con el proceso de exploración).\n",
    "* Se deberá entregar unicamente el notebook y los pesos del mejor modelo en un fichero .zip, de forma organizada.\n",
    "* Cada alumno deberá de subir la solución de forma individual."
   ]
  },
  {
   "cell_type": "markdown",
   "metadata": {
    "id": "6_b3mzw8IzJP"
   },
   "source": [
    "---\n",
    "## **PARTE 3**. Desarrollo y preguntas"
   ]
  },
  {
   "cell_type": "markdown",
   "metadata": {
    "id": "duPmUNOVGb2a"
   },
   "source": [
    "#### Importar librerías"
   ]
  },
  {
   "cell_type": "code",
   "execution_count": 2,
   "metadata": {
    "id": "j3eRhgI-Gb2a"
   },
   "outputs": [],
   "source": [
    "from __future__ import division\n",
    "\n",
    "from PIL import Image\n",
    "import numpy as np\n",
    "import gym\n",
    "\n",
    "import tensorflow as tf\n",
    "from tensorflow.keras.models import Sequential\n",
    "from tensorflow.keras.layers import Dense, Activation, Flatten, Convolution2D, Permute\n",
    "from tensorflow.keras.optimizers import Adam\n",
    "import tensorflow.keras.backend as K\n",
    "from tensorflow.keras.callbacks import ModelCheckpoint\n",
    "\n",
    "from rl.agents.dqn import DQNAgent\n",
    "from rl.policy import LinearAnnealedPolicy, BoltzmannQPolicy, EpsGreedyQPolicy\n",
    "from rl.memory import SequentialMemory\n",
    "from rl.core import Processor\n",
    "from rl.callbacks import FileLogger, ModelIntervalCheckpoint"
   ]
  },
  {
   "cell_type": "markdown",
   "metadata": {
    "id": "f4jgQjzoGb2a"
   },
   "source": [
    "#### Configuración base"
   ]
  },
  {
   "cell_type": "code",
   "execution_count": 3,
   "metadata": {
    "id": "jwOE6I_KGb2a"
   },
   "outputs": [],
   "source": [
    "INPUT_SHAPE = (84, 84)\n",
    "WINDOW_LENGTH = 4\n",
    "\n",
    "env_name = 'SpaceInvaders-v0'\n",
    "env = gym.make(env_name)\n",
    "\n",
    "np.random.seed(123)\n",
    "env.seed(123)\n",
    "nb_actions = env.action_space.n"
   ]
  },
  {
   "cell_type": "code",
   "execution_count": 4,
   "metadata": {
    "id": "9jGEZUcpGb2a"
   },
   "outputs": [],
   "source": [
    "class AtariProcessor(Processor):\n",
    "    def process_observation(self, observation):\n",
    "        assert observation.ndim == 3  # (height, width, channel)\n",
    "        img = Image.fromarray(observation)\n",
    "        img = img.resize(INPUT_SHAPE).convert('L')\n",
    "        processed_observation = np.array(img)\n",
    "        assert processed_observation.shape == INPUT_SHAPE\n",
    "        return processed_observation.astype('uint8')\n",
    "\n",
    "    def process_state_batch(self, batch):\n",
    "        processed_batch = batch.astype('float32') / 255.\n",
    "        return processed_batch\n",
    "\n",
    "    def process_reward(self, reward):\n",
    "        return np.clip(reward, -1., 1.)"
   ]
  },
  {
   "cell_type": "markdown",
   "metadata": {
    "id": "7yitXTADGb2b"
   },
   "source": [
    "1. Implementación de la red neuronal"
   ]
  },
  {
   "cell_type": "code",
   "execution_count": 5,
   "metadata": {
    "id": "O4GKrfWSGb2b"
   },
   "outputs": [
    {
     "name": "stdout",
     "output_type": "stream",
     "text": [
      "Model: \"sequential\"\n",
      "_________________________________________________________________\n",
      "Layer (type)                 Output Shape              Param #   \n",
      "=================================================================\n",
      "permute (Permute)            (None, 84, 84, 4)         0         \n",
      "_________________________________________________________________\n",
      "conv2d (Conv2D)              (None, 20, 20, 32)        8224      \n",
      "_________________________________________________________________\n",
      "activation (Activation)      (None, 20, 20, 32)        0         \n",
      "_________________________________________________________________\n",
      "conv2d_1 (Conv2D)            (None, 9, 9, 64)          32832     \n",
      "_________________________________________________________________\n",
      "activation_1 (Activation)    (None, 9, 9, 64)          0         \n",
      "_________________________________________________________________\n",
      "conv2d_2 (Conv2D)            (None, 7, 7, 64)          36928     \n",
      "_________________________________________________________________\n",
      "activation_2 (Activation)    (None, 7, 7, 64)          0         \n",
      "_________________________________________________________________\n",
      "flatten (Flatten)            (None, 3136)              0         \n",
      "_________________________________________________________________\n",
      "dense (Dense)                (None, 128)               401536    \n",
      "_________________________________________________________________\n",
      "dense_1 (Dense)              (None, 64)                8256      \n",
      "_________________________________________________________________\n",
      "dense_2 (Dense)              (None, 6)                 390       \n",
      "=================================================================\n",
      "Total params: 488,166\n",
      "Trainable params: 488,166\n",
      "Non-trainable params: 0\n",
      "_________________________________________________________________\n",
      "None\n"
     ]
    }
   ],
   "source": [
    "def build_dqn_model(nb_actions, input_shape, window_length=4, activation='relu'):\n",
    "    \"\"\"\n",
    "    Construye un modelo de red neuronal profunda para Q-Learning.\n",
    "\n",
    "    Args:\n",
    "        nb_actions (int): El número de acciones de salida que el modelo debe predecir.\n",
    "        input_shape (tuple): La forma de una sola observación (ej. (84, 84)).\n",
    "        window_length (int): El número de observaciones apiladas que se usan como entrada.\n",
    "        num_dense_layers (int, opcional): El número de capas densas ocultas. Default a 1.\n",
    "        activation (str, opcional): La función de activación para las capas densas ocultas. Default a 'relu'.\n",
    "\n",
    "    Returns:\n",
    "        keras.Model: El modelo de Keras compilado.\n",
    "    \"\"\"\n",
    "    # La forma completa de la entrada al modelo (ej. (4, 84, 84))\n",
    "    full_input_shape = (window_length,) + input_shape\n",
    "\n",
    "    model = Sequential()\n",
    "\n",
    "    # La primera capa debe saber la forma de la entrada.\n",
    "    # Se permuta la entrada para que coincida con el formato de datos de imagen de Keras\n",
    "    # (channels_last vs channels_first). La longitud de la ventana (window_length) se trata\n",
    "    # como la dimensión de los canales.\n",
    "    if K.image_data_format() == 'channels_last':\n",
    "        # Formato de entrada: (window, rows, cols) -> Permuta a: (rows, cols, window)\n",
    "        model.add(Permute((2, 3, 1), input_shape=full_input_shape))\n",
    "    elif K.image_data_format() == 'channels_first':\n",
    "        # Formato de entrada: (window, rows, cols) -> Permuta a: (window, rows, cols) (identidad)\n",
    "        # La permutación es (1, 2, 3), que no cambia el orden pero define el input_shape.\n",
    "        model.add(Permute((1, 2, 3), input_shape=full_input_shape))\n",
    "    else:\n",
    "        raise RuntimeError('Unknown image_data_format.')\n",
    "\n",
    "    # Capas convolucionales (arquitectura similar a la de DeepMind)\n",
    "    model.add(Convolution2D(32, (8, 8), strides=(4, 4)))\n",
    "    model.add(Activation('relu'))\n",
    "    model.add(Convolution2D(64, (4, 4), strides=(2, 2)))\n",
    "    model.add(Activation('relu'))\n",
    "    model.add(Convolution2D(64, (3, 3), strides=(1, 1)))\n",
    "    model.add(Activation('relu'))\n",
    "\n",
    "    # Aplanar las características para las capas densas\n",
    "    model.add(Flatten())\n",
    "\n",
    "    # Capas densas (fully-connected)\n",
    "    model.add(Dense(128, activation=activation))\n",
    "    model.add(Dense(64, activation=activation))\n",
    "\n",
    "    # Capa de salida con una neurona por acción y activación lineal para los valores Q\n",
    "    model.add(Dense(nb_actions, activation='linear'))\n",
    "\n",
    "    return model\n",
    "\n",
    "\n",
    "model = build_dqn_model(nb_actions, INPUT_SHAPE)\n",
    "\n",
    "print(model.summary())"
   ]
  },
  {
   "cell_type": "markdown",
   "metadata": {
    "id": "OB9-_5HPGb2b"
   },
   "source": [
    "2. Implementación de la solución DQN"
   ]
  },
  {
   "cell_type": "code",
   "execution_count": 6,
   "metadata": {
    "id": "foSlxWH1Gb2b"
   },
   "outputs": [],
   "source": [
    "policy = LinearAnnealedPolicy(EpsGreedyQPolicy(), attr='eps', value_max=.99, value_min=.1, value_test=.1, nb_steps=190000)\n",
    "memory = SequentialMemory(limit=100000, window_length=WINDOW_LENGTH)\n",
    "processor = AtariProcessor()\n",
    "dqn = DQNAgent(model=model, nb_actions=nb_actions, policy=policy, memory=memory, processor=processor, nb_steps_warmup=500, gamma=.99, target_model_update=1000, enable_double_dqn=True, enable_dueling_network=True)"
   ]
  },
  {
   "cell_type": "code",
   "execution_count": 7,
   "metadata": {},
   "outputs": [],
   "source": [
    "dqn.compile(Adam(learning_rate=0.00025), metrics=['mae'])"
   ]
  },
  {
   "cell_type": "code",
   "execution_count": 10,
   "metadata": {},
   "outputs": [
    {
     "name": "stdout",
     "output_type": "stream",
     "text": [
      "Training for 200000 steps ...\n",
      "    782/200000: episode: 1, duration: 46.560s, episode steps: 782, steps per second:  17, episode reward: 15.000, mean reward:  0.019 [ 0.000,  1.000], mean action: 2.513 [0.000, 5.000],  loss: 0.007419, mae: 0.180464, mean_q: 0.259888, mean_eps: 0.986997\n",
      "   1593/200000: episode: 2, duration: 128.935s, episode steps: 811, steps per second:   6, episode reward: 12.000, mean reward:  0.015 [ 0.000,  1.000], mean action: 2.456 [0.000, 5.000],  loss: 0.007173, mae: 0.214696, mean_q: 0.302929, mean_eps: 0.984440\n",
      "   2393/200000: episode: 3, duration: 137.381s, episode steps: 800, steps per second:   6, episode reward: 12.000, mean reward:  0.015 [ 0.000,  1.000], mean action: 2.449 [0.000, 5.000],  loss: 0.006820, mae: 0.249440, mean_q: 0.343569, mean_eps: 0.980667\n",
      "   3237/200000: episode: 4, duration: 146.429s, episode steps: 844, steps per second:   6, episode reward: 11.000, mean reward:  0.013 [ 0.000,  1.000], mean action: 2.468 [0.000, 5.000],  loss: 0.006961, mae: 0.297326, mean_q: 0.400766, mean_eps: 0.976816\n",
      "   3845/200000: episode: 5, duration: 107.901s, episode steps: 608, steps per second:   6, episode reward:  8.000, mean reward:  0.013 [ 0.000,  1.000], mean action: 2.454 [0.000, 5.000],  loss: 0.005788, mae: 0.318308, mean_q: 0.424939, mean_eps: 0.973416\n",
      "   4590/200000: episode: 6, duration: 118.208s, episode steps: 745, steps per second:   6, episode reward: 10.000, mean reward:  0.013 [ 0.000,  1.000], mean action: 2.541 [0.000, 5.000],  loss: 0.006413, mae: 0.337081, mean_q: 0.446054, mean_eps: 0.970247\n",
      "   4942/200000: episode: 7, duration: 52.069s, episode steps: 352, steps per second:   7, episode reward:  2.000, mean reward:  0.006 [ 0.000,  1.000], mean action: 2.452 [0.000, 5.000],  loss: 0.005568, mae: 0.340958, mean_q: 0.447457, mean_eps: 0.967677\n",
      "   5346/200000: episode: 8, duration: 61.902s, episode steps: 404, steps per second:   7, episode reward:  5.000, mean reward:  0.012 [ 0.000,  1.000], mean action: 2.530 [0.000, 5.000],  loss: 0.007485, mae: 0.372409, mean_q: 0.486955, mean_eps: 0.965907\n",
      "   6347/200000: episode: 9, duration: 154.996s, episode steps: 1001, steps per second:   6, episode reward: 16.000, mean reward:  0.016 [ 0.000,  1.000], mean action: 2.436 [0.000, 5.000],  loss: 0.007166, mae: 0.387752, mean_q: 0.503577, mean_eps: 0.962616\n",
      "   6848/200000: episode: 10, duration: 78.788s, episode steps: 501, steps per second:   6, episode reward:  8.000, mean reward:  0.016 [ 0.000,  1.000], mean action: 2.457 [0.000, 5.000],  loss: 0.006937, mae: 0.405815, mean_q: 0.523975, mean_eps: 0.959098\n",
      "   7534/200000: episode: 11, duration: 112.732s, episode steps: 686, steps per second:   6, episode reward: 12.000, mean reward:  0.017 [ 0.000,  1.000], mean action: 2.423 [0.000, 5.000],  loss: 0.008229, mae: 0.428704, mean_q: 0.549393, mean_eps: 0.956318\n",
      "   8205/200000: episode: 12, duration: 108.445s, episode steps: 671, steps per second:   6, episode reward: 10.000, mean reward:  0.015 [ 0.000,  1.000], mean action: 2.592 [0.000, 5.000],  loss: 0.007570, mae: 0.442549, mean_q: 0.563976, mean_eps: 0.953140\n",
      "   8743/200000: episode: 13, duration: 84.027s, episode steps: 538, steps per second:   6, episode reward:  5.000, mean reward:  0.009 [ 0.000,  1.000], mean action: 2.554 [0.000, 5.000],  loss: 0.007791, mae: 0.459326, mean_q: 0.583441, mean_eps: 0.950308\n",
      "   9358/200000: episode: 14, duration: 104.750s, episode steps: 615, steps per second:   6, episode reward:  7.000, mean reward:  0.011 [ 0.000,  1.000], mean action: 2.561 [0.000, 5.000],  loss: 0.007960, mae: 0.489792, mean_q: 0.621608, mean_eps: 0.947608\n",
      "   9851/200000: episode: 15, duration: 79.184s, episode steps: 493, steps per second:   6, episode reward:  8.000, mean reward:  0.016 [ 0.000,  1.000], mean action: 2.570 [0.000, 5.000],  loss: 0.008589, mae: 0.516631, mean_q: 0.654284, mean_eps: 0.945013\n",
      "  10748/200000: episode: 16, duration: 141.353s, episode steps: 897, steps per second:   6, episode reward: 14.000, mean reward:  0.016 [ 0.000,  1.000], mean action: 2.493 [0.000, 5.000],  loss: 0.008539, mae: 0.536395, mean_q: 0.676614, mean_eps: 0.941757\n",
      "  11561/200000: episode: 17, duration: 123.600s, episode steps: 813, steps per second:   7, episode reward:  9.000, mean reward:  0.011 [ 0.000,  1.000], mean action: 2.519 [0.000, 5.000],  loss: 0.007802, mae: 0.556445, mean_q: 0.700207, mean_eps: 0.937752\n",
      "  11931/200000: episode: 18, duration: 49.381s, episode steps: 370, steps per second:   7, episode reward:  4.000, mean reward:  0.011 [ 0.000,  1.000], mean action: 2.516 [0.000, 5.000],  loss: 0.007249, mae: 0.566568, mean_q: 0.712617, mean_eps: 0.934982\n",
      "  12513/200000: episode: 19, duration: 84.066s, episode steps: 582, steps per second:   7, episode reward:  6.000, mean reward:  0.010 [ 0.000,  1.000], mean action: 2.457 [0.000, 5.000],  loss: 0.007881, mae: 0.582023, mean_q: 0.732023, mean_eps: 0.932752\n",
      "  13248/200000: episode: 20, duration: 106.582s, episode steps: 735, steps per second:   7, episode reward:  7.000, mean reward:  0.010 [ 0.000,  1.000], mean action: 2.607 [0.000, 5.000],  loss: 0.007921, mae: 0.589170, mean_q: 0.739971, mean_eps: 0.929667\n",
      "  13749/200000: episode: 21, duration: 71.246s, episode steps: 501, steps per second:   7, episode reward: 12.000, mean reward:  0.024 [ 0.000,  1.000], mean action: 2.517 [0.000, 5.000],  loss: 0.008053, mae: 0.603562, mean_q: 0.757535, mean_eps: 0.926773\n",
      "  14150/200000: episode: 22, duration: 54.450s, episode steps: 401, steps per second:   7, episode reward:  4.000, mean reward:  0.010 [ 0.000,  1.000], mean action: 2.519 [0.000, 5.000],  loss: 0.007721, mae: 0.614707, mean_q: 0.771983, mean_eps: 0.924660\n",
      "  14806/200000: episode: 23, duration: 88.224s, episode steps: 656, steps per second:   7, episode reward:  8.000, mean reward:  0.012 [ 0.000,  1.000], mean action: 2.402 [0.000, 5.000],  loss: 0.007293, mae: 0.627291, mean_q: 0.785688, mean_eps: 0.922184\n",
      "  15763/200000: episode: 24, duration: 128.587s, episode steps: 957, steps per second:   7, episode reward: 21.000, mean reward:  0.022 [ 0.000,  1.000], mean action: 2.457 [0.000, 5.000],  loss: 0.008145, mae: 0.658199, mean_q: 0.823475, mean_eps: 0.918407\n",
      "  16181/200000: episode: 25, duration: 56.060s, episode steps: 418, steps per second:   7, episode reward:  6.000, mean reward:  0.014 [ 0.000,  1.000], mean action: 2.462 [0.000, 5.000],  loss: 0.007724, mae: 0.678736, mean_q: 0.849255, mean_eps: 0.915186\n",
      "  16852/200000: episode: 26, duration: 89.973s, episode steps: 671, steps per second:   7, episode reward:  7.000, mean reward:  0.010 [ 0.000,  1.000], mean action: 2.526 [0.000, 5.000],  loss: 0.008272, mae: 0.697608, mean_q: 0.871161, mean_eps: 0.912636\n",
      "  17279/200000: episode: 27, duration: 57.310s, episode steps: 427, steps per second:   7, episode reward:  8.000, mean reward:  0.019 [ 0.000,  1.000], mean action: 2.407 [0.000, 5.000],  loss: 0.008574, mae: 0.721073, mean_q: 0.900433, mean_eps: 0.910064\n",
      "  18256/200000: episode: 28, duration: 130.707s, episode steps: 977, steps per second:   7, episode reward: 18.000, mean reward:  0.018 [ 0.000,  1.000], mean action: 2.444 [0.000, 5.000],  loss: 0.008723, mae: 0.734195, mean_q: 0.915887, mean_eps: 0.906776\n",
      "  19059/200000: episode: 29, duration: 107.208s, episode steps: 803, steps per second:   7, episode reward: 12.000, mean reward:  0.015 [ 0.000,  1.000], mean action: 2.453 [0.000, 5.000],  loss: 0.008847, mae: 0.759970, mean_q: 0.946969, mean_eps: 0.902607\n",
      "  19696/200000: episode: 30, duration: 85.476s, episode steps: 637, steps per second:   7, episode reward: 10.000, mean reward:  0.016 [ 0.000,  1.000], mean action: 2.444 [0.000, 5.000],  loss: 0.008976, mae: 0.768239, mean_q: 0.955916, mean_eps: 0.899234\n",
      "  20223/200000: episode: 31, duration: 70.840s, episode steps: 527, steps per second:   7, episode reward:  2.000, mean reward:  0.004 [ 0.000,  1.000], mean action: 2.679 [0.000, 5.000],  loss: 0.008624, mae: 0.776880, mean_q: 0.965838, mean_eps: 0.896508\n",
      "  20981/200000: episode: 32, duration: 101.700s, episode steps: 758, steps per second:   7, episode reward: 13.000, mean reward:  0.017 [ 0.000,  1.000], mean action: 2.591 [0.000, 5.000],  loss: 0.009246, mae: 0.785859, mean_q: 0.976497, mean_eps: 0.893498\n",
      "  21420/200000: episode: 33, duration: 58.976s, episode steps: 439, steps per second:   7, episode reward:  4.000, mean reward:  0.009 [ 0.000,  1.000], mean action: 2.497 [0.000, 5.000],  loss: 0.011145, mae: 0.861148, mean_q: 1.068165, mean_eps: 0.890695\n",
      "  22368/200000: episode: 34, duration: 126.907s, episode steps: 948, steps per second:   7, episode reward: 15.000, mean reward:  0.016 [ 0.000,  1.000], mean action: 2.444 [0.000, 5.000],  loss: 0.010195, mae: 0.878085, mean_q: 1.088847, mean_eps: 0.887446\n",
      "  22966/200000: episode: 35, duration: 80.970s, episode steps: 598, steps per second:   7, episode reward:  9.000, mean reward:  0.015 [ 0.000,  1.000], mean action: 2.492 [0.000, 5.000],  loss: 0.010552, mae: 0.909283, mean_q: 1.126608, mean_eps: 0.883825\n",
      "  23416/200000: episode: 36, duration: 60.515s, episode steps: 450, steps per second:   7, episode reward:  2.000, mean reward:  0.004 [ 0.000,  1.000], mean action: 2.680 [0.000, 5.000],  loss: 0.010959, mae: 0.938505, mean_q: 1.161569, mean_eps: 0.881371\n",
      "  24213/200000: episode: 37, duration: 107.484s, episode steps: 797, steps per second:   7, episode reward: 10.000, mean reward:  0.013 [ 0.000,  1.000], mean action: 2.471 [0.000, 5.000],  loss: 0.011411, mae: 0.952786, mean_q: 1.177608, mean_eps: 0.878450\n",
      "  25045/200000: episode: 38, duration: 112.973s, episode steps: 832, steps per second:   7, episode reward: 11.000, mean reward:  0.013 [ 0.000,  1.000], mean action: 2.543 [0.000, 5.000],  loss: 0.011869, mae: 0.985549, mean_q: 1.216652, mean_eps: 0.874635\n",
      "  25415/200000: episode: 39, duration: 51.581s, episode steps: 370, steps per second:   7, episode reward:  6.000, mean reward:  0.016 [ 0.000,  1.000], mean action: 2.670 [0.000, 5.000],  loss: 0.011298, mae: 1.005169, mean_q: 1.240430, mean_eps: 0.871820\n",
      "  25834/200000: episode: 40, duration: 60.822s, episode steps: 419, steps per second:   7, episode reward:  9.000, mean reward:  0.021 [ 0.000,  1.000], mean action: 2.351 [0.000, 5.000],  loss: 0.011584, mae: 1.007325, mean_q: 1.242235, mean_eps: 0.869972\n",
      "  26220/200000: episode: 41, duration: 62.431s, episode steps: 386, steps per second:   6, episode reward:  7.000, mean reward:  0.018 [ 0.000,  1.000], mean action: 2.521 [0.000, 5.000],  loss: 0.012940, mae: 1.044940, mean_q: 1.288111, mean_eps: 0.868086\n",
      "  26663/200000: episode: 42, duration: 53.789s, episode steps: 443, steps per second:   8, episode reward:  8.000, mean reward:  0.018 [ 0.000,  1.000], mean action: 2.515 [0.000, 5.000],  loss: 0.012674, mae: 1.070462, mean_q: 1.319961, mean_eps: 0.866145\n",
      "  27446/200000: episode: 43, duration: 115.116s, episode steps: 783, steps per second:   7, episode reward: 13.000, mean reward:  0.017 [ 0.000,  1.000], mean action: 2.557 [0.000, 5.000],  loss: 0.012535, mae: 1.085948, mean_q: 1.338190, mean_eps: 0.863273\n",
      "  28108/200000: episode: 44, duration: 116.493s, episode steps: 662, steps per second:   6, episode reward: 12.000, mean reward:  0.018 [ 0.000,  1.000], mean action: 2.387 [0.000, 5.000],  loss: 0.013513, mae: 1.118365, mean_q: 1.377001, mean_eps: 0.859889\n",
      "  28818/200000: episode: 45, duration: 99.585s, episode steps: 710, steps per second:   7, episode reward:  8.000, mean reward:  0.011 [ 0.000,  1.000], mean action: 2.425 [0.000, 5.000],  loss: 0.014759, mae: 1.178405, mean_q: 1.449066, mean_eps: 0.856676\n",
      "  29507/200000: episode: 46, duration: 97.306s, episode steps: 689, steps per second:   7, episode reward: 11.000, mean reward:  0.016 [ 0.000,  1.000], mean action: 2.495 [0.000, 5.000],  loss: 0.013157, mae: 1.207891, mean_q: 1.487711, mean_eps: 0.853399\n",
      "  30132/200000: episode: 47, duration: 80.203s, episode steps: 625, steps per second:   8, episode reward:  8.000, mean reward:  0.013 [ 0.000,  1.000], mean action: 2.459 [0.000, 5.000],  loss: 0.013092, mae: 1.227536, mean_q: 1.509083, mean_eps: 0.850322\n",
      "  30614/200000: episode: 48, duration: 61.524s, episode steps: 482, steps per second:   8, episode reward: 11.000, mean reward:  0.023 [ 0.000,  1.000], mean action: 2.434 [0.000, 5.000],  loss: 0.012123, mae: 1.245836, mean_q: 1.530436, mean_eps: 0.847729\n",
      "  31325/200000: episode: 49, duration: 89.701s, episode steps: 711, steps per second:   8, episode reward: 11.000, mean reward:  0.015 [ 0.000,  1.000], mean action: 2.447 [0.000, 5.000],  loss: 0.013186, mae: 1.251473, mean_q: 1.534621, mean_eps: 0.844935\n",
      "  31832/200000: episode: 50, duration: 63.011s, episode steps: 507, steps per second:   8, episode reward:  8.000, mean reward:  0.016 [ 0.000,  1.000], mean action: 2.464 [0.000, 5.000],  loss: 0.012263, mae: 1.270076, mean_q: 1.557867, mean_eps: 0.842082\n",
      "  32494/200000: episode: 51, duration: 84.605s, episode steps: 662, steps per second:   8, episode reward:  8.000, mean reward:  0.012 [ 0.000,  1.000], mean action: 2.511 [0.000, 5.000],  loss: 0.013087, mae: 1.292159, mean_q: 1.584426, mean_eps: 0.839344\n",
      "  33833/200000: episode: 52, duration: 162.367s, episode steps: 1339, steps per second:   8, episode reward: 26.000, mean reward:  0.019 [ 0.000,  1.000], mean action: 2.431 [0.000, 5.000],  loss: 0.012809, mae: 1.336657, mean_q: 1.636974, mean_eps: 0.834658\n",
      "  34697/200000: episode: 53, duration: 103.382s, episode steps: 864, steps per second:   8, episode reward: 18.000, mean reward:  0.021 [ 0.000,  1.000], mean action: 2.510 [0.000, 5.000],  loss: 0.013841, mae: 1.411896, mean_q: 1.728561, mean_eps: 0.829498\n",
      "  35236/200000: episode: 54, duration: 73.577s, episode steps: 539, steps per second:   7, episode reward:  7.000, mean reward:  0.013 [ 0.000,  1.000], mean action: 2.688 [0.000, 5.000],  loss: 0.014287, mae: 1.437253, mean_q: 1.757253, mean_eps: 0.826212\n",
      "  35597/200000: episode: 55, duration: 47.398s, episode steps: 361, steps per second:   8, episode reward:  4.000, mean reward:  0.011 [ 0.000,  1.000], mean action: 2.529 [0.000, 5.000],  loss: 0.015421, mae: 1.467616, mean_q: 1.794666, mean_eps: 0.824104\n",
      "  36081/200000: episode: 56, duration: 61.974s, episode steps: 484, steps per second:   8, episode reward:  3.000, mean reward:  0.006 [ 0.000,  1.000], mean action: 2.634 [0.000, 5.000],  loss: 0.013886, mae: 1.467743, mean_q: 1.795872, mean_eps: 0.822125\n",
      "  37038/200000: episode: 57, duration: 121.635s, episode steps: 957, steps per second:   8, episode reward: 20.000, mean reward:  0.021 [ 0.000,  1.000], mean action: 2.467 [0.000, 5.000],  loss: 0.014970, mae: 1.503486, mean_q: 1.836417, mean_eps: 0.818750\n",
      "  37500/200000: episode: 58, duration: 62.037s, episode steps: 462, steps per second:   7, episode reward:  6.000, mean reward:  0.013 [ 0.000,  1.000], mean action: 2.550 [0.000, 5.000],  loss: 0.015925, mae: 1.562062, mean_q: 1.907017, mean_eps: 0.815426\n",
      "  37962/200000: episode: 59, duration: 66.489s, episode steps: 462, steps per second:   7, episode reward:  9.000, mean reward:  0.019 [ 0.000,  1.000], mean action: 2.587 [0.000, 5.000],  loss: 0.014317, mae: 1.560876, mean_q: 1.906215, mean_eps: 0.813262\n",
      "  38343/200000: episode: 60, duration: 53.730s, episode steps: 381, steps per second:   7, episode reward:  8.000, mean reward:  0.021 [ 0.000,  1.000], mean action: 2.549 [0.000, 5.000],  loss: 0.015525, mae: 1.614468, mean_q: 1.973240, mean_eps: 0.811288\n",
      "  39118/200000: episode: 61, duration: 97.422s, episode steps: 775, steps per second:   8, episode reward: 11.000, mean reward:  0.014 [ 0.000,  1.000], mean action: 2.528 [0.000, 5.000],  loss: 0.017213, mae: 1.616175, mean_q: 1.972695, mean_eps: 0.808581\n",
      "  39936/200000: episode: 62, duration: 105.790s, episode steps: 818, steps per second:   8, episode reward: 14.000, mean reward:  0.017 [ 0.000,  1.000], mean action: 2.467 [0.000, 5.000],  loss: 0.016893, mae: 1.637608, mean_q: 1.998302, mean_eps: 0.804850\n",
      "  40604/200000: episode: 63, duration: 86.384s, episode steps: 668, steps per second:   8, episode reward:  9.000, mean reward:  0.013 [ 0.000,  1.000], mean action: 2.421 [0.000, 5.000],  loss: 0.016270, mae: 1.685905, mean_q: 2.058475, mean_eps: 0.801369\n",
      "  41126/200000: episode: 64, duration: 67.952s, episode steps: 522, steps per second:   8, episode reward:  7.000, mean reward:  0.013 [ 0.000,  1.000], mean action: 2.623 [0.000, 5.000],  loss: 0.014470, mae: 1.688077, mean_q: 2.062137, mean_eps: 0.798582\n",
      "  41691/200000: episode: 65, duration: 74.941s, episode steps: 565, steps per second:   8, episode reward:  9.000, mean reward:  0.016 [ 0.000,  1.000], mean action: 2.517 [0.000, 5.000],  loss: 0.016470, mae: 1.719656, mean_q: 2.098644, mean_eps: 0.796036\n",
      "  42293/200000: episode: 66, duration: 81.882s, episode steps: 602, steps per second:   7, episode reward: 10.000, mean reward:  0.017 [ 0.000,  1.000], mean action: 2.568 [0.000, 5.000],  loss: 0.016649, mae: 1.738279, mean_q: 2.120942, mean_eps: 0.793303\n",
      "  42729/200000: episode: 67, duration: 58.212s, episode steps: 436, steps per second:   7, episode reward:  7.000, mean reward:  0.016 [ 0.000,  1.000], mean action: 2.450 [0.000, 5.000],  loss: 0.016906, mae: 1.777328, mean_q: 2.166408, mean_eps: 0.790872\n",
      "  43489/200000: episode: 68, duration: 99.535s, episode steps: 760, steps per second:   8, episode reward:  4.000, mean reward:  0.005 [ 0.000,  1.000], mean action: 2.420 [0.000, 5.000],  loss: 0.016117, mae: 1.773880, mean_q: 2.163900, mean_eps: 0.788071\n",
      "  44095/200000: episode: 69, duration: 79.737s, episode steps: 606, steps per second:   8, episode reward: 12.000, mean reward:  0.020 [ 0.000,  1.000], mean action: 2.431 [0.000, 5.000],  loss: 0.017839, mae: 1.794571, mean_q: 2.188529, mean_eps: 0.784871\n",
      "  44728/200000: episode: 70, duration: 82.545s, episode steps: 633, steps per second:   8, episode reward: 10.000, mean reward:  0.016 [ 0.000,  1.000], mean action: 2.692 [0.000, 5.000],  loss: 0.016653, mae: 1.807295, mean_q: 2.203386, mean_eps: 0.781970\n",
      "  45421/200000: episode: 71, duration: 90.851s, episode steps: 693, steps per second:   8, episode reward: 10.000, mean reward:  0.014 [ 0.000,  1.000], mean action: 2.570 [0.000, 5.000],  loss: 0.017019, mae: 1.831540, mean_q: 2.231718, mean_eps: 0.778864\n",
      "  46072/200000: episode: 72, duration: 85.663s, episode steps: 651, steps per second:   8, episode reward: 12.000, mean reward:  0.018 [ 0.000,  1.000], mean action: 2.578 [0.000, 5.000],  loss: 0.017358, mae: 1.842622, mean_q: 2.244730, mean_eps: 0.775716\n",
      "  46770/200000: episode: 73, duration: 100.416s, episode steps: 698, steps per second:   7, episode reward:  8.000, mean reward:  0.011 [ 0.000,  1.000], mean action: 2.517 [0.000, 5.000],  loss: 0.016358, mae: 1.868559, mean_q: 2.275918, mean_eps: 0.772557\n",
      "  47385/200000: episode: 74, duration: 80.452s, episode steps: 615, steps per second:   8, episode reward: 12.000, mean reward:  0.020 [ 0.000,  1.000], mean action: 2.546 [0.000, 5.000],  loss: 0.016837, mae: 1.860097, mean_q: 2.264810, mean_eps: 0.769481\n",
      "  47925/200000: episode: 75, duration: 71.664s, episode steps: 540, steps per second:   8, episode reward:  6.000, mean reward:  0.011 [ 0.000,  1.000], mean action: 2.600 [0.000, 5.000],  loss: 0.016784, mae: 1.863134, mean_q: 2.268172, mean_eps: 0.766776\n",
      "  49038/200000: episode: 76, duration: 143.533s, episode steps: 1113, steps per second:   8, episode reward:  8.000, mean reward:  0.007 [ 0.000,  1.000], mean action: 2.440 [0.000, 5.000],  loss: 0.016704, mae: 1.882956, mean_q: 2.291414, mean_eps: 0.762905\n",
      "  50466/200000: episode: 77, duration: 195.948s, episode steps: 1428, steps per second:   7, episode reward: 31.000, mean reward:  0.022 [ 0.000,  1.000], mean action: 2.468 [0.000, 5.000],  loss: 0.016273, mae: 1.917227, mean_q: 2.332934, mean_eps: 0.756953\n",
      "  51419/200000: episode: 78, duration: 122.634s, episode steps: 953, steps per second:   8, episode reward: 10.000, mean reward:  0.010 [ 0.000,  1.000], mean action: 2.615 [0.000, 5.000],  loss: 0.017107, mae: 1.974195, mean_q: 2.398512, mean_eps: 0.751377\n",
      "  52096/200000: episode: 79, duration: 81.012s, episode steps: 677, steps per second:   8, episode reward:  6.000, mean reward:  0.009 [ 0.000,  1.000], mean action: 2.445 [0.000, 5.000],  loss: 0.017548, mae: 1.996947, mean_q: 2.425687, mean_eps: 0.747559\n",
      "  52651/200000: episode: 80, duration: 66.160s, episode steps: 555, steps per second:   8, episode reward:  9.000, mean reward:  0.016 [ 0.000,  1.000], mean action: 2.528 [0.000, 5.000],  loss: 0.020458, mae: 2.056799, mean_q: 2.497512, mean_eps: 0.744674\n",
      "  53588/200000: episode: 81, duration: 114.655s, episode steps: 937, steps per second:   8, episode reward: 14.000, mean reward:  0.015 [ 0.000,  1.000], mean action: 2.653 [0.000, 5.000],  loss: 0.018218, mae: 2.033017, mean_q: 2.469551, mean_eps: 0.741179\n",
      "  54192/200000: episode: 82, duration: 79.537s, episode steps: 604, steps per second:   8, episode reward: 11.000, mean reward:  0.018 [ 0.000,  1.000], mean action: 2.462 [0.000, 5.000],  loss: 0.018506, mae: 2.036074, mean_q: 2.472156, mean_eps: 0.737570\n",
      "  55323/200000: episode: 83, duration: 154.624s, episode steps: 1131, steps per second:   7, episode reward: 21.000, mean reward:  0.019 [ 0.000,  1.000], mean action: 2.500 [0.000, 5.000],  loss: 0.018355, mae: 2.060065, mean_q: 2.501467, mean_eps: 0.733507\n",
      "  55937/200000: episode: 84, duration: 78.986s, episode steps: 614, steps per second:   8, episode reward:  8.000, mean reward:  0.013 [ 0.000,  1.000], mean action: 2.450 [0.000, 5.000],  loss: 0.018190, mae: 2.054260, mean_q: 2.494964, mean_eps: 0.729420\n",
      "  56331/200000: episode: 85, duration: 48.037s, episode steps: 394, steps per second:   8, episode reward:  4.000, mean reward:  0.010 [ 0.000,  1.000], mean action: 2.640 [0.000, 5.000],  loss: 0.015850, mae: 2.049142, mean_q: 2.488936, mean_eps: 0.727059\n",
      "  57336/200000: episode: 86, duration: 125.017s, episode steps: 1005, steps per second:   8, episode reward: 15.000, mean reward:  0.015 [ 0.000,  1.000], mean action: 2.280 [0.000, 5.000],  loss: 0.017626, mae: 2.077202, mean_q: 2.521322, mean_eps: 0.723782\n",
      "  57976/200000: episode: 87, duration: 78.718s, episode steps: 640, steps per second:   8, episode reward:  9.000, mean reward:  0.014 [ 0.000,  1.000], mean action: 2.547 [0.000, 5.000],  loss: 0.016510, mae: 2.081376, mean_q: 2.525130, mean_eps: 0.719929\n",
      "  58490/200000: episode: 88, duration: 63.868s, episode steps: 514, steps per second:   8, episode reward:  7.000, mean reward:  0.014 [ 0.000,  1.000], mean action: 2.553 [0.000, 5.000],  loss: 0.016565, mae: 2.063170, mean_q: 2.504131, mean_eps: 0.717227\n",
      "  59194/200000: episode: 89, duration: 91.439s, episode steps: 704, steps per second:   8, episode reward: 14.000, mean reward:  0.020 [ 0.000,  1.000], mean action: 2.355 [0.000, 5.000],  loss: 0.017445, mae: 2.084701, mean_q: 2.530317, mean_eps: 0.714374\n",
      "  60145/200000: episode: 90, duration: 144.103s, episode steps: 951, steps per second:   7, episode reward: 19.000, mean reward:  0.020 [ 0.000,  1.000], mean action: 2.492 [0.000, 5.000],  loss: 0.017042, mae: 2.104402, mean_q: 2.553836, mean_eps: 0.710498\n",
      "  61291/200000: episode: 91, duration: 141.308s, episode steps: 1146, steps per second:   8, episode reward: 19.000, mean reward:  0.017 [ 0.000,  1.000], mean action: 2.385 [0.000, 5.000],  loss: 0.018165, mae: 2.152276, mean_q: 2.612051, mean_eps: 0.705586\n",
      "  61932/200000: episode: 92, duration: 78.419s, episode steps: 641, steps per second:   8, episode reward:  8.000, mean reward:  0.012 [ 0.000,  1.000], mean action: 2.401 [0.000, 5.000],  loss: 0.019417, mae: 2.216250, mean_q: 2.687615, mean_eps: 0.701401\n",
      "  62418/200000: episode: 93, duration: 59.723s, episode steps: 486, steps per second:   8, episode reward:  6.000, mean reward:  0.012 [ 0.000,  1.000], mean action: 2.405 [0.000, 5.000],  loss: 0.017826, mae: 2.252168, mean_q: 2.734104, mean_eps: 0.698762\n",
      "  62867/200000: episode: 94, duration: 55.185s, episode steps: 449, steps per second:   8, episode reward:  7.000, mean reward:  0.016 [ 0.000,  1.000], mean action: 2.572 [0.000, 5.000],  loss: 0.019539, mae: 2.242979, mean_q: 2.721038, mean_eps: 0.696572\n",
      "  63381/200000: episode: 95, duration: 63.338s, episode steps: 514, steps per second:   8, episode reward:  7.000, mean reward:  0.014 [ 0.000,  1.000], mean action: 2.547 [0.000, 5.000],  loss: 0.017563, mae: 2.264557, mean_q: 2.747569, mean_eps: 0.694316\n",
      "  64051/200000: episode: 96, duration: 82.146s, episode steps: 670, steps per second:   8, episode reward: 10.000, mean reward:  0.015 [ 0.000,  1.000], mean action: 2.351 [0.000, 5.000],  loss: 0.019398, mae: 2.293505, mean_q: 2.782666, mean_eps: 0.691543\n",
      "  64566/200000: episode: 97, duration: 63.054s, episode steps: 515, steps per second:   8, episode reward: 12.000, mean reward:  0.023 [ 0.000,  1.000], mean action: 2.268 [0.000, 5.000],  loss: 0.019906, mae: 2.298657, mean_q: 2.787036, mean_eps: 0.688768\n",
      "  64954/200000: episode: 98, duration: 47.664s, episode steps: 388, steps per second:   8, episode reward:  4.000, mean reward:  0.010 [ 0.000,  1.000], mean action: 2.387 [0.000, 5.000],  loss: 0.018485, mae: 2.293904, mean_q: 2.780592, mean_eps: 0.686653\n",
      "  65999/200000: episode: 99, duration: 128.227s, episode steps: 1045, steps per second:   8, episode reward: 15.000, mean reward:  0.014 [ 0.000,  1.000], mean action: 2.450 [0.000, 5.000],  loss: 0.019398, mae: 2.327083, mean_q: 2.820726, mean_eps: 0.683297\n",
      "  66614/200000: episode: 100, duration: 75.664s, episode steps: 615, steps per second:   8, episode reward:  9.000, mean reward:  0.015 [ 0.000,  1.000], mean action: 2.185 [0.000, 5.000],  loss: 0.018984, mae: 2.367461, mean_q: 2.869445, mean_eps: 0.679409\n",
      "  67549/200000: episode: 101, duration: 115.108s, episode steps: 935, steps per second:   8, episode reward: 12.000, mean reward:  0.013 [ 0.000,  1.000], mean action: 2.320 [0.000, 5.000],  loss: 0.019752, mae: 2.374926, mean_q: 2.877660, mean_eps: 0.675778\n",
      "  68082/200000: episode: 102, duration: 65.140s, episode steps: 533, steps per second:   8, episode reward:  6.000, mean reward:  0.011 [ 0.000,  1.000], mean action: 2.482 [0.000, 5.000],  loss: 0.018100, mae: 2.396193, mean_q: 2.902574, mean_eps: 0.672340\n",
      "  68651/200000: episode: 103, duration: 69.905s, episode steps: 569, steps per second:   8, episode reward:  8.000, mean reward:  0.014 [ 0.000,  1.000], mean action: 2.555 [0.000, 5.000],  loss: 0.019075, mae: 2.410340, mean_q: 2.919138, mean_eps: 0.669759\n",
      "  69180/200000: episode: 104, duration: 64.766s, episode steps: 529, steps per second:   8, episode reward:  7.000, mean reward:  0.013 [ 0.000,  1.000], mean action: 2.376 [0.000, 5.000],  loss: 0.018831, mae: 2.420534, mean_q: 2.932275, mean_eps: 0.667188\n",
      "  70651/200000: episode: 105, duration: 179.486s, episode steps: 1471, steps per second:   8, episode reward: 26.000, mean reward:  0.018 [ 0.000,  1.000], mean action: 2.504 [0.000, 5.000],  loss: 0.019552, mae: 2.455895, mean_q: 2.974230, mean_eps: 0.662503\n",
      "  71214/200000: episode: 106, duration: 68.912s, episode steps: 563, steps per second:   8, episode reward: 10.000, mean reward:  0.018 [ 0.000,  1.000], mean action: 2.440 [0.000, 5.000],  loss: 0.018471, mae: 2.470550, mean_q: 2.991341, mean_eps: 0.657740\n",
      "  71696/200000: episode: 107, duration: 58.757s, episode steps: 482, steps per second:   8, episode reward:  7.000, mean reward:  0.015 [ 0.000,  1.000], mean action: 2.378 [0.000, 5.000],  loss: 0.018828, mae: 2.492967, mean_q: 3.018302, mean_eps: 0.655292\n",
      "  72304/200000: episode: 108, duration: 74.458s, episode steps: 608, steps per second:   8, episode reward: 10.000, mean reward:  0.016 [ 0.000,  1.000], mean action: 2.436 [0.000, 5.000],  loss: 0.021696, mae: 2.523643, mean_q: 3.057083, mean_eps: 0.652739\n",
      "  73095/200000: episode: 109, duration: 97.055s, episode steps: 791, steps per second:   8, episode reward: 14.000, mean reward:  0.018 [ 0.000,  1.000], mean action: 2.614 [0.000, 5.000],  loss: 0.021606, mae: 2.545100, mean_q: 3.082967, mean_eps: 0.649463\n",
      "  73797/200000: episode: 110, duration: 86.079s, episode steps: 702, steps per second:   8, episode reward: 11.000, mean reward:  0.016 [ 0.000,  1.000], mean action: 2.439 [0.000, 5.000],  loss: 0.019523, mae: 2.553285, mean_q: 3.091728, mean_eps: 0.645966\n",
      "  75003/200000: episode: 111, duration: 147.573s, episode steps: 1206, steps per second:   8, episode reward: 21.000, mean reward:  0.017 [ 0.000,  1.000], mean action: 2.517 [0.000, 5.000],  loss: 0.020531, mae: 2.576494, mean_q: 3.118780, mean_eps: 0.641497\n",
      "  75819/200000: episode: 112, duration: 100.726s, episode steps: 816, steps per second:   8, episode reward: 13.000, mean reward:  0.016 [ 0.000,  1.000], mean action: 2.362 [0.000, 5.000],  loss: 0.020142, mae: 2.583438, mean_q: 3.126453, mean_eps: 0.636761\n",
      "  76448/200000: episode: 113, duration: 77.016s, episode steps: 629, steps per second:   8, episode reward: 11.000, mean reward:  0.017 [ 0.000,  1.000], mean action: 2.402 [0.000, 5.000],  loss: 0.019553, mae: 2.610493, mean_q: 3.158209, mean_eps: 0.633377\n",
      "  76907/200000: episode: 114, duration: 56.698s, episode steps: 459, steps per second:   8, episode reward:  9.000, mean reward:  0.020 [ 0.000,  1.000], mean action: 2.440 [0.000, 5.000],  loss: 0.020043, mae: 2.621200, mean_q: 3.171972, mean_eps: 0.630829\n",
      "  77469/200000: episode: 115, duration: 69.741s, episode steps: 562, steps per second:   8, episode reward:  7.000, mean reward:  0.012 [ 0.000,  1.000], mean action: 2.454 [0.000, 5.000],  loss: 0.019535, mae: 2.608656, mean_q: 3.158090, mean_eps: 0.628437\n",
      "  78350/200000: episode: 116, duration: 109.861s, episode steps: 881, steps per second:   8, episode reward: 13.000, mean reward:  0.015 [ 0.000,  1.000], mean action: 2.445 [0.000, 5.000],  loss: 0.023341, mae: 2.611550, mean_q: 3.160108, mean_eps: 0.625058\n",
      "  78966/200000: episode: 117, duration: 76.189s, episode steps: 616, steps per second:   8, episode reward: 10.000, mean reward:  0.016 [ 0.000,  1.000], mean action: 2.446 [0.000, 5.000],  loss: 0.023002, mae: 2.616537, mean_q: 3.167064, mean_eps: 0.621552\n",
      "  79340/200000: episode: 118, duration: 46.910s, episode steps: 374, steps per second:   8, episode reward:  5.000, mean reward:  0.013 [ 0.000,  1.000], mean action: 2.559 [0.000, 5.000],  loss: 0.019520, mae: 2.606182, mean_q: 3.153391, mean_eps: 0.619233\n",
      "  80029/200000: episode: 119, duration: 86.196s, episode steps: 689, steps per second:   8, episode reward: 11.000, mean reward:  0.016 [ 0.000,  1.000], mean action: 2.344 [0.000, 5.000],  loss: 0.022080, mae: 2.611075, mean_q: 3.159156, mean_eps: 0.616743\n",
      "  80523/200000: episode: 120, duration: 61.671s, episode steps: 494, steps per second:   8, episode reward:  7.000, mean reward:  0.014 [ 0.000,  1.000], mean action: 2.607 [0.000, 5.000],  loss: 0.020329, mae: 2.641602, mean_q: 3.196239, mean_eps: 0.613973\n",
      "  81402/200000: episode: 121, duration: 109.080s, episode steps: 879, steps per second:   8, episode reward:  9.000, mean reward:  0.010 [ 0.000,  1.000], mean action: 2.452 [0.000, 5.000],  loss: 0.021326, mae: 2.651376, mean_q: 3.207401, mean_eps: 0.610757\n",
      "  82321/200000: episode: 122, duration: 120.476s, episode steps: 919, steps per second:   8, episode reward: 18.000, mean reward:  0.020 [ 0.000,  1.000], mean action: 2.420 [0.000, 5.000],  loss: 0.020956, mae: 2.673143, mean_q: 3.233700, mean_eps: 0.606546\n",
      "  83053/200000: episode: 123, duration: 97.840s, episode steps: 732, steps per second:   7, episode reward:  9.000, mean reward:  0.012 [ 0.000,  1.000], mean action: 2.328 [0.000, 5.000],  loss: 0.020817, mae: 2.687804, mean_q: 3.250626, mean_eps: 0.602679\n",
      "  84006/200000: episode: 124, duration: 124.609s, episode steps: 953, steps per second:   8, episode reward: 23.000, mean reward:  0.024 [ 0.000,  1.000], mean action: 2.545 [0.000, 5.000],  loss: 0.021282, mae: 2.693768, mean_q: 3.256538, mean_eps: 0.598733\n",
      "  84805/200000: episode: 125, duration: 104.989s, episode steps: 799, steps per second:   8, episode reward: 11.000, mean reward:  0.014 [ 0.000,  1.000], mean action: 2.370 [0.000, 5.000],  loss: 0.020493, mae: 2.669837, mean_q: 3.227357, mean_eps: 0.594629\n",
      "  85422/200000: episode: 126, duration: 81.442s, episode steps: 617, steps per second:   8, episode reward:  8.000, mean reward:  0.013 [ 0.000,  1.000], mean action: 2.637 [0.000, 5.000],  loss: 0.017586, mae: 2.671882, mean_q: 3.230851, mean_eps: 0.591313\n",
      "  86023/200000: episode: 127, duration: 78.700s, episode steps: 601, steps per second:   8, episode reward:  8.000, mean reward:  0.013 [ 0.000,  1.000], mean action: 2.396 [0.000, 5.000],  loss: 0.020649, mae: 2.681224, mean_q: 3.240532, mean_eps: 0.588460\n",
      "  86743/200000: episode: 128, duration: 95.189s, episode steps: 720, steps per second:   8, episode reward: 14.000, mean reward:  0.019 [ 0.000,  1.000], mean action: 2.754 [0.000, 5.000],  loss: 0.020531, mae: 2.683384, mean_q: 3.243214, mean_eps: 0.585366\n",
      "  87538/200000: episode: 129, duration: 110.648s, episode steps: 795, steps per second:   7, episode reward: 11.000, mean reward:  0.014 [ 0.000,  1.000], mean action: 2.550 [0.000, 5.000],  loss: 0.018111, mae: 2.685795, mean_q: 3.246845, mean_eps: 0.581818\n",
      "  88052/200000: episode: 130, duration: 63.574s, episode steps: 514, steps per second:   8, episode reward:  4.000, mean reward:  0.008 [ 0.000,  1.000], mean action: 2.447 [0.000, 5.000],  loss: 0.019251, mae: 2.688871, mean_q: 3.249952, mean_eps: 0.578752\n",
      "  88458/200000: episode: 131, duration: 50.185s, episode steps: 406, steps per second:   8, episode reward:  5.000, mean reward:  0.012 [ 0.000,  1.000], mean action: 2.480 [0.000, 5.000],  loss: 0.019518, mae: 2.695187, mean_q: 3.256095, mean_eps: 0.576597\n",
      "  89030/200000: episode: 132, duration: 73.375s, episode steps: 572, steps per second:   8, episode reward:  6.000, mean reward:  0.010 [ 0.000,  1.000], mean action: 2.371 [0.000, 5.000],  loss: 0.019594, mae: 2.697260, mean_q: 3.259605, mean_eps: 0.574307\n",
      "  89648/200000: episode: 133, duration: 88.019s, episode steps: 618, steps per second:   7, episode reward:  7.000, mean reward:  0.011 [ 0.000,  1.000], mean action: 2.426 [0.000, 5.000],  loss: 0.019389, mae: 2.695570, mean_q: 3.257955, mean_eps: 0.571520\n",
      "  90257/200000: episode: 134, duration: 98.441s, episode steps: 609, steps per second:   6, episode reward:  7.000, mean reward:  0.011 [ 0.000,  1.000], mean action: 2.639 [0.000, 5.000],  loss: 0.020888, mae: 2.711406, mean_q: 3.276742, mean_eps: 0.568646\n",
      "  91391/200000: episode: 135, duration: 164.007s, episode steps: 1134, steps per second:   7, episode reward: 23.000, mean reward:  0.020 [ 0.000,  1.000], mean action: 2.250 [0.000, 5.000],  loss: 0.018561, mae: 2.703336, mean_q: 3.267442, mean_eps: 0.564564\n",
      "  92398/200000: episode: 136, duration: 135.981s, episode steps: 1007, steps per second:   7, episode reward: 17.000, mean reward:  0.017 [ 0.000,  1.000], mean action: 2.390 [0.000, 5.000],  loss: 0.020601, mae: 2.693631, mean_q: 3.255408, mean_eps: 0.559549\n",
      "  93675/200000: episode: 137, duration: 173.501s, episode steps: 1277, steps per second:   7, episode reward: 28.000, mean reward:  0.022 [ 0.000,  1.000], mean action: 2.534 [0.000, 5.000],  loss: 0.019695, mae: 2.687013, mean_q: 3.246261, mean_eps: 0.554200\n",
      "  94369/200000: episode: 138, duration: 89.442s, episode steps: 694, steps per second:   8, episode reward: 10.000, mean reward:  0.014 [ 0.000,  1.000], mean action: 2.480 [0.000, 5.000],  loss: 0.018309, mae: 2.682501, mean_q: 3.240069, mean_eps: 0.549583\n",
      "  95060/200000: episode: 139, duration: 94.571s, episode steps: 691, steps per second:   7, episode reward:  6.000, mean reward:  0.009 [ 0.000,  1.000], mean action: 2.365 [0.000, 5.000],  loss: 0.018531, mae: 2.678848, mean_q: 3.235777, mean_eps: 0.546340\n",
      "  96131/200000: episode: 140, duration: 147.763s, episode steps: 1071, steps per second:   7, episode reward: 15.000, mean reward:  0.014 [ 0.000,  1.000], mean action: 2.373 [0.000, 5.000],  loss: 0.019220, mae: 2.715868, mean_q: 3.279321, mean_eps: 0.542213\n",
      "  96681/200000: episode: 141, duration: 77.541s, episode steps: 550, steps per second:   7, episode reward:  9.000, mean reward:  0.016 [ 0.000,  1.000], mean action: 2.629 [0.000, 5.000],  loss: 0.018534, mae: 2.690297, mean_q: 3.250239, mean_eps: 0.538416\n",
      "  97574/200000: episode: 142, duration: 114.557s, episode steps: 893, steps per second:   8, episode reward: 17.000, mean reward:  0.019 [ 0.000,  1.000], mean action: 2.370 [0.000, 5.000],  loss: 0.018171, mae: 2.705815, mean_q: 3.267670, mean_eps: 0.535037\n",
      "  98604/200000: episode: 143, duration: 131.534s, episode steps: 1030, steps per second:   8, episode reward: 19.000, mean reward:  0.018 [ 0.000,  1.000], mean action: 2.384 [0.000, 5.000],  loss: 0.020216, mae: 2.723724, mean_q: 3.289115, mean_eps: 0.530533\n",
      "  99398/200000: episode: 144, duration: 104.845s, episode steps: 794, steps per second:   8, episode reward: 11.000, mean reward:  0.014 [ 0.000,  1.000], mean action: 2.515 [0.000, 5.000],  loss: 0.021146, mae: 2.730278, mean_q: 3.296101, mean_eps: 0.526261\n",
      " 100182/200000: episode: 145, duration: 101.798s, episode steps: 784, steps per second:   8, episode reward: 10.000, mean reward:  0.013 [ 0.000,  1.000], mean action: 2.579 [0.000, 5.000],  loss: 0.019034, mae: 2.722116, mean_q: 3.286847, mean_eps: 0.522565\n",
      " 101130/200000: episode: 146, duration: 130.067s, episode steps: 948, steps per second:   7, episode reward: 15.000, mean reward:  0.016 [ 0.000,  1.000], mean action: 2.654 [0.000, 5.000],  loss: 0.017973, mae: 2.737149, mean_q: 3.304919, mean_eps: 0.518508\n",
      " 101957/200000: episode: 147, duration: 114.531s, episode steps: 827, steps per second:   7, episode reward: 13.000, mean reward:  0.016 [ 0.000,  1.000], mean action: 2.682 [0.000, 5.000],  loss: 0.018848, mae: 2.729297, mean_q: 3.293812, mean_eps: 0.514351\n",
      " 102471/200000: episode: 148, duration: 70.429s, episode steps: 514, steps per second:   7, episode reward: 10.000, mean reward:  0.019 [ 0.000,  1.000], mean action: 2.525 [0.000, 5.000],  loss: 0.017686, mae: 2.741535, mean_q: 3.309736, mean_eps: 0.511210\n",
      " 102864/200000: episode: 149, duration: 50.964s, episode steps: 393, steps per second:   8, episode reward:  6.000, mean reward:  0.015 [ 0.000,  1.000], mean action: 2.430 [0.000, 5.000],  loss: 0.018743, mae: 2.716733, mean_q: 3.278781, mean_eps: 0.509086\n",
      " 103464/200000: episode: 150, duration: 73.170s, episode steps: 600, steps per second:   8, episode reward:  6.000, mean reward:  0.010 [ 0.000,  1.000], mean action: 2.453 [0.000, 5.000],  loss: 0.020315, mae: 2.736949, mean_q: 3.305295, mean_eps: 0.506760\n",
      " 104681/200000: episode: 151, duration: 156.998s, episode steps: 1217, steps per second:   8, episode reward: 16.000, mean reward:  0.013 [ 0.000,  1.000], mean action: 2.344 [0.000, 5.000],  loss: 0.019289, mae: 2.750243, mean_q: 3.319160, mean_eps: 0.502505\n",
      " 105577/200000: episode: 152, duration: 119.957s, episode steps: 896, steps per second:   7, episode reward: 11.000, mean reward:  0.012 [ 0.000,  1.000], mean action: 2.571 [0.000, 5.000],  loss: 0.018281, mae: 2.777924, mean_q: 3.351663, mean_eps: 0.497556\n",
      " 106371/200000: episode: 153, duration: 106.136s, episode steps: 794, steps per second:   7, episode reward: 16.000, mean reward:  0.020 [ 0.000,  1.000], mean action: 2.322 [0.000, 5.000],  loss: 0.018109, mae: 2.763624, mean_q: 3.334471, mean_eps: 0.493598\n",
      " 107456/200000: episode: 154, duration: 144.619s, episode steps: 1085, steps per second:   8, episode reward: 15.000, mean reward:  0.014 [ 0.000,  1.000], mean action: 2.508 [0.000, 5.000],  loss: 0.018517, mae: 2.764824, mean_q: 3.337241, mean_eps: 0.489197\n",
      " 108448/200000: episode: 155, duration: 133.246s, episode steps: 992, steps per second:   7, episode reward: 19.000, mean reward:  0.019 [ 0.000,  1.000], mean action: 2.473 [0.000, 5.000],  loss: 0.019473, mae: 2.762813, mean_q: 3.333712, mean_eps: 0.484332\n",
      " 109078/200000: episode: 156, duration: 84.054s, episode steps: 630, steps per second:   7, episode reward: 11.000, mean reward:  0.017 [ 0.000,  1.000], mean action: 2.713 [0.000, 5.000],  loss: 0.018035, mae: 2.788512, mean_q: 3.363954, mean_eps: 0.480534\n",
      " 109752/200000: episode: 157, duration: 90.441s, episode steps: 674, steps per second:   7, episode reward: 10.000, mean reward:  0.015 [ 0.000,  1.000], mean action: 2.203 [0.000, 5.000],  loss: 0.018786, mae: 2.779546, mean_q: 3.352014, mean_eps: 0.477479\n",
      " 110351/200000: episode: 158, duration: 80.097s, episode steps: 599, steps per second:   7, episode reward:  9.000, mean reward:  0.015 [ 0.000,  1.000], mean action: 2.730 [0.000, 5.000],  loss: 0.019540, mae: 2.771978, mean_q: 3.346959, mean_eps: 0.474498\n",
      " 110864/200000: episode: 159, duration: 68.493s, episode steps: 513, steps per second:   7, episode reward:  8.000, mean reward:  0.016 [ 0.000,  1.000], mean action: 2.565 [0.000, 5.000],  loss: 0.018242, mae: 2.758426, mean_q: 3.328205, mean_eps: 0.471894\n",
      " 111602/200000: episode: 160, duration: 98.636s, episode steps: 738, steps per second:   7, episode reward: 13.000, mean reward:  0.018 [ 0.000,  1.000], mean action: 2.669 [0.000, 5.000],  loss: 0.018007, mae: 2.740974, mean_q: 3.305961, mean_eps: 0.468964\n",
      " 112232/200000: episode: 161, duration: 84.336s, episode steps: 630, steps per second:   7, episode reward:  8.000, mean reward:  0.013 [ 0.000,  1.000], mean action: 2.506 [0.000, 5.000],  loss: 0.019428, mae: 2.738888, mean_q: 3.303118, mean_eps: 0.465760\n",
      " 112650/200000: episode: 162, duration: 56.479s, episode steps: 418, steps per second:   7, episode reward:  8.000, mean reward:  0.019 [ 0.000,  1.000], mean action: 2.321 [0.000, 5.000],  loss: 0.018961, mae: 2.741906, mean_q: 3.307739, mean_eps: 0.463305\n",
      " 113724/200000: episode: 163, duration: 144.510s, episode steps: 1074, steps per second:   7, episode reward: 17.000, mean reward:  0.016 [ 0.000,  1.000], mean action: 2.241 [0.000, 5.000],  loss: 0.019613, mae: 2.736248, mean_q: 3.299347, mean_eps: 0.459811\n",
      " 114231/200000: episode: 164, duration: 68.450s, episode steps: 507, steps per second:   7, episode reward:  9.000, mean reward:  0.018 [ 0.000,  1.000], mean action: 2.383 [0.000, 5.000],  loss: 0.017511, mae: 2.742625, mean_q: 3.307165, mean_eps: 0.456108\n",
      " 114580/200000: episode: 165, duration: 46.741s, episode steps: 349, steps per second:   7, episode reward:  2.000, mean reward:  0.006 [ 0.000,  1.000], mean action: 2.501 [0.000, 5.000],  loss: 0.019328, mae: 2.751064, mean_q: 3.315417, mean_eps: 0.454103\n",
      " 115232/200000: episode: 166, duration: 87.140s, episode steps: 652, steps per second:   7, episode reward:  9.000, mean reward:  0.014 [ 0.000,  1.000], mean action: 2.365 [0.000, 5.000],  loss: 0.022012, mae: 2.746322, mean_q: 3.311937, mean_eps: 0.451758\n",
      " 116203/200000: episode: 167, duration: 129.304s, episode steps: 971, steps per second:   8, episode reward: 14.000, mean reward:  0.014 [ 0.000,  1.000], mean action: 2.546 [0.000, 5.000],  loss: 0.019337, mae: 2.741906, mean_q: 3.306145, mean_eps: 0.447957\n",
      " 117419/200000: episode: 168, duration: 162.326s, episode steps: 1216, steps per second:   7, episode reward: 16.000, mean reward:  0.013 [ 0.000,  1.000], mean action: 2.541 [0.000, 5.000],  loss: 0.017655, mae: 2.745114, mean_q: 3.309159, mean_eps: 0.442835\n",
      " 118316/200000: episode: 169, duration: 118.927s, episode steps: 897, steps per second:   8, episode reward: 12.000, mean reward:  0.013 [ 0.000,  1.000], mean action: 2.310 [0.000, 5.000],  loss: 0.017696, mae: 2.758238, mean_q: 3.324817, mean_eps: 0.437886\n",
      " 119264/200000: episode: 170, duration: 126.358s, episode steps: 948, steps per second:   8, episode reward: 13.000, mean reward:  0.014 [ 0.000,  1.000], mean action: 2.203 [0.000, 5.000],  loss: 0.019032, mae: 2.745146, mean_q: 3.308113, mean_eps: 0.433565\n",
      " 119985/200000: episode: 171, duration: 96.281s, episode steps: 721, steps per second:   7, episode reward: 11.000, mean reward:  0.015 [ 0.000,  1.000], mean action: 2.775 [0.000, 5.000],  loss: 0.019120, mae: 2.744064, mean_q: 3.305862, mean_eps: 0.429656\n",
      " 120465/200000: episode: 172, duration: 63.890s, episode steps: 480, steps per second:   8, episode reward:  7.000, mean reward:  0.015 [ 0.000,  1.000], mean action: 2.475 [0.000, 5.000],  loss: 0.019220, mae: 2.743595, mean_q: 3.306764, mean_eps: 0.426843\n",
      " 121111/200000: episode: 173, duration: 86.073s, episode steps: 646, steps per second:   8, episode reward:  9.000, mean reward:  0.014 [ 0.000,  1.000], mean action: 2.689 [0.000, 5.000],  loss: 0.018475, mae: 2.739941, mean_q: 3.301863, mean_eps: 0.424206\n",
      " 121830/200000: episode: 174, duration: 95.498s, episode steps: 719, steps per second:   8, episode reward:  8.000, mean reward:  0.011 [ 0.000,  1.000], mean action: 2.274 [0.000, 5.000],  loss: 0.018407, mae: 2.760728, mean_q: 3.326684, mean_eps: 0.421009\n",
      " 122579/200000: episode: 175, duration: 100.138s, episode steps: 749, steps per second:   7, episode reward: 11.000, mean reward:  0.015 [ 0.000,  1.000], mean action: 2.422 [0.000, 5.000],  loss: 0.019700, mae: 2.786072, mean_q: 3.357940, mean_eps: 0.417571\n",
      " 123041/200000: episode: 176, duration: 61.391s, episode steps: 462, steps per second:   8, episode reward:  7.000, mean reward:  0.015 [ 0.000,  1.000], mean action: 2.446 [0.000, 5.000],  loss: 0.018172, mae: 2.794926, mean_q: 3.368336, mean_eps: 0.414734\n",
      " 123658/200000: episode: 177, duration: 82.073s, episode steps: 617, steps per second:   8, episode reward:  7.000, mean reward:  0.011 [ 0.000,  1.000], mean action: 2.357 [0.000, 5.000],  loss: 0.019092, mae: 2.804614, mean_q: 3.381789, mean_eps: 0.412207\n",
      " 124322/200000: episode: 178, duration: 88.281s, episode steps: 664, steps per second:   8, episode reward: 11.000, mean reward:  0.017 [ 0.000,  1.000], mean action: 2.318 [0.000, 5.000],  loss: 0.018278, mae: 2.827052, mean_q: 3.407639, mean_eps: 0.409207\n",
      " 125030/200000: episode: 179, duration: 94.217s, episode steps: 708, steps per second:   8, episode reward: 10.000, mean reward:  0.014 [ 0.000,  1.000], mean action: 2.654 [0.000, 5.000],  loss: 0.019616, mae: 2.849320, mean_q: 3.433339, mean_eps: 0.405994\n",
      " 125936/200000: episode: 180, duration: 120.841s, episode steps: 906, steps per second:   7, episode reward: 19.000, mean reward:  0.021 [ 0.000,  1.000], mean action: 2.354 [0.000, 5.000],  loss: 0.017484, mae: 2.848432, mean_q: 3.433760, mean_eps: 0.402214\n",
      " 126540/200000: episode: 181, duration: 80.463s, episode steps: 604, steps per second:   8, episode reward:  9.000, mean reward:  0.015 [ 0.000,  1.000], mean action: 2.690 [0.000, 5.000],  loss: 0.017572, mae: 2.869093, mean_q: 3.456855, mean_eps: 0.398677\n",
      " 127366/200000: episode: 182, duration: 110.256s, episode steps: 826, steps per second:   7, episode reward: 17.000, mean reward:  0.021 [ 0.000,  1.000], mean action: 2.579 [0.000, 5.000],  loss: 0.017667, mae: 2.872313, mean_q: 3.460671, mean_eps: 0.395328\n",
      " 128161/200000: episode: 183, duration: 105.911s, episode steps: 795, steps per second:   8, episode reward: 14.000, mean reward:  0.018 [ 0.000,  1.000], mean action: 2.647 [0.000, 5.000],  loss: 0.018504, mae: 2.875524, mean_q: 3.464923, mean_eps: 0.391531\n",
      " 128628/200000: episode: 184, duration: 62.184s, episode steps: 467, steps per second:   8, episode reward: 10.000, mean reward:  0.021 [ 0.000,  1.000], mean action: 2.210 [0.000, 5.000],  loss: 0.016839, mae: 2.893946, mean_q: 3.486994, mean_eps: 0.388575\n",
      " 129412/200000: episode: 185, duration: 104.205s, episode steps: 784, steps per second:   8, episode reward: 16.000, mean reward:  0.020 [ 0.000,  1.000], mean action: 2.534 [0.000, 5.000],  loss: 0.015555, mae: 2.905383, mean_q: 3.501201, mean_eps: 0.385645\n",
      " 130086/200000: episode: 186, duration: 89.608s, episode steps: 674, steps per second:   8, episode reward: 13.000, mean reward:  0.019 [ 0.000,  1.000], mean action: 2.788 [0.000, 5.000],  loss: 0.016690, mae: 2.910128, mean_q: 3.506423, mean_eps: 0.382231\n",
      " 130566/200000: episode: 187, duration: 63.852s, episode steps: 480, steps per second:   8, episode reward:  3.000, mean reward:  0.006 [ 0.000,  1.000], mean action: 2.385 [0.000, 5.000],  loss: 0.017002, mae: 2.925118, mean_q: 3.524504, mean_eps: 0.379528\n",
      " 130916/200000: episode: 188, duration: 46.715s, episode steps: 350, steps per second:   7, episode reward:  3.000, mean reward:  0.009 [ 0.000,  1.000], mean action: 2.837 [0.000, 5.000],  loss: 0.017444, mae: 2.922349, mean_q: 3.518604, mean_eps: 0.377584\n",
      " 131914/200000: episode: 189, duration: 132.437s, episode steps: 998, steps per second:   8, episode reward: 24.000, mean reward:  0.024 [ 0.000,  1.000], mean action: 2.652 [0.000, 5.000],  loss: 0.016733, mae: 2.903559, mean_q: 3.497750, mean_eps: 0.374427\n",
      " 132585/200000: episode: 190, duration: 89.601s, episode steps: 671, steps per second:   7, episode reward:  6.000, mean reward:  0.009 [ 0.000,  1.000], mean action: 2.765 [0.000, 5.000],  loss: 0.015809, mae: 2.889486, mean_q: 3.482955, mean_eps: 0.370518\n",
      " 133006/200000: episode: 191, duration: 55.942s, episode steps: 421, steps per second:   8, episode reward:  4.000, mean reward:  0.010 [ 0.000,  1.000], mean action: 2.589 [0.000, 5.000],  loss: 0.019060, mae: 2.887504, mean_q: 3.483327, mean_eps: 0.367960\n",
      " 133697/200000: episode: 192, duration: 92.454s, episode steps: 691, steps per second:   7, episode reward: 12.000, mean reward:  0.017 [ 0.000,  1.000], mean action: 2.457 [0.000, 5.000],  loss: 0.017870, mae: 2.865735, mean_q: 3.454554, mean_eps: 0.365356\n",
      " 134888/200000: episode: 193, duration: 157.896s, episode steps: 1191, steps per second:   8, episode reward: 26.000, mean reward:  0.022 [ 0.000,  1.000], mean action: 2.390 [0.000, 5.000],  loss: 0.017294, mae: 2.861502, mean_q: 3.448352, mean_eps: 0.360948\n",
      " 135781/200000: episode: 194, duration: 118.384s, episode steps: 893, steps per second:   8, episode reward: 22.000, mean reward:  0.025 [ 0.000,  1.000], mean action: 2.225 [0.000, 5.000],  loss: 0.016134, mae: 2.856481, mean_q: 3.443102, mean_eps: 0.356067\n",
      " 136122/200000: episode: 195, duration: 45.150s, episode steps: 341, steps per second:   8, episode reward:  3.000, mean reward:  0.009 [ 0.000,  1.000], mean action: 3.056 [0.000, 5.000],  loss: 0.014264, mae: 2.873288, mean_q: 3.462575, mean_eps: 0.353177\n",
      " 136600/200000: episode: 196, duration: 63.364s, episode steps: 478, steps per second:   8, episode reward:  8.000, mean reward:  0.017 [ 0.000,  1.000], mean action: 2.456 [0.000, 5.000],  loss: 0.016539, mae: 2.843600, mean_q: 3.425154, mean_eps: 0.351259\n",
      " 137334/200000: episode: 197, duration: 96.873s, episode steps: 734, steps per second:   8, episode reward: 14.000, mean reward:  0.019 [ 0.000,  1.000], mean action: 2.300 [0.000, 5.000],  loss: 0.015261, mae: 2.837564, mean_q: 3.419085, mean_eps: 0.348420\n",
      " 137667/200000: episode: 198, duration: 43.903s, episode steps: 333, steps per second:   8, episode reward:  3.000, mean reward:  0.009 [ 0.000,  1.000], mean action: 2.781 [0.000, 5.000],  loss: 0.015479, mae: 2.837959, mean_q: 3.419835, mean_eps: 0.345921\n",
      " 138414/200000: episode: 199, duration: 99.217s, episode steps: 747, steps per second:   8, episode reward: 11.000, mean reward:  0.015 [ 0.000,  1.000], mean action: 2.309 [0.000, 5.000],  loss: 0.016562, mae: 2.841526, mean_q: 3.423806, mean_eps: 0.343392\n",
      " 138941/200000: episode: 200, duration: 69.710s, episode steps: 527, steps per second:   8, episode reward:  5.000, mean reward:  0.009 [ 0.000,  1.000], mean action: 2.526 [0.000, 5.000],  loss: 0.016910, mae: 2.837633, mean_q: 3.419041, mean_eps: 0.340408\n",
      " 139621/200000: episode: 201, duration: 90.051s, episode steps: 680, steps per second:   8, episode reward: 11.000, mean reward:  0.016 [ 0.000,  1.000], mean action: 2.487 [0.000, 5.000],  loss: 0.016421, mae: 2.821886, mean_q: 3.400634, mean_eps: 0.337581\n",
      " 140323/200000: episode: 202, duration: 96.825s, episode steps: 702, steps per second:   7, episode reward: 13.000, mean reward:  0.019 [ 0.000,  1.000], mean action: 2.275 [0.000, 5.000],  loss: 0.015542, mae: 2.827195, mean_q: 3.406207, mean_eps: 0.334344\n",
      " 141327/200000: episode: 203, duration: 133.641s, episode steps: 1004, steps per second:   8, episode reward: 17.000, mean reward:  0.017 [ 0.000,  1.000], mean action: 2.686 [0.000, 5.000],  loss: 0.015670, mae: 2.798839, mean_q: 3.371790, mean_eps: 0.330348\n",
      " 141857/200000: episode: 204, duration: 70.315s, episode steps: 530, steps per second:   8, episode reward:  7.000, mean reward:  0.013 [ 0.000,  1.000], mean action: 2.885 [0.000, 5.000],  loss: 0.016000, mae: 2.793544, mean_q: 3.365627, mean_eps: 0.326756\n",
      " 142667/200000: episode: 205, duration: 107.417s, episode steps: 810, steps per second:   8, episode reward: 15.000, mean reward:  0.019 [ 0.000,  1.000], mean action: 2.816 [0.000, 5.000],  loss: 0.014853, mae: 2.799927, mean_q: 3.374077, mean_eps: 0.323617\n",
      " 143622/200000: episode: 206, duration: 126.554s, episode steps: 955, steps per second:   8, episode reward: 15.000, mean reward:  0.016 [ 0.000,  1.000], mean action: 2.350 [0.000, 5.000],  loss: 0.016657, mae: 2.806369, mean_q: 3.380226, mean_eps: 0.319483\n",
      " 144130/200000: episode: 207, duration: 67.691s, episode steps: 508, steps per second:   8, episode reward:  9.000, mean reward:  0.018 [ 0.000,  1.000], mean action: 2.791 [0.000, 5.000],  loss: 0.017120, mae: 2.790435, mean_q: 3.361562, mean_eps: 0.316057\n",
      " 145076/200000: episode: 208, duration: 125.443s, episode steps: 946, steps per second:   8, episode reward: 23.000, mean reward:  0.024 [ 0.000,  1.000], mean action: 2.493 [0.000, 5.000],  loss: 0.015095, mae: 2.755924, mean_q: 3.319354, mean_eps: 0.312651\n",
      " 145715/200000: episode: 209, duration: 84.924s, episode steps: 639, steps per second:   8, episode reward:  9.000, mean reward:  0.014 [ 0.000,  1.000], mean action: 2.347 [0.000, 5.000],  loss: 0.017803, mae: 2.741997, mean_q: 3.301920, mean_eps: 0.308939\n",
      " 146110/200000: episode: 210, duration: 52.422s, episode steps: 395, steps per second:   8, episode reward:  6.000, mean reward:  0.015 [ 0.000,  1.000], mean action: 2.843 [0.000, 5.000],  loss: 0.014071, mae: 2.739181, mean_q: 3.299360, mean_eps: 0.306517\n",
      " 146833/200000: episode: 211, duration: 96.376s, episode steps: 723, steps per second:   8, episode reward: 17.000, mean reward:  0.024 [ 0.000,  1.000], mean action: 2.802 [0.000, 5.000],  loss: 0.014859, mae: 2.734620, mean_q: 3.295093, mean_eps: 0.303899\n",
      " 147758/200000: episode: 212, duration: 123.196s, episode steps: 925, steps per second:   8, episode reward: 14.000, mean reward:  0.015 [ 0.000,  1.000], mean action: 2.440 [0.000, 5.000],  loss: 0.016013, mae: 2.748811, mean_q: 3.311213, mean_eps: 0.300039\n",
      " 148160/200000: episode: 213, duration: 53.702s, episode steps: 402, steps per second:   7, episode reward:  8.000, mean reward:  0.020 [ 0.000,  1.000], mean action: 2.007 [0.000, 5.000],  loss: 0.016106, mae: 2.751244, mean_q: 3.315577, mean_eps: 0.296931\n",
      " 148844/200000: episode: 214, duration: 90.999s, episode steps: 684, steps per second:   8, episode reward: 15.000, mean reward:  0.022 [ 0.000,  1.000], mean action: 2.406 [0.000, 5.000],  loss: 0.017322, mae: 2.736035, mean_q: 3.296711, mean_eps: 0.294388\n",
      " 149501/200000: episode: 215, duration: 87.586s, episode steps: 657, steps per second:   8, episode reward: 11.000, mean reward:  0.017 [ 0.000,  1.000], mean action: 2.629 [0.000, 5.000],  loss: 0.017161, mae: 2.748001, mean_q: 3.311615, mean_eps: 0.291247\n",
      " 149912/200000: episode: 216, duration: 54.149s, episode steps: 411, steps per second:   8, episode reward:  8.000, mean reward:  0.019 [ 0.000,  1.000], mean action: 3.275 [0.000, 5.000],  loss: 0.016585, mae: 2.742154, mean_q: 3.301053, mean_eps: 0.288746\n",
      " 150725/200000: episode: 217, duration: 111.313s, episode steps: 813, steps per second:   7, episode reward: 18.000, mean reward:  0.022 [ 0.000,  1.000], mean action: 2.253 [0.000, 5.000],  loss: 0.015654, mae: 2.730364, mean_q: 3.290001, mean_eps: 0.285879\n",
      " 151099/200000: episode: 218, duration: 52.263s, episode steps: 374, steps per second:   7, episode reward:  3.000, mean reward:  0.008 [ 0.000,  1.000], mean action: 3.120 [0.000, 5.000],  loss: 0.015365, mae: 2.721550, mean_q: 3.279800, mean_eps: 0.283099\n",
      " 151470/200000: episode: 219, duration: 52.375s, episode steps: 371, steps per second:   7, episode reward:  5.000, mean reward:  0.013 [ 0.000,  1.000], mean action: 2.003 [0.000, 5.000],  loss: 0.015437, mae: 2.722693, mean_q: 3.279169, mean_eps: 0.281354\n",
      " 152387/200000: episode: 220, duration: 118.892s, episode steps: 917, steps per second:   8, episode reward: 18.000, mean reward:  0.020 [ 0.000,  1.000], mean action: 2.728 [0.000, 5.000],  loss: 0.015190, mae: 2.714806, mean_q: 3.270918, mean_eps: 0.278337\n",
      " 153181/200000: episode: 221, duration: 103.443s, episode steps: 794, steps per second:   8, episode reward:  9.000, mean reward:  0.011 [ 0.000,  1.000], mean action: 2.261 [0.000, 5.000],  loss: 0.015274, mae: 2.739596, mean_q: 3.300211, mean_eps: 0.274330\n",
      " 153860/200000: episode: 222, duration: 94.224s, episode steps: 679, steps per second:   7, episode reward: 13.000, mean reward:  0.019 [ 0.000,  1.000], mean action: 2.485 [0.000, 5.000],  loss: 0.016304, mae: 2.757349, mean_q: 3.318768, mean_eps: 0.270880\n",
      " 154580/200000: episode: 223, duration: 107.273s, episode steps: 720, steps per second:   7, episode reward: 11.000, mean reward:  0.015 [ 0.000,  1.000], mean action: 2.536 [0.000, 5.000],  loss: 0.014990, mae: 2.745806, mean_q: 3.307327, mean_eps: 0.267603\n",
      " 155559/200000: episode: 224, duration: 135.569s, episode steps: 979, steps per second:   7, episode reward: 22.000, mean reward:  0.022 [ 0.000,  1.000], mean action: 2.600 [0.000, 5.000],  loss: 0.014703, mae: 2.754691, mean_q: 3.317301, mean_eps: 0.263624\n",
      " 156418/200000: episode: 225, duration: 128.017s, episode steps: 859, steps per second:   7, episode reward: 14.000, mean reward:  0.016 [ 0.000,  1.000], mean action: 2.773 [0.000, 5.000],  loss: 0.015364, mae: 2.746616, mean_q: 3.306479, mean_eps: 0.259319\n",
      " 156839/200000: episode: 226, duration: 53.955s, episode steps: 421, steps per second:   8, episode reward:  5.000, mean reward:  0.012 [ 0.000,  1.000], mean action: 2.021 [0.000, 5.000],  loss: 0.015594, mae: 2.734200, mean_q: 3.292364, mean_eps: 0.256321\n",
      " 157229/200000: episode: 227, duration: 49.098s, episode steps: 390, steps per second:   8, episode reward:  6.000, mean reward:  0.015 [ 0.000,  1.000], mean action: 2.536 [0.000, 5.000],  loss: 0.014562, mae: 2.737133, mean_q: 3.296456, mean_eps: 0.254422\n",
      " 158297/200000: episode: 228, duration: 134.703s, episode steps: 1068, steps per second:   8, episode reward: 17.000, mean reward:  0.016 [ 0.000,  1.000], mean action: 2.324 [0.000, 5.000],  loss: 0.014746, mae: 2.737416, mean_q: 3.295734, mean_eps: 0.251007\n",
      " 159914/200000: episode: 229, duration: 203.898s, episode steps: 1617, steps per second:   8, episode reward: 34.000, mean reward:  0.021 [ 0.000,  1.000], mean action: 2.763 [0.000, 5.000],  loss: 0.015470, mae: 2.723293, mean_q: 3.279513, mean_eps: 0.244719\n",
      " 160411/200000: episode: 230, duration: 62.475s, episode steps: 497, steps per second:   8, episode reward:  6.000, mean reward:  0.012 [ 0.000,  1.000], mean action: 2.934 [0.000, 5.000],  loss: 0.013957, mae: 2.704028, mean_q: 3.258273, mean_eps: 0.239767\n",
      " 161408/200000: episode: 231, duration: 125.190s, episode steps: 997, steps per second:   8, episode reward: 16.000, mean reward:  0.016 [ 0.000,  1.000], mean action: 2.706 [0.000, 5.000],  loss: 0.015348, mae: 2.688812, mean_q: 3.236992, mean_eps: 0.236268\n",
      " 162484/200000: episode: 232, duration: 135.084s, episode steps: 1076, steps per second:   8, episode reward: 17.000, mean reward:  0.016 [ 0.000,  1.000], mean action: 2.352 [0.000, 5.000],  loss: 0.014197, mae: 2.664833, mean_q: 3.209455, mean_eps: 0.231413\n",
      " 163401/200000: episode: 233, duration: 114.850s, episode steps: 917, steps per second:   8, episode reward: 13.000, mean reward:  0.014 [ 0.000,  1.000], mean action: 2.376 [0.000, 5.000],  loss: 0.015005, mae: 2.660280, mean_q: 3.203405, mean_eps: 0.226745\n",
      " 163761/200000: episode: 234, duration: 42.748s, episode steps: 360, steps per second:   8, episode reward:  5.000, mean reward:  0.014 [ 0.000,  1.000], mean action: 2.397 [0.000, 5.000],  loss: 0.015416, mae: 2.656772, mean_q: 3.198417, mean_eps: 0.223755\n",
      " 164254/200000: episode: 235, duration: 59.305s, episode steps: 493, steps per second:   8, episode reward:  9.000, mean reward:  0.018 [ 0.000,  1.000], mean action: 2.525 [0.000, 5.000],  loss: 0.014698, mae: 2.662949, mean_q: 3.207008, mean_eps: 0.221757\n",
      " 164603/200000: episode: 236, duration: 43.561s, episode steps: 349, steps per second:   8, episode reward:  5.000, mean reward:  0.014 [ 0.000,  1.000], mean action: 2.596 [0.000, 5.000],  loss: 0.013013, mae: 2.643346, mean_q: 3.181410, mean_eps: 0.219785\n",
      " 165097/200000: episode: 237, duration: 60.585s, episode steps: 494, steps per second:   8, episode reward:  7.000, mean reward:  0.014 [ 0.000,  1.000], mean action: 2.496 [0.000, 5.000],  loss: 0.015672, mae: 2.641830, mean_q: 3.179819, mean_eps: 0.217810\n",
      " 165571/200000: episode: 238, duration: 56.858s, episode steps: 474, steps per second:   8, episode reward:  8.000, mean reward:  0.017 [ 0.000,  1.000], mean action: 2.504 [0.000, 5.000],  loss: 0.014256, mae: 2.657904, mean_q: 3.200212, mean_eps: 0.215543\n",
      " 166774/200000: episode: 239, duration: 150.126s, episode steps: 1203, steps per second:   8, episode reward: 28.000, mean reward:  0.023 [ 0.000,  1.000], mean action: 2.321 [0.000, 5.000],  loss: 0.014326, mae: 2.652597, mean_q: 3.193225, mean_eps: 0.211615\n",
      " 167412/200000: episode: 240, duration: 79.493s, episode steps: 638, steps per second:   8, episode reward: 10.000, mean reward:  0.016 [ 0.000,  1.000], mean action: 2.528 [0.000, 5.000],  loss: 0.014067, mae: 2.649817, mean_q: 3.190186, mean_eps: 0.207304\n",
      " 168385/200000: episode: 241, duration: 122.185s, episode steps: 973, steps per second:   8, episode reward: 25.000, mean reward:  0.026 [ 0.000,  1.000], mean action: 2.605 [0.000, 5.000],  loss: 0.013872, mae: 2.653726, mean_q: 3.195703, mean_eps: 0.203530\n",
      " 169218/200000: episode: 242, duration: 107.322s, episode steps: 833, steps per second:   8, episode reward: 11.000, mean reward:  0.013 [ 0.000,  1.000], mean action: 2.648 [0.000, 5.000],  loss: 0.014356, mae: 2.672974, mean_q: 3.218730, mean_eps: 0.199301\n",
      " 170446/200000: episode: 243, duration: 168.659s, episode steps: 1228, steps per second:   7, episode reward: 25.000, mean reward:  0.020 [ 0.000,  1.000], mean action: 2.458 [0.000, 5.000],  loss: 0.014393, mae: 2.677101, mean_q: 3.223423, mean_eps: 0.194474\n",
      " 170976/200000: episode: 244, duration: 76.670s, episode steps: 530, steps per second:   7, episode reward:  5.000, mean reward:  0.009 [ 0.000,  1.000], mean action: 2.538 [0.000, 5.000],  loss: 0.013853, mae: 2.676325, mean_q: 3.223318, mean_eps: 0.190356\n",
      " 171588/200000: episode: 245, duration: 91.285s, episode steps: 612, steps per second:   7, episode reward:  9.000, mean reward:  0.015 [ 0.000,  1.000], mean action: 2.623 [0.000, 5.000],  loss: 0.014512, mae: 2.693888, mean_q: 3.244244, mean_eps: 0.187681\n",
      " 172148/200000: episode: 246, duration: 79.720s, episode steps: 560, steps per second:   7, episode reward:  9.000, mean reward:  0.016 [ 0.000,  1.000], mean action: 2.379 [0.000, 5.000],  loss: 0.016526, mae: 2.697869, mean_q: 3.248525, mean_eps: 0.184936\n",
      " 172632/200000: episode: 247, duration: 67.335s, episode steps: 484, steps per second:   7, episode reward: 10.000, mean reward:  0.021 [ 0.000,  1.000], mean action: 2.548 [0.000, 5.000],  loss: 0.013681, mae: 2.678588, mean_q: 3.224863, mean_eps: 0.182491\n",
      " 173427/200000: episode: 248, duration: 119.860s, episode steps: 795, steps per second:   7, episode reward: 11.000, mean reward:  0.014 [ 0.000,  1.000], mean action: 2.325 [0.000, 5.000],  loss: 0.013314, mae: 2.678595, mean_q: 3.224583, mean_eps: 0.179496\n",
      " 174272/200000: episode: 249, duration: 116.979s, episode steps: 845, steps per second:   7, episode reward: 16.000, mean reward:  0.019 [ 0.000,  1.000], mean action: 2.704 [0.000, 5.000],  loss: 0.013842, mae: 2.668171, mean_q: 3.212273, mean_eps: 0.175655\n",
      " 174908/200000: episode: 250, duration: 89.928s, episode steps: 636, steps per second:   7, episode reward: 10.000, mean reward:  0.016 [ 0.000,  1.000], mean action: 2.252 [0.000, 5.000],  loss: 0.014183, mae: 2.674124, mean_q: 3.218599, mean_eps: 0.172186\n",
      " 175874/200000: episode: 251, duration: 133.503s, episode steps: 966, steps per second:   7, episode reward: 19.000, mean reward:  0.020 [ 0.000,  1.000], mean action: 2.265 [0.000, 5.000],  loss: 0.013564, mae: 2.661905, mean_q: 3.203949, mean_eps: 0.168434\n",
      " 177062/200000: episode: 252, duration: 170.141s, episode steps: 1188, steps per second:   7, episode reward: 29.000, mean reward:  0.024 [ 0.000,  1.000], mean action: 2.006 [0.000, 5.000],  loss: 0.014430, mae: 2.646660, mean_q: 3.185498, mean_eps: 0.163389\n",
      " 177591/200000: episode: 253, duration: 78.014s, episode steps: 529, steps per second:   7, episode reward:  6.000, mean reward:  0.011 [ 0.000,  1.000], mean action: 2.983 [0.000, 5.000],  loss: 0.013943, mae: 2.636309, mean_q: 3.172240, mean_eps: 0.159368\n",
      " 178270/200000: episode: 254, duration: 93.222s, episode steps: 679, steps per second:   7, episode reward: 11.000, mean reward:  0.016 [ 0.000,  1.000], mean action: 2.723 [0.000, 5.000],  loss: 0.015859, mae: 2.622463, mean_q: 3.156416, mean_eps: 0.156538\n",
      " 179275/200000: episode: 255, duration: 131.104s, episode steps: 1005, steps per second:   8, episode reward: 14.000, mean reward:  0.014 [ 0.000,  1.000], mean action: 2.625 [0.000, 5.000],  loss: 0.015534, mae: 2.630949, mean_q: 3.167842, mean_eps: 0.152594\n",
      " 181165/200000: episode: 256, duration: 244.413s, episode steps: 1890, steps per second:   8, episode reward: 31.000, mean reward:  0.016 [ 0.000,  1.000], mean action: 2.515 [0.000, 5.000],  loss: 0.014022, mae: 2.623501, mean_q: 3.157797, mean_eps: 0.145814\n",
      " 182117/200000: episode: 257, duration: 132.300s, episode steps: 952, steps per second:   7, episode reward: 19.000, mean reward:  0.020 [ 0.000,  1.000], mean action: 2.504 [0.000, 5.000],  loss: 0.013731, mae: 2.612492, mean_q: 3.144363, mean_eps: 0.139158\n",
      " 183222/200000: episode: 258, duration: 151.410s, episode steps: 1105, steps per second:   7, episode reward: 21.000, mean reward:  0.019 [ 0.000,  1.000], mean action: 2.167 [0.000, 5.000],  loss: 0.013977, mae: 2.621951, mean_q: 3.156174, mean_eps: 0.134340\n",
      " 184057/200000: episode: 259, duration: 115.401s, episode steps: 835, steps per second:   7, episode reward: 15.000, mean reward:  0.018 [ 0.000,  1.000], mean action: 2.604 [0.000, 5.000],  loss: 0.013719, mae: 2.607576, mean_q: 3.139589, mean_eps: 0.129796\n",
      " 184422/200000: episode: 260, duration: 49.217s, episode steps: 365, steps per second:   7, episode reward:  6.000, mean reward:  0.016 [ 0.000,  1.000], mean action: 2.970 [0.000, 5.000],  loss: 0.013600, mae: 2.604106, mean_q: 3.134985, mean_eps: 0.126986\n",
      " 185173/200000: episode: 261, duration: 101.480s, episode steps: 751, steps per second:   7, episode reward: 19.000, mean reward:  0.025 [ 0.000,  1.000], mean action: 1.867 [0.000, 5.000],  loss: 0.014787, mae: 2.601431, mean_q: 3.131768, mean_eps: 0.124372\n",
      " 186008/200000: episode: 262, duration: 115.360s, episode steps: 835, steps per second:   7, episode reward: 15.000, mean reward:  0.018 [ 0.000,  1.000], mean action: 2.392 [0.000, 5.000],  loss: 0.015587, mae: 2.600856, mean_q: 3.130938, mean_eps: 0.120657\n",
      " 186775/200000: episode: 263, duration: 109.143s, episode steps: 767, steps per second:   7, episode reward:  9.000, mean reward:  0.012 [ 0.000,  1.000], mean action: 2.241 [0.000, 5.000],  loss: 0.013637, mae: 2.594265, mean_q: 3.122985, mean_eps: 0.116905\n",
      " 187228/200000: episode: 264, duration: 63.798s, episode steps: 453, steps per second:   7, episode reward:  8.000, mean reward:  0.018 [ 0.000,  1.000], mean action: 2.532 [0.000, 5.000],  loss: 0.014602, mae: 2.586014, mean_q: 3.112256, mean_eps: 0.114048\n",
      " 187912/200000: episode: 265, duration: 101.271s, episode steps: 684, steps per second:   7, episode reward: 10.000, mean reward:  0.015 [ 0.000,  1.000], mean action: 2.760 [0.000, 5.000],  loss: 0.012216, mae: 2.572957, mean_q: 3.097050, mean_eps: 0.111385\n",
      " 188831/200000: episode: 266, duration: 188.319s, episode steps: 919, steps per second:   5, episode reward: 14.000, mean reward:  0.015 [ 0.000,  1.000], mean action: 2.793 [0.000, 5.000],  loss: 0.014372, mae: 2.593773, mean_q: 3.121329, mean_eps: 0.107631\n",
      " 189228/200000: episode: 267, duration: 70.769s, episode steps: 397, steps per second:   6, episode reward:  8.000, mean reward:  0.020 [ 0.000,  1.000], mean action: 2.594 [0.000, 5.000],  loss: 0.012286, mae: 2.589760, mean_q: 3.117333, mean_eps: 0.104548\n",
      " 190107/200000: episode: 268, duration: 137.701s, episode steps: 879, steps per second:   6, episode reward: 16.000, mean reward:  0.018 [ 0.000,  1.000], mean action: 2.551 [0.000, 5.000],  loss: 0.014086, mae: 2.586382, mean_q: 3.112935, mean_eps: 0.101590\n",
      " 191014/200000: episode: 269, duration: 144.115s, episode steps: 907, steps per second:   6, episode reward: 25.000, mean reward:  0.028 [ 0.000,  1.000], mean action: 2.669 [0.000, 5.000],  loss: 0.014295, mae: 2.575616, mean_q: 3.098996, mean_eps: 0.100000\n",
      " 191888/200000: episode: 270, duration: 141.496s, episode steps: 874, steps per second:   6, episode reward: 14.000, mean reward:  0.016 [ 0.000,  1.000], mean action: 2.500 [0.000, 5.000],  loss: 0.014270, mae: 2.578678, mean_q: 3.102560, mean_eps: 0.100000\n",
      " 192975/200000: episode: 271, duration: 145.107s, episode steps: 1087, steps per second:   7, episode reward: 19.000, mean reward:  0.017 [ 0.000,  1.000], mean action: 1.981 [0.000, 5.000],  loss: 0.013602, mae: 2.561680, mean_q: 3.082991, mean_eps: 0.100000\n",
      " 193960/200000: episode: 272, duration: 133.283s, episode steps: 985, steps per second:   7, episode reward: 24.000, mean reward:  0.024 [ 0.000,  1.000], mean action: 2.316 [0.000, 5.000],  loss: 0.012651, mae: 2.547286, mean_q: 3.065544, mean_eps: 0.100000\n",
      " 195138/200000: episode: 273, duration: 161.515s, episode steps: 1178, steps per second:   7, episode reward: 22.000, mean reward:  0.019 [ 0.000,  1.000], mean action: 2.322 [0.000, 5.000],  loss: 0.012486, mae: 2.534445, mean_q: 3.050745, mean_eps: 0.100000\n",
      " 195830/200000: episode: 274, duration: 94.685s, episode steps: 692, steps per second:   7, episode reward: 10.000, mean reward:  0.014 [ 0.000,  1.000], mean action: 2.058 [0.000, 5.000],  loss: 0.012326, mae: 2.510564, mean_q: 3.022189, mean_eps: 0.100000\n",
      " 196355/200000: episode: 275, duration: 71.096s, episode steps: 525, steps per second:   7, episode reward:  2.000, mean reward:  0.004 [ 0.000,  1.000], mean action: 3.015 [0.000, 5.000],  loss: 0.012060, mae: 2.507990, mean_q: 3.018788, mean_eps: 0.100000\n",
      " 197067/200000: episode: 276, duration: 97.238s, episode steps: 712, steps per second:   7, episode reward: 11.000, mean reward:  0.015 [ 0.000,  1.000], mean action: 2.169 [0.000, 5.000],  loss: 0.015276, mae: 2.518273, mean_q: 3.030145, mean_eps: 0.100000\n",
      " 197546/200000: episode: 277, duration: 66.531s, episode steps: 479, steps per second:   7, episode reward:  7.000, mean reward:  0.015 [ 0.000,  1.000], mean action: 2.286 [0.000, 5.000],  loss: 0.012767, mae: 2.498561, mean_q: 3.007608, mean_eps: 0.100000\n",
      " 198435/200000: episode: 278, duration: 120.474s, episode steps: 889, steps per second:   7, episode reward: 20.000, mean reward:  0.022 [ 0.000,  1.000], mean action: 2.855 [0.000, 5.000],  loss: 0.013219, mae: 2.514147, mean_q: 3.025733, mean_eps: 0.100000\n",
      " 199192/200000: episode: 279, duration: 102.564s, episode steps: 757, steps per second:   7, episode reward: 12.000, mean reward:  0.016 [ 0.000,  1.000], mean action: 2.483 [0.000, 5.000],  loss: 0.013341, mae: 2.507740, mean_q: 3.018296, mean_eps: 0.100000\n",
      " 199715/200000: episode: 280, duration: 71.864s, episode steps: 523, steps per second:   7, episode reward:  7.000, mean reward:  0.013 [ 0.000,  1.000], mean action: 2.606 [0.000, 5.000],  loss: 0.014016, mae: 2.518295, mean_q: 3.030594, mean_eps: 0.100000\n",
      "done, took 26912.393 seconds\n"
     ]
    },
    {
     "data": {
      "text/plain": [
       "<tensorflow.python.keras.callbacks.History at 0x246864d7070>"
      ]
     },
     "execution_count": 10,
     "metadata": {},
     "output_type": "execute_result"
    }
   ],
   "source": [
    "checkpoint = ModelIntervalCheckpoint('dqn14_weights_{step}.h5f', interval=10000)\n",
    "logger = FileLogger('dqn14_log.json', interval=100)\n",
    "dqn.fit(env, nb_steps=200000, visualize=False, verbose=2, log_interval=5000, callbacks=[checkpoint, logger])"
   ]
  },
  {
   "cell_type": "code",
   "execution_count": 11,
   "metadata": {},
   "outputs": [
    {
     "name": "stdout",
     "output_type": "stream",
     "text": [
      "Testing for 10 episodes ...\n",
      "Episode 1: reward: 11.000, steps: 646\n",
      "Episode 2: reward: 22.000, steps: 1662\n",
      "Episode 3: reward: 20.000, steps: 795\n",
      "Episode 4: reward: 18.000, steps: 936\n",
      "Episode 5: reward: 24.000, steps: 996\n",
      "Episode 6: reward: 11.000, steps: 694\n",
      "Episode 7: reward: 28.000, steps: 866\n",
      "Episode 8: reward: 24.000, steps: 1385\n",
      "Episode 9: reward: 21.000, steps: 1049\n",
      "Episode 10: reward: 18.000, steps: 966\n"
     ]
    },
    {
     "data": {
      "text/plain": [
       "<tensorflow.python.keras.callbacks.History at 0x246838af070>"
      ]
     },
     "execution_count": 11,
     "metadata": {},
     "output_type": "execute_result"
    }
   ],
   "source": [
    "dqn.save_weights('dqn14_{}_weights.h5f'.format(env_name), overwrite=True)\n",
    "dqn.test(env, nb_episodes=10, visualize=False)"
   ]
  },
  {
   "cell_type": "code",
   "execution_count": 12,
   "metadata": {},
   "outputs": [
    {
     "name": "stdout",
     "output_type": "stream",
     "text": [
      "Testing for 10 episodes ...\n",
      "Episode 1: reward: 26.000, steps: 1294\n",
      "Episode 2: reward: 17.000, steps: 735\n",
      "Episode 3: reward: 12.000, steps: 508\n",
      "Episode 4: reward: 18.000, steps: 782\n",
      "Episode 5: reward: 17.000, steps: 775\n",
      "Episode 6: reward: 21.000, steps: 998\n",
      "Episode 7: reward: 5.000, steps: 367\n",
      "Episode 8: reward: 17.000, steps: 1232\n",
      "Episode 9: reward: 23.000, steps: 875\n",
      "Episode 10: reward: 17.000, steps: 931\n"
     ]
    },
    {
     "data": {
      "text/plain": [
       "<tensorflow.python.keras.callbacks.History at 0x24688809e80>"
      ]
     },
     "execution_count": 12,
     "metadata": {},
     "output_type": "execute_result"
    }
   ],
   "source": [
    "dqn.test(env, nb_episodes=10, visualize=False)"
   ]
  },
  {
   "cell_type": "markdown",
   "metadata": {
    "id": "-NAlu8b1Gb2b"
   },
   "source": [
    "3. Justificación de los parámetros seleccionados y de los resultados obtenidos"
   ]
  },
  {
   "cell_type": "markdown",
   "metadata": {
    "id": "ANFQiicXK3sO"
   },
   "source": [
    "---"
   ]
  }
 ],
 "metadata": {
  "colab": {
   "provenance": []
  },
  "kernelspec": {
   "display_name": "Python 3 (ipykernel)",
   "language": "python",
   "name": "python3"
  },
  "language_info": {
   "codemirror_mode": {
    "name": "ipython",
    "version": 3
   },
   "file_extension": ".py",
   "mimetype": "text/x-python",
   "name": "python",
   "nbconvert_exporter": "python",
   "pygments_lexer": "ipython3",
   "version": "3.8.20"
  }
 },
 "nbformat": 4,
 "nbformat_minor": 4
}

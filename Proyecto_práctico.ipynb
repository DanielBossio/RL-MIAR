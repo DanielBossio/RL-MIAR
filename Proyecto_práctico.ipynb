{
 "cells": [
  {
   "cell_type": "markdown",
   "metadata": {
    "id": "jUehXgCyIRdq"
   },
   "source": [
    "# Actividad - Proyecto práctico\n",
    "\n",
    "\n",
    "> La actividad se desarrollará en grupos pre-definidos de 2-3 alumnos. Se debe indicar los nombres en orden alfabético (de apellidos). Recordad que esta actividad se corresponde con un 30% de la nota final de la asignatura. Se debe entregar entregar el trabajo en la presente notebook.\n",
    "*   Alumno 1:\n",
    "*   Alumno 2:\n",
    "*   Alumno 3:\n",
    "\n",
    "\n",
    "\n",
    "\n"
   ]
  },
  {
   "cell_type": "markdown",
   "metadata": {
    "id": "JwpYlnjWJhS9"
   },
   "source": [
    "---\n",
    "## **PARTE 1** - Instalación y requisitos previos\n",
    "\n",
    "> Las prácticas han sido preparadas para poder realizarse en el entorno de trabajo de Google Colab. Sin embargo, esta plataforma presenta ciertas incompatibilidades a la hora de visualizar la renderización en gym. Por ello, para obtener estas visualizaciones, se deberá trasladar el entorno de trabajo a local. Por ello, el presente dosier presenta instrucciones para poder trabajar en ambos entornos. Siga los siguientes pasos para un correcto funcionamiento:\n",
    "1.   **LOCAL:** Preparar el enviroment, siguiendo las intrucciones detalladas en la sección *1.1.Preparar enviroment*.\n",
    "2.  **AMBOS:** Modificar las variables \"mount\" y \"drive_mount\" a la carpeta de trabajo en drive en el caso de estar en Colab, y ejecturar la celda *1.2.Localizar entorno de trabajo*.\n",
    "3. **COLAB:** se deberá ejecutar las celdas correspondientes al montaje de la carpeta de trabajo en Drive. Esta corresponde a la sección *1.3.Montar carpeta de datos local*.\n",
    "4.  **AMBOS:** Instalar las librerías necesarias, siguiendo la sección *1.4.Instalar librerías necesarias*.\n"
   ]
  },
  {
   "cell_type": "markdown",
   "metadata": {
    "id": "RU2BPrK2JkP0"
   },
   "source": [
    "---\n",
    "### 1.1. Preparar enviroment (solo local)\n",
    "\n",
    "\n",
    "\n",
    "> Para preparar el entorno de trabajo en local, se han seguido los siguientes pasos:\n",
    "1. En Windows, puede ser necesario instalar las C++ Build Tools. Para ello, siga los siguientes pasos: https://towardsdatascience.com/how-to-install-openai-gym-in-a-windows-environment-338969e24d30.\n",
    "2. Instalar Anaconda\n",
    "3. Siguiendo el código que se presenta comentado en la próxima celda: Crear un enviroment, cambiar la ruta de trabajo, e instalar librerías básicas.\n",
    "\n",
    "\n",
    "```\n",
    "conda create --name miar_rl python=3.8\n",
    "conda activate miar_rl\n",
    "cd \"PATH_TO_FOLDER\"\n",
    "conda install git\n",
    "pip install jupyter\n",
    "```\n",
    "\n",
    "\n",
    "4. Abrir la notebook con *jupyter-notebook*.\n",
    "\n",
    "\n",
    "\n",
    "```\n",
    "jupyter-notebook\n",
    "```\n"
   ]
  },
  {
   "cell_type": "markdown",
   "metadata": {
    "id": "w-kixNPiJqTc"
   },
   "source": [
    "---\n",
    "### 1.2. Localizar entorno de trabajo: Google colab o local"
   ]
  },
  {
   "cell_type": "code",
   "execution_count": 10,
   "metadata": {
    "id": "S_YDFwZ-JscI"
   },
   "outputs": [],
   "source": [
    "# ATENCIÓN!! Modificar ruta relativa a la práctica si es distinta (drive_root)\n",
    "mount='/content/gdrive'\n",
    "drive_root = mount + \"/My Drive/\"\n",
    "\n",
    "try:\n",
    "  from google.colab import drive\n",
    "  IN_COLAB=True\n",
    "except:\n",
    "  IN_COLAB=False"
   ]
  },
  {
   "cell_type": "markdown",
   "metadata": {
    "id": "8Dp_a1iBJ0tf"
   },
   "source": [
    "---\n",
    "### 1.3. Montar carpeta de datos local (solo Colab)"
   ]
  },
  {
   "cell_type": "code",
   "execution_count": 2,
   "metadata": {
    "id": "I6n7MIefJ21i"
   },
   "outputs": [
    {
     "name": "stdout",
     "output_type": "stream",
     "text": [
      "Archivos en el directorio: \n",
      "['.ipynb_checkpoints', '08MIAR-RL.pdf', '08MIAR_sesion1.pdf', '08MIAR_sesion2.pdf', '08MIAR_sesion3.pdf', '08MIAR_sesion4.pdf', '08MIAR_sesion6.pdf', '08MIAR_sesion7.pdf', '1803.10122v4.pdf', '2006.16712v4.pdf', 'Algoritmos avanzados de RL.docx', 'Aprendizaje por refuerzo.docx', 'checkpoint', 'desktop.ini', 'dqn1_log.json', 'dqn2_log.json', 'dqn2_SpaceInvaders-v0_weights.h5f.data-00000-of-00001', 'dqn2_SpaceInvaders-v0_weights.h5f.index', 'dqn2_weights_10000.h5f.data-00000-of-00001', 'dqn2_weights_10000.h5f.index', 'dqn2_weights_20000.h5f.data-00000-of-00001', 'dqn2_weights_20000.h5f.index', 'dqn2_weights_30000.h5f.data-00000-of-00001', 'dqn2_weights_30000.h5f.index', 'dqn_weights_10000.h5f.data-00000-of-00001', 'dqn_weights_10000.h5f.index', 'dqn_weights_100000.h5f.data-00000-of-00001', 'dqn_weights_100000.h5f.index', 'dqn_weights_20000.h5f.data-00000-of-00001', 'dqn_weights_20000.h5f.index', 'dqn_weights_30000.h5f.data-00000-of-00001', 'dqn_weights_30000.h5f.index', 'dqn_weights_40000.h5f.data-00000-of-00001', 'dqn_weights_40000.h5f.index', 'dqn_weights_50000.h5f.data-00000-of-00001', 'dqn_weights_50000.h5f.index', 'dqn_weights_60000.h5f.data-00000-of-00001', 'dqn_weights_60000.h5f.index', 'dqn_weights_70000.h5f.data-00000-of-00001', 'dqn_weights_70000.h5f.index', 'dqn_weights_80000.h5f.data-00000-of-00001', 'dqn_weights_80000.h5f.index', 'dqn_weights_90000.h5f.data-00000-of-00001', 'dqn_weights_90000.h5f.index', 'ejemplos_preguntas(1)(1).pdf', 'Preguntas test.docx', 'Proyecto_práctico.ipynb', 'pseudocodigos.docx', 'World models.docx', '~$rld models.docx']\n"
     ]
    }
   ],
   "source": [
    "# Switch to the directory on the Google Drive that you want to use\n",
    "import os\n",
    "if IN_COLAB:\n",
    "  print(\"We're running Colab\")\n",
    "\n",
    "  if IN_COLAB:\n",
    "    # Mount the Google Drive at mount\n",
    "    print(\"Colab: mounting Google drive on \", mount)\n",
    "\n",
    "    drive.mount(mount)\n",
    "\n",
    "    # Create drive_root if it doesn't exist\n",
    "    create_drive_root = True\n",
    "    if create_drive_root:\n",
    "      print(\"\\nColab: making sure \", drive_root, \" exists.\")\n",
    "      os.makedirs(drive_root, exist_ok=True)\n",
    "\n",
    "    # Change to the directory\n",
    "    print(\"\\nColab: Changing directory to \", drive_root)\n",
    "    %cd $drive_root\n",
    "# Verify we're in the correct working directory\n",
    "%pwd\n",
    "print(\"Archivos en el directorio: \")\n",
    "print(os.listdir())"
   ]
  },
  {
   "cell_type": "markdown",
   "metadata": {
    "id": "i1ZSL5bpJ560"
   },
   "source": [
    "---\n",
    "### 1.4. Instalar librerías necesarias"
   ]
  },
  {
   "cell_type": "code",
   "execution_count": 2,
   "metadata": {
    "id": "UbVRjvHCJ8UF",
    "scrolled": true
   },
   "outputs": [
    {
     "name": "stdout",
     "output_type": "stream",
     "text": [
      "Requirement already satisfied: gym==0.17.3 in c:\\users\\bossi\\anaconda3\\envs\\miar_rl\\lib\\site-packages (0.17.3)\n",
      "Requirement already satisfied: scipy in c:\\users\\bossi\\anaconda3\\envs\\miar_rl\\lib\\site-packages (from gym==0.17.3) (1.10.1)\n",
      "Requirement already satisfied: numpy>=1.10.4 in c:\\users\\bossi\\anaconda3\\envs\\miar_rl\\lib\\site-packages (from gym==0.17.3) (1.19.5)\n",
      "Requirement already satisfied: pyglet<=1.5.0,>=1.4.0 in c:\\users\\bossi\\anaconda3\\envs\\miar_rl\\lib\\site-packages (from gym==0.17.3) (1.5.0)\n",
      "Requirement already satisfied: cloudpickle<1.7.0,>=1.2.0 in c:\\users\\bossi\\anaconda3\\envs\\miar_rl\\lib\\site-packages (from gym==0.17.3) (1.6.0)\n",
      "Requirement already satisfied: future in c:\\users\\bossi\\anaconda3\\envs\\miar_rl\\lib\\site-packages (from pyglet<=1.5.0,>=1.4.0->gym==0.17.3) (1.0.0)\n",
      "Note: you may need to restart the kernel to use updated packages.\n",
      "Collecting git+https://github.com/Kojoley/atari-py.git\n",
      "  Cloning https://github.com/Kojoley/atari-py.git to c:\\users\\bossi\\appdata\\local\\temp\\pip-req-build-c2rsr2we\n",
      "  Resolved https://github.com/Kojoley/atari-py.git to commit 86a1e05c0a95e9e6233c3a413521fdb34ca8a089\n",
      "  Preparing metadata (setup.py): started\n",
      "  Preparing metadata (setup.py): finished with status 'done'\n",
      "Requirement already satisfied: numpy in c:\\users\\bossi\\anaconda3\\envs\\miar_rl\\lib\\site-packages (from atari-py==1.2.2) (1.19.5)\n",
      "Note: you may need to restart the kernel to use updated packages.\n"
     ]
    },
    {
     "name": "stderr",
     "output_type": "stream",
     "text": [
      "  Running command git clone --filter=blob:none --quiet https://github.com/Kojoley/atari-py.git 'C:\\Users\\bossi\\AppData\\Local\\Temp\\pip-req-build-c2rsr2we'\n"
     ]
    },
    {
     "name": "stdout",
     "output_type": "stream",
     "text": [
      "Requirement already satisfied: pyglet==1.5.0 in c:\\users\\bossi\\anaconda3\\envs\\miar_rl\\lib\\site-packages (1.5.0)\n",
      "Requirement already satisfied: future in c:\\users\\bossi\\anaconda3\\envs\\miar_rl\\lib\\site-packages (from pyglet==1.5.0) (1.0.0)\n",
      "Note: you may need to restart the kernel to use updated packages.\n",
      "Requirement already satisfied: h5py==3.1.0 in c:\\users\\bossi\\anaconda3\\envs\\miar_rl\\lib\\site-packages (3.1.0)\n",
      "Requirement already satisfied: numpy>=1.17.5 in c:\\users\\bossi\\anaconda3\\envs\\miar_rl\\lib\\site-packages (from h5py==3.1.0) (1.19.5)\n",
      "Note: you may need to restart the kernel to use updated packages.\n",
      "Requirement already satisfied: Pillow==9.5.0 in c:\\users\\bossi\\anaconda3\\envs\\miar_rl\\lib\\site-packages (9.5.0)\n",
      "Note: you may need to restart the kernel to use updated packages.\n",
      "Note: you may need to restart the kernel to use updated packages.Requirement already satisfied: keras-rl2==1.0.5 in c:\\users\\bossi\\anaconda3\\envs\\miar_rl\\lib\\site-packages (1.0.5)\n",
      "Requirement already satisfied: tensorflow in c:\\users\\bossi\\anaconda3\\envs\\miar_rl\\lib\\site-packages (from keras-rl2==1.0.5) (2.5.3)\n",
      "Requirement already satisfied: numpy~=1.19.2 in c:\\users\\bossi\\anaconda3\\envs\\miar_rl\\lib\\site-packages (from tensorflow->keras-rl2==1.0.5) (1.19.5)\n",
      "Requirement already satisfied: absl-py~=0.10 in c:\\users\\bossi\\anaconda3\\envs\\miar_rl\\lib\\site-packages (from tensorflow->keras-rl2==1.0.5) (0.15.0)\n",
      "Requirement already satisfied: astunparse~=1.6.3 in c:\\users\\bossi\\anaconda3\\envs\\miar_rl\\lib\\site-packages (from tensorflow->keras-rl2==1.0.5) (1.6.3)\n",
      "Requirement already satisfied: flatbuffers~=1.12.0 in c:\\users\\bossi\\anaconda3\\envs\\miar_rl\\lib\\site-packages (from tensorflow->keras-rl2==1.0.5) (1.12)\n",
      "Requirement already satisfied: google-pasta~=0.2 in c:\\users\\bossi\\anaconda3\\envs\\miar_rl\\lib\\site-packages (from tensorflow->keras-rl2==1.0.5) (0.2.0)\n",
      "Requirement already satisfied: h5py~=3.1.0 in c:\\users\\bossi\\anaconda3\\envs\\miar_rl\\lib\\site-packages (from tensorflow->keras-rl2==1.0.5) (3.1.0)\n",
      "Requirement already satisfied: keras-preprocessing~=1.1.2 in c:\\users\\bossi\\anaconda3\\envs\\miar_rl\\lib\\site-packages (from tensorflow->keras-rl2==1.0.5) (1.1.2)\n",
      "Requirement already satisfied: opt-einsum~=3.3.0 in c:\\users\\bossi\\anaconda3\\envs\\miar_rl\\lib\\site-packages (from tensorflow->keras-rl2==1.0.5) (3.3.0)\n",
      "Requirement already satisfied: protobuf>=3.9.2 in c:\\users\\bossi\\anaconda3\\envs\\miar_rl\\lib\\site-packages (from tensorflow->keras-rl2==1.0.5) (3.20.3)\n",
      "Requirement already satisfied: six~=1.15.0 in c:\\users\\bossi\\anaconda3\\envs\\miar_rl\\lib\\site-packages (from tensorflow->keras-rl2==1.0.5) (1.15.0)\n",
      "Requirement already satisfied: termcolor~=1.1.0 in c:\\users\\bossi\\anaconda3\\envs\\miar_rl\\lib\\site-packages (from tensorflow->keras-rl2==1.0.5) (1.1.0)\n",
      "Collecting typing-extensions~=3.7.4 (from tensorflow->keras-rl2==1.0.5)\n",
      "  Using cached typing_extensions-3.7.4.3-py3-none-any.whl.metadata (2.0 kB)\n",
      "Requirement already satisfied: wheel~=0.35 in c:\\users\\bossi\\anaconda3\\envs\\miar_rl\\lib\\site-packages (from tensorflow->keras-rl2==1.0.5) (0.44.0)\n",
      "Requirement already satisfied: wrapt~=1.12.1 in c:\\users\\bossi\\anaconda3\\envs\\miar_rl\\lib\\site-packages (from tensorflow->keras-rl2==1.0.5) (1.12.1)\n",
      "Requirement already satisfied: gast==0.4.0 in c:\\users\\bossi\\anaconda3\\envs\\miar_rl\\lib\\site-packages (from tensorflow->keras-rl2==1.0.5) (0.4.0)\n",
      "Requirement already satisfied: tensorboard~=2.5 in c:\\users\\bossi\\anaconda3\\envs\\miar_rl\\lib\\site-packages (from tensorflow->keras-rl2==1.0.5) (2.11.2)\n",
      "Requirement already satisfied: tensorflow-estimator<2.6.0,>=2.5.0 in c:\\users\\bossi\\anaconda3\\envs\\miar_rl\\lib\\site-packages (from tensorflow->keras-rl2==1.0.5) (2.5.0)\n",
      "Requirement already satisfied: keras-nightly~=2.5.0.dev in c:\\users\\bossi\\anaconda3\\envs\\miar_rl\\lib\\site-packages (from tensorflow->keras-rl2==1.0.5) (2.5.0.dev2021032900)\n",
      "Requirement already satisfied: grpcio~=1.34.0 in c:\\users\\bossi\\anaconda3\\envs\\miar_rl\\lib\\site-packages (from tensorflow->keras-rl2==1.0.5) (1.34.1)\n",
      "Requirement already satisfied: google-auth<3,>=1.6.3 in c:\\users\\bossi\\anaconda3\\envs\\miar_rl\\lib\\site-packages (from tensorboard~=2.5->tensorflow->keras-rl2==1.0.5) (2.40.3)\n",
      "Requirement already satisfied: google-auth-oauthlib<0.5,>=0.4.1 in c:\\users\\bossi\\anaconda3\\envs\\miar_rl\\lib\\site-packages (from tensorboard~=2.5->tensorflow->keras-rl2==1.0.5) (0.4.6)\n",
      "Requirement already satisfied: markdown>=2.6.8 in c:\\users\\bossi\\anaconda3\\envs\\miar_rl\\lib\\site-packages (from tensorboard~=2.5->tensorflow->keras-rl2==1.0.5) (3.7)\n",
      "Requirement already satisfied: requests<3,>=2.21.0 in c:\\users\\bossi\\anaconda3\\envs\\miar_rl\\lib\\site-packages (from tensorboard~=2.5->tensorflow->keras-rl2==1.0.5) (2.32.3)\n",
      "Requirement already satisfied: setuptools>=41.0.0 in c:\\users\\bossi\\anaconda3\\envs\\miar_rl\\lib\\site-packages (from tensorboard~=2.5->tensorflow->keras-rl2==1.0.5) (75.1.0)\n",
      "Requirement already satisfied: tensorboard-data-server<0.7.0,>=0.6.0 in c:\\users\\bossi\\anaconda3\\envs\\miar_rl\\lib\\site-packages (from tensorboard~=2.5->tensorflow->keras-rl2==1.0.5) (0.6.1)\n",
      "Requirement already satisfied: tensorboard-plugin-wit>=1.6.0 in c:\\users\\bossi\\anaconda3\\envs\\miar_rl\\lib\\site-packages (from tensorboard~=2.5->tensorflow->keras-rl2==1.0.5) (1.8.1)\n",
      "Requirement already satisfied: werkzeug>=1.0.1 in c:\\users\\bossi\\anaconda3\\envs\\miar_rl\\lib\\site-packages (from tensorboard~=2.5->tensorflow->keras-rl2==1.0.5) (3.0.6)\n",
      "Requirement already satisfied: cachetools<6.0,>=2.0.0 in c:\\users\\bossi\\anaconda3\\envs\\miar_rl\\lib\\site-packages (from google-auth<3,>=1.6.3->tensorboard~=2.5->tensorflow->keras-rl2==1.0.5) (5.5.2)\n",
      "Requirement already satisfied: pyasn1-modules>=0.2.1 in c:\\users\\bossi\\anaconda3\\envs\\miar_rl\\lib\\site-packages (from google-auth<3,>=1.6.3->tensorboard~=2.5->tensorflow->keras-rl2==1.0.5) (0.4.2)\n",
      "Requirement already satisfied: rsa<5,>=3.1.4 in c:\\users\\bossi\\anaconda3\\envs\\miar_rl\\lib\\site-packages (from google-auth<3,>=1.6.3->tensorboard~=2.5->tensorflow->keras-rl2==1.0.5) (4.9.1)\n",
      "Requirement already satisfied: requests-oauthlib>=0.7.0 in c:\\users\\bossi\\anaconda3\\envs\\miar_rl\\lib\\site-packages (from google-auth-oauthlib<0.5,>=0.4.1->tensorboard~=2.5->tensorflow->keras-rl2==1.0.5) (2.0.0)\n",
      "Requirement already satisfied: importlib-metadata>=4.4 in c:\\users\\bossi\\anaconda3\\envs\\miar_rl\\lib\\site-packages (from markdown>=2.6.8->tensorboard~=2.5->tensorflow->keras-rl2==1.0.5) (7.0.1)\n",
      "Requirement already satisfied: charset-normalizer<4,>=2 in c:\\users\\bossi\\anaconda3\\envs\\miar_rl\\lib\\site-packages (from requests<3,>=2.21.0->tensorboard~=2.5->tensorflow->keras-rl2==1.0.5) (3.3.2)\n",
      "Requirement already satisfied: idna<4,>=2.5 in c:\\users\\bossi\\anaconda3\\envs\\miar_rl\\lib\\site-packages (from requests<3,>=2.21.0->tensorboard~=2.5->tensorflow->keras-rl2==1.0.5) (3.7)\n",
      "Requirement already satisfied: urllib3<3,>=1.21.1 in c:\\users\\bossi\\anaconda3\\envs\\miar_rl\\lib\\site-packages (from requests<3,>=2.21.0->tensorboard~=2.5->tensorflow->keras-rl2==1.0.5) (2.2.3)\n",
      "Requirement already satisfied: certifi>=2017.4.17 in c:\\users\\bossi\\anaconda3\\envs\\miar_rl\\lib\\site-packages (from requests<3,>=2.21.0->tensorboard~=2.5->tensorflow->keras-rl2==1.0.5) (2024.8.30)\n",
      "Requirement already satisfied: MarkupSafe>=2.1.1 in c:\\users\\bossi\\anaconda3\\envs\\miar_rl\\lib\\site-packages (from werkzeug>=1.0.1->tensorboard~=2.5->tensorflow->keras-rl2==1.0.5) (2.1.3)\n",
      "Requirement already satisfied: zipp>=0.5 in c:\\users\\bossi\\anaconda3\\envs\\miar_rl\\lib\\site-packages (from importlib-metadata>=4.4->markdown>=2.6.8->tensorboard~=2.5->tensorflow->keras-rl2==1.0.5) (3.20.2)\n",
      "Requirement already satisfied: pyasn1<0.7.0,>=0.6.1 in c:\\users\\bossi\\anaconda3\\envs\\miar_rl\\lib\\site-packages (from pyasn1-modules>=0.2.1->google-auth<3,>=1.6.3->tensorboard~=2.5->tensorflow->keras-rl2==1.0.5) (0.6.1)\n",
      "Requirement already satisfied: oauthlib>=3.0.0 in c:\\users\\bossi\\anaconda3\\envs\\miar_rl\\lib\\site-packages (from requests-oauthlib>=0.7.0->google-auth-oauthlib<0.5,>=0.4.1->tensorboard~=2.5->tensorflow->keras-rl2==1.0.5) (3.3.1)\n",
      "Using cached typing_extensions-3.7.4.3-py3-none-any.whl (22 kB)\n",
      "Installing collected packages: typing-extensions\n",
      "  Attempting uninstall: typing-extensions\n",
      "    Found existing installation: typing_extensions 4.13.2\n",
      "    Uninstalling typing_extensions-4.13.2:\n",
      "      Successfully uninstalled typing_extensions-4.13.2\n",
      "Successfully installed typing-extensions-3.7.4.3\n",
      "\n"
     ]
    },
    {
     "name": "stderr",
     "output_type": "stream",
     "text": [
      "ERROR: pip's dependency resolver does not currently take into account all the packages that are installed. This behaviour is the source of the following dependency conflicts.\n",
      "anyio 4.2.0 requires typing-extensions>=4.1; python_version < \"3.11\", but you have typing-extensions 3.7.4.3 which is incompatible.\n",
      "async-lru 2.0.4 requires typing-extensions>=4.0.0; python_version < \"3.11\", but you have typing-extensions 3.7.4.3 which is incompatible.\n",
      "jupyter-server 2.14.1 requires pywinpty>=2.0.1; os_name == \"nt\", but you have pywinpty 1.1.6 which is incompatible.\n",
      "tensorflow-intel 2.13.0 requires absl-py>=1.0.0, but you have absl-py 0.15.0 which is incompatible.\n",
      "tensorflow-intel 2.13.0 requires flatbuffers>=23.1.21, but you have flatbuffers 1.12 which is incompatible.\n",
      "tensorflow-intel 2.13.0 requires keras<2.14,>=2.13.1, but you have keras 2.2.4 which is incompatible.\n",
      "tensorflow-intel 2.13.0 requires numpy<=1.24.3,>=1.22, but you have numpy 1.19.5 which is incompatible.\n",
      "tensorflow-intel 2.13.0 requires tensorboard<2.14,>=2.13, but you have tensorboard 2.11.2 which is incompatible.\n",
      "tensorflow-intel 2.13.0 requires tensorflow-estimator<2.14,>=2.13.0, but you have tensorflow-estimator 2.5.0 which is incompatible.\n"
     ]
    },
    {
     "name": "stdout",
     "output_type": "stream",
     "text": [
      "Requirement already satisfied: Keras==2.2.4 in c:\\users\\bossi\\anaconda3\\envs\\miar_rl\\lib\\site-packages (2.2.4)Note: you may need to restart the kernel to use updated packages.\n",
      "\n",
      "Requirement already satisfied: numpy>=1.9.1 in c:\\users\\bossi\\anaconda3\\envs\\miar_rl\\lib\\site-packages (from Keras==2.2.4) (1.19.5)\n",
      "Requirement already satisfied: scipy>=0.14 in c:\\users\\bossi\\anaconda3\\envs\\miar_rl\\lib\\site-packages (from Keras==2.2.4) (1.10.1)\n",
      "Requirement already satisfied: six>=1.9.0 in c:\\users\\bossi\\anaconda3\\envs\\miar_rl\\lib\\site-packages (from Keras==2.2.4) (1.15.0)\n",
      "Requirement already satisfied: pyyaml in c:\\users\\bossi\\anaconda3\\envs\\miar_rl\\lib\\site-packages (from Keras==2.2.4) (6.0.2)\n",
      "Requirement already satisfied: h5py in c:\\users\\bossi\\anaconda3\\envs\\miar_rl\\lib\\site-packages (from Keras==2.2.4) (3.1.0)\n",
      "Requirement already satisfied: keras-applications>=1.0.6 in c:\\users\\bossi\\anaconda3\\envs\\miar_rl\\lib\\site-packages (from Keras==2.2.4) (1.0.8)\n",
      "Requirement already satisfied: keras-preprocessing>=1.0.5 in c:\\users\\bossi\\anaconda3\\envs\\miar_rl\\lib\\site-packages (from Keras==2.2.4) (1.1.2)\n",
      "Requirement already satisfied: tensorflow==2.5.3 in c:\\users\\bossi\\anaconda3\\envs\\miar_rl\\lib\\site-packages (2.5.3)\n",
      "Requirement already satisfied: numpy~=1.19.2 in c:\\users\\bossi\\anaconda3\\envs\\miar_rl\\lib\\site-packages (from tensorflow==2.5.3) (1.19.5)\n",
      "Requirement already satisfied: absl-py~=0.10 in c:\\users\\bossi\\anaconda3\\envs\\miar_rl\\lib\\site-packages (from tensorflow==2.5.3) (0.15.0)\n",
      "Requirement already satisfied: astunparse~=1.6.3 in c:\\users\\bossi\\anaconda3\\envs\\miar_rl\\lib\\site-packages (from tensorflow==2.5.3) (1.6.3)\n",
      "Requirement already satisfied: flatbuffers~=1.12.0 in c:\\users\\bossi\\anaconda3\\envs\\miar_rl\\lib\\site-packages (from tensorflow==2.5.3) (1.12)\n",
      "Requirement already satisfied: google-pasta~=0.2 in c:\\users\\bossi\\anaconda3\\envs\\miar_rl\\lib\\site-packages (from tensorflow==2.5.3) (0.2.0)\n",
      "Requirement already satisfied: h5py~=3.1.0 in c:\\users\\bossi\\anaconda3\\envs\\miar_rl\\lib\\site-packages (from tensorflow==2.5.3) (3.1.0)\n",
      "Requirement already satisfied: keras-preprocessing~=1.1.2 in c:\\users\\bossi\\anaconda3\\envs\\miar_rl\\lib\\site-packages (from tensorflow==2.5.3) (1.1.2)\n",
      "Requirement already satisfied: opt-einsum~=3.3.0 in c:\\users\\bossi\\anaconda3\\envs\\miar_rl\\lib\\site-packages (from tensorflow==2.5.3) (3.3.0)\n",
      "Requirement already satisfied: protobuf>=3.9.2 in c:\\users\\bossi\\anaconda3\\envs\\miar_rl\\lib\\site-packages (from tensorflow==2.5.3) (3.20.3)\n",
      "Requirement already satisfied: six~=1.15.0 in c:\\users\\bossi\\anaconda3\\envs\\miar_rl\\lib\\site-packages (from tensorflow==2.5.3) (1.15.0)\n",
      "Requirement already satisfied: termcolor~=1.1.0 in c:\\users\\bossi\\anaconda3\\envs\\miar_rl\\lib\\site-packages (from tensorflow==2.5.3) (1.1.0)\n",
      "Requirement already satisfied: typing-extensions~=3.7.4 in c:\\users\\bossi\\anaconda3\\envs\\miar_rl\\lib\\site-packages (from tensorflow==2.5.3) (3.7.4.3)\n",
      "Requirement already satisfied: wheel~=0.35 in c:\\users\\bossi\\anaconda3\\envs\\miar_rl\\lib\\site-packages (from tensorflow==2.5.3) (0.44.0)\n",
      "Requirement already satisfied: wrapt~=1.12.1 in c:\\users\\bossi\\anaconda3\\envs\\miar_rl\\lib\\site-packages (from tensorflow==2.5.3) (1.12.1)\n",
      "Requirement already satisfied: gast==0.4.0 in c:\\users\\bossi\\anaconda3\\envs\\miar_rl\\lib\\site-packages (from tensorflow==2.5.3) (0.4.0)\n",
      "Requirement already satisfied: tensorboard~=2.5 in c:\\users\\bossi\\anaconda3\\envs\\miar_rl\\lib\\site-packages (from tensorflow==2.5.3) (2.11.2)\n",
      "Requirement already satisfied: tensorflow-estimator<2.6.0,>=2.5.0 in c:\\users\\bossi\\anaconda3\\envs\\miar_rl\\lib\\site-packages (from tensorflow==2.5.3) (2.5.0)\n",
      "Requirement already satisfied: keras-nightly~=2.5.0.dev in c:\\users\\bossi\\anaconda3\\envs\\miar_rl\\lib\\site-packages (from tensorflow==2.5.3) (2.5.0.dev2021032900)\n",
      "Requirement already satisfied: grpcio~=1.34.0 in c:\\users\\bossi\\anaconda3\\envs\\miar_rl\\lib\\site-packages (from tensorflow==2.5.3) (1.34.1)\n",
      "Requirement already satisfied: google-auth<3,>=1.6.3 in c:\\users\\bossi\\anaconda3\\envs\\miar_rl\\lib\\site-packages (from tensorboard~=2.5->tensorflow==2.5.3) (2.40.3)\n",
      "Requirement already satisfied: google-auth-oauthlib<0.5,>=0.4.1 in c:\\users\\bossi\\anaconda3\\envs\\miar_rl\\lib\\site-packages (from tensorboard~=2.5->tensorflow==2.5.3) (0.4.6)\n",
      "Requirement already satisfied: markdown>=2.6.8 in c:\\users\\bossi\\anaconda3\\envs\\miar_rl\\lib\\site-packages (from tensorboard~=2.5->tensorflow==2.5.3) (3.7)\n",
      "Requirement already satisfied: requests<3,>=2.21.0 in c:\\users\\bossi\\anaconda3\\envs\\miar_rl\\lib\\site-packages (from tensorboard~=2.5->tensorflow==2.5.3) (2.32.3)\n",
      "Requirement already satisfied: setuptools>=41.0.0 in c:\\users\\bossi\\anaconda3\\envs\\miar_rl\\lib\\site-packages (from tensorboard~=2.5->tensorflow==2.5.3) (75.1.0)\n",
      "Requirement already satisfied: tensorboard-data-server<0.7.0,>=0.6.0 in c:\\users\\bossi\\anaconda3\\envs\\miar_rl\\lib\\site-packages (from tensorboard~=2.5->tensorflow==2.5.3) (0.6.1)\n",
      "Requirement already satisfied: tensorboard-plugin-wit>=1.6.0 in c:\\users\\bossi\\anaconda3\\envs\\miar_rl\\lib\\site-packages (from tensorboard~=2.5->tensorflow==2.5.3) (1.8.1)\n",
      "Requirement already satisfied: werkzeug>=1.0.1 in c:\\users\\bossi\\anaconda3\\envs\\miar_rl\\lib\\site-packages (from tensorboard~=2.5->tensorflow==2.5.3) (3.0.6)\n",
      "Requirement already satisfied: cachetools<6.0,>=2.0.0 in c:\\users\\bossi\\anaconda3\\envs\\miar_rl\\lib\\site-packages (from google-auth<3,>=1.6.3->tensorboard~=2.5->tensorflow==2.5.3) (5.5.2)\n",
      "Requirement already satisfied: pyasn1-modules>=0.2.1 in c:\\users\\bossi\\anaconda3\\envs\\miar_rl\\lib\\site-packages (from google-auth<3,>=1.6.3->tensorboard~=2.5->tensorflow==2.5.3) (0.4.2)\n",
      "Requirement already satisfied: rsa<5,>=3.1.4 in c:\\users\\bossi\\anaconda3\\envs\\miar_rl\\lib\\site-packages (from google-auth<3,>=1.6.3->tensorboard~=2.5->tensorflow==2.5.3) (4.9.1)\n",
      "Requirement already satisfied: requests-oauthlib>=0.7.0 in c:\\users\\bossi\\anaconda3\\envs\\miar_rl\\lib\\site-packages (from google-auth-oauthlib<0.5,>=0.4.1->tensorboard~=2.5->tensorflow==2.5.3) (2.0.0)\n",
      "Requirement already satisfied: importlib-metadata>=4.4 in c:\\users\\bossi\\anaconda3\\envs\\miar_rl\\lib\\site-packages (from markdown>=2.6.8->tensorboard~=2.5->tensorflow==2.5.3) (7.0.1)\n",
      "Requirement already satisfied: charset-normalizer<4,>=2 in c:\\users\\bossi\\anaconda3\\envs\\miar_rl\\lib\\site-packages (from requests<3,>=2.21.0->tensorboard~=2.5->tensorflow==2.5.3) (3.3.2)\n",
      "Requirement already satisfied: idna<4,>=2.5 in c:\\users\\bossi\\anaconda3\\envs\\miar_rl\\lib\\site-packages (from requests<3,>=2.21.0->tensorboard~=2.5->tensorflow==2.5.3) (3.7)\n",
      "Requirement already satisfied: urllib3<3,>=1.21.1 in c:\\users\\bossi\\anaconda3\\envs\\miar_rl\\lib\\site-packages (from requests<3,>=2.21.0->tensorboard~=2.5->tensorflow==2.5.3) (2.2.3)\n",
      "Requirement already satisfied: certifi>=2017.4.17 in c:\\users\\bossi\\anaconda3\\envs\\miar_rl\\lib\\site-packages (from requests<3,>=2.21.0->tensorboard~=2.5->tensorflow==2.5.3) (2024.8.30)\n",
      "Requirement already satisfied: MarkupSafe>=2.1.1 in c:\\users\\bossi\\anaconda3\\envs\\miar_rl\\lib\\site-packages (from werkzeug>=1.0.1->tensorboard~=2.5->tensorflow==2.5.3) (2.1.3)\n",
      "Requirement already satisfied: zipp>=0.5 in c:\\users\\bossi\\anaconda3\\envs\\miar_rl\\lib\\site-packages (from importlib-metadata>=4.4->markdown>=2.6.8->tensorboard~=2.5->tensorflow==2.5.3) (3.20.2)\n",
      "Requirement already satisfied: pyasn1<0.7.0,>=0.6.1 in c:\\users\\bossi\\anaconda3\\envs\\miar_rl\\lib\\site-packages (from pyasn1-modules>=0.2.1->google-auth<3,>=1.6.3->tensorboard~=2.5->tensorflow==2.5.3) (0.6.1)\n",
      "Requirement already satisfied: oauthlib>=3.0.0 in c:\\users\\bossi\\anaconda3\\envs\\miar_rl\\lib\\site-packages (from requests-oauthlib>=0.7.0->google-auth-oauthlib<0.5,>=0.4.1->tensorboard~=2.5->tensorflow==2.5.3) (3.3.1)\n",
      "Note: you may need to restart the kernel to use updated packages.\n",
      "Requirement already satisfied: torch==2.0.1 in c:\\users\\bossi\\anaconda3\\envs\\miar_rl\\lib\\site-packages (2.0.1)Note: you may need to restart the kernel to use updated packages.\n",
      "\n",
      "Requirement already satisfied: filelock in c:\\users\\bossi\\anaconda3\\envs\\miar_rl\\lib\\site-packages (from torch==2.0.1) (3.16.1)\n",
      "Requirement already satisfied: typing-extensions in c:\\users\\bossi\\anaconda3\\envs\\miar_rl\\lib\\site-packages (from torch==2.0.1) (3.7.4.3)\n",
      "Requirement already satisfied: sympy in c:\\users\\bossi\\anaconda3\\envs\\miar_rl\\lib\\site-packages (from torch==2.0.1) (1.13.3)\n",
      "Requirement already satisfied: networkx in c:\\users\\bossi\\anaconda3\\envs\\miar_rl\\lib\\site-packages (from torch==2.0.1) (3.1)\n",
      "Requirement already satisfied: jinja2 in c:\\users\\bossi\\anaconda3\\envs\\miar_rl\\lib\\site-packages (from torch==2.0.1) (3.1.4)\n",
      "Requirement already satisfied: MarkupSafe>=2.0 in c:\\users\\bossi\\anaconda3\\envs\\miar_rl\\lib\\site-packages (from jinja2->torch==2.0.1) (2.1.3)\n",
      "Requirement already satisfied: mpmath<1.4,>=1.1.0 in c:\\users\\bossi\\anaconda3\\envs\\miar_rl\\lib\\site-packages (from sympy->torch==2.0.1) (1.3.0)\n",
      "Requirement already satisfied: agents==1.4.0 in c:\\users\\bossi\\anaconda3\\envs\\miar_rl\\lib\\site-packages (1.4.0)\n",
      "Requirement already satisfied: tensorflow in c:\\users\\bossi\\anaconda3\\envs\\miar_rl\\lib\\site-packages (from agents==1.4.0) (2.5.3)\n",
      "Requirement already satisfied: gym in c:\\users\\bossi\\anaconda3\\envs\\miar_rl\\lib\\site-packages (from agents==1.4.0) (0.17.3)\n",
      "Requirement already satisfied: ruamel.yaml in c:\\users\\bossi\\anaconda3\\envs\\miar_rl\\lib\\site-packages (from agents==1.4.0) (0.18.14)\n",
      "Requirement already satisfied: scipy in c:\\users\\bossi\\anaconda3\\envs\\miar_rl\\lib\\site-packages (from gym->agents==1.4.0) (1.10.1)\n",
      "Requirement already satisfied: numpy>=1.10.4 in c:\\users\\bossi\\anaconda3\\envs\\miar_rl\\lib\\site-packages (from gym->agents==1.4.0) (1.19.5)\n",
      "Requirement already satisfied: pyglet<=1.5.0,>=1.4.0 in c:\\users\\bossi\\anaconda3\\envs\\miar_rl\\lib\\site-packages (from gym->agents==1.4.0) (1.5.0)\n",
      "Requirement already satisfied: cloudpickle<1.7.0,>=1.2.0 in c:\\users\\bossi\\anaconda3\\envs\\miar_rl\\lib\\site-packages (from gym->agents==1.4.0) (1.6.0)\n",
      "Requirement already satisfied: ruamel.yaml.clib>=0.2.7 in c:\\users\\bossi\\anaconda3\\envs\\miar_rl\\lib\\site-packages (from ruamel.yaml->agents==1.4.0) (0.2.8)\n",
      "Requirement already satisfied: absl-py~=0.10 in c:\\users\\bossi\\anaconda3\\envs\\miar_rl\\lib\\site-packages (from tensorflow->agents==1.4.0) (0.15.0)\n",
      "Requirement already satisfied: astunparse~=1.6.3 in c:\\users\\bossi\\anaconda3\\envs\\miar_rl\\lib\\site-packages (from tensorflow->agents==1.4.0) (1.6.3)\n",
      "Requirement already satisfied: flatbuffers~=1.12.0 in c:\\users\\bossi\\anaconda3\\envs\\miar_rl\\lib\\site-packages (from tensorflow->agents==1.4.0) (1.12)\n",
      "Requirement already satisfied: google-pasta~=0.2 in c:\\users\\bossi\\anaconda3\\envs\\miar_rl\\lib\\site-packages (from tensorflow->agents==1.4.0) (0.2.0)\n",
      "Requirement already satisfied: h5py~=3.1.0 in c:\\users\\bossi\\anaconda3\\envs\\miar_rl\\lib\\site-packages (from tensorflow->agents==1.4.0) (3.1.0)\n",
      "Requirement already satisfied: keras-preprocessing~=1.1.2 in c:\\users\\bossi\\anaconda3\\envs\\miar_rl\\lib\\site-packages (from tensorflow->agents==1.4.0) (1.1.2)\n",
      "Requirement already satisfied: opt-einsum~=3.3.0 in c:\\users\\bossi\\anaconda3\\envs\\miar_rl\\lib\\site-packages (from tensorflow->agents==1.4.0) (3.3.0)\n",
      "Requirement already satisfied: protobuf>=3.9.2 in c:\\users\\bossi\\anaconda3\\envs\\miar_rl\\lib\\site-packages (from tensorflow->agents==1.4.0) (3.20.3)\n",
      "Requirement already satisfied: six~=1.15.0 in c:\\users\\bossi\\anaconda3\\envs\\miar_rl\\lib\\site-packages (from tensorflow->agents==1.4.0) (1.15.0)\n",
      "Requirement already satisfied: termcolor~=1.1.0 in c:\\users\\bossi\\anaconda3\\envs\\miar_rl\\lib\\site-packages (from tensorflow->agents==1.4.0) (1.1.0)\n",
      "Requirement already satisfied: typing-extensions~=3.7.4 in c:\\users\\bossi\\anaconda3\\envs\\miar_rl\\lib\\site-packages (from tensorflow->agents==1.4.0) (3.7.4.3)\n",
      "Requirement already satisfied: wheel~=0.35 in c:\\users\\bossi\\anaconda3\\envs\\miar_rl\\lib\\site-packages (from tensorflow->agents==1.4.0) (0.44.0)\n",
      "Requirement already satisfied: wrapt~=1.12.1 in c:\\users\\bossi\\anaconda3\\envs\\miar_rl\\lib\\site-packages (from tensorflow->agents==1.4.0) (1.12.1)\n",
      "Requirement already satisfied: gast==0.4.0 in c:\\users\\bossi\\anaconda3\\envs\\miar_rl\\lib\\site-packages (from tensorflow->agents==1.4.0) (0.4.0)\n",
      "Requirement already satisfied: tensorboard~=2.5 in c:\\users\\bossi\\anaconda3\\envs\\miar_rl\\lib\\site-packages (from tensorflow->agents==1.4.0) (2.11.2)\n",
      "Requirement already satisfied: tensorflow-estimator<2.6.0,>=2.5.0 in c:\\users\\bossi\\anaconda3\\envs\\miar_rl\\lib\\site-packages (from tensorflow->agents==1.4.0) (2.5.0)\n",
      "Requirement already satisfied: keras-nightly~=2.5.0.dev in c:\\users\\bossi\\anaconda3\\envs\\miar_rl\\lib\\site-packages (from tensorflow->agents==1.4.0) (2.5.0.dev2021032900)\n",
      "Requirement already satisfied: grpcio~=1.34.0 in c:\\users\\bossi\\anaconda3\\envs\\miar_rl\\lib\\site-packages (from tensorflow->agents==1.4.0) (1.34.1)\n",
      "Requirement already satisfied: future in c:\\users\\bossi\\anaconda3\\envs\\miar_rl\\lib\\site-packages (from pyglet<=1.5.0,>=1.4.0->gym->agents==1.4.0) (1.0.0)\n",
      "Requirement already satisfied: google-auth<3,>=1.6.3 in c:\\users\\bossi\\anaconda3\\envs\\miar_rl\\lib\\site-packages (from tensorboard~=2.5->tensorflow->agents==1.4.0) (2.40.3)\n",
      "Requirement already satisfied: google-auth-oauthlib<0.5,>=0.4.1 in c:\\users\\bossi\\anaconda3\\envs\\miar_rl\\lib\\site-packages (from tensorboard~=2.5->tensorflow->agents==1.4.0) (0.4.6)\n",
      "Requirement already satisfied: markdown>=2.6.8 in c:\\users\\bossi\\anaconda3\\envs\\miar_rl\\lib\\site-packages (from tensorboard~=2.5->tensorflow->agents==1.4.0) (3.7)\n",
      "Requirement already satisfied: requests<3,>=2.21.0 in c:\\users\\bossi\\anaconda3\\envs\\miar_rl\\lib\\site-packages (from tensorboard~=2.5->tensorflow->agents==1.4.0) (2.32.3)\n",
      "Requirement already satisfied: setuptools>=41.0.0 in c:\\users\\bossi\\anaconda3\\envs\\miar_rl\\lib\\site-packages (from tensorboard~=2.5->tensorflow->agents==1.4.0) (75.1.0)\n",
      "Requirement already satisfied: tensorboard-data-server<0.7.0,>=0.6.0 in c:\\users\\bossi\\anaconda3\\envs\\miar_rl\\lib\\site-packages (from tensorboard~=2.5->tensorflow->agents==1.4.0) (0.6.1)\n",
      "Requirement already satisfied: tensorboard-plugin-wit>=1.6.0 in c:\\users\\bossi\\anaconda3\\envs\\miar_rl\\lib\\site-packages (from tensorboard~=2.5->tensorflow->agents==1.4.0) (1.8.1)\n",
      "Requirement already satisfied: werkzeug>=1.0.1 in c:\\users\\bossi\\anaconda3\\envs\\miar_rl\\lib\\site-packages (from tensorboard~=2.5->tensorflow->agents==1.4.0) (3.0.6)\n",
      "Requirement already satisfied: cachetools<6.0,>=2.0.0 in c:\\users\\bossi\\anaconda3\\envs\\miar_rl\\lib\\site-packages (from google-auth<3,>=1.6.3->tensorboard~=2.5->tensorflow->agents==1.4.0) (5.5.2)\n",
      "Requirement already satisfied: pyasn1-modules>=0.2.1 in c:\\users\\bossi\\anaconda3\\envs\\miar_rl\\lib\\site-packages (from google-auth<3,>=1.6.3->tensorboard~=2.5->tensorflow->agents==1.4.0) (0.4.2)\n",
      "Requirement already satisfied: rsa<5,>=3.1.4 in c:\\users\\bossi\\anaconda3\\envs\\miar_rl\\lib\\site-packages (from google-auth<3,>=1.6.3->tensorboard~=2.5->tensorflow->agents==1.4.0) (4.9.1)\n",
      "Requirement already satisfied: requests-oauthlib>=0.7.0 in c:\\users\\bossi\\anaconda3\\envs\\miar_rl\\lib\\site-packages (from google-auth-oauthlib<0.5,>=0.4.1->tensorboard~=2.5->tensorflow->agents==1.4.0) (2.0.0)\n",
      "Requirement already satisfied: importlib-metadata>=4.4 in c:\\users\\bossi\\anaconda3\\envs\\miar_rl\\lib\\site-packages (from markdown>=2.6.8->tensorboard~=2.5->tensorflow->agents==1.4.0) (7.0.1)\n",
      "Requirement already satisfied: charset-normalizer<4,>=2 in c:\\users\\bossi\\anaconda3\\envs\\miar_rl\\lib\\site-packages (from requests<3,>=2.21.0->tensorboard~=2.5->tensorflow->agents==1.4.0) (3.3.2)\n",
      "Requirement already satisfied: idna<4,>=2.5 in c:\\users\\bossi\\anaconda3\\envs\\miar_rl\\lib\\site-packages (from requests<3,>=2.21.0->tensorboard~=2.5->tensorflow->agents==1.4.0) (3.7)\n",
      "Requirement already satisfied: urllib3<3,>=1.21.1 in c:\\users\\bossi\\anaconda3\\envs\\miar_rl\\lib\\site-packages (from requests<3,>=2.21.0->tensorboard~=2.5->tensorflow->agents==1.4.0) (2.2.3)\n",
      "Requirement already satisfied: certifi>=2017.4.17 in c:\\users\\bossi\\anaconda3\\envs\\miar_rl\\lib\\site-packages (from requests<3,>=2.21.0->tensorboard~=2.5->tensorflow->agents==1.4.0) (2024.8.30)\n",
      "Requirement already satisfied: MarkupSafe>=2.1.1 in c:\\users\\bossi\\anaconda3\\envs\\miar_rl\\lib\\site-packages (from werkzeug>=1.0.1->tensorboard~=2.5->tensorflow->agents==1.4.0) (2.1.3)\n",
      "Requirement already satisfied: zipp>=0.5 in c:\\users\\bossi\\anaconda3\\envs\\miar_rl\\lib\\site-packages (from importlib-metadata>=4.4->markdown>=2.6.8->tensorboard~=2.5->tensorflow->agents==1.4.0) (3.20.2)\n",
      "Requirement already satisfied: pyasn1<0.7.0,>=0.6.1 in c:\\users\\bossi\\anaconda3\\envs\\miar_rl\\lib\\site-packages (from pyasn1-modules>=0.2.1->google-auth<3,>=1.6.3->tensorboard~=2.5->tensorflow->agents==1.4.0) (0.6.1)\n",
      "Requirement already satisfied: oauthlib>=3.0.0 in c:\\users\\bossi\\anaconda3\\envs\\miar_rl\\lib\\site-packages (from requests-oauthlib>=0.7.0->google-auth-oauthlib<0.5,>=0.4.1->tensorboard~=2.5->tensorflow->agents==1.4.0) (3.3.1)\n",
      "Note: you may need to restart the kernel to use updated packages.\n"
     ]
    }
   ],
   "source": [
    "if IN_COLAB:\n",
    "  %pip install gym==0.17.3\n",
    "  %pip install git+https://github.com/Kojoley/atari-py.git\n",
    "  %pip install keras-rl2==1.0.5\n",
    "  %pip install tensorflow==2.8\n",
    "else:\n",
    "  %pip install gym==0.17.3\n",
    "  %pip install git+https://github.com/Kojoley/atari-py.git\n",
    "  %pip install pyglet==1.5.0\n",
    "  %pip install h5py==3.1.0\n",
    "  %pip install Pillow==9.5.0\n",
    "  %pip install keras-rl2==1.0.5\n",
    "  %pip install Keras==2.2.4\n",
    "  %pip install tensorflow==2.5.3\n",
    "  %pip install torch==2.0.1\n",
    "  %pip install agents==1.4.0"
   ]
  },
  {
   "cell_type": "markdown",
   "metadata": {
    "id": "4hzP_5ZuGb2X"
   },
   "source": [
    "---\n",
    "## **PARTE 2**. Enunciado\n",
    "\n",
    "Consideraciones a tener en cuenta:\n",
    "\n",
    "- El entorno sobre el que trabajaremos será _SpaceInvaders-v0_ y el algoritmo que usaremos será _DQN_.\n",
    "\n",
    "- Para nuestro ejercicio, el requisito mínimo será alcanzado cuando el agente consiga una **media de recompensa por encima de 20 puntos en modo test**. Por ello, esta media de la recompensa se calculará a partir del código de test en la última celda del notebook.\n",
    "\n",
    "Este proyecto práctico consta de tres partes:\n",
    "\n",
    "1.   Implementar la red neuronal que se usará en la solución\n",
    "2.   Implementar las distintas piezas de la solución DQN\n",
    "3.   Justificar la respuesta en relación a los resultados obtenidos\n",
    "\n",
    "**Rúbrica**: Se valorará la originalidad en la solución aportada, así como la capacidad de discutir los resultados de forma detallada. El requisito mínimo servirá para aprobar la actividad, bajo premisa de que la discusión del resultado sera apropiada.\n",
    "\n",
    "IMPORTANTE:\n",
    "\n",
    "* Si no se consigue una puntuación óptima, responder sobre la mejor puntuación obtenida.\n",
    "* Para entrenamientos largos, recordad que podéis usar checkpoints de vuestros modelos para retomar los entrenamientos. En este caso, recordad cambiar los parámetros adecuadamente (sobre todo los relacionados con el proceso de exploración).\n",
    "* Se deberá entregar unicamente el notebook y los pesos del mejor modelo en un fichero .zip, de forma organizada.\n",
    "* Cada alumno deberá de subir la solución de forma individual."
   ]
  },
  {
   "cell_type": "markdown",
   "metadata": {
    "id": "6_b3mzw8IzJP"
   },
   "source": [
    "---\n",
    "## **PARTE 3**. Desarrollo y preguntas"
   ]
  },
  {
   "cell_type": "markdown",
   "metadata": {
    "id": "duPmUNOVGb2a"
   },
   "source": [
    "#### Importar librerías"
   ]
  },
  {
   "cell_type": "code",
   "execution_count": 11,
   "metadata": {
    "id": "j3eRhgI-Gb2a"
   },
   "outputs": [],
   "source": [
    "from __future__ import division\n",
    "\n",
    "from PIL import Image\n",
    "import numpy as np\n",
    "import gym\n",
    "\n",
    "import tensorflow as tf\n",
    "from tensorflow.keras.models import Sequential\n",
    "from tensorflow.keras.layers import Dense, Activation, Flatten, Convolution2D, Permute\n",
    "from tensorflow.keras.optimizers import Adam\n",
    "import tensorflow.keras.backend as K\n",
    "\n",
    "from rl.agents.dqn import DQNAgent\n",
    "from rl.policy import LinearAnnealedPolicy, BoltzmannQPolicy, EpsGreedyQPolicy\n",
    "from rl.memory import SequentialMemory\n",
    "from rl.core import Processor\n",
    "from rl.callbacks import FileLogger, ModelIntervalCheckpoint"
   ]
  },
  {
   "cell_type": "markdown",
   "metadata": {
    "id": "f4jgQjzoGb2a"
   },
   "source": [
    "#### Configuración base"
   ]
  },
  {
   "cell_type": "code",
   "execution_count": 12,
   "metadata": {
    "id": "jwOE6I_KGb2a"
   },
   "outputs": [],
   "source": [
    "INPUT_SHAPE = (84, 84)\n",
    "WINDOW_LENGTH = 4\n",
    "\n",
    "env_name = 'SpaceInvaders-v0'\n",
    "env = gym.make(env_name)\n",
    "\n",
    "np.random.seed(123)\n",
    "env.seed(123)\n",
    "nb_actions = env.action_space.n"
   ]
  },
  {
   "cell_type": "code",
   "execution_count": 13,
   "metadata": {
    "id": "9jGEZUcpGb2a"
   },
   "outputs": [],
   "source": [
    "class AtariProcessor(Processor):\n",
    "    def process_observation(self, observation):\n",
    "        assert observation.ndim == 3  # (height, width, channel)\n",
    "        img = Image.fromarray(observation)\n",
    "        img = img.resize(INPUT_SHAPE).convert('L')\n",
    "        processed_observation = np.array(img)\n",
    "        assert processed_observation.shape == INPUT_SHAPE\n",
    "        return processed_observation.astype('uint8')\n",
    "\n",
    "    def process_state_batch(self, batch):\n",
    "        processed_batch = batch.astype('float32') / 255.\n",
    "        return processed_batch\n",
    "\n",
    "    def process_reward(self, reward):\n",
    "        return np.clip(reward, -1., 1.)"
   ]
  },
  {
   "cell_type": "markdown",
   "metadata": {
    "id": "7yitXTADGb2b"
   },
   "source": [
    "1. Implementación de la red neuronal"
   ]
  },
  {
   "cell_type": "code",
   "execution_count": 14,
   "metadata": {
    "id": "O4GKrfWSGb2b"
   },
   "outputs": [
    {
     "name": "stdout",
     "output_type": "stream",
     "text": [
      "Model: \"sequential_1\"\n",
      "_________________________________________________________________\n",
      "Layer (type)                 Output Shape              Param #   \n",
      "=================================================================\n",
      "permute_1 (Permute)          (None, 84, 84, 4)         0         \n",
      "_________________________________________________________________\n",
      "conv2d_2 (Conv2D)            (None, 41, 41, 64)        4160      \n",
      "_________________________________________________________________\n",
      "activation_2 (Activation)    (None, 41, 41, 64)        0         \n",
      "_________________________________________________________________\n",
      "conv2d_3 (Conv2D)            (None, 39, 39, 64)        36928     \n",
      "_________________________________________________________________\n",
      "activation_3 (Activation)    (None, 39, 39, 64)        0         \n",
      "_________________________________________________________________\n",
      "flatten_1 (Flatten)          (None, 97344)             0         \n",
      "_________________________________________________________________\n",
      "dense_2 (Dense)              (None, 128)               12460160  \n",
      "_________________________________________________________________\n",
      "dense_3 (Dense)              (None, 6)                 774       \n",
      "=================================================================\n",
      "Total params: 12,502,022\n",
      "Trainable params: 12,502,022\n",
      "Non-trainable params: 0\n",
      "_________________________________________________________________\n",
      "None\n"
     ]
    }
   ],
   "source": [
    "def build_dqn_model(nb_actions, input_shape, window_length=4, num_dense_layers=1, activation='relu'):\n",
    "    \"\"\"\n",
    "    Construye un modelo de red neuronal profunda para Q-Learning.\n",
    "\n",
    "    Args:\n",
    "        nb_actions (int): El número de acciones de salida que el modelo debe predecir.\n",
    "        input_shape (tuple): La forma de una sola observación (ej. (84, 84)).\n",
    "        window_length (int): El número de observaciones apiladas que se usan como entrada.\n",
    "        num_dense_layers (int, opcional): El número de capas densas ocultas. Default a 1.\n",
    "        activation (str, opcional): La función de activación para las capas densas ocultas. Default a 'relu'.\n",
    "\n",
    "    Returns:\n",
    "        keras.Model: El modelo de Keras compilado.\n",
    "    \"\"\"\n",
    "    # La forma completa de la entrada al modelo (ej. (4, 84, 84))\n",
    "    full_input_shape = (window_length,) + input_shape\n",
    "\n",
    "    model = Sequential()\n",
    "\n",
    "    # La primera capa debe saber la forma de la entrada.\n",
    "    # Se permuta la entrada para que coincida con el formato de datos de imagen de Keras\n",
    "    # (channels_last vs channels_first). La longitud de la ventana (window_length) se trata\n",
    "    # como la dimensión de los canales.\n",
    "    if K.image_data_format() == 'channels_last':\n",
    "        # Formato de entrada: (window, rows, cols) -> Permuta a: (rows, cols, window)\n",
    "        model.add(Permute((2, 3, 1), input_shape=full_input_shape))\n",
    "    elif K.image_data_format() == 'channels_first':\n",
    "        # Formato de entrada: (window, rows, cols) -> Permuta a: (window, rows, cols) (identidad)\n",
    "        # La permutación es (1, 2, 3), que no cambia el orden pero define el input_shape.\n",
    "        model.add(Permute((1, 2, 3), input_shape=full_input_shape))\n",
    "    else:\n",
    "        raise RuntimeError('Unknown image_data_format.')\n",
    "\n",
    "    # Capas convolucionales (arquitectura similar a la de DeepMind)\n",
    "    model.add(Convolution2D(64, (4, 4), strides=(2, 2)))\n",
    "    model.add(Activation('relu'))\n",
    "    model.add(Convolution2D(64, (3, 3), strides=(1, 1)))\n",
    "    model.add(Activation('relu'))\n",
    "\n",
    "    # Aplanar las características para las capas densas\n",
    "    model.add(Flatten())\n",
    "\n",
    "    # Capas densas (fully-connected)\n",
    "    # Se añade el número de capas densas especificado por el usuario\n",
    "    for _ in range(num_dense_layers):\n",
    "        model.add(Dense(128, activation=activation))\n",
    "\n",
    "    # Capa de salida con una neurona por acción y activación lineal para los valores Q\n",
    "    model.add(Dense(nb_actions, activation='linear'))\n",
    "\n",
    "    return model\n",
    "\n",
    "\n",
    "model = build_dqn_model(nb_actions, INPUT_SHAPE)\n",
    "\n",
    "print(model.summary())"
   ]
  },
  {
   "cell_type": "markdown",
   "metadata": {
    "id": "OB9-_5HPGb2b"
   },
   "source": [
    "2. Implementación de la solución DQN"
   ]
  },
  {
   "cell_type": "code",
   "execution_count": 16,
   "metadata": {
    "id": "foSlxWH1Gb2b"
   },
   "outputs": [],
   "source": [
    "policy = LinearAnnealedPolicy(EpsGreedyQPolicy(), attr='eps', value_max=.99, value_min=.1, value_test=.1, nb_steps=40000)\n",
    "memory = SequentialMemory(limit=1000, window_length=WINDOW_LENGTH)\n",
    "processor = AtariProcessor()\n",
    "dqn = DQNAgent(model=model, nb_actions=nb_actions, policy=policy, memory=memory, processor=processor, nb_steps_warmup=500, gamma=.99, target_model_update=1000)"
   ]
  },
  {
   "cell_type": "code",
   "execution_count": 17,
   "metadata": {},
   "outputs": [],
   "source": [
    "dqn.compile(Adam(learning_rate=.00025), metrics=['mae'])"
   ]
  },
  {
   "cell_type": "code",
   "execution_count": 18,
   "metadata": {
    "scrolled": true
   },
   "outputs": [
    {
     "name": "stdout",
     "output_type": "stream",
     "text": [
      "Training for 50000 steps ...\n"
     ]
    },
    {
     "name": "stderr",
     "output_type": "stream",
     "text": [
      "C:\\Users\\bossi\\anaconda3\\envs\\miar_rl\\lib\\site-packages\\tensorflow\\python\\keras\\engine\\training.py:2424: UserWarning: `Model.state_updates` will be removed in a future version. This property should not be used in TensorFlow 2.0, as `updates` are applied automatically.\n",
      "  warnings.warn('`Model.state_updates` will be removed in a future version. '\n"
     ]
    },
    {
     "name": "stdout",
     "output_type": "stream",
     "text": [
      "   734/50000: episode: 1, duration: 91.264s, episode steps: 734, steps per second:   8, episode reward:  8.000, mean reward:  0.011 [ 0.000,  1.000], mean action: 2.484 [0.000, 5.000],  loss: 0.004449, mae: 0.044796, mean_q: 0.093942, mean_eps: 0.976272\n",
      "  1668/50000: episode: 2, duration: 338.102s, episode steps: 934, steps per second:   3, episode reward: 12.000, mean reward:  0.013 [ 0.000,  1.000], mean action: 2.397 [0.000, 5.000],  loss: 0.002980, mae: 0.086361, mean_q: 0.179851, mean_eps: 0.963289\n",
      "  2397/50000: episode: 3, duration: 279.980s, episode steps: 729, steps per second:   3, episode reward:  7.000, mean reward:  0.010 [ 0.000,  1.000], mean action: 2.462 [0.000, 5.000],  loss: 0.002281, mae: 0.126552, mean_q: 0.230309, mean_eps: 0.944788\n",
      "  2948/50000: episode: 4, duration: 211.809s, episode steps: 551, steps per second:   3, episode reward:  7.000, mean reward:  0.013 [ 0.000,  1.000], mean action: 2.483 [0.000, 5.000],  loss: 0.001463, mae: 0.152604, mean_q: 0.274315, mean_eps: 0.930548\n",
      "  3607/50000: episode: 5, duration: 239.465s, episode steps: 659, steps per second:   3, episode reward:  9.000, mean reward:  0.014 [ 0.000,  1.000], mean action: 2.571 [0.000, 5.000],  loss: 0.003024, mae: 0.215059, mean_q: 0.357595, mean_eps: 0.917087\n",
      "  4214/50000: episode: 6, duration: 224.676s, episode steps: 607, steps per second:   3, episode reward:  8.000, mean reward:  0.013 [ 0.000,  1.000], mean action: 2.507 [0.000, 5.000],  loss: 0.003030, mae: 0.246629, mean_q: 0.392819, mean_eps: 0.903002\n",
      "  4810/50000: episode: 7, duration: 225.551s, episode steps: 596, steps per second:   3, episode reward:  6.000, mean reward:  0.010 [ 0.000,  1.000], mean action: 2.510 [0.000, 5.000],  loss: 0.002194, mae: 0.288108, mean_q: 0.449268, mean_eps: 0.889619\n",
      "  5486/50000: episode: 8, duration: 264.880s, episode steps: 676, steps per second:   3, episode reward: 10.000, mean reward:  0.015 [ 0.000,  1.000], mean action: 2.472 [0.000, 5.000],  loss: 0.002801, mae: 0.345462, mean_q: 0.519862, mean_eps: 0.875468\n",
      "  6127/50000: episode: 9, duration: 251.272s, episode steps: 641, steps per second:   3, episode reward:  8.000, mean reward:  0.012 [ 0.000,  1.000], mean action: 2.437 [0.000, 5.000],  loss: 0.002773, mae: 0.395406, mean_q: 0.590060, mean_eps: 0.860817\n",
      "  6819/50000: episode: 10, duration: 270.774s, episode steps: 692, steps per second:   3, episode reward:  6.000, mean reward:  0.009 [ 0.000,  1.000], mean action: 2.543 [0.000, 5.000],  loss: 0.002456, mae: 0.477429, mean_q: 0.686640, mean_eps: 0.845987\n",
      "  7250/50000: episode: 11, duration: 171.211s, episode steps: 431, steps per second:   3, episode reward:  4.000, mean reward:  0.009 [ 0.000,  1.000], mean action: 2.487 [0.000, 5.000],  loss: 0.003021, mae: 0.536603, mean_q: 0.753080, mean_eps: 0.833493\n",
      "  7785/50000: episode: 12, duration: 207.592s, episode steps: 535, steps per second:   3, episode reward:  9.000, mean reward:  0.017 [ 0.000,  1.000], mean action: 2.262 [0.000, 5.000],  loss: 0.003049, mae: 0.585794, mean_q: 0.806077, mean_eps: 0.822747\n",
      "  8590/50000: episode: 13, duration: 317.125s, episode steps: 805, steps per second:   3, episode reward: 12.000, mean reward:  0.015 [ 0.000,  1.000], mean action: 2.492 [0.000, 5.000],  loss: 0.003988, mae: 0.679979, mean_q: 0.937361, mean_eps: 0.807839\n",
      "  9381/50000: episode: 14, duration: 309.606s, episode steps: 791, steps per second:   3, episode reward: 11.000, mean reward:  0.014 [ 0.000,  1.000], mean action: 2.491 [0.000, 5.000],  loss: 0.003879, mae: 0.783629, mean_q: 1.073275, mean_eps: 0.790084\n",
      " 10014/50000: episode: 15, duration: 256.714s, episode steps: 633, steps per second:   2, episode reward:  7.000, mean reward:  0.011 [ 0.000,  1.000], mean action: 2.536 [0.000, 5.000],  loss: 0.002607, mae: 0.795493, mean_q: 1.074103, mean_eps: 0.774242\n",
      " 11080/50000: episode: 16, duration: 420.198s, episode steps: 1066, steps per second:   3, episode reward: 15.000, mean reward:  0.014 [ 0.000,  1.000], mean action: 2.569 [0.000, 5.000],  loss: 0.003525, mae: 0.935191, mean_q: 1.245625, mean_eps: 0.755340\n",
      " 11706/50000: episode: 17, duration: 255.189s, episode steps: 626, steps per second:   2, episode reward:  8.000, mean reward:  0.013 [ 0.000,  1.000], mean action: 2.554 [0.000, 5.000],  loss: 0.002919, mae: 0.994930, mean_q: 1.332770, mean_eps: 0.736517\n",
      " 12110/50000: episode: 18, duration: 162.039s, episode steps: 404, steps per second:   2, episode reward:  5.000, mean reward:  0.012 [ 0.000,  1.000], mean action: 2.718 [0.000, 5.000],  loss: 0.004634, mae: 1.017663, mean_q: 1.342777, mean_eps: 0.725058\n",
      " 12942/50000: episode: 19, duration: 300.215s, episode steps: 832, steps per second:   3, episode reward: 12.000, mean reward:  0.014 [ 0.000,  1.000], mean action: 2.683 [0.000, 5.000],  loss: 0.004282, mae: 1.097408, mean_q: 1.447339, mean_eps: 0.711308\n",
      " 13602/50000: episode: 20, duration: 227.065s, episode steps: 660, steps per second:   3, episode reward:  6.000, mean reward:  0.009 [ 0.000,  1.000], mean action: 2.677 [0.000, 5.000],  loss: 0.005039, mae: 1.165685, mean_q: 1.539421, mean_eps: 0.694709\n",
      " 14291/50000: episode: 21, duration: 236.390s, episode steps: 689, steps per second:   3, episode reward:  7.000, mean reward:  0.010 [ 0.000,  1.000], mean action: 2.598 [0.000, 5.000],  loss: 0.005171, mae: 1.238472, mean_q: 1.619377, mean_eps: 0.679701\n",
      " 15069/50000: episode: 22, duration: 266.420s, episode steps: 778, steps per second:   3, episode reward: 10.000, mean reward:  0.013 [ 0.000,  1.000], mean action: 2.541 [0.000, 5.000],  loss: 0.005017, mae: 1.306223, mean_q: 1.708895, mean_eps: 0.663381\n",
      " 15880/50000: episode: 23, duration: 277.748s, episode steps: 811, steps per second:   3, episode reward: 12.000, mean reward:  0.015 [ 0.000,  1.000], mean action: 2.620 [0.000, 5.000],  loss: 0.004906, mae: 1.392818, mean_q: 1.815847, mean_eps: 0.645703\n",
      " 16339/50000: episode: 24, duration: 176.073s, episode steps: 459, steps per second:   3, episode reward:  6.000, mean reward:  0.013 [ 0.000,  1.000], mean action: 2.501 [0.000, 5.000],  loss: 0.006686, mae: 1.520213, mean_q: 1.974695, mean_eps: 0.631575\n",
      " 16874/50000: episode: 25, duration: 187.727s, episode steps: 535, steps per second:   3, episode reward:  4.000, mean reward:  0.007 [ 0.000,  1.000], mean action: 2.770 [0.000, 5.000],  loss: 0.005530, mae: 1.524085, mean_q: 1.964538, mean_eps: 0.620517\n",
      " 17771/50000: episode: 26, duration: 306.707s, episode steps: 897, steps per second:   3, episode reward: 13.000, mean reward:  0.014 [ 0.000,  1.000], mean action: 2.537 [0.000, 5.000],  loss: 0.006403, mae: 1.557476, mean_q: 1.995691, mean_eps: 0.604585\n",
      " 18258/50000: episode: 27, duration: 166.838s, episode steps: 487, steps per second:   3, episode reward:  6.000, mean reward:  0.012 [ 0.000,  1.000], mean action: 2.452 [0.000, 5.000],  loss: 0.006202, mae: 1.579690, mean_q: 2.032280, mean_eps: 0.589189\n",
      " 19210/50000: episode: 28, duration: 325.002s, episode steps: 952, steps per second:   3, episode reward: 14.000, mean reward:  0.015 [ 0.000,  1.000], mean action: 2.648 [0.000, 5.000],  loss: 0.006396, mae: 1.641910, mean_q: 2.096144, mean_eps: 0.573180\n",
      " 19780/50000: episode: 29, duration: 194.981s, episode steps: 570, steps per second:   3, episode reward:  5.000, mean reward:  0.009 [ 0.000,  1.000], mean action: 2.698 [0.000, 5.000],  loss: 0.004161, mae: 1.640555, mean_q: 2.111369, mean_eps: 0.556247\n",
      " 20278/50000: episode: 30, duration: 172.075s, episode steps: 498, steps per second:   3, episode reward:  7.000, mean reward:  0.014 [ 0.000,  1.000], mean action: 2.426 [0.000, 5.000],  loss: 0.006965, mae: 1.686317, mean_q: 2.145417, mean_eps: 0.544366\n",
      " 20853/50000: episode: 31, duration: 196.549s, episode steps: 575, steps per second:   3, episode reward:  6.000, mean reward:  0.010 [ 0.000,  1.000], mean action: 2.214 [0.000, 5.000],  loss: 0.005310, mae: 1.759048, mean_q: 2.226491, mean_eps: 0.532429\n",
      " 21468/50000: episode: 32, duration: 210.940s, episode steps: 615, steps per second:   3, episode reward:  9.000, mean reward:  0.015 [ 0.000,  1.000], mean action: 2.533 [0.000, 5.000],  loss: 0.005998, mae: 1.819252, mean_q: 2.310902, mean_eps: 0.519190\n",
      " 21899/50000: episode: 33, duration: 147.643s, episode steps: 431, steps per second:   3, episode reward:  6.000, mean reward:  0.014 [ 0.000,  1.000], mean action: 2.425 [0.000, 5.000],  loss: 0.004398, mae: 1.805037, mean_q: 2.295310, mean_eps: 0.507553\n",
      " 22291/50000: episode: 34, duration: 134.540s, episode steps: 392, steps per second:   3, episode reward:  5.000, mean reward:  0.013 [ 0.000,  1.000], mean action: 2.612 [0.000, 5.000],  loss: 0.006705, mae: 1.904654, mean_q: 2.395006, mean_eps: 0.498397\n",
      " 22783/50000: episode: 35, duration: 168.946s, episode steps: 492, steps per second:   3, episode reward:  7.000, mean reward:  0.014 [ 0.000,  1.000], mean action: 2.573 [0.000, 5.000],  loss: 0.007573, mae: 1.970919, mean_q: 2.475858, mean_eps: 0.488563\n",
      " 23280/50000: episode: 36, duration: 170.693s, episode steps: 497, steps per second:   3, episode reward:  6.000, mean reward:  0.012 [ 0.000,  1.000], mean action: 2.569 [0.000, 5.000],  loss: 0.008410, mae: 1.984133, mean_q: 2.494134, mean_eps: 0.477560\n",
      " 23664/50000: episode: 37, duration: 131.668s, episode steps: 384, steps per second:   3, episode reward:  5.000, mean reward:  0.013 [ 0.000,  1.000], mean action: 2.107 [0.000, 5.000],  loss: 0.007304, mae: 2.008434, mean_q: 2.528926, mean_eps: 0.467759\n",
      " 24071/50000: episode: 38, duration: 139.389s, episode steps: 407, steps per second:   3, episode reward:  8.000, mean reward:  0.020 [ 0.000,  1.000], mean action: 2.710 [0.000, 5.000],  loss: 0.007409, mae: 2.061132, mean_q: 2.582391, mean_eps: 0.458959\n",
      " 24761/50000: episode: 39, duration: 236.904s, episode steps: 690, steps per second:   3, episode reward: 10.000, mean reward:  0.014 [ 0.000,  1.000], mean action: 2.716 [0.000, 5.000],  loss: 0.005584, mae: 2.141938, mean_q: 2.685585, mean_eps: 0.446755\n",
      " 25536/50000: episode: 40, duration: 265.550s, episode steps: 775, steps per second:   3, episode reward:  7.000, mean reward:  0.009 [ 0.000,  1.000], mean action: 2.695 [0.000, 5.000],  loss: 0.005496, mae: 2.202261, mean_q: 2.772518, mean_eps: 0.430457\n",
      " 26335/50000: episode: 41, duration: 281.597s, episode steps: 799, steps per second:   3, episode reward: 12.000, mean reward:  0.015 [ 0.000,  1.000], mean action: 2.588 [0.000, 5.000],  loss: 0.006871, mae: 2.174213, mean_q: 2.734674, mean_eps: 0.412946\n",
      " 27236/50000: episode: 42, duration: 456.473s, episode steps: 901, steps per second:   2, episode reward: 12.000, mean reward:  0.013 [ 0.000,  1.000], mean action: 2.724 [0.000, 5.000],  loss: 0.005435, mae: 2.091946, mean_q: 2.647877, mean_eps: 0.394034\n",
      " 27791/50000: episode: 43, duration: 2990.595s, episode steps: 555, steps per second:   0, episode reward:  7.000, mean reward:  0.013 [ 0.000,  1.000], mean action: 2.930 [0.000, 5.000],  loss: 0.003796, mae: 2.073559, mean_q: 2.633893, mean_eps: 0.377836\n",
      " 28285/50000: episode: 44, duration: 247.547s, episode steps: 494, steps per second:   2, episode reward:  6.000, mean reward:  0.012 [ 0.000,  1.000], mean action: 2.488 [0.000, 5.000],  loss: 0.006191, mae: 2.196810, mean_q: 2.761757, mean_eps: 0.366166\n",
      " 29026/50000: episode: 45, duration: 258.368s, episode steps: 741, steps per second:   3, episode reward:  9.000, mean reward:  0.012 [ 0.000,  1.000], mean action: 2.578 [0.000, 5.000],  loss: 0.006386, mae: 2.295064, mean_q: 2.877669, mean_eps: 0.352426\n",
      " 29808/50000: episode: 46, duration: 261.952s, episode steps: 782, steps per second:   3, episode reward: 10.000, mean reward:  0.013 [ 0.000,  1.000], mean action: 2.616 [0.000, 5.000],  loss: 0.004533, mae: 2.248771, mean_q: 2.844542, mean_eps: 0.335483\n",
      " 30678/50000: episode: 47, duration: 295.331s, episode steps: 870, steps per second:   3, episode reward: 14.000, mean reward:  0.016 [ 0.000,  1.000], mean action: 2.678 [0.000, 5.000],  loss: 0.006037, mae: 2.224825, mean_q: 2.823600, mean_eps: 0.317104\n",
      " 31534/50000: episode: 48, duration: 287.148s, episode steps: 856, steps per second:   3, episode reward: 13.000, mean reward:  0.015 [ 0.000,  1.000], mean action: 2.676 [0.000, 5.000],  loss: 0.006289, mae: 2.243313, mean_q: 2.854582, mean_eps: 0.297903\n",
      " 32667/50000: episode: 49, duration: 379.530s, episode steps: 1133, steps per second:   3, episode reward: 17.000, mean reward:  0.015 [ 0.000,  1.000], mean action: 2.511 [0.000, 5.000],  loss: 0.005882, mae: 2.256823, mean_q: 2.872689, mean_eps: 0.275775\n",
      " 33537/50000: episode: 50, duration: 291.331s, episode steps: 870, steps per second:   3, episode reward: 16.000, mean reward:  0.018 [ 0.000,  1.000], mean action: 2.921 [0.000, 5.000],  loss: 0.003966, mae: 2.008118, mean_q: 2.568154, mean_eps: 0.253492\n",
      " 34300/50000: episode: 51, duration: 255.690s, episode steps: 763, steps per second:   3, episode reward:  9.000, mean reward:  0.012 [ 0.000,  1.000], mean action: 2.882 [0.000, 5.000],  loss: 0.006696, mae: 2.338705, mean_q: 2.952028, mean_eps: 0.235324\n",
      " 35101/50000: episode: 52, duration: 268.443s, episode steps: 801, steps per second:   3, episode reward: 11.000, mean reward:  0.014 [ 0.000,  1.000], mean action: 2.605 [0.000, 5.000],  loss: 0.009014, mae: 2.545570, mean_q: 3.185068, mean_eps: 0.217925\n",
      " 35496/50000: episode: 53, duration: 132.553s, episode steps: 395, steps per second:   3, episode reward:  7.000, mean reward:  0.018 [ 0.000,  1.000], mean action: 2.565 [0.000, 5.000],  loss: 0.007870, mae: 2.565120, mean_q: 3.215943, mean_eps: 0.204620\n",
      " 36116/50000: episode: 54, duration: 207.768s, episode steps: 620, steps per second:   3, episode reward:  7.000, mean reward:  0.011 [ 0.000,  1.000], mean action: 2.708 [0.000, 5.000],  loss: 0.007011, mae: 2.671400, mean_q: 3.372711, mean_eps: 0.193328\n",
      " 36511/50000: episode: 55, duration: 132.649s, episode steps: 395, steps per second:   3, episode reward:  6.000, mean reward:  0.015 [ 0.000,  1.000], mean action: 2.539 [0.000, 5.000],  loss: 0.007735, mae: 2.736355, mean_q: 3.435708, mean_eps: 0.182036\n",
      " 37147/50000: episode: 56, duration: 213.529s, episode steps: 636, steps per second:   3, episode reward: 13.000, mean reward:  0.020 [ 0.000,  1.000], mean action: 2.475 [0.000, 5.000],  loss: 0.013164, mae: 2.674530, mean_q: 3.347237, mean_eps: 0.170566\n",
      " 37546/50000: episode: 57, duration: 133.873s, episode steps: 399, steps per second:   3, episode reward:  3.000, mean reward:  0.008 [ 0.000,  1.000], mean action: 1.827 [0.000, 5.000],  loss: 0.009587, mae: 2.615630, mean_q: 3.279535, mean_eps: 0.159052\n",
      " 37885/50000: episode: 58, duration: 113.643s, episode steps: 339, steps per second:   3, episode reward:  5.000, mean reward:  0.015 [ 0.000,  1.000], mean action: 2.398 [0.000, 5.000],  loss: 0.008672, mae: 2.597277, mean_q: 3.244817, mean_eps: 0.150841\n",
      " 38403/50000: episode: 59, duration: 174.085s, episode steps: 518, steps per second:   3, episode reward:  8.000, mean reward:  0.015 [ 0.000,  1.000], mean action: 2.875 [0.000, 5.000],  loss: 0.016527, mae: 2.706505, mean_q: 3.363361, mean_eps: 0.141307\n",
      " 39068/50000: episode: 60, duration: 223.025s, episode steps: 665, steps per second:   3, episode reward: 13.000, mean reward:  0.020 [ 0.000,  1.000], mean action: 2.310 [0.000, 5.000],  loss: 0.008511, mae: 2.724378, mean_q: 3.423120, mean_eps: 0.128146\n",
      " 39537/50000: episode: 61, duration: 157.855s, episode steps: 469, steps per second:   3, episode reward:  6.000, mean reward:  0.013 [ 0.000,  1.000], mean action: 2.437 [0.000, 5.000],  loss: 0.004850, mae: 2.651435, mean_q: 3.391590, mean_eps: 0.115531\n",
      " 40186/50000: episode: 62, duration: 219.374s, episode steps: 649, steps per second:   3, episode reward: 13.000, mean reward:  0.020 [ 0.000,  1.000], mean action: 1.877 [0.000, 5.000],  loss: 0.009485, mae: 2.700429, mean_q: 3.434884, mean_eps: 0.103683\n",
      " 40570/50000: episode: 63, duration: 128.454s, episode steps: 384, steps per second:   3, episode reward:  8.000, mean reward:  0.021 [ 0.000,  1.000], mean action: 2.654 [0.000, 5.000],  loss: 0.010359, mae: 2.607351, mean_q: 3.325001, mean_eps: 0.100000\n",
      " 41200/50000: episode: 64, duration: 211.349s, episode steps: 630, steps per second:   3, episode reward: 12.000, mean reward:  0.019 [ 0.000,  1.000], mean action: 2.495 [0.000, 5.000],  loss: 0.011547, mae: 2.644893, mean_q: 3.369542, mean_eps: 0.100000\n",
      " 41884/50000: episode: 65, duration: 229.440s, episode steps: 684, steps per second:   3, episode reward: 10.000, mean reward:  0.015 [ 0.000,  1.000], mean action: 1.901 [0.000, 5.000],  loss: 0.010672, mae: 2.781087, mean_q: 3.525589, mean_eps: 0.100000\n",
      " 42388/50000: episode: 66, duration: 169.159s, episode steps: 504, steps per second:   3, episode reward:  4.000, mean reward:  0.008 [ 0.000,  1.000], mean action: 2.327 [0.000, 5.000],  loss: 0.008563, mae: 2.752261, mean_q: 3.487512, mean_eps: 0.100000\n",
      " 42901/50000: episode: 67, duration: 171.915s, episode steps: 513, steps per second:   3, episode reward:  5.000, mean reward:  0.010 [ 0.000,  1.000], mean action: 1.815 [0.000, 5.000],  loss: 0.011227, mae: 2.804755, mean_q: 3.528693, mean_eps: 0.100000\n",
      " 43658/50000: episode: 68, duration: 254.037s, episode steps: 757, steps per second:   3, episode reward: 11.000, mean reward:  0.015 [ 0.000,  1.000], mean action: 1.906 [0.000, 5.000],  loss: 0.013055, mae: 2.862813, mean_q: 3.591972, mean_eps: 0.100000\n",
      " 44348/50000: episode: 69, duration: 230.747s, episode steps: 690, steps per second:   3, episode reward:  9.000, mean reward:  0.013 [ 0.000,  1.000], mean action: 2.335 [0.000, 5.000],  loss: 0.007915, mae: 2.786605, mean_q: 3.513505, mean_eps: 0.100000\n",
      " 44694/50000: episode: 70, duration: 116.173s, episode steps: 346, steps per second:   3, episode reward:  3.000, mean reward:  0.009 [ 0.000,  1.000], mean action: 2.809 [0.000, 5.000],  loss: 0.007024, mae: 2.823067, mean_q: 3.542143, mean_eps: 0.100000\n",
      " 45244/50000: episode: 71, duration: 184.586s, episode steps: 550, steps per second:   3, episode reward:  7.000, mean reward:  0.013 [ 0.000,  1.000], mean action: 2.500 [0.000, 5.000],  loss: 0.011521, mae: 2.904021, mean_q: 3.635486, mean_eps: 0.100000\n",
      " 45741/50000: episode: 72, duration: 166.203s, episode steps: 497, steps per second:   3, episode reward:  5.000, mean reward:  0.010 [ 0.000,  1.000], mean action: 2.535 [0.000, 5.000],  loss: 0.012327, mae: 2.946820, mean_q: 3.686130, mean_eps: 0.100000\n",
      " 46338/50000: episode: 73, duration: 200.267s, episode steps: 597, steps per second:   3, episode reward:  8.000, mean reward:  0.013 [ 0.000,  1.000], mean action: 2.891 [0.000, 5.000],  loss: 0.011060, mae: 3.007994, mean_q: 3.773871, mean_eps: 0.100000\n",
      " 46853/50000: episode: 74, duration: 172.506s, episode steps: 515, steps per second:   3, episode reward:  6.000, mean reward:  0.012 [ 0.000,  1.000], mean action: 2.513 [0.000, 5.000],  loss: 0.010961, mae: 2.982084, mean_q: 3.783860, mean_eps: 0.100000\n",
      " 47231/50000: episode: 75, duration: 127.060s, episode steps: 378, steps per second:   3, episode reward:  7.000, mean reward:  0.019 [ 0.000,  1.000], mean action: 2.971 [0.000, 5.000],  loss: 0.008717, mae: 2.953099, mean_q: 3.749983, mean_eps: 0.100000\n",
      " 47854/50000: episode: 76, duration: 208.411s, episode steps: 623, steps per second:   3, episode reward:  7.000, mean reward:  0.011 [ 0.000,  1.000], mean action: 2.774 [0.000, 5.000],  loss: 0.011979, mae: 2.951142, mean_q: 3.749511, mean_eps: 0.100000\n",
      " 48437/50000: episode: 77, duration: 195.238s, episode steps: 583, steps per second:   3, episode reward: 10.000, mean reward:  0.017 [ 0.000,  1.000], mean action: 2.672 [0.000, 5.000],  loss: 0.011593, mae: 2.790946, mean_q: 3.561565, mean_eps: 0.100000\n",
      " 49403/50000: episode: 78, duration: 349.055s, episode steps: 966, steps per second:   3, episode reward: 13.000, mean reward:  0.013 [ 0.000,  1.000], mean action: 2.776 [0.000, 5.000],  loss: 0.010228, mae: 2.802711, mean_q: 3.575934, mean_eps: 0.100000\n",
      "done, took 20442.281 seconds\n"
     ]
    },
    {
     "data": {
      "text/plain": [
       "<tensorflow.python.keras.callbacks.History at 0x20c886fd9a0>"
      ]
     },
     "execution_count": 18,
     "metadata": {},
     "output_type": "execute_result"
    }
   ],
   "source": [
    "checkpoint = ModelIntervalCheckpoint('dqn4_weights_{step}.h5f', interval=10000)\n",
    "logger = FileLogger('dqn4_log.json', interval=100)\n",
    "dqn.fit(env, nb_steps=50000, visualize=False, verbose=2, log_interval=5000, callbacks=[checkpoint, logger])"
   ]
  },
  {
   "cell_type": "code",
   "execution_count": 20,
   "metadata": {},
   "outputs": [
    {
     "name": "stdout",
     "output_type": "stream",
     "text": [
      "Testing for 10 episodes ...\n",
      "Episode 1: reward: 10.000, steps: 637\n",
      "Episode 2: reward: 9.000, steps: 531\n",
      "Episode 3: reward: 5.000, steps: 502\n",
      "Episode 4: reward: 11.000, steps: 929\n",
      "Episode 5: reward: 7.000, steps: 389\n",
      "Episode 6: reward: 15.000, steps: 791\n",
      "Episode 7: reward: 10.000, steps: 638\n",
      "Episode 8: reward: 9.000, steps: 543\n",
      "Episode 9: reward: 14.000, steps: 881\n",
      "Episode 10: reward: 21.000, steps: 1122\n"
     ]
    },
    {
     "data": {
      "text/plain": [
       "<tensorflow.python.keras.callbacks.History at 0x20d14146760>"
      ]
     },
     "execution_count": 20,
     "metadata": {},
     "output_type": "execute_result"
    }
   ],
   "source": [
    "dqn.save_weights('dqn4_{}_weights.h5f'.format(env_name), overwrite=True)\n",
    "dqn.test(env, nb_episodes=10, visualize=False)"
   ]
  },
  {
   "cell_type": "code",
   "execution_count": null,
   "metadata": {
    "id": "OHYryKd1Gb2b"
   },
   "outputs": [],
   "source": [
    "# Testing part to calculate the mean reward\n",
    "weights_filename = 'dqn_{}_weights.h5f'.format(env_name)\n",
    "dqn.load_weights(weights_filename)"
   ]
  },
  {
   "cell_type": "markdown",
   "metadata": {
    "id": "-NAlu8b1Gb2b"
   },
   "source": [
    "3. Justificación de los parámetros seleccionados y de los resultados obtenidos"
   ]
  },
  {
   "cell_type": "markdown",
   "metadata": {
    "id": "ANFQiicXK3sO"
   },
   "source": [
    "---"
   ]
  }
 ],
 "metadata": {
  "colab": {
   "provenance": []
  },
  "kernelspec": {
   "display_name": "Python 3 (ipykernel)",
   "language": "python",
   "name": "python3"
  },
  "language_info": {
   "codemirror_mode": {
    "name": "ipython",
    "version": 3
   },
   "file_extension": ".py",
   "mimetype": "text/x-python",
   "name": "python",
   "nbconvert_exporter": "python",
   "pygments_lexer": "ipython3",
   "version": "3.8.20"
  }
 },
 "nbformat": 4,
 "nbformat_minor": 4
}
